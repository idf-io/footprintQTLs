{
 "cells": [
  {
   "cell_type": "code",
   "execution_count": 14,
   "id": "68228ebe-8281-403f-bfcf-02b526f1d910",
   "metadata": {},
   "outputs": [],
   "source": [
    "import time\n",
    "\n",
    "import os\n",
    "import pandas as pd\n",
    "import pysam\n",
    "import anndata as ad\n",
    "import re\n",
    "from scipy.sparse import csr_matrix, coo_matrix\n",
    "import numpy as np\n",
    "from matplotlib import pyplot as plt\n",
    "import seaborn as sns\n",
    "\n",
    "PROJECT_PATH = '/home/fichtner/projects/gemmo-tools'\n",
    "DATA_PATH = '/omics/groups/OE0540/internal/projects/HCA_organoid_2/cemm_sabrina-20Jul2022/'\n",
    "# DATA_PATH_ALT = '/home/fichtner/data/datasets/hca-brain-organoids_small'\n",
    "SAMPLES = [f for f in os.listdir(DATA_PATH + 'outputs') if os.path.isdir(os.path.join(DATA_PATH + 'outputs', f))]\n",
    "# SAMPLES = ['sSL0146_BrainO_R4_F_10xM_Multiome', 'sSL0136_BrainO_R3_B_10xM_Multiome', 'sSL0170_BrainO_R4_F_10xM_Multiome']\n",
    "RNA_AD = 'outputs_allsamples/sabrina_allsamples_rna_final_after_atac.h5ad'\n",
    "# OUT_FILE = 'CD14_filtered_fragments_10k.tsv'\n",
    "\n",
    "os.chdir(PROJECT_PATH)"
   ]
  },
  {
   "cell_type": "markdown",
   "id": "49d0b55a-a1ef-4fa9-aed6-611b4d0014bb",
   "metadata": {
    "tags": []
   },
   "source": [
    "## TODOs\n",
    "- [ ] Check if QC works. Huge difference filtered vs unfiltered cells in script: 362 vs 2344"
   ]
  },
  {
   "cell_type": "markdown",
   "id": "bf457be7-80a3-42d5-b71d-e382a5e28773",
   "metadata": {
    "tags": []
   },
   "source": [
    "## Helper functions"
   ]
  },
  {
   "cell_type": "code",
   "execution_count": 2,
   "id": "ce1b519e-307b-41c1-a093-e21c03aa6546",
   "metadata": {},
   "outputs": [],
   "source": [
    "def regex_get(text, pattern=None):\n",
    "    \n",
    "    pattern_map = {'sample_name': r'sSL\\d*',\n",
    "                   'barcode': r'^\\D*-\\d*'}\n",
    "\n",
    "    if pattern in pattern_map.keys():\n",
    "        pattern = pattern_map[pattern]\n",
    "    \n",
    "    match = re.search(pattern, text)\n",
    "    return match.group()\n",
    "\n",
    "\n",
    "def create_profile(frags, region_name, region_start, region_end):\n",
    "\n",
    "    frags = frags.copy()\n",
    "    cell_idx = np.linspace(0, len(frags) - 1, len(frags), dtype=int)\n",
    "    # print(f'{region_name}\\tstart: {region_start}\\tend: {region_end}\\tdiff: {region_end - region_start + 1}')\n",
    "    # print(f'Min start: {min(frags[\"start\"]) - region_start + 1}\\nMin end: {min(frags[\"end\"]) - region_start + 1}')\n",
    "    \n",
    "    if min(frags['start']) - region_start >= 0:\n",
    "        # print('AHHH!')\n",
    "        frags['start_0'] = frags['start'] - region_start\n",
    "        frags['end_0'] = frags['end'] - region_start\n",
    "        \n",
    "        insertions = np.ones(len(frags)*2)\n",
    "        row_indices = np.concatenate([np.array(frags['start_0']), np.array(frags['end_0'])])\n",
    "        # print(max(row_indices))\n",
    "        # print(len(row_indices))\n",
    "        col_indices = np.concatenate([cell_idx, cell_idx])\n",
    "        \n",
    "        profile_sm = csr_matrix((insertions, (row_indices, col_indices)),\n",
    "                                shape = [max(row_indices) + 1 if max(row_indices) >= (region_end - region_start) else (region_end - region_start) + 1,\n",
    "                                         len(frags)])\n",
    "        # print(profile_sm.get_shape())\n",
    "        profile_sm = profile_sm[0: region_end - region_start + 1]\n",
    "        # print(profile_sm.get_shape())\n",
    "\n",
    "    else:\n",
    "\n",
    "        # print('---')\n",
    "        frags['start_0'] = frags['start'] - min(frags['start'])\n",
    "        frags['end_0'] = frags['end'] - min(frags['start'])\n",
    "\n",
    "        insertions = np.ones(len(frags)*2)\n",
    "        row_indices = np.concatenate([np.array(frags['start_0']), np.array(frags['end_0'])])\n",
    "        col_indices = np.concatenate([cell_idx, cell_idx])\n",
    "        # print(f'max row_indices: {max(row_indices)}')\n",
    "        # print(f'min row_indices: {min(row_indices)}')\n",
    "        # print(f'len row_indices: {len(row_indices)}')\n",
    "        profile_sm = csr_matrix((insertions, (row_indices, col_indices)),\n",
    "                                shape = [max(row_indices) + 1 if max(row_indices) > (region_end - min(frags['start'])) else (region_end - min(frags['start']) + 1) + 1,\n",
    "                                         len(frags)])\n",
    "        # print(profile_sm.get_shape())\n",
    "        profile_sm = profile_sm[region_start - min(frags['start']) : region_end - min(frags['start']) + 1]\n",
    "        # print(profile_sm.get_shape())    \n",
    "\n",
    "    profile = profile_sm.sum(axis=1).tolist()\n",
    "    profile = [j for i in profile for j in i]\n",
    "    # print('{}:\\tLen: {}\\tCounts: {}'.format(region_name, len(profile), sum(profile)))\n",
    "\n",
    "    return profile, len(frags)"
   ]
  },
  {
   "cell_type": "markdown",
   "id": "413a6192-34f2-44ed-a4a6-42ec4b3589ca",
   "metadata": {},
   "source": [
    "## Get metadata"
   ]
  },
  {
   "cell_type": "code",
   "execution_count": 3,
   "id": "a97b6c97-08d1-403b-a6d5-97b422fb3712",
   "metadata": {},
   "outputs": [],
   "source": [
    "borgs_rna = ad.read_h5ad(DATA_PATH + RNA_AD, backed='r')"
   ]
  },
  {
   "cell_type": "code",
   "execution_count": 4,
   "id": "c6067245-3807-49fd-8ff7-53267f65118c",
   "metadata": {},
   "outputs": [],
   "source": [
    "# Metadata of cells that passed QC\n",
    "cells_coldata = borgs_rna.obs[['sample', 'donor', 'donor_id', 'celltype_predicted_vertesy']].copy()\n",
    "cells_coldata.rename(columns={'celltype_predicted_vertesy': 'cell_type'}, inplace=True)\n",
    "cells_coldata['barcode'] = [regex_get(i, 'barcode') for i in cells_coldata.index.tolist()]\n",
    "\n",
    "qc_cells = cells_coldata.index.tolist()\n",
    "\n",
    "cell_types = tuple(set(cells_coldata['cell_type']))\n",
    "cell_types = sorted(cell_types, key=str.upper)\n",
    "\n",
    "samples = tuple(set(cells_coldata['sample']))\n",
    "samples = sorted(samples, key=str.upper)\n",
    "\n",
    "donors = tuple(set(cells_coldata['donor']))\n",
    "donors = sorted(donors, key=str.upper)\n",
    "\n",
    "# groups = donors\n",
    "groups = ['bima']\n",
    "\n",
    "# Note: (indexes ~ cell id) = barcode_sample --> are unique but barcodes aren't"
   ]
  },
  {
   "cell_type": "markdown",
   "id": "2d582f1b-d2c4-4c78-adc2-17a4e700405f",
   "metadata": {
    "tags": []
   },
   "source": [
    "## Parse and create profiles"
   ]
  },
  {
   "cell_type": "code",
   "execution_count": 5,
   "id": "19be5483-fe33-4ed3-a3ee-05689cb67863",
   "metadata": {},
   "outputs": [],
   "source": [
    "regions = {\n",
    "    'CYC1': ['chr8', 144095039 - 5000, 144095039 + 5000 ], # Cytochrome C1 (+) chr8:144,095,039-144,097,525\n",
    "    'RPL13': [ 'chr8', 120445402 - 5000, 120445402 + 5000], # Mitochondrial Ribosomal Protein L13 (-) chr8:120,380,761-120,445,402\n",
    "    'MEF2C': ['chr5', 88904257 - 5000, 88904257 + 5000], # (-) chr5:88717117-88904257 1-based\n",
    "    'SOX2': ['chr3', 181711925 - 5000, 181711925 + 5000], # (+) chr3:181,711,925-181,714,436 \n",
    "    'LHX5': ['chr12', 113472280 - 5000, 113472280 + 5000] # (-) chr12:113,462,033-113,472,280\n",
    "}"
   ]
  },
  {
   "cell_type": "code",
   "execution_count": 6,
   "id": "3ce48f1c-a699-4120-bc91-a34040b95263",
   "metadata": {},
   "outputs": [],
   "source": [
    "min_frag_size = 10\n",
    "max_frag_size = 200"
   ]
  },
  {
   "cell_type": "code",
   "execution_count": 8,
   "id": "3794b6f7-9f50-494f-b7a8-7f4f009d75f1",
   "metadata": {
    "tags": []
   },
   "outputs": [
    {
     "name": "stdout",
     "output_type": "stream",
     "text": [
      "6827.694661855698\n",
      "CYC1:\tn_frags=68083\n",
      "RPL13:\tn_frags=21999\n",
      "MEF2C:\tn_frags=730\n",
      "SOX2:\tn_frags=80523\n",
      "LHX5:\tn_frags=28249\n"
     ]
    }
   ],
   "source": [
    "st = time.time()\n",
    "\n",
    "# if os.path.exists(OUT_FILE):\n",
    "#     print('Output file already exists')\n",
    "#     os.remove(OUT_FILE)\n",
    "\n",
    "\n",
    "profiles = {}\n",
    "\n",
    "\n",
    "for r in regions.keys():\n",
    "    \n",
    "    frags = pd.DataFrame(columns=['chr', 'start', 'end', 'barcode', 'counts', 'sample', 'donor', 'donor_id', 'cell_type'])\n",
    "\n",
    "    for s in SAMPLES:\n",
    "\n",
    "        sample_path = os.path.join(DATA_PATH, 'outputs', s, s, 'outs/atac_fragments.tsv.gz')\n",
    "        #sample_path = os.path.join(DATA_PATH_ALT, 'outputs', s, s, 'outs/atac_fragments.tsv.gz')\n",
    "        sample_name = regex_get(s, 'sample_name')\n",
    "\n",
    "        tbx = pysam.TabixFile(sample_path, parser=pysam.asTuple())\n",
    "\n",
    "        for row in tbx.fetch(*regions[r]):\n",
    "\n",
    "            cell_id = '{}_{}'.format(row[3], sample_name)\n",
    "\n",
    "\n",
    "            if cell_id in qc_cells:# and (int(row[2]) - int(row[1])) > min_frag_size and (int(row[2]) - int(row[1])) < max_frag_size:\n",
    "\n",
    "                entry = {'chr': row[0],\n",
    "                          'start': int(row[1]) + 1, # Make 1-based\n",
    "                          'end': int(row[2]), # End inclusive\n",
    "                          'barcode': row[3],\n",
    "                          'counts': row[4],\n",
    "                          'sample': cells_coldata.loc[cell_id, 'sample'],\n",
    "                          'donor': cells_coldata.loc[cell_id, 'donor'],\n",
    "                          'donor_id': cells_coldata.loc[cell_id, 'donor_id'], \n",
    "                          'cell_type': cells_coldata.loc[cell_id, 'cell_type']}\n",
    "\n",
    "                frags = frags._append(entry, ignore_index=True)\n",
    "\n",
    "    profiles[r] = frags\n",
    "\n",
    "et = time.time()\n",
    "print(et - st)\n",
    "\n",
    "\n",
    "for r in profiles.keys():\n",
    "    \n",
    "    print('{}:\\tn_frags={}'.format(r, len(profiles[r])))\n",
    "          \n",
    "# MEF2C promoter: 1 sample --> 2s\n",
    "# MEF2C promoter: 3 samples --> 5s\n",
    "# MEF2C promoter: All samples --> 204s\n",
    "# MEF2C promoter: All samples --> 204s\n",
    "# MEF2C, SOX2, LHX5 promoters: 3 samples --> 50\n",
    "# MEF2C, SOX2, LHX5 promoters: All samples --> 2674s\n",
    "# MEF2C, SOX2, LHX5, CYC1, RPL13: All samples --> 4007-6828s"
   ]
  },
  {
   "cell_type": "code",
   "execution_count": 11,
   "id": "d98abb2b-e1a3-4287-b5df-42f304893f53",
   "metadata": {},
   "outputs": [],
   "source": [
    "# Init dict\n",
    "profiles_subset = {}\n",
    "\n",
    "for r in regions:\n",
    "    \n",
    "    profiles_subset[r] = {}\n",
    "    \n",
    "    for d in donors:\n",
    "        \n",
    "        profiles_subset[r][d] = {}\n",
    "        \n",
    "        for ct in cell_types:\n",
    "            \n",
    "            profiles_subset[r][d][ct] = {}\n",
    "            \n",
    "\n",
    "\n",
    "for r in regions:\n",
    "\n",
    "    for d in donors:\n",
    "\n",
    "        for ct in cell_types:\n",
    "\n",
    "            subset = (profiles[r]['donor'] == d) & (profiles[r]['cell_type'] == ct)\n",
    "            \n",
    "            if sum(subset) > 0:\n",
    "                profiles_subset[r][d][ct]['profile'], profiles_subset[r][d][ct]['n_cells'] = create_profile(profiles[r][subset], *regions[r])\n",
    "            else:\n",
    "                profiles_subset[r][d][ct] = None"
   ]
  },
  {
   "cell_type": "code",
   "execution_count": 12,
   "id": "3110d4e2-f81c-49a7-930a-2830b840cd0b",
   "metadata": {},
   "outputs": [
    {
     "name": "stdout",
     "output_type": "stream",
     "text": [
      "Fraction of donor-cell_type groups without any fragments: 0.37\n"
     ]
    }
   ],
   "source": [
    "# How many Nones?\n",
    "n_nones = sum([(profiles_subset[r][d][ct] == None) for r in profiles_subset.keys() for d in donors for ct in cell_types])\n",
    "total_groups = sum([True for r in profiles_subset.keys() for d in donors for ct in cell_types])\n",
    "print('Fraction of donor-cell_type groups without any fragments: {}'.format(round(n_nones / (total_groups), 2)))"
   ]
  },
  {
   "cell_type": "code",
   "execution_count": 13,
   "id": "247eab87-df4a-46e9-80dd-07b6b1ab8429",
   "metadata": {},
   "outputs": [
    {
     "data": {
      "text/html": [
       "<div>\n",
       "<style scoped>\n",
       "    .dataframe tbody tr th:only-of-type {\n",
       "        vertical-align: middle;\n",
       "    }\n",
       "\n",
       "    .dataframe tbody tr th {\n",
       "        vertical-align: top;\n",
       "    }\n",
       "\n",
       "    .dataframe thead th {\n",
       "        text-align: right;\n",
       "    }\n",
       "</style>\n",
       "<table border=\"1\" class=\"dataframe\">\n",
       "  <thead>\n",
       "    <tr style=\"text-align: right;\">\n",
       "      <th></th>\n",
       "      <th>donor</th>\n",
       "      <th>cell_type</th>\n",
       "      <th>n_cells</th>\n",
       "    </tr>\n",
       "  </thead>\n",
       "  <tbody>\n",
       "    <tr>\n",
       "      <th>0</th>\n",
       "      <td>pelm</td>\n",
       "      <td>DL-EN</td>\n",
       "      <td>90</td>\n",
       "    </tr>\n",
       "    <tr>\n",
       "      <th>1</th>\n",
       "      <td>pelm</td>\n",
       "      <td>Differentiating RG</td>\n",
       "      <td>38</td>\n",
       "    </tr>\n",
       "    <tr>\n",
       "      <th>2</th>\n",
       "      <td>pelm</td>\n",
       "      <td>Dividing Glia</td>\n",
       "      <td>307</td>\n",
       "    </tr>\n",
       "    <tr>\n",
       "      <th>3</th>\n",
       "      <td>pelm</td>\n",
       "      <td>Glia</td>\n",
       "      <td>489</td>\n",
       "    </tr>\n",
       "    <tr>\n",
       "      <th>4</th>\n",
       "      <td>pelm</td>\n",
       "      <td>IPC</td>\n",
       "      <td>143</td>\n",
       "    </tr>\n",
       "    <tr>\n",
       "      <th>5</th>\n",
       "      <td>pelm</td>\n",
       "      <td>Interneurons</td>\n",
       "      <td>210</td>\n",
       "    </tr>\n",
       "    <tr>\n",
       "      <th>6</th>\n",
       "      <td>pelm</td>\n",
       "      <td>Interneurons Prog.</td>\n",
       "      <td>296</td>\n",
       "    </tr>\n",
       "    <tr>\n",
       "      <th>7</th>\n",
       "      <td>pelm</td>\n",
       "      <td>Midbrain EN</td>\n",
       "      <td>825</td>\n",
       "    </tr>\n",
       "    <tr>\n",
       "      <th>8</th>\n",
       "      <td>pelm</td>\n",
       "      <td>Stressed Neurons</td>\n",
       "      <td>185</td>\n",
       "    </tr>\n",
       "    <tr>\n",
       "      <th>9</th>\n",
       "      <td>pelm</td>\n",
       "      <td>Stressed Prog.</td>\n",
       "      <td>544</td>\n",
       "    </tr>\n",
       "    <tr>\n",
       "      <th>10</th>\n",
       "      <td>pelm</td>\n",
       "      <td>UL-EN</td>\n",
       "      <td>444</td>\n",
       "    </tr>\n",
       "    <tr>\n",
       "      <th>11</th>\n",
       "      <td>pelm</td>\n",
       "      <td>Unclear</td>\n",
       "      <td>2</td>\n",
       "    </tr>\n",
       "    <tr>\n",
       "      <th>12</th>\n",
       "      <td>pelm</td>\n",
       "      <td>immature EN</td>\n",
       "      <td>318</td>\n",
       "    </tr>\n",
       "    <tr>\n",
       "      <th>13</th>\n",
       "      <td>zoxy</td>\n",
       "      <td>DL-EN</td>\n",
       "      <td>0</td>\n",
       "    </tr>\n",
       "    <tr>\n",
       "      <th>14</th>\n",
       "      <td>zoxy</td>\n",
       "      <td>Differentiating RG</td>\n",
       "      <td>3</td>\n",
       "    </tr>\n",
       "    <tr>\n",
       "      <th>15</th>\n",
       "      <td>zoxy</td>\n",
       "      <td>Dividing Glia</td>\n",
       "      <td>73</td>\n",
       "    </tr>\n",
       "    <tr>\n",
       "      <th>16</th>\n",
       "      <td>zoxy</td>\n",
       "      <td>Glia</td>\n",
       "      <td>71</td>\n",
       "    </tr>\n",
       "    <tr>\n",
       "      <th>17</th>\n",
       "      <td>zoxy</td>\n",
       "      <td>IPC</td>\n",
       "      <td>0</td>\n",
       "    </tr>\n",
       "    <tr>\n",
       "      <th>18</th>\n",
       "      <td>zoxy</td>\n",
       "      <td>Interneurons</td>\n",
       "      <td>65</td>\n",
       "    </tr>\n",
       "    <tr>\n",
       "      <th>19</th>\n",
       "      <td>zoxy</td>\n",
       "      <td>Interneurons Prog.</td>\n",
       "      <td>78</td>\n",
       "    </tr>\n",
       "    <tr>\n",
       "      <th>20</th>\n",
       "      <td>zoxy</td>\n",
       "      <td>Midbrain EN</td>\n",
       "      <td>275</td>\n",
       "    </tr>\n",
       "    <tr>\n",
       "      <th>21</th>\n",
       "      <td>zoxy</td>\n",
       "      <td>Stressed Neurons</td>\n",
       "      <td>122</td>\n",
       "    </tr>\n",
       "    <tr>\n",
       "      <th>22</th>\n",
       "      <td>zoxy</td>\n",
       "      <td>Stressed Prog.</td>\n",
       "      <td>1553</td>\n",
       "    </tr>\n",
       "    <tr>\n",
       "      <th>23</th>\n",
       "      <td>zoxy</td>\n",
       "      <td>UL-EN</td>\n",
       "      <td>0</td>\n",
       "    </tr>\n",
       "    <tr>\n",
       "      <th>24</th>\n",
       "      <td>zoxy</td>\n",
       "      <td>Unclear</td>\n",
       "      <td>0</td>\n",
       "    </tr>\n",
       "    <tr>\n",
       "      <th>25</th>\n",
       "      <td>zoxy</td>\n",
       "      <td>immature EN</td>\n",
       "      <td>1</td>\n",
       "    </tr>\n",
       "  </tbody>\n",
       "</table>\n",
       "</div>"
      ],
      "text/plain": [
       "   donor           cell_type  n_cells\n",
       "0   pelm               DL-EN       90\n",
       "1   pelm  Differentiating RG       38\n",
       "2   pelm       Dividing Glia      307\n",
       "3   pelm                Glia      489\n",
       "4   pelm                 IPC      143\n",
       "5   pelm        Interneurons      210\n",
       "6   pelm  Interneurons Prog.      296\n",
       "7   pelm         Midbrain EN      825\n",
       "8   pelm    Stressed Neurons      185\n",
       "9   pelm      Stressed Prog.      544\n",
       "10  pelm               UL-EN      444\n",
       "11  pelm             Unclear        2\n",
       "12  pelm         immature EN      318\n",
       "13  zoxy               DL-EN        0\n",
       "14  zoxy  Differentiating RG        3\n",
       "15  zoxy       Dividing Glia       73\n",
       "16  zoxy                Glia       71\n",
       "17  zoxy                 IPC        0\n",
       "18  zoxy        Interneurons       65\n",
       "19  zoxy  Interneurons Prog.       78\n",
       "20  zoxy         Midbrain EN      275\n",
       "21  zoxy    Stressed Neurons      122\n",
       "22  zoxy      Stressed Prog.     1553\n",
       "23  zoxy               UL-EN        0\n",
       "24  zoxy             Unclear        0\n",
       "25  zoxy         immature EN        1"
      ]
     },
     "execution_count": 13,
     "metadata": {},
     "output_type": "execute_result"
    }
   ],
   "source": [
    "# CT and donors to plot\n",
    "\n",
    "q_ct = ['Glia', 'UL-EN', 'Midbrain EN']\n",
    "q_donors = ['pelm', 'zoxy']\n",
    "\n",
    "subset = cells_coldata[cells_coldata['donor'].isin(q_donors)].copy()\n",
    "subset['donor'] = subset['donor'].astype(str)\n",
    "subset.groupby(['donor', 'cell_type']).size().reset_index(name='n_cells')"
   ]
  },
  {
   "cell_type": "code",
   "execution_count": 34,
   "id": "b4159e89-3700-47a9-b4a3-bb6f9ebfa180",
   "metadata": {},
   "outputs": [
    {
     "data": {
      "text/plain": [
       "donor        object\n",
       "cell_type    object\n",
       "n_cells       int64\n",
       "group        object\n",
       "dtype: object"
      ]
     },
     "execution_count": 34,
     "metadata": {},
     "output_type": "execute_result"
    }
   ],
   "source": [
    "data.dtypes"
   ]
  },
  {
   "cell_type": "code",
   "execution_count": 37,
   "id": "200f1757-e433-4172-a80a-04d7041dc762",
   "metadata": {},
   "outputs": [
    {
     "data": {
      "text/plain": [
       "Text(0.5, 0, '')"
      ]
     },
     "execution_count": 37,
     "metadata": {},
     "output_type": "execute_result"
    },
    {
     "data": {
      "image/png": "[encoded data removed]",
      "text/plain": [
       "<Figure size 640x480 with 1 Axes>"
      ]
     },
     "metadata": {},
     "output_type": "display_data"
    }
   ],
   "source": [
    "data = subset.groupby(['donor', 'cell_type']).size().reset_index(name='n_cells')\n",
    "data['donor'] = data ['donor'].astype(str)\n",
    "data['cell_type'] = data ['cell_type'].astype(str)\n",
    "data['group'] = data['donor'] + '_' + data['cell_type']\n",
    "data['group'] = data['group'].apply(lambda x: x.replace(' ', '-').replace('.', ''))\n",
    "\n",
    "\n",
    "plt.bar(data['group'], data['n_cells'])\n",
    "\n",
    "# # Add a title and labels\n",
    "plt.title('Donor-ct cell counts')\n",
    "plt.xlabel('')\n",
    "\n",
    "# Show the plot\n",
    "plt.show()"
   ]
  },
  {
   "cell_type": "code",
   "execution_count": 22,
   "id": "c0c0c766-d1dc-4571-ab12-06865247cc85",
   "metadata": {},
   "outputs": [
    {
     "data": {
      "image/png": "[encoded data removed]",
      "text/plain": [
       "<Figure size 400x600 with 1 Axes>"
      ]
     },
     "metadata": {},
     "output_type": "display_data"
    }
   ],
   "source": [
    "data = subset.groupby(['donor', 'cell_type']).size().reset_index(name='n_cells')['n_cells']\n",
    "plt.figure(figsize=(4, 6))\n",
    "\n",
    "sns.violinplot(data=data['n_cells'])\n",
    "\n",
    "# Add a title and labels\n",
    "plt.title('Donor-ct cell counts')\n",
    "plt.xlabel('')\n",
    "\n",
    "# Show the plot\n",
    "plt.show()"
   ]
  },
  {
   "cell_type": "code",
   "execution_count": null,
   "id": "0d2a0774-7240-4f6f-8564-94fc1dca71ef",
   "metadata": {},
   "outputs": [],
   "source": [
    "for r in profiles_subset.keys():\n",
    "    \n",
    "    for d in q_donors:\n",
    "        \n",
    "        for ct in q_ct:\n",
    "    \n",
    "            if profiles_subset[r][d][ct]:\n",
    "                print(f'{r} - {d} - {ct}\\tLen: {len(profiles_subset[r][d][ct][\"profile\"])}\\tCounts: {int(sum(profiles_subset[r][d][ct][\"profile\"]))}\\tn_cells: {profiles_subset[r][d][ct][\"n_cells\"]}') \n",
    "                plt.bar(np.linspace(1, len(profiles_subset[r][d][ct]['profile']), len(profiles_subset[r][d][ct]['profile'])), profiles_subset[r][d][ct]['profile'])\n",
    "                plt.xlim([4750,5250])\n",
    "                plt.ylim([1,60])\n",
    "                plt.show()\n",
    "            else:\n",
    "                print(f'Region: {r}, donor: {d}, cell type: {ct} --> No fragments found')"
   ]
  },
  {
   "cell_type": "code",
   "execution_count": 19,
   "id": "81739125-57b2-4dc0-8539-c087963213a6",
   "metadata": {},
   "outputs": [
    {
     "name": "stdout",
     "output_type": "stream",
     "text": [
      "Fraction of donor-cell_type groups without any fragments: 0.37\n"
     ]
    }
   ],
   "source": [
    "# How many Nones?\n",
    "n_nones = sum([(profiles_subset[r][d][ct] == None) for r in profiles_subset.keys() for d in donors for ct in cell_types])\n",
    "total_groups = sum([True for r in profiles_subset.keys() for d in donors for ct in cell_types])\n",
    "print('Fraction of donor-cell_type groups without any fragments: {}'.format(round(n_nones / (total_groups), 2)))"
   ]
  },
  {
   "cell_type": "code",
   "execution_count": 61,
   "id": "8b558680-1437-4021-a751-0cb05a2b3d48",
   "metadata": {},
   "outputs": [
    {
     "data": {
      "text/html": [
       "<div>\n",
       "<style scoped>\n",
       "    .dataframe tbody tr th:only-of-type {\n",
       "        vertical-align: middle;\n",
       "    }\n",
       "\n",
       "    .dataframe tbody tr th {\n",
       "        vertical-align: top;\n",
       "    }\n",
       "\n",
       "    .dataframe thead th {\n",
       "        text-align: right;\n",
       "    }\n",
       "</style>\n",
       "<table border=\"1\" class=\"dataframe\">\n",
       "  <thead>\n",
       "    <tr style=\"text-align: right;\">\n",
       "      <th></th>\n",
       "      <th>donor</th>\n",
       "      <th>cell_type</th>\n",
       "      <th>n_cells</th>\n",
       "    </tr>\n",
       "  </thead>\n",
       "  <tbody>\n",
       "    <tr>\n",
       "      <th>0</th>\n",
       "      <td>pelm</td>\n",
       "      <td>DL-EN</td>\n",
       "      <td>90</td>\n",
       "    </tr>\n",
       "    <tr>\n",
       "      <th>1</th>\n",
       "      <td>pelm</td>\n",
       "      <td>Differentiating RG</td>\n",
       "      <td>38</td>\n",
       "    </tr>\n",
       "    <tr>\n",
       "      <th>2</th>\n",
       "      <td>pelm</td>\n",
       "      <td>Dividing Glia</td>\n",
       "      <td>307</td>\n",
       "    </tr>\n",
       "    <tr>\n",
       "      <th>3</th>\n",
       "      <td>pelm</td>\n",
       "      <td>Glia</td>\n",
       "      <td>489</td>\n",
       "    </tr>\n",
       "    <tr>\n",
       "      <th>4</th>\n",
       "      <td>pelm</td>\n",
       "      <td>IPC</td>\n",
       "      <td>143</td>\n",
       "    </tr>\n",
       "    <tr>\n",
       "      <th>5</th>\n",
       "      <td>pelm</td>\n",
       "      <td>Interneurons</td>\n",
       "      <td>210</td>\n",
       "    </tr>\n",
       "    <tr>\n",
       "      <th>6</th>\n",
       "      <td>pelm</td>\n",
       "      <td>Interneurons Prog.</td>\n",
       "      <td>296</td>\n",
       "    </tr>\n",
       "    <tr>\n",
       "      <th>7</th>\n",
       "      <td>pelm</td>\n",
       "      <td>Midbrain EN</td>\n",
       "      <td>825</td>\n",
       "    </tr>\n",
       "    <tr>\n",
       "      <th>8</th>\n",
       "      <td>pelm</td>\n",
       "      <td>Stressed Neurons</td>\n",
       "      <td>185</td>\n",
       "    </tr>\n",
       "    <tr>\n",
       "      <th>9</th>\n",
       "      <td>pelm</td>\n",
       "      <td>Stressed Prog.</td>\n",
       "      <td>544</td>\n",
       "    </tr>\n",
       "    <tr>\n",
       "      <th>10</th>\n",
       "      <td>pelm</td>\n",
       "      <td>UL-EN</td>\n",
       "      <td>444</td>\n",
       "    </tr>\n",
       "    <tr>\n",
       "      <th>11</th>\n",
       "      <td>pelm</td>\n",
       "      <td>Unclear</td>\n",
       "      <td>2</td>\n",
       "    </tr>\n",
       "    <tr>\n",
       "      <th>12</th>\n",
       "      <td>pelm</td>\n",
       "      <td>immature EN</td>\n",
       "      <td>318</td>\n",
       "    </tr>\n",
       "    <tr>\n",
       "      <th>13</th>\n",
       "      <td>zoxy</td>\n",
       "      <td>DL-EN</td>\n",
       "      <td>0</td>\n",
       "    </tr>\n",
       "    <tr>\n",
       "      <th>14</th>\n",
       "      <td>zoxy</td>\n",
       "      <td>Differentiating RG</td>\n",
       "      <td>3</td>\n",
       "    </tr>\n",
       "    <tr>\n",
       "      <th>15</th>\n",
       "      <td>zoxy</td>\n",
       "      <td>Dividing Glia</td>\n",
       "      <td>73</td>\n",
       "    </tr>\n",
       "    <tr>\n",
       "      <th>16</th>\n",
       "      <td>zoxy</td>\n",
       "      <td>Glia</td>\n",
       "      <td>71</td>\n",
       "    </tr>\n",
       "    <tr>\n",
       "      <th>17</th>\n",
       "      <td>zoxy</td>\n",
       "      <td>IPC</td>\n",
       "      <td>0</td>\n",
       "    </tr>\n",
       "    <tr>\n",
       "      <th>18</th>\n",
       "      <td>zoxy</td>\n",
       "      <td>Interneurons</td>\n",
       "      <td>65</td>\n",
       "    </tr>\n",
       "    <tr>\n",
       "      <th>19</th>\n",
       "      <td>zoxy</td>\n",
       "      <td>Interneurons Prog.</td>\n",
       "      <td>78</td>\n",
       "    </tr>\n",
       "    <tr>\n",
       "      <th>20</th>\n",
       "      <td>zoxy</td>\n",
       "      <td>Midbrain EN</td>\n",
       "      <td>275</td>\n",
       "    </tr>\n",
       "    <tr>\n",
       "      <th>21</th>\n",
       "      <td>zoxy</td>\n",
       "      <td>Stressed Neurons</td>\n",
       "      <td>122</td>\n",
       "    </tr>\n",
       "    <tr>\n",
       "      <th>22</th>\n",
       "      <td>zoxy</td>\n",
       "      <td>Stressed Prog.</td>\n",
       "      <td>1553</td>\n",
       "    </tr>\n",
       "    <tr>\n",
       "      <th>23</th>\n",
       "      <td>zoxy</td>\n",
       "      <td>UL-EN</td>\n",
       "      <td>0</td>\n",
       "    </tr>\n",
       "    <tr>\n",
       "      <th>24</th>\n",
       "      <td>zoxy</td>\n",
       "      <td>Unclear</td>\n",
       "      <td>0</td>\n",
       "    </tr>\n",
       "    <tr>\n",
       "      <th>25</th>\n",
       "      <td>zoxy</td>\n",
       "      <td>immature EN</td>\n",
       "      <td>1</td>\n",
       "    </tr>\n",
       "  </tbody>\n",
       "</table>\n",
       "</div>"
      ],
      "text/plain": [
       "   donor           cell_type  n_cells\n",
       "0   pelm               DL-EN       90\n",
       "1   pelm  Differentiating RG       38\n",
       "2   pelm       Dividing Glia      307\n",
       "3   pelm                Glia      489\n",
       "4   pelm                 IPC      143\n",
       "5   pelm        Interneurons      210\n",
       "6   pelm  Interneurons Prog.      296\n",
       "7   pelm         Midbrain EN      825\n",
       "8   pelm    Stressed Neurons      185\n",
       "9   pelm      Stressed Prog.      544\n",
       "10  pelm               UL-EN      444\n",
       "11  pelm             Unclear        2\n",
       "12  pelm         immature EN      318\n",
       "13  zoxy               DL-EN        0\n",
       "14  zoxy  Differentiating RG        3\n",
       "15  zoxy       Dividing Glia       73\n",
       "16  zoxy                Glia       71\n",
       "17  zoxy                 IPC        0\n",
       "18  zoxy        Interneurons       65\n",
       "19  zoxy  Interneurons Prog.       78\n",
       "20  zoxy         Midbrain EN      275\n",
       "21  zoxy    Stressed Neurons      122\n",
       "22  zoxy      Stressed Prog.     1553\n",
       "23  zoxy               UL-EN        0\n",
       "24  zoxy             Unclear        0\n",
       "25  zoxy         immature EN        1"
      ]
     },
     "execution_count": 61,
     "metadata": {},
     "output_type": "execute_result"
    }
   ],
   "source": [
    "# CT and donors to plot\n",
    "\n",
    "q_ct = ['Glia', 'UL-EN']\n",
    "q_donors = ['melw', 'pelm', 'ualw', 'zoxy']\n",
    "\n",
    "subset = cells_coldata[cells_coldata['donor'].isin(q_donors)].copy()\n",
    "subset['donor'] = subset['donor'].astype(str)\n",
    "subset.groupby(['donor', 'cell_type']).size().reset_index(name='n_cells')"
   ]
  },
  {
   "cell_type": "code",
   "execution_count": 21,
   "id": "f9f526f6-f93c-410a-bd61-776d6c12a72d",
   "metadata": {},
   "outputs": [
    {
     "name": "stdout",
     "output_type": "stream",
     "text": [
      "CYC1 - pelm - Glia\tLen: 10001\tCounts: 356\tn_cells: 179\n"
     ]
    },
    {
     "data": {
      "image/png": "[encoded data removed]",
      "text/plain": [
       "<Figure size 640x480 with 1 Axes>"
      ]
     },
     "metadata": {},
     "output_type": "display_data"
    },
    {
     "name": "stdout",
     "output_type": "stream",
     "text": [
      "CYC1 - pelm - UL-EN\tLen: 10001\tCounts: 184\tn_cells: 93\n"
     ]
    },
    {
     "data": {
      "image/png": "[encoded data removed]",
      "text/plain": [
       "<Figure size 640x480 with 1 Axes>"
      ]
     },
     "metadata": {},
     "output_type": "display_data"
    },
    {
     "name": "stdout",
     "output_type": "stream",
     "text": [
      "CYC1 - zoxy - Glia\tLen: 10001\tCounts: 52\tn_cells: 26\n"
     ]
    },
    {
     "data": {
      "image/png": "[encoded data removed]",
      "text/plain": [
       "<Figure size 640x480 with 1 Axes>"
      ]
     },
     "metadata": {},
     "output_type": "display_data"
    },
    {
     "name": "stdout",
     "output_type": "stream",
     "text": [
      "Region: CYC1, donor: zoxy, cell type: UL-EN --> No fragments found\n",
      "RPL13 - pelm - Glia\tLen: 10001\tCounts: 158\tn_cells: 79\n"
     ]
    },
    {
     "data": {
      "image/png": "[encoded data removed]",
      "text/plain": [
       "<Figure size 640x480 with 1 Axes>"
      ]
     },
     "metadata": {},
     "output_type": "display_data"
    },
    {
     "name": "stdout",
     "output_type": "stream",
     "text": [
      "RPL13 - pelm - UL-EN\tLen: 10001\tCounts: 56\tn_cells: 28\n"
     ]
    },
    {
     "data": {
      "image/png": "[encoded data removed]",
      "text/plain": [
       "<Figure size 640x480 with 1 Axes>"
      ]
     },
     "metadata": {},
     "output_type": "display_data"
    },
    {
     "name": "stdout",
     "output_type": "stream",
     "text": [
      "RPL13 - zoxy - Glia\tLen: 10001\tCounts: 10\tn_cells: 5\n"
     ]
    },
    {
     "data": {
      "image/png": "[encoded data removed]",
      "text/plain": [
       "<Figure size 640x480 with 1 Axes>"
      ]
     },
     "metadata": {},
     "output_type": "display_data"
    },
    {
     "name": "stdout",
     "output_type": "stream",
     "text": [
      "Region: RPL13, donor: zoxy, cell type: UL-EN --> No fragments found\n",
      "MEF2C - pelm - Glia\tLen: 10001\tCounts: 11\tn_cells: 6\n"
     ]
    },
    {
     "data": {
      "image/png": "[encoded data removed]",
      "text/plain": [
       "<Figure size 640x480 with 1 Axes>"
      ]
     },
     "metadata": {},
     "output_type": "display_data"
    },
    {
     "name": "stdout",
     "output_type": "stream",
     "text": [
      "MEF2C - pelm - UL-EN\tLen: 10001\tCounts: 2\tn_cells: 1\n"
     ]
    },
    {
     "data": {
      "image/png": "[encoded data removed]",
      "text/plain": [
       "<Figure size 640x480 with 1 Axes>"
      ]
     },
     "metadata": {},
     "output_type": "display_data"
    },
    {
     "name": "stdout",
     "output_type": "stream",
     "text": [
      "Region: MEF2C, donor: zoxy, cell type: Glia --> No fragments found\n",
      "Region: MEF2C, donor: zoxy, cell type: UL-EN --> No fragments found\n",
      "SOX2 - pelm - Glia\tLen: 10001\tCounts: 688\tn_cells: 345\n"
     ]
    },
    {
     "data": {
      "image/png": "[encoded data removed]",
      "text/plain": [
       "<Figure size 640x480 with 1 Axes>"
      ]
     },
     "metadata": {},
     "output_type": "display_data"
    },
    {
     "name": "stdout",
     "output_type": "stream",
     "text": [
      "SOX2 - pelm - UL-EN\tLen: 10001\tCounts: 85\tn_cells: 43\n"
     ]
    },
    {
     "data": {
      "image/png": "[encoded data removed]",
      "text/plain": [
       "<Figure size 640x480 with 1 Axes>"
      ]
     },
     "metadata": {},
     "output_type": "display_data"
    },
    {
     "name": "stdout",
     "output_type": "stream",
     "text": [
      "SOX2 - zoxy - Glia\tLen: 10001\tCounts: 70\tn_cells: 35\n"
     ]
    },
    {
     "data": {
      "image/png": "[encoded data removed]",
      "text/plain": [
       "<Figure size 640x480 with 1 Axes>"
      ]
     },
     "metadata": {},
     "output_type": "display_data"
    },
    {
     "name": "stdout",
     "output_type": "stream",
     "text": [
      "Region: SOX2, donor: zoxy, cell type: UL-EN --> No fragments found\n",
      "LHX5 - pelm - Glia\tLen: 10001\tCounts: 42\tn_cells: 21\n"
     ]
    },
    {
     "data": {
      "image/png": "[encoded data removed]",
      "text/plain": [
       "<Figure size 640x480 with 1 Axes>"
      ]
     },
     "metadata": {},
     "output_type": "display_data"
    },
    {
     "name": "stdout",
     "output_type": "stream",
     "text": [
      "LHX5 - pelm - UL-EN\tLen: 10001\tCounts: 78\tn_cells: 39\n"
     ]
    },
    {
     "data": {
      "image/png": "[encoded data removed]",
      "text/plain": [
       "<Figure size 640x480 with 1 Axes>"
      ]
     },
     "metadata": {},
     "output_type": "display_data"
    },
    {
     "name": "stdout",
     "output_type": "stream",
     "text": [
      "LHX5 - zoxy - Glia\tLen: 10001\tCounts: 11\tn_cells: 6\n"
     ]
    },
    {
     "data": {
      "image/png": "[encoded data removed]",
      "text/plain": [
       "<Figure size 640x480 with 1 Axes>"
      ]
     },
     "metadata": {},
     "output_type": "display_data"
    },
    {
     "name": "stdout",
     "output_type": "stream",
     "text": [
      "Region: LHX5, donor: zoxy, cell type: UL-EN --> No fragments found\n"
     ]
    }
   ],
   "source": [
    "for r in profiles_subset.keys():\n",
    "    \n",
    "    for d in q_donors:\n",
    "        \n",
    "        for ct in q_ct:\n",
    "    \n",
    "            if profiles_subset[r][d][ct]:\n",
    "                print(f'{r} - {d} - {ct}\\tLen: {len(profiles_subset[r][d][ct][\"profile\"])}\\tCounts: {int(sum(profiles_subset[r][d][ct][\"profile\"]))}\\tn_cells: {profiles_subset[r][d][ct][\"n_cells\"]}') \n",
    "                plt.bar(np.linspace(1, len(profiles_subset[r][d][ct]['profile']), len(profiles_subset[r][d][ct]['profile'])), profiles_subset[r][d][ct]['profile'])\n",
    "                plt.xlim([4750,5250])\n",
    "                plt.ylim([1,60])\n",
    "                plt.show()\n",
    "            else:\n",
    "                print(f'Region: {r}, donor: {d}, cell type: {ct} --> No fragments found')"
   ]
  },
  {
   "cell_type": "code",
   "execution_count": 63,
   "id": "c29478db-dfb9-4306-9c3f-938b26d15c7c",
   "metadata": {},
   "outputs": [],
   "source": [
    "frags = profiles['MEF2C']\n",
    "\n",
    "if min(frags['start'] - regions['MEF2C'][1]) >= 0:\n",
    "    \n",
    "    frags['start_0'] = regions['MEF2C'][1]\n",
    "    frags['end_0'] = regions['MEF2C'][2]\n",
    "    \n",
    "    insertions = np.ones(len(frags)*2)\n",
    "    row_indices = np.concatenate([np.array(frags['start_0']), np.array(frags['end_0'])])\n",
    "    col_indices = np.concatenate([np.array(frags.index.tolist()), np.array(frags.index.tolist())])\n",
    "    \n",
    "    profile_sm = csr_matrix((insertions, (row_indices, col_indices)), shape = [max(row_indices) + 1, len(frags)])\n",
    "    profile_sm = profile_sm[0: regions['MEF2C'][2] - regions['MEF2C'][1] + 1]\n",
    "    \n",
    "else:\n",
    "    \n",
    "    frags['start_0'] = frags['start'] - min(frags['start'])\n",
    "    frags['end_0'] = frags['end'] - min(frags['start'])\n",
    "    \n",
    "    insertions = np.ones(len(frags)*2)\n",
    "    row_indices = np.concatenate([np.array(frags['start_0']), np.array(frags['end_0'])])\n",
    "    col_indices = np.concatenate([np.array(frags.index.tolist()), np.array(frags.index.tolist())])\n",
    "    \n",
    "    profile_sm = csr_matrix((insertions, (row_indices, col_indices)), shape = [max(row_indices) + 1, len(frags)])\n",
    "    profile_sm = profile_sm[regions['MEF2C'][1] - min(frags['start']) : regions['MEF2C'][2] - min(frags['start']) + 1]"
   ]
  },
  {
   "cell_type": "code",
   "execution_count": 1,
   "id": "c724bfba-4e01-4a1b-9a2d-20a6534e3944",
   "metadata": {},
   "outputs": [
    {
     "ename": "NameError",
     "evalue": "name 'profile_sm' is not defined",
     "output_type": "error",
     "traceback": [
      "\u001b[0;31m---------------------------------------------------------------------------\u001b[0m",
      "\u001b[0;31mNameError\u001b[0m                                 Traceback (most recent call last)",
      "Cell \u001b[0;32mIn[1], line 1\u001b[0m\n\u001b[0;32m----> 1\u001b[0m profile \u001b[38;5;241m=\u001b[39m \u001b[43mprofile_sm\u001b[49m\u001b[38;5;241m.\u001b[39msum(axis\u001b[38;5;241m=\u001b[39m\u001b[38;5;241m1\u001b[39m)\u001b[38;5;241m.\u001b[39mtolist()\n\u001b[1;32m      2\u001b[0m profile \u001b[38;5;241m=\u001b[39m [j \u001b[38;5;28;01mfor\u001b[39;00m i \u001b[38;5;129;01min\u001b[39;00m profile \u001b[38;5;28;01mfor\u001b[39;00m j \u001b[38;5;129;01min\u001b[39;00m i]\n\u001b[1;32m      3\u001b[0m \u001b[38;5;28mprint\u001b[39m(\u001b[38;5;124mf\u001b[39m\u001b[38;5;124m'\u001b[39m\u001b[38;5;124mW/QC Counts: \u001b[39m\u001b[38;5;132;01m{\u001b[39;00m\u001b[38;5;28mint\u001b[39m(\u001b[38;5;28msum\u001b[39m(profile))\u001b[38;5;132;01m}\u001b[39;00m\u001b[38;5;130;01m\\n\u001b[39;00m\u001b[38;5;124mLen: \u001b[39m\u001b[38;5;132;01m{\u001b[39;00m\u001b[38;5;28mlen\u001b[39m(profile)\u001b[38;5;132;01m}\u001b[39;00m\u001b[38;5;124m'\u001b[39m)\n",
      "\u001b[0;31mNameError\u001b[0m: name 'profile_sm' is not defined"
     ]
    }
   ],
   "source": [
    "profile = profile_sm.sum(axis=1).tolist()\n",
    "profile = [j for i in profile for j in i]\n",
    "print(f'W/O Counts: {int(sum(profile))}\\nLen: {len(profile)}')"
   ]
  },
  {
   "cell_type": "code",
   "execution_count": 65,
   "id": "878fb29f-96fe-4401-9692-8695561ecd7b",
   "metadata": {},
   "outputs": [
    {
     "data": {
      "image/png": "[encoded data removed]",
      "text/plain": [
       "<Figure size 640x480 with 1 Axes>"
      ]
     },
     "metadata": {},
     "output_type": "display_data"
    }
   ],
   "source": [
    "plt.bar(np.linspace(1, len(profile), len(profile)), profile)\n",
    "# plt.xlim([0,300])\n",
    "plt.ylim([1,60])\n",
    "plt.show()"
   ]
  },
  {
   "cell_type": "code",
   "execution_count": null,
   "id": "42d0d39d-b4fb-45ed-afc0-4772669bb4e8",
   "metadata": {},
   "outputs": [],
   "source": [
    "plt.bar(np.linspace(1, len(profile), len(profile)), profile)\n",
    "plt.xlim([6000,7000])\n",
    "plt.ylim([1,60])\n",
    "plt.show()"
   ]
  },
  {
   "cell_type": "code",
   "execution_count": null,
   "id": "b950e40d-b84f-41dd-ad89-81850e6483c2",
   "metadata": {},
   "outputs": [],
   "source": [
    "frags = profiles['SOX2']\n",
    "\n",
    "if min(frags['start'] - regions[0][2]) >= 0:\n",
    "    \n",
    "    frags['start_0'] = regions[0][2]\n",
    "    frags['end_0'] = regions[0][3]\n",
    "    \n",
    "    insertions = np.ones(len(frags)*2)\n",
    "    row_indices = np.concatenate([np.array(frags['start_0']), np.array(frags['end_0'])])\n",
    "    col_indices = np.concatenate([np.array(frags.index.tolist()), np.array(frags.index.tolist())])\n",
    "    \n",
    "    profile_sm = csr_matrix((insertions, (row_indices, col_indices)), shape = [max(row_indices) + 1, len(frags)])\n",
    "    profile_sm = profile_sm[0: regions[0][3] - regions[0][2] + 1]\n",
    "    \n",
    "else:\n",
    "    \n",
    "    frags['start_0'] = frags['start'] - min(frags['start'])\n",
    "    frags['end_0'] = frags['end'] - min(frags['start'])\n",
    "    \n",
    "    insertions = np.ones(len(frags)*2)\n",
    "    row_indices = np.concatenate([np.array(frags['start_0']), np.array(frags['end_0'])])\n",
    "    col_indices = np.concatenate([np.array(frags.index.tolist()), np.array(frags.index.tolist())])\n",
    "    \n",
    "    profile_sm = csr_matrix((insertions, (row_indices, col_indices)), shape = [max(row_indices) + 1, len(frags)])\n",
    "    profile_sm = profile_sm[regions[0][2] - min(frags['start']) : regions[0][3] - min(frags['start']) + 1]"
   ]
  },
  {
   "cell_type": "code",
   "execution_count": null,
   "id": "a44f7eef-85e6-45b6-81a5-dfb19d78d2e1",
   "metadata": {},
   "outputs": [],
   "source": [
    "profile = profile_sm.sum(axis=1).tolist()\n",
    "profile = [j for i in profile for j in i]\n",
    "print(f'Counts: {int(sum(profile))}\\nLen: {len(profile)}')"
   ]
  },
  {
   "cell_type": "code",
   "execution_count": null,
   "id": "ee2e933f-fcb4-42af-8b46-ef6d97205cfd",
   "metadata": {},
   "outputs": [],
   "source": [
    "plt.bar(np.linspace(1, len(profile), len(profile)), profile)\n",
    "# plt.xlim([4800,5300])\n",
    "plt.ylim([1,60])\n",
    "plt.show()"
   ]
  },
  {
   "cell_type": "code",
   "execution_count": null,
   "id": "aad7e870-33a6-4fc8-94f8-899184383b81",
   "metadata": {},
   "outputs": [],
   "source": [
    "# import pandas\n",
    "# import os\n",
    "# import requests\n",
    "# from tqdm import tqdm\n",
    "# from pathlib import Path\n",
    "\n",
    "# x = pandas.read_csv(OUT_FILE, sep='\\t', header=None)\n",
    "\n",
    "# x\n",
    "\n",
    "# --- below Chatgpt ---\n",
    "# Download the hg38 genome assembly\n",
    "\n",
    "# hg38_url = 'http://hgdownload.cse.ucsc.edu/goldenPath/hg38/bigZips/hg38.fa.gz'\n",
    "# hg38_path = \"data/genome/hg38.fa.gz\"\n",
    "\n",
    "# if not os.path.isdir('data/genome'):\n",
    "#     Path('data/genome').mkdir(parents=True, exist_ok=True)\n",
    "\n",
    "# def download_file(url, output_file):\n",
    "#     response = requests.get(url, stream=True)\n",
    "#     response.raise_for_status()  # Check for request errors\n",
    "\n",
    "#     # Download the file in chunks to avoid memory issues with large files\n",
    "#     with open(output_file, \"wb\") as file:\n",
    "#         for chunk in response.iter_content(chunk_size=8192):\n",
    "#             file.write(chunk)\n",
    "\n",
    "#     print(f'Downloaded {output_file}')\n",
    "\n",
    "# download_file(hg38_url, hg38_path)"
   ]
  }
 ],
 "metadata": {
  "kernelspec": {
   "display_name": "ian",
   "language": "python",
   "name": "ian"
  },
  "language_info": {
   "codemirror_mode": {
    "name": "ipython",
    "version": 3
   },
   "file_extension": ".py",
   "mimetype": "text/x-python",
   "name": "python",
   "nbconvert_exporter": "python",
   "pygments_lexer": "ipython3",
   "version": "3.9.19"
  }
 },
 "nbformat": 4,
 "nbformat_minor": 5
}
