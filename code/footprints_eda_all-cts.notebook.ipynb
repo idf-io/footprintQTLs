{
 "cells": [
  {
   "cell_type": "markdown",
   "id": "160fa40c-2802-4a67-aac5-91e6d6e324a3",
   "metadata": {},
   "source": [
    "# Footprints: exploratory data analysis cross cell-types"
   ]
  },
  {
   "cell_type": "markdown",
   "id": "55fed23e",
   "metadata": {},
   "source": [
    "## Setup"
   ]
  },
  {
   "cell_type": "code",
   "execution_count": null,
   "id": "c3dfdf93-4acd-4202-afd3-40a4d9f4e4cb",
   "metadata": {},
   "outputs": [],
   "source": [
    "import os\n",
    "import sys\n",
    "import numpy as np\n",
    "import anndata as ad\n",
    "import pandas as pd\n",
    "from matplotlib import pyplot as plt\n",
    "from matplotlib.colors import LogNorm\n",
    "import seaborn as sns\n",
    "from upsetplot import from_contents, UpSet"
   ]
  },
  {
   "cell_type": "code",
   "execution_count": null,
   "id": "81833c13-3c8a-430b-ab10-3c1483663306",
   "metadata": {},
   "outputs": [],
   "source": [
    "# Ensure cwd is project root and that /code is in path\n",
    "\n",
    "cwd = os.path.basename(os.getcwd())\n",
    "\n",
    "if cwd == 'footprintQTL':\n",
    "    \n",
    "    PROJECT_DIR = '.'\n",
    "\n",
    "\n",
    "elif cwd == 'code':\n",
    "    \n",
    "    PROJECT_DIR = '..'\n",
    "\n",
    "\n",
    "elif cwd == 'fichtner':\n",
    "\n",
    "    PROJECT_DIR = 'projects/footprintQTL'\n",
    "\n",
    "else:\n",
    "\n",
    "    PROJECT_DIR = 'manual'\n",
    "\n",
    "\n",
    "os.chdir(PROJECT_DIR)\n",
    "sys.path.append(os.getcwd() + '/code')"
   ]
  },
  {
   "cell_type": "code",
   "execution_count": null,
   "id": "c48e8731-583a-4e3a-849f-1fdff4badeb9",
   "metadata": {},
   "outputs": [],
   "source": [
    "from helpers.python.utils import list_dirs\n",
    "from helpers.python.anndata_utils import check_anndata"
   ]
  },
  {
   "cell_type": "code",
   "execution_count": null,
   "id": "22faa21b-2df0-4105-8f0c-07b1b5e4573d",
   "metadata": {},
   "outputs": [],
   "source": [
    "# User variables\n",
    "\n",
    "from glob_vars import FOOTPRINTS_DIR, CT_MAP_ID\n",
    "\n",
    "min_cells_donor = 200 # Serves as sanity check.\n",
    "                      # Ideally set to 0 since this filter should be applied during or before footprint computation\n",
    "\n",
    "cell_type_dir = str(os.path.join(FOOTPRINTS_DIR, 'js_divergence', 'ca-qtls_variant-centred_15bp', CT_MAP_ID))"
   ]
  },
  {
   "cell_type": "markdown",
   "id": "5d4e1e69",
   "metadata": {},
   "source": [
    "## Get data"
   ]
  },
  {
   "cell_type": "code",
   "execution_count": null,
   "id": "694cb177-1364-42d4-857d-d3a24b2e513b",
   "metadata": {},
   "outputs": [],
   "source": [
    "# Init\n",
    "peaks_df_entries = [] # Cross-donor stds for all cell types: {'peak': , cell_type': , 'cell_type_ann': , 'mean': , 'std': }\n",
    "ct_peaks = {} # 'cell_type': [peaks]\n",
    "ct_hvps = {} # 'cell_type': [hvps]\n",
    "\n",
    "# Populate\n",
    "for cell_type in list_dirs(cell_type_dir):\n",
    "\n",
    "    adata = ad.read_h5ad(os.path.join(cell_type_dir, cell_type, 'footprints_processed.h5ad'))\n",
    "    check_anndata(adata, min_obs=10, obs_criteria_kwargs=[{'col': 'n_cells', 'func': lambda x: (x > 0).all()}])\n",
    "\n",
    "\n",
    "    # Stats\n",
    "    var = adata.var[['mean', 'std', 'highly_variable_std']]\n",
    "\n",
    "    # Some annotations\n",
    "    n_donors, n_peaks = adata.shape\n",
    "    mean_n_cells, mean_n_frags, mean_n_ins = adata.obs[['n_cells', 'n_fragments', 'n_insertions']].mean()\n",
    "    \n",
    "    ## Populate peaks_df_entries\n",
    "\n",
    "    for index, row in var.iterrows():\n",
    " \n",
    "        df_entry = {'peak': index,\n",
    "                    'cell_type': cell_type,\n",
    "                    'cell_type_ann': cell_type\n",
    "                                     + f'\\nn_peaks={n_peaks}\\n'\n",
    "                                     + f'n_donors={n_donors}\\n'\n",
    "                                     + f'mean_cells={round(mean_n_cells, 1)}\\n'\n",
    "                                     + f'mean_frags={round(mean_n_frags, 1)}\\n'\n",
    "                                     + f'mean_ins={round(mean_n_ins, 1)}',\n",
    "                    'mean': row['mean'],\n",
    "                    'std': row['std']}\n",
    "        \n",
    "        peaks_df_entries.append(df_entry)\n",
    "\n",
    "\n",
    "    ## Peaks and HVPs\n",
    "    ct_peaks[cell_type] = adata.var_names\n",
    "\n",
    "    ct_hvps_lst = var[var['highly_variable_std'] == True].index\n",
    "    ct_hvps[cell_type] = ct_hvps_lst\n",
    "\n",
    "    \n",
    "\n",
    "peaks_df = pd.DataFrame(peaks_df_entries)"
   ]
  },
  {
   "cell_type": "markdown",
   "id": "e7bd4427",
   "metadata": {},
   "source": [
    "## Mean and variance distr. per cell-type"
   ]
  },
  {
   "cell_type": "code",
   "execution_count": null,
   "id": "b3c310d4-2bd0-4409-ac0b-672876cbc681",
   "metadata": {},
   "outputs": [],
   "source": [
    "plt.figure(figsize=(12,6))\n",
    "sns.violinplot(peaks_df, x='cell_type_ann', y='std', inner='box')\n",
    "plt.title('Peak variance across donors')\n",
    "plt.xticks(rotation=0)\n",
    "plt.xlabel('')\n",
    "plt.ylabel('std')\n",
    "plt.show()"
   ]
  },
  {
   "cell_type": "code",
   "execution_count": null,
   "id": "697972b8-ecae-4bbd-a88c-3288e620f88e",
   "metadata": {},
   "outputs": [],
   "source": [
    "peaks_df_pivot_mean = peaks_df.pivot(columns='cell_type', values='mean')\n",
    "peaks_df_pivot_mean.plot(kind='hist', bins=100, subplots=True, title='Mean distr. of different cell types', xlabel='mean');"
   ]
  },
  {
   "cell_type": "code",
   "execution_count": null,
   "id": "cdf8696c",
   "metadata": {},
   "outputs": [],
   "source": [
    "peaks_df_pivot_std = peaks_df.pivot(columns='cell_type', values='std')\n",
    "peaks_df_pivot_std.plot(kind='hist', bins=100, subplots=True, title='Std distr. of different cell types', xlabel='mean');"
   ]
  },
  {
   "cell_type": "markdown",
   "id": "ddf07269-1697-4133-9110-48d44c1d1442",
   "metadata": {},
   "source": [
    "## Highly variable peaks"
   ]
  },
  {
   "cell_type": "code",
   "execution_count": null,
   "id": "d48940d3",
   "metadata": {},
   "outputs": [],
   "source": [
    "# Create df entries\n",
    "combs = [[ct1, ct2] for ct1 in ct_hvps.keys() for ct2 in ct_hvps.keys()]\n",
    "\n",
    "entries = [] # [(ct1, ct2, overlap), ...]\n",
    "\n",
    "for ct1, ct2 in combs:\n",
    "\n",
    "    union = set(ct_hvps[ct1]) & set(ct_hvps[ct2])\n",
    "    entries.append((ct1, ct2, len(union)))\n",
    "\n",
    "# Make hvp overlap df\n",
    "overlap_hvps_df = pd.DataFrame(entries, columns=['cell_type_01', 'cell_type_02', 'overlap_count'])\n",
    "overlap_hvps_df = overlap_hvps_df.pivot(index='cell_type_01', columns='cell_type_02', values='overlap_count')\n",
    "overlap_hvps_df"
   ]
  },
  {
   "cell_type": "code",
   "execution_count": null,
   "id": "9ea4cc6b",
   "metadata": {},
   "outputs": [],
   "source": [
    "ax = sns.heatmap(overlap_hvps_df, annot=True, fmt='.0f', vmin=0, vmax=3502, cmap='rocket')#, norm=LogNorm(vmin=overlap_df.min().min(), vmax=overlap_df.max().max()))\n",
    "ax.set(xlabel=\"\", ylabel=\"\")\n",
    "\n",
    "ax.xaxis.tick_top()\n",
    "plt.xticks(rotation=90)\n",
    "\n",
    "plt.show()"
   ]
  },
  {
   "cell_type": "code",
   "execution_count": null,
   "id": "52bca5c9",
   "metadata": {},
   "outputs": [],
   "source": [
    "hvps_formatted = from_contents(ct_hvps)\n",
    "UpSet(hvps_formatted, subset_size='count', show_counts=True).plot()"
   ]
  },
  {
   "cell_type": "code",
   "execution_count": null,
   "id": "e59479e7",
   "metadata": {},
   "outputs": [],
   "source": [
    "# What if the original peak sets (non-hvps) already had an overlapping bias?\n",
    "\n",
    "# Repeat previous plots for original peaks and create an overlap plot with the ration of hvps/peaks\n",
    "\n",
    "# Create df entries\n",
    "combs = [[ct1, ct2] for ct1 in ct_peaks.keys() for ct2 in ct_peaks.keys()]\n",
    "\n",
    "entries = [] # [(ct1, ct2, overlap), ...]\n",
    "\n",
    "for ct1, ct2 in combs:\n",
    "\n",
    "    union = set(ct_peaks[ct1]) & set(ct_peaks[ct2])\n",
    "    entries.append((ct1, ct2, len(union)))\n",
    "\n",
    "# Make hvp overlap df\n",
    "overlap_peaks_df = pd.DataFrame(entries, columns=['cell_type_01', 'cell_type_02', 'overlap_count'])\n",
    "overlap_peaks_df = overlap_peaks_df.pivot(index='cell_type_01', columns='cell_type_02', values='overlap_count')\n",
    "overlap_peaks_df"
   ]
  },
  {
   "cell_type": "code",
   "execution_count": null,
   "id": "356989b0",
   "metadata": {},
   "outputs": [],
   "source": [
    "ax = sns.heatmap(overlap_peaks_df, annot=True, fmt='.0f', vmin=0, vmax=43000, cmap='rocket')#, norm=LogNorm(vmin=overlap_df.min().min(), vmax=overlap_df.max().max()))\n",
    "ax.set(xlabel=\"\", ylabel=\"\")\n",
    "\n",
    "ax.xaxis.tick_top()\n",
    "plt.xticks(rotation=90)\n",
    "\n",
    "plt.show()"
   ]
  },
  {
   "cell_type": "code",
   "execution_count": null,
   "id": "d8f2b8b8",
   "metadata": {},
   "outputs": [],
   "source": [
    "peaks_formatted = from_contents(ct_peaks)\n",
    "UpSet(peaks_formatted, subset_size='count', show_counts=True).plot()"
   ]
  },
  {
   "cell_type": "code",
   "execution_count": null,
   "id": "29e702eb",
   "metadata": {},
   "outputs": [],
   "source": [
    "overlap_ratios_df = overlap_hvps_df / overlap_peaks_df\n",
    "\n",
    "ax = sns.heatmap(overlap_ratios_df, annot=True, fmt='.4f', vmin=0, vmax=0.1,  cmap='rocket')#, norm=LogNorm(vmin=overlap_df.min().min(), vmax=overlap_df.max().max()))\n",
    "ax.set(xlabel=\"\", ylabel=\"\")\n",
    "\n",
    "ax.xaxis.tick_top()\n",
    "plt.xticks(rotation=90)\n",
    "\n",
    "plt.show()"
   ]
  }
 ],
 "metadata": {
  "kernelspec": {
   "display_name": "main06",
   "language": "python",
   "name": "main06"
  },
  "language_info": {
   "codemirror_mode": {
    "name": "ipython",
    "version": 3
   },
   "file_extension": ".py",
   "mimetype": "text/x-python",
   "name": "python",
   "nbconvert_exporter": "python",
   "pygments_lexer": "ipython3",
   "version": "3.9.19"
  }
 },
 "nbformat": 4,
 "nbformat_minor": 5
}
