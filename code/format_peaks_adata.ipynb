{
 "cells": [
  {
   "cell_type": "markdown",
   "id": "596ec2c4-4b8c-4ef4-a9e5-56e85772f502",
   "metadata": {},
   "source": [
    "# Setup"
   ]
  },
  {
   "cell_type": "code",
   "execution_count": 1,
   "id": "e673d4e0-983c-4686-885f-1ad00f72479e",
   "metadata": {
    "execution": {
     "iopub.execute_input": "2024-11-30T17:00:13.547475Z",
     "iopub.status.busy": "2024-11-30T17:00:13.546424Z",
     "iopub.status.idle": "2024-11-30T17:00:34.781912Z",
     "shell.execute_reply": "2024-11-30T17:00:34.781452Z"
    }
   },
   "outputs": [],
   "source": [
    "import os\n",
    "import sys\n",
    "import subprocess\n",
    "import re\n",
    "import json\n",
    "\n",
    "import anndata as ad\n",
    "import pandas as pd"
   ]
  },
  {
   "cell_type": "code",
   "execution_count": 2,
   "id": "d302bd9b",
   "metadata": {
    "execution": {
     "iopub.execute_input": "2024-11-30T17:00:34.784736Z",
     "iopub.status.busy": "2024-11-30T17:00:34.784140Z",
     "iopub.status.idle": "2024-11-30T17:00:34.788046Z",
     "shell.execute_reply": "2024-11-30T17:00:34.787695Z"
    }
   },
   "outputs": [],
   "source": [
    "cwd = os.path.basename(os.getcwd())\n",
    "\n",
    "if cwd == 'footprintQTL':\n",
    "    \n",
    "    pass\n",
    "\n",
    "\n",
    "elif cwd == 'code':\n",
    "    \n",
    "    os.chdir('..')\n",
    "\n",
    "\n",
    "elif cwd == 'fichtner':\n",
    "\n",
    "    os.chdir('projects/footprintQTL')\n",
    "\n",
    "else:\n",
    "\n",
    "    print('path and cwd: manually')\n",
    "    print(os.getcwd())\n",
    "\n",
    "\n",
    "sys.path.append(os.getcwd() + '/code')"
   ]
  },
  {
   "cell_type": "code",
   "execution_count": 3,
   "id": "6772cd96",
   "metadata": {
    "execution": {
     "iopub.execute_input": "2024-11-30T17:00:34.790395Z",
     "iopub.status.busy": "2024-11-30T17:00:34.789730Z",
     "iopub.status.idle": "2024-11-30T17:00:34.893126Z",
     "shell.execute_reply": "2024-11-30T17:00:34.892540Z"
    }
   },
   "outputs": [],
   "source": [
    "from helpers.python.utils import ct_format, ct_format_alt, create_dir"
   ]
  },
  {
   "cell_type": "markdown",
   "id": "1d7b507e",
   "metadata": {},
   "source": [
    "### User variables"
   ]
  },
  {
   "cell_type": "code",
   "execution_count": 4,
   "id": "8f51eff0",
   "metadata": {
    "execution": {
     "iopub.execute_input": "2024-11-30T17:00:34.897025Z",
     "iopub.status.busy": "2024-11-30T17:00:34.896038Z",
     "iopub.status.idle": "2024-11-30T17:00:34.921629Z",
     "shell.execute_reply": "2024-11-30T17:00:34.921049Z"
    }
   },
   "outputs": [],
   "source": [
    "from glob_vars import ATAC_PEAKS_H5AD_OLD, ATAC_PEAKS_H5AD_NEW, RNA_H5AD_OLD, RNA_H5AD_NEW, CT_MAP_JSON"
   ]
  },
  {
   "cell_type": "markdown",
   "id": "361f29cc",
   "metadata": {},
   "source": [
    "### Prep folders"
   ]
  },
  {
   "cell_type": "code",
   "execution_count": 5,
   "id": "592f167c",
   "metadata": {
    "execution": {
     "iopub.execute_input": "2024-11-30T17:00:34.925377Z",
     "iopub.status.busy": "2024-11-30T17:00:34.924365Z",
     "iopub.status.idle": "2024-11-30T17:00:34.974078Z",
     "shell.execute_reply": "2024-11-30T17:00:34.973493Z"
    }
   },
   "outputs": [],
   "source": [
    "create_dir(ATAC_PEAKS_H5AD_NEW)\n",
    "create_dir(RNA_H5AD_NEW)"
   ]
  },
  {
   "cell_type": "markdown",
   "id": "4e0fe941",
   "metadata": {},
   "source": [
    "### Cell-type map"
   ]
  },
  {
   "cell_type": "code",
   "execution_count": 6,
   "id": "1c7321fc",
   "metadata": {
    "execution": {
     "iopub.execute_input": "2024-11-30T17:00:34.977921Z",
     "iopub.status.busy": "2024-11-30T17:00:34.976926Z",
     "iopub.status.idle": "2024-11-30T17:00:35.026716Z",
     "shell.execute_reply": "2024-11-30T17:00:35.026126Z"
    }
   },
   "outputs": [],
   "source": [
    "ct_map_id = os.path.basename(CT_MAP_JSON).rstrip('.json')\n",
    "\n",
    "# Get ct-ann --> grouped-ct mappings\n",
    "with open(CT_MAP_JSON, 'r') as f:\n",
    "    ct_map = json.load(f)\n",
    "\n",
    "ct_map = {key: [e for e in listt] for key, listt in ct_map.items()}\n",
    "ct_map_i = {old_ct: new_ct for new_ct, old_cts in ct_map.items() for old_ct in old_cts}"
   ]
  },
  {
   "cell_type": "markdown",
   "id": "ac4a8b22-9d4f-4583-a4f2-f29cd160bdc6",
   "metadata": {},
   "source": [
    "# Format and copy ATAC-seq anndata"
   ]
  },
  {
   "cell_type": "markdown",
   "id": "36862a95-24d1-4eb3-aa1e-50cd57d7c7e3",
   "metadata": {},
   "source": [
    "### .obs"
   ]
  },
  {
   "cell_type": "code",
   "execution_count": 7,
   "id": "c34e2503-ae6e-44ab-9e5d-884e82a6315a",
   "metadata": {
    "execution": {
     "iopub.execute_input": "2024-11-30T17:00:35.032328Z",
     "iopub.status.busy": "2024-11-30T17:00:35.030872Z",
     "iopub.status.idle": "2024-11-30T17:01:17.620462Z",
     "shell.execute_reply": "2024-11-30T17:01:17.620071Z"
    },
    "tags": []
   },
   "outputs": [
    {
     "name": "stderr",
     "output_type": "stream",
     "text": [
      "/omics/groups/OE0540/internal_temp/users/fichtner/micromamba/envs/main04/lib/python3.9/site-packages/anndata/_core/aligned_df.py:68: ImplicitModificationWarning: Transforming to str index.\n",
      "  warnings.warn(\"Transforming to str index.\", ImplicitModificationWarning)\n"
     ]
    },
    {
     "data": {
      "text/plain": [
       "AnnData object with n_obs × n_vars = 288900 × 736845\n",
       "    obs: 'BlacklistRatio', 'nDiFrags', 'nFrags', 'nMonoFrags', 'nMultiFrags', 'NucleosomeRatio', 'PassQC', 'PromoterRatio', 'ReadsInBlacklist', 'ReadsInPromoter', 'ReadsInTSS', 'Sample', 'TSSEnrichment', 'celltype', 'cellType', 'n_genes_by_counts', 'total_counts', 'total_counts_mt', 'donor_id', 'clone', 'organoid', 'donor', 'leiden', 'stressed_vs_unstressed_celltypes', 'Batch', 'ReadsInPeaks', 'FRIP', 'barcode'\n",
       "    var: 'chr', 'start', 'end', 'strand', 'peak_name', 'score', 'GC', 'nearest_gene', 'peak_type'"
      ]
     },
     "execution_count": 7,
     "metadata": {},
     "output_type": "execute_result"
    }
   ],
   "source": [
    "atac_peaks_ad = ad.read_h5ad(ATAC_PEAKS_H5AD_OLD)\n",
    "\n",
    "atac_peaks_ad"
   ]
  },
  {
   "cell_type": "code",
   "execution_count": 8,
   "id": "e57cd5a2",
   "metadata": {
    "execution": {
     "iopub.execute_input": "2024-11-30T17:01:17.622760Z",
     "iopub.status.busy": "2024-11-30T17:01:17.622195Z",
     "iopub.status.idle": "2024-11-30T17:01:17.766507Z",
     "shell.execute_reply": "2024-11-30T17:01:17.766060Z"
    }
   },
   "outputs": [],
   "source": [
    "# Make var_names == .var['peak_name']\n",
    "assert len(atac_peaks_ad.var['peak_name']) == atac_peaks_ad.var['peak_name'].nunique()\n",
    "atac_peaks_ad.var_names = atac_peaks_ad.var['peak_name']"
   ]
  },
  {
   "cell_type": "code",
   "execution_count": 9,
   "id": "022d790a-d317-4b11-9669-d067fa8bf8ff",
   "metadata": {
    "execution": {
     "iopub.execute_input": "2024-11-30T17:01:17.769337Z",
     "iopub.status.busy": "2024-11-30T17:01:17.768710Z",
     "iopub.status.idle": "2024-11-30T17:01:17.776321Z",
     "shell.execute_reply": "2024-11-30T17:01:17.775835Z"
    }
   },
   "outputs": [],
   "source": [
    "# cell_type\n",
    "atac_peaks_ad.obs.drop(columns=['cellType', 'celltype'], inplace=True)"
   ]
  },
  {
   "cell_type": "code",
   "execution_count": 10,
   "id": "4526969f-366e-4834-95ac-ed5cfe05eb0d",
   "metadata": {
    "execution": {
     "iopub.execute_input": "2024-11-30T17:01:17.778601Z",
     "iopub.status.busy": "2024-11-30T17:01:17.778014Z",
     "iopub.status.idle": "2024-11-30T17:01:17.795121Z",
     "shell.execute_reply": "2024-11-30T17:01:17.794768Z"
    }
   },
   "outputs": [],
   "source": [
    "# batchbatch\n",
    "atac_peaks_ad.obs['batch'] = atac_peaks_ad.obs['Sample']\n",
    "atac_peaks_ad.obs['sample'] = atac_peaks_ad.obs['Sample'].astype('category')\n",
    "atac_peaks_ad.obs.drop(columns=['Batch'], inplace=True)"
   ]
  },
  {
   "cell_type": "code",
   "execution_count": 11,
   "id": "c41e8602-08d9-4cec-939b-bad9b3c6e920",
   "metadata": {
    "execution": {
     "iopub.execute_input": "2024-11-30T17:01:17.797465Z",
     "iopub.status.busy": "2024-11-30T17:01:17.796873Z",
     "iopub.status.idle": "2024-11-30T17:01:17.805671Z",
     "shell.execute_reply": "2024-11-30T17:01:17.805306Z"
    }
   },
   "outputs": [],
   "source": [
    "# barcode_batch\n",
    "atac_peaks_ad.obs['barcode_batch'] = atac_peaks_ad.obs.index\n",
    "\n",
    "# Added recently without checking, might cause a bug?\n",
    "if not 'barcode' in atac_peaks_ad.obs.columns.to_list():\n",
    "    atac_peaks_ad['barcode'] = [regex_get(i, 'barcode') for i in atac_peaks_ad.index.tolist()]"
   ]
  },
  {
   "cell_type": "markdown",
   "id": "05b152a3-6f6c-456c-9923-6914f4c6cb82",
   "metadata": {},
   "source": [
    "### Filter cells"
   ]
  },
  {
   "cell_type": "code",
   "execution_count": 12,
   "id": "a631f2d7-1c08-439b-a914-2ab4eb108f7d",
   "metadata": {
    "execution": {
     "iopub.execute_input": "2024-11-30T17:01:17.807953Z",
     "iopub.status.busy": "2024-11-30T17:01:17.807344Z",
     "iopub.status.idle": "2024-11-30T17:01:45.030441Z",
     "shell.execute_reply": "2024-11-30T17:01:45.030057Z"
    },
    "tags": []
   },
   "outputs": [
    {
     "data": {
      "text/plain": [
       "AnnData object with n_obs × n_vars = 265053 × 30500 backed at '/omics/groups/OE0540/internal/projects/HCA_organoid_2/cemm_sabrina-20Jul2022/outputs_allsamples/sabrina_allsamples_rna_final_after_atac.h5ad'\n",
       "    obs: 'sample', 'n_genes_by_counts', 'log1p_n_genes_by_counts', 'total_counts', 'log1p_total_counts', 'pct_counts_in_top_50_genes', 'pct_counts_in_top_100_genes', 'pct_counts_in_top_200_genes', 'pct_counts_in_top_500_genes', 'total_counts_mt', 'log1p_total_counts_mt', 'pct_counts_mt', 'total_counts_ribo', 'log1p_total_counts_ribo', 'pct_counts_ribo', 'sample_qclvl', 'donor_id', 'clone', 'organoid', 'donor', 'clone_qclvl', 'organoid_qclvl', 'donor_qclvl', 'cellbender', 'doubletfinder', 'S_score', 'G2M_score', 'phase', 'mt_cat', 'ribo_cat', 'leiden', 'CellType', 'Batch', 'celltype_predicted_vertesy', 'stressed_vs_unstressed_celltypes', 'glia_neuron_celltpyes', 'gruffi'\n",
       "    var: 'gene_ids', 'feature_types', 'genome', 'interval', 'mt', 'ribo', 'n_cells_by_counts', 'mean_counts', 'log1p_mean_counts', 'pct_dropout_by_counts', 'total_counts', 'log1p_total_counts', 'highly_variable', 'highly_variable_rank', 'means', 'variances', 'variances_norm', 'highly_variable_nbatches', 'mean', 'std'\n",
       "    uns: 'donor_colors', 'donor_qclvl_colors', 'hvg', 'leiden', 'leiden_colors', 'log1p', 'mt_cat_colors', 'neighbors', 'pca', 'ribo_cat_colors', 'sample_colors', 'sample_qclvl_colors', 'umap'\n",
       "    obsm: 'X_pca', 'X_umap', 'latent_scANVI_vertesy_after_atac', 'latent_scVI_vertesy_after_atac'\n",
       "    varm: 'PCs'\n",
       "    layers: 'counts', 'normlog'\n",
       "    obsp: 'connectivities', 'distances'"
      ]
     },
     "execution_count": 12,
     "metadata": {},
     "output_type": "execute_result"
    }
   ],
   "source": [
    "rna_ad = ad.read_h5ad(RNA_H5AD_OLD, backed='r')\n",
    "\n",
    "rna_ad"
   ]
  },
  {
   "cell_type": "code",
   "execution_count": 13,
   "id": "ef64da38-4b1e-42a0-bc69-01749c8f89f2",
   "metadata": {
    "execution": {
     "iopub.execute_input": "2024-11-30T17:01:45.033003Z",
     "iopub.status.busy": "2024-11-30T17:01:45.032433Z",
     "iopub.status.idle": "2024-11-30T17:01:45.102767Z",
     "shell.execute_reply": "2024-11-30T17:01:45.102303Z"
    }
   },
   "outputs": [],
   "source": [
    "common_cells = set(atac_peaks_ad.obs_names) & set(rna_ad.obs_names)"
   ]
  },
  {
   "cell_type": "code",
   "execution_count": 14,
   "id": "9ff50072-123d-42b4-9663-e85c87f66dd8",
   "metadata": {
    "execution": {
     "iopub.execute_input": "2024-11-30T17:01:45.105661Z",
     "iopub.status.busy": "2024-11-30T17:01:45.105027Z",
     "iopub.status.idle": "2024-11-30T17:02:00.810259Z",
     "shell.execute_reply": "2024-11-30T17:02:00.809798Z"
    }
   },
   "outputs": [],
   "source": [
    "atac_peaks_ad = atac_peaks_ad[list(common_cells), :].copy()"
   ]
  },
  {
   "cell_type": "markdown",
   "id": "7378dda8-988b-492f-bcf3-2666aac0677e",
   "metadata": {},
   "source": [
    "### Correct annotations\n",
    "\n",
    "RNA-seq anndata and ATAC-seq anndata seemed to have different cell-type annotations. The RNA-seq ones are correct, so we must correct the ATAC-seq ones accordingly."
   ]
  },
  {
   "cell_type": "code",
   "execution_count": 15,
   "id": "585052ee-c92d-435c-9210-de87d678f1de",
   "metadata": {
    "execution": {
     "iopub.execute_input": "2024-11-30T17:02:00.813101Z",
     "iopub.status.busy": "2024-11-30T17:02:00.812505Z",
     "iopub.status.idle": "2024-11-30T17:02:01.230988Z",
     "shell.execute_reply": "2024-11-30T17:02:01.230600Z"
    }
   },
   "outputs": [
    {
     "data": {
      "text/plain": [
       "Index(['DL-EN', 'Differentiating RG', 'Dividing Glia', 'Glia', 'IPC',\n",
       "       'Interneurons', 'Interneurons Prog.', 'Midbrain EN', 'Stressed Neurons',\n",
       "       'Stressed Prog.', 'UL-EN', 'Unclear', 'immature EN'],\n",
       "      dtype='object')"
      ]
     },
     "execution_count": 15,
     "metadata": {},
     "output_type": "execute_result"
    }
   ],
   "source": [
    "atac_peaks_ad.obs.loc[list(common_cells), 'cell_type'] = rna_ad.obs.loc[list(common_cells), 'celltype_predicted_vertesy'].astype(str)\n",
    "atac_peaks_ad.obs['cell_type'] = atac_peaks_ad.obs['cell_type'].astype('category')\n",
    "atac_peaks_ad.obs['cell_type'].cat.categories"
   ]
  },
  {
   "cell_type": "markdown",
   "id": "b16b6a3a",
   "metadata": {},
   "source": [
    "Check that the correction was performed correctly"
   ]
  },
  {
   "cell_type": "code",
   "execution_count": 16,
   "id": "089d2d36-8796-459c-8aad-e93bef5dbfef",
   "metadata": {
    "execution": {
     "iopub.execute_input": "2024-11-30T17:02:01.233336Z",
     "iopub.status.busy": "2024-11-30T17:02:01.232772Z",
     "iopub.status.idle": "2024-11-30T17:02:01.578717Z",
     "shell.execute_reply": "2024-11-30T17:02:01.578276Z"
    }
   },
   "outputs": [],
   "source": [
    "k1 = atac_peaks_ad.obs.loc[list(common_cells)][['cell_type']]\n",
    "k2 = rna_ad.obs.loc[list(common_cells)][['celltype_predicted_vertesy']]"
   ]
  },
  {
   "cell_type": "code",
   "execution_count": 17,
   "id": "e3e67e62-4de4-4579-97bb-0ec3bdbad2ed",
   "metadata": {
    "execution": {
     "iopub.execute_input": "2024-11-30T17:02:01.581450Z",
     "iopub.status.busy": "2024-11-30T17:02:01.580886Z",
     "iopub.status.idle": "2024-11-30T17:02:01.630776Z",
     "shell.execute_reply": "2024-11-30T17:02:01.630381Z"
    }
   },
   "outputs": [
    {
     "data": {
      "text/html": [
       "<div>\n",
       "<style scoped>\n",
       "    .dataframe tbody tr th:only-of-type {\n",
       "        vertical-align: middle;\n",
       "    }\n",
       "\n",
       "    .dataframe tbody tr th {\n",
       "        vertical-align: top;\n",
       "    }\n",
       "\n",
       "    .dataframe thead th {\n",
       "        text-align: right;\n",
       "    }\n",
       "</style>\n",
       "<table border=\"1\" class=\"dataframe\">\n",
       "  <thead>\n",
       "    <tr style=\"text-align: right;\">\n",
       "      <th></th>\n",
       "      <th>cell_type</th>\n",
       "    </tr>\n",
       "  </thead>\n",
       "  <tbody>\n",
       "    <tr>\n",
       "      <th>AGTGGACAGAAACTGG-1_sSL0107</th>\n",
       "      <td>Interneurons Prog.</td>\n",
       "    </tr>\n",
       "    <tr>\n",
       "      <th>GGCTAGTGTTCGCTTG-1_sSL0107</th>\n",
       "      <td>Interneurons Prog.</td>\n",
       "    </tr>\n",
       "    <tr>\n",
       "      <th>ACCCGTAAGTTATGTG-1_sSL0087</th>\n",
       "      <td>Interneurons Prog.</td>\n",
       "    </tr>\n",
       "    <tr>\n",
       "      <th>TTCATCCCATTATGGT-1_sSL0111A</th>\n",
       "      <td>Interneurons Prog.</td>\n",
       "    </tr>\n",
       "    <tr>\n",
       "      <th>CTTCACTCAAACGGGC-1_sSL0134</th>\n",
       "      <td>Interneurons Prog.</td>\n",
       "    </tr>\n",
       "    <tr>\n",
       "      <th>...</th>\n",
       "      <td>...</td>\n",
       "    </tr>\n",
       "    <tr>\n",
       "      <th>GAAGGATGTCAGGAAG-1_sSL0174</th>\n",
       "      <td>Interneurons Prog.</td>\n",
       "    </tr>\n",
       "    <tr>\n",
       "      <th>AAGGTCAAGGTTAGCT-1_sSL0107</th>\n",
       "      <td>Interneurons Prog.</td>\n",
       "    </tr>\n",
       "    <tr>\n",
       "      <th>TTGTGCCTCACCAATA-1_sSL0090</th>\n",
       "      <td>Interneurons Prog.</td>\n",
       "    </tr>\n",
       "    <tr>\n",
       "      <th>ATGTCCACAGTAAAGC-1_sSL0108</th>\n",
       "      <td>Interneurons Prog.</td>\n",
       "    </tr>\n",
       "    <tr>\n",
       "      <th>TGGACAAAGCAAGATG-1_sSL0109A</th>\n",
       "      <td>Interneurons Prog.</td>\n",
       "    </tr>\n",
       "  </tbody>\n",
       "</table>\n",
       "<p>6360 rows × 1 columns</p>\n",
       "</div>"
      ],
      "text/plain": [
       "                                      cell_type\n",
       "AGTGGACAGAAACTGG-1_sSL0107   Interneurons Prog.\n",
       "GGCTAGTGTTCGCTTG-1_sSL0107   Interneurons Prog.\n",
       "ACCCGTAAGTTATGTG-1_sSL0087   Interneurons Prog.\n",
       "TTCATCCCATTATGGT-1_sSL0111A  Interneurons Prog.\n",
       "CTTCACTCAAACGGGC-1_sSL0134   Interneurons Prog.\n",
       "...                                         ...\n",
       "GAAGGATGTCAGGAAG-1_sSL0174   Interneurons Prog.\n",
       "AAGGTCAAGGTTAGCT-1_sSL0107   Interneurons Prog.\n",
       "TTGTGCCTCACCAATA-1_sSL0090   Interneurons Prog.\n",
       "ATGTCCACAGTAAAGC-1_sSL0108   Interneurons Prog.\n",
       "TGGACAAAGCAAGATG-1_sSL0109A  Interneurons Prog.\n",
       "\n",
       "[6360 rows x 1 columns]"
      ]
     },
     "execution_count": 17,
     "metadata": {},
     "output_type": "execute_result"
    }
   ],
   "source": [
    "k1.loc[k2[k2.celltype_predicted_vertesy == 'Interneurons Prog.'].index]"
   ]
  },
  {
   "cell_type": "code",
   "execution_count": 18,
   "id": "c36c3469-3d30-4644-b4a4-a53df2a1e24a",
   "metadata": {
    "execution": {
     "iopub.execute_input": "2024-11-30T17:02:01.633114Z",
     "iopub.status.busy": "2024-11-30T17:02:01.632547Z",
     "iopub.status.idle": "2024-11-30T17:02:01.680498Z",
     "shell.execute_reply": "2024-11-30T17:02:01.680118Z"
    }
   },
   "outputs": [
    {
     "data": {
      "text/plain": [
       "True"
      ]
     },
     "execution_count": 18,
     "metadata": {},
     "output_type": "execute_result"
    }
   ],
   "source": [
    "all(k1['cell_type'] == k2['celltype_predicted_vertesy'])"
   ]
  },
  {
   "cell_type": "markdown",
   "id": "e1953a8f",
   "metadata": {},
   "source": [
    "### Custom cell-type grouping annotation"
   ]
  },
  {
   "cell_type": "code",
   "execution_count": 19,
   "id": "b8314469",
   "metadata": {
    "execution": {
     "iopub.execute_input": "2024-11-30T17:02:01.682908Z",
     "iopub.status.busy": "2024-11-30T17:02:01.682342Z",
     "iopub.status.idle": "2024-11-30T17:02:01.729219Z",
     "shell.execute_reply": "2024-11-30T17:02:01.728860Z"
    }
   },
   "outputs": [],
   "source": [
    "atac_peaks_ad.obs['cell_type_custom'] = atac_peaks_ad.obs['cell_type'].map(ct_map_i).apply(ct_format)"
   ]
  },
  {
   "cell_type": "markdown",
   "id": "01cda552-22ea-415e-96ae-f415662b1c60",
   "metadata": {},
   "source": [
    "### Export"
   ]
  },
  {
   "cell_type": "code",
   "execution_count": 20,
   "id": "e1490553-4299-4425-b6d0-99fd493f5364",
   "metadata": {
    "execution": {
     "iopub.execute_input": "2024-11-30T17:02:01.731508Z",
     "iopub.status.busy": "2024-11-30T17:02:01.730932Z",
     "iopub.status.idle": "2024-11-30T17:02:01.735336Z",
     "shell.execute_reply": "2024-11-30T17:02:01.734984Z"
    }
   },
   "outputs": [
    {
     "data": {
      "text/plain": [
       "['BlacklistRatio',\n",
       " 'nDiFrags',\n",
       " 'nFrags',\n",
       " 'nMonoFrags',\n",
       " 'nMultiFrags',\n",
       " 'NucleosomeRatio',\n",
       " 'PassQC',\n",
       " 'PromoterRatio',\n",
       " 'ReadsInBlacklist',\n",
       " 'ReadsInPromoter',\n",
       " 'ReadsInTSS',\n",
       " 'Sample',\n",
       " 'TSSEnrichment',\n",
       " 'n_genes_by_counts',\n",
       " 'total_counts',\n",
       " 'total_counts_mt',\n",
       " 'donor_id',\n",
       " 'clone',\n",
       " 'organoid',\n",
       " 'donor',\n",
       " 'leiden',\n",
       " 'stressed_vs_unstressed_celltypes',\n",
       " 'ReadsInPeaks',\n",
       " 'FRIP',\n",
       " 'barcode',\n",
       " 'batch',\n",
       " 'sample',\n",
       " 'barcode_batch',\n",
       " 'cell_type',\n",
       " 'cell_type_custom']"
      ]
     },
     "execution_count": 20,
     "metadata": {},
     "output_type": "execute_result"
    }
   ],
   "source": [
    "atac_peaks_ad.obs.columns.to_list()"
   ]
  },
  {
   "cell_type": "code",
   "execution_count": 21,
   "id": "9dd766b2-a13f-4912-a491-80e488a6b572",
   "metadata": {
    "execution": {
     "iopub.execute_input": "2024-11-30T17:02:01.737673Z",
     "iopub.status.busy": "2024-11-30T17:02:01.737094Z",
     "iopub.status.idle": "2024-11-30T17:04:27.189044Z",
     "shell.execute_reply": "2024-11-30T17:04:27.188523Z"
    }
   },
   "outputs": [],
   "source": [
    "atac_peaks_ad.write(ATAC_PEAKS_H5AD_NEW)"
   ]
  }
 ],
 "metadata": {
  "kernelspec": {
   "display_name": "main04",
   "language": "python",
   "name": "main04"
  },
  "language_info": {
   "codemirror_mode": {
    "name": "ipython",
    "version": 3
   },
   "file_extension": ".py",
   "mimetype": "text/x-python",
   "name": "python",
   "nbconvert_exporter": "python",
   "pygments_lexer": "ipython3",
   "version": "3.9.19"
  }
 },
 "nbformat": 4,
 "nbformat_minor": 5
}
