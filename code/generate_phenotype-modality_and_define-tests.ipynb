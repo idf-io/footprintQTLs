{
 "cells": [
  {
   "cell_type": "markdown",
   "metadata": {},
   "source": [
    "# Peak selection\n",
    "\n",
    "From chromatin accessibility anndata (peaks called), select peaks for downstream QTL testing and other tasks.\n",
    "\n",
    "Inputs:\n",
    "- Select ca-peaks\n",
    "\n",
    "Outputs:\n",
    "\n",
    "Notes:\n",
    "- Source of peak selection should change to here."
   ]
  },
  {
   "cell_type": "markdown",
   "metadata": {},
   "source": [
    "## Setup"
   ]
  },
  {
   "cell_type": "code",
   "execution_count": null,
   "metadata": {},
   "outputs": [],
   "source": [
    "import os\n",
    "import sys\n",
    "# import json\n",
    "# import gc\n",
    "# from datetime import date\n",
    "# import numpy as np\n",
    "# import pandas as pd\n",
    "# import anndata as ad\n",
    "# import pyBigWig"
   ]
  },
  {
   "cell_type": "code",
   "execution_count": 2,
   "metadata": {},
   "outputs": [],
   "source": [
    "# Ensure cwd is project root and that /code is in path\n",
    "\n",
    "import os\n",
    "import sys\n",
    "\n",
    "cwd = os.path.basename(os.getcwd())\n",
    "\n",
    "if cwd == 'footprintQTL':\n",
    "    \n",
    "    PROJECT_DIR = '.'\n",
    "\n",
    "\n",
    "elif cwd == 'code':\n",
    "    \n",
    "    PROJECT_DIR = '..'\n",
    "\n",
    "\n",
    "elif cwd == 'fichtner':\n",
    "\n",
    "    PROJECT_DIR = 'projects/footprintQTL'\n",
    "\n",
    "else:\n",
    "\n",
    "    PROJECT_DIR = 'manual'\n",
    "\n",
    "\n",
    "os.chdir(PROJECT_DIR)\n",
    "sys.path.append(os.getcwd() + '/code')"
   ]
  },
  {
   "cell_type": "code",
   "execution_count": 3,
   "metadata": {},
   "outputs": [],
   "source": [
    "from helpers.python.utils import create_dir, list_files_and_links, list_dirs, read_rownames"
   ]
  },
  {
   "cell_type": "markdown",
   "metadata": {},
   "source": [
    "## Variables"
   ]
  },
  {
   "cell_type": "code",
   "execution_count": 13,
   "metadata": {},
   "outputs": [],
   "source": [
    "# User variables\n",
    "\n",
    "from glob_vars import \\\n",
    "                    MAIN_ENV, \\\n",
    "                    DATASET, CT_MAP_ID, \\\n",
    "                    SNP_LOCS_BED, SELECT_PEAKS_TSV_DIR, SELECT_TEST_REGIONS_DIR, CHROM_SIZES \\\n",
    "\n",
    "scales = (15, 25, 51, 101)\n",
    "radii = tuple(scale // 2 for scale in scales)\n"
   ]
  },
  {
   "cell_type": "code",
   "execution_count": 6,
   "metadata": {},
   "outputs": [],
   "source": [
    "os.environ['PATH'] = f'/omics/groups/OE0540/internal_temp/users/fichtner/micromamba/envs/{MAIN_ENV}/bin:' + os.environ['PATH']\n",
    "from pybedtools import BedTool"
   ]
  },
  {
   "cell_type": "markdown",
   "metadata": {},
   "source": [
    "# Load data"
   ]
  },
  {
   "cell_type": "code",
   "execution_count": 9,
   "metadata": {},
   "outputs": [],
   "source": [
    "snps_bed = BedTool(SNP_LOCS_BED)"
   ]
  },
  {
   "cell_type": "markdown",
   "metadata": {},
   "source": [
    "## Variant-centred peaks"
   ]
  },
  {
   "cell_type": "code",
   "execution_count": null,
   "metadata": {},
   "outputs": [
    {
     "name": "stdout",
     "output_type": "stream",
     "text": [
      "DL-EN\n",
      "Glia\n",
      "UL-EN\n",
      "Neural-progenitors\n",
      "Midbrain-EN\n"
     ]
    }
   ],
   "source": [
    "IN_DIR = SELECT_PEAKS_TSV_DIR\n",
    "in_dirs = list_dirs(IN_DIR)\n",
    "\n",
    "for cell_type in in_dirs:\n",
    "\n",
    "    print(cell_type)\n",
    "    q_dir = f'{IN_DIR}/{cell_type}'\n",
    "\n",
    "\n",
    "    caqtl_bed = BedTool(f'{q_dir}/peaks_ca-qtls.bed')\n",
    "\n",
    "\n",
    "    ## Modalities\n",
    "\n",
    "    ## ca-qtl\n",
    "\n",
    "    # Save: test regions\n",
    "    tregion_caqtl_bed_out = os.path.join(SELECT_TEST_REGIONS_DIR, CT_MAP_ID, cell_type, 'test-regions_ca-qtls.bed')\n",
    "    create_dir(tregion_caqtl_bed_out)\n",
    "    caqtl_bed.saveas(tregion_caqtl_bed_out)\n",
    "\n",
    "    # Save: test regions pm1k\n",
    "    caqtl_pm1k_bed = caqtl_bed.slop(b=1000, g=CHROM_SIZES)\n",
    "\n",
    "    tregion_caqtl_p1mk_bed_out = os.path.join(SELECT_TEST_REGIONS_DIR, CT_MAP_ID, cell_type, 'test-regions_ca-qtls_pm1k.bed')\n",
    "    create_dir(tregion_caqtl_p1mk_bed_out)\n",
    "    caqtl_pm1k_bed.saveas(tregion_caqtl_p1mk_bed_out)\n",
    "\n",
    "\n",
    "    for radius, scale in zip(radii, scales):\n",
    "\n",
    "        ## vc-Peaks\n",
    "\n",
    "        # Save: test regions\n",
    "        tregions_vc_bed_out = os.path.join(SELECT_TEST_REGIONS_DIR, CT_MAP_ID, cell_type, f'test-regions_ca-qtls_variant-centred_{scale}bp.bed')\n",
    "        create_dir(tregions_vc_bed_out)\n",
    "        caqtl_bed.saveas(tregions_vc_bed_out)\n",
    "\n",
    "        # vc-Peaks\n",
    "        snps_overlap = snps_bed.intersect(caqtl_bed, wa=True)\n",
    "        peaks_vc_bed = snps_overlap.slop(b=radius, g=CHROM_SIZES)\n",
    "\n",
    "        # Save: vc-Peaks\n",
    "        peaks_vc_bed_out = os.path.join(SELECT_PEAKS_TSV_DIR, cell_type, f'peaks_ca-qtls_variant-centred_{scale}bp.bed')\n",
    "        create_dir(peaks_vc_bed_out)\n",
    "        peaks_vc_bed.saveas(peaks_vc_bed_out)\n",
    "\n",
    "\n",
    "        ## vc-Peaks +-1kbp\n",
    "\n",
    "        # Save: test regions\n",
    "        tregions_pm1kb_vc_bed_out = os.path.join(SELECT_TEST_REGIONS_DIR, CT_MAP_ID, cell_type, f'test-regions_ca-qtls_pm1k_variant-centred_{scale}bp.bed')\n",
    "        create_dir(tregions_pm1kb_vc_bed_out)\n",
    "        caqtl_pm1k_bed.saveas(tregions_pm1kb_vc_bed_out)\n",
    "\n",
    "        # vc-Peaks\n",
    "        snps_overlap = snps_bed.intersect(caqtl_pm1k_bed, wa=True)\n",
    "        peaks_vc_pm1kb_bed = snps_overlap.slop(b=radius, g=CHROM_SIZES)\n",
    "\n",
    "        # Save: vc-Peaks\n",
    "        peaks_pm1kb_vc_bed_out = os.path.join(SELECT_PEAKS_TSV_DIR, cell_type, f'peaks_ca-qtls_pm1k_variant-centred_{scale}bp.bed')\n",
    "        create_dir(peaks_pm1kb_vc_bed_out)\n",
    "        peaks_vc_pm1kb_bed.saveas(peaks_pm1kb_vc_bed_out)"
   ]
  }
 ],
 "metadata": {
  "kernelspec": {
   "display_name": "main06",
   "language": "python",
   "name": "main06"
  },
  "language_info": {
   "codemirror_mode": {
    "name": "ipython",
    "version": 3
   },
   "file_extension": ".py",
   "mimetype": "text/x-python",
   "name": "python",
   "nbconvert_exporter": "python",
   "pygments_lexer": "ipython3",
   "version": "3.9.19"
  }
 },
 "nbformat": 4,
 "nbformat_minor": 2
}
