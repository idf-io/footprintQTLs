{
 "cells": [
  {
   "cell_type": "markdown",
   "metadata": {},
   "source": [
    "# Setup"
   ]
  },
  {
   "cell_type": "code",
   "execution_count": 1,
   "metadata": {},
   "outputs": [],
   "source": [
    "import os\n",
    "import pandas as pd\n",
    "import anndata as ad"
   ]
  },
  {
   "cell_type": "code",
   "execution_count": 2,
   "metadata": {},
   "outputs": [],
   "source": [
    "# Ensure cwd is project root and that /code is in path\n",
    "\n",
    "import os\n",
    "import sys\n",
    "\n",
    "cwd = os.path.basename(os.getcwd())\n",
    "\n",
    "if cwd == 'footprintQTL':\n",
    "    \n",
    "    PROJECT_DIR = '.'\n",
    "\n",
    "\n",
    "elif cwd == 'code':\n",
    "    \n",
    "    PROJECT_DIR = '..'\n",
    "\n",
    "\n",
    "elif cwd == 'fichtner':\n",
    "\n",
    "    PROJECT_DIR = 'projects/footprintQTL'\n",
    "\n",
    "else:\n",
    "\n",
    "    PROJECT_DIR = 'manual'\n",
    "\n",
    "\n",
    "os.chdir(PROJECT_DIR)\n",
    "sys.path.append(os.getcwd() + '/code')"
   ]
  },
  {
   "cell_type": "code",
   "execution_count": 3,
   "metadata": {},
   "outputs": [],
   "source": [
    "from helpers.python.utils import list_files_and_links, list_dirs, create_dir"
   ]
  },
  {
   "cell_type": "markdown",
   "metadata": {},
   "source": [
    "## Variables"
   ]
  },
  {
   "cell_type": "code",
   "execution_count": 4,
   "metadata": {},
   "outputs": [],
   "source": [
    "from glob_vars import FOOTPRINTS_DIR, CT_MAP_ID"
   ]
  },
  {
   "cell_type": "markdown",
   "metadata": {},
   "source": [
    "## Make `peaks.bed`\n",
    "For every (1) algorithm (2) peak_set and (3) cell-type"
   ]
  },
  {
   "cell_type": "code",
   "execution_count": 13,
   "metadata": {},
   "outputs": [
    {
     "name": "stdout",
     "output_type": "stream",
     "text": [
      "counts\n",
      "\tca-qtls\n",
      "\t\tDL-EN\n"
     ]
    },
    {
     "name": "stdout",
     "output_type": "stream",
     "text": [
      "\t\tGlia\n",
      "\t\tUL-EN\n",
      "\t\tNeural-progenitors\n",
      "\t\tMidbrain-EN\n",
      "\tca-qtls_variant-centred_25bp\n",
      "\t\tDL-EN\n",
      "\t\tGlia\n",
      "\t\tUL-EN\n",
      "\t\tNeural-progenitors\n",
      "\t\tMidbrain-EN\n",
      "\tca-qtls_variant-centred_51bp\n",
      "\t\tDL-EN\n",
      "\t\tGlia\n",
      "\t\tUL-EN\n",
      "\t\tNeural-progenitors\n",
      "\t\tMidbrain-EN\n",
      "\tca-qtls_pm1k_variant-centred_25bp\n",
      "\t\tDL-EN\n",
      "\t\tGlia\n",
      "\t\tUL-EN\n",
      "\t\tNeural-progenitors\n",
      "\t\tMidbrain-EN\n",
      "\tca-qtls_pm1k_variant-centred_15bp\n",
      "\t\tDL-EN\n",
      "\t\tGlia\n",
      "\t\tUL-EN\n",
      "\t\tNeural-progenitors\n",
      "\t\tMidbrain-EN\n",
      "\tca-qtls_pm1k_variant-centred_51bp\n",
      "\t\tDL-EN\n",
      "\t\tGlia\n",
      "\t\tUL-EN\n",
      "\t\tNeural-progenitors\n",
      "\t\tMidbrain-EN\n",
      "\tca-qtls_variant-centred_15bp\n",
      "\t\tDL-EN\n",
      "\t\tGlia\n",
      "\t\tUL-EN\n",
      "\t\tNeural-progenitors\n",
      "\t\tMidbrain-EN\n",
      "\tca-qtls_variant-centred_101bp\n",
      "\t\tDL-EN\n",
      "\t\tGlia\n",
      "\t\tUL-EN\n",
      "\t\tNeural-progenitors\n",
      "\t\tMidbrain-EN\n",
      "\tca-qtls_pm1k_variant-centred_101bp\n",
      "\t\tDL-EN\n",
      "\t\tGlia\n",
      "\t\tUL-EN\n",
      "\t\tNeural-progenitors\n",
      "\t\tMidbrain-EN\n",
      "js_divergence\n",
      "\tca-qtls\n",
      "\t\tDL-EN\n",
      "\t\tGlia\n",
      "\t\tUL-EN\n",
      "\t\tNeural-progenitors\n",
      "\t\tMidbrain-EN\n",
      "\tca-qtls_variant-centred_25bp\n",
      "\t\tDL-EN\n",
      "\t\tGlia\n",
      "\t\tUL-EN\n",
      "\t\tNeural-progenitors\n",
      "\t\tMidbrain-EN\n",
      "\tca-qtls_variant-centred_51bp\n",
      "\t\tDL-EN\n",
      "\t\tGlia\n",
      "\t\tUL-EN\n",
      "\t\tNeural-progenitors\n",
      "\t\tMidbrain-EN\n",
      "\tca-qtls_pm1k_variant-centred_25bp\n",
      "\t\tDL-EN\n",
      "\t\tGlia\n",
      "\t\tUL-EN\n",
      "\t\tNeural-progenitors\n",
      "\t\tMidbrain-EN\n",
      "\tca-qtls_pm1k_variant-centred_15bp\n",
      "\t\tDL-EN\n",
      "\t\tGlia\n",
      "\t\tUL-EN\n",
      "\t\tNeural-progenitors\n",
      "\t\tMidbrain-EN\n",
      "\tca-qtls_pm1k_variant-centred_51bp\n",
      "\t\tDL-EN\n",
      "\t\tGlia\n",
      "\t\tUL-EN\n",
      "\t\tNeural-progenitors\n",
      "\t\tMidbrain-EN\n",
      "\tca-qtls_variant-centred_15bp\n",
      "\t\tDL-EN\n",
      "\t\tGlia\n",
      "\t\tUL-EN\n",
      "\t\tNeural-progenitors\n",
      "\t\tMidbrain-EN\n",
      "\tca-qtls_variant-centred_101bp\n",
      "\t\tDL-EN\n",
      "\t\tGlia\n",
      "\t\tUL-EN\n",
      "\t\tNeural-progenitors\n",
      "\t\tMidbrain-EN\n",
      "\tca-qtls_pm1k_variant-centred_101bp\n",
      "\t\tDL-EN\n",
      "\t\tGlia\n",
      "\t\tUL-EN\n",
      "\t\tNeural-progenitors\n",
      "\t\tMidbrain-EN\n"
     ]
    }
   ],
   "source": [
    "for algorithm in list_dirs(FOOTPRINTS_DIR):\n",
    "\n",
    "    print(algorithm)\n",
    "\n",
    "\n",
    "    for peak_set in list_dirs(os.path.join(FOOTPRINTS_DIR, algorithm)):\n",
    "\n",
    "        if 'old' in peak_set:\n",
    "\n",
    "            continue\n",
    "\n",
    "        print(f'\\t{peak_set}')\n",
    "\n",
    "\n",
    "        for cell_type in list_dirs(os.path.join(FOOTPRINTS_DIR, algorithm, peak_set, CT_MAP_ID)):\n",
    "\n",
    "            print(f'\\t\\t{cell_type}')\n",
    "\n",
    "\n",
    "            adata = ad.read_h5ad(os.path.join(FOOTPRINTS_DIR, algorithm, peak_set, CT_MAP_ID, cell_type, 'footprints_processed.h5ad'), backed='r')\n",
    "\n",
    "            # Format bed\n",
    "            peaks_bed = adata.var[['chr', 'start', 'end', 'peak_name']].copy() # Coordinate system: 0-based half open (bed and matrix-eQTL)\n",
    "            peaks_bed = peaks_bed.sort_values(['chr', 'start'], ascending=[True, True])\n",
    "\n",
    "            # Save bed\n",
    "            out_path = os.path.join(FOOTPRINTS_DIR, algorithm, peak_set, CT_MAP_ID, cell_type, 'metadata/peaks.bed')\n",
    "            create_dir(out_path)\n",
    "            peaks_bed.to_csv(out_path, sep='\\t', header=False, index=False)"
   ]
  }
 ],
 "metadata": {
  "kernelspec": {
   "display_name": "main06",
   "language": "python",
   "name": "main06"
  },
  "language_info": {
   "codemirror_mode": {
    "name": "ipython",
    "version": 3
   },
   "file_extension": ".py",
   "mimetype": "text/x-python",
   "name": "python",
   "nbconvert_exporter": "python",
   "pygments_lexer": "ipython3",
   "version": "3.9.19"
  }
 },
 "nbformat": 4,
 "nbformat_minor": 4
}
