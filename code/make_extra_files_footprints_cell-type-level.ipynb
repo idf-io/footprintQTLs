{
 "cells": [
  {
   "cell_type": "markdown",
   "metadata": {},
   "source": [
    "# Setup"
   ]
  },
  {
   "cell_type": "code",
   "execution_count": 1,
   "metadata": {},
   "outputs": [],
   "source": [
    "import os\n",
    "import pandas as pd\n",
    "import anndata as ad"
   ]
  },
  {
   "cell_type": "code",
   "execution_count": 2,
   "metadata": {},
   "outputs": [],
   "source": [
    "# Ensure cwd is project root and that /code is in path\n",
    "\n",
    "import os\n",
    "import sys\n",
    "\n",
    "cwd = os.path.basename(os.getcwd())\n",
    "\n",
    "if cwd == 'footprintQTL':\n",
    "    \n",
    "    PROJECT_DIR = '.'\n",
    "\n",
    "\n",
    "elif cwd == 'code':\n",
    "    \n",
    "    PROJECT_DIR = '..'\n",
    "\n",
    "\n",
    "elif cwd == 'fichtner':\n",
    "\n",
    "    PROJECT_DIR = 'projects/footprintQTL'\n",
    "\n",
    "else:\n",
    "\n",
    "    PROJECT_DIR = 'manual'\n",
    "\n",
    "\n",
    "os.chdir(PROJECT_DIR)\n",
    "sys.path.append(os.getcwd() + '/code')"
   ]
  },
  {
   "cell_type": "code",
   "execution_count": 8,
   "metadata": {},
   "outputs": [],
   "source": [
    "from helpers.python.utils import list_files_and_links, create_dir"
   ]
  },
  {
   "cell_type": "markdown",
   "metadata": {},
   "source": [
    "## Variables"
   ]
  },
  {
   "cell_type": "code",
   "execution_count": null,
   "metadata": {},
   "outputs": [],
   "source": [
    "from glob_vars import FOOTPRINTS_DIR, FOOTPRINTS_METADATA_DIR"
   ]
  },
  {
   "cell_type": "markdown",
   "metadata": {},
   "source": [
    "## Iterate over ct-specific anndatas\n",
    "\n",
    "Make\n",
    "- `peaks.bed`"
   ]
  },
  {
   "cell_type": "code",
   "execution_count": null,
   "metadata": {},
   "outputs": [
    {
     "name": "stdout",
     "output_type": "stream",
     "text": [
      "Processing file: footprints_Glia_processed.h5ad\n",
      "Processing file: footprints_UL-EN_processed.h5ad\n",
      "Processing file: footprints_DL-EN_processed.h5ad\n",
      "Processing file: footprints_Midbrain-EN_processed.h5ad\n",
      "Processing file: footprints_Neural-progenitors_processed.h5ad\n"
     ]
    }
   ],
   "source": [
    "for ct_fp_adata in list_files_and_links(FOOTPRINTS_DIR, extension='_processed.h5ad'):\n",
    "\n",
    "    print(f'Processing file: {ct_fp_adata}')\n",
    "\n",
    "    adata = ad.read_h5ad(os.path.join(FOOTPRINTS_DIR, ct_fp_adata), backed='r')\n",
    "\n",
    "    cell_type = ct_fp_adata.removesuffix('_processed.h5ad').removeprefix('footprints_')\n",
    "\n",
    "    # Format bed\n",
    "    peaks_bed = adata.var[['chr', 'start', 'end', 'peak_name']].copy()\n",
    "    peaks_bed['start'] = peaks_bed['start'].astype(int) - 1 # 1-based fully closed (peaks) --> 0-based half open (bed and matrix-eQTL)\n",
    "    peaks_bed = peaks_bed.sort_values(['chr', 'start'], ascending=[True, True])\n",
    "\n",
    "    # Save bed\n",
    "    out_path = os.path.join(FOOTPRINTS_METADATA_DIR, cell_type, 'peaks.bed')\n",
    "    create_dir(out_path)\n",
    "    peaks_bed.to_csv(out_path, sep='\\t', header=False, index=False)"
   ]
  }
 ],
 "metadata": {
  "kernelspec": {
   "display_name": "main04",
   "language": "python",
   "name": "main04"
  }
 },
 "nbformat": 4,
 "nbformat_minor": 2
}
