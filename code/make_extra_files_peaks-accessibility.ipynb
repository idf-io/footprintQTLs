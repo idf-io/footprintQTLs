{
 "cells": [
  {
   "cell_type": "markdown",
   "metadata": {},
   "source": [
    "# Setup"
   ]
  },
  {
   "cell_type": "code",
   "execution_count": 1,
   "metadata": {},
   "outputs": [],
   "source": [
    "import os\n",
    "import pandas as pd\n",
    "import anndata as ad"
   ]
  },
  {
   "cell_type": "code",
   "execution_count": 2,
   "metadata": {},
   "outputs": [],
   "source": [
    "# Ensure cwd is project root and that /code is in path\n",
    "\n",
    "import os\n",
    "import sys\n",
    "\n",
    "cwd = os.path.basename(os.getcwd())\n",
    "\n",
    "if cwd == 'footprintQTL':\n",
    "    \n",
    "    PROJECT_DIR = '.'\n",
    "\n",
    "\n",
    "elif cwd == 'code':\n",
    "    \n",
    "    PROJECT_DIR = '..'\n",
    "\n",
    "\n",
    "elif cwd == 'fichtner':\n",
    "\n",
    "    PROJECT_DIR = 'projects/footprintQTL'\n",
    "\n",
    "else:\n",
    "\n",
    "    PROJECT_DIR = 'manual'\n",
    "\n",
    "\n",
    "os.chdir(PROJECT_DIR)\n",
    "sys.path.append(os.getcwd() + '/code')"
   ]
  },
  {
   "cell_type": "code",
   "execution_count": 3,
   "metadata": {},
   "outputs": [],
   "source": [
    "from helpers.python.utils import list_files_and_links, create_dir"
   ]
  },
  {
   "cell_type": "markdown",
   "metadata": {},
   "source": [
    "## Variables"
   ]
  },
  {
   "cell_type": "code",
   "execution_count": 5,
   "metadata": {},
   "outputs": [],
   "source": [
    "from glob_vars import ATAC_PEAKS_H5AD_NEW, ATAC_CHROM_ACCESS_METADATA_DIR"
   ]
  },
  {
   "cell_type": "markdown",
   "metadata": {},
   "source": [
    "## Process"
   ]
  },
  {
   "cell_type": "markdown",
   "metadata": {},
   "source": [
    "### `peaks.bed`"
   ]
  },
  {
   "cell_type": "code",
   "execution_count": 6,
   "metadata": {},
   "outputs": [
    {
     "data": {
      "text/plain": [
       "AnnData object with n_obs × n_vars = 265053 × 736845 backed at 'data/datasets/hca_brain-organoids/atac-seq/chromatin_accessibility/peak-matrix_rna-qc-cells_norm-reads-in-tss.h5ad'\n",
       "    obs: 'BlacklistRatio', 'nDiFrags', 'nFrags', 'nMonoFrags', 'nMultiFrags', 'NucleosomeRatio', 'PassQC', 'PromoterRatio', 'ReadsInBlacklist', 'ReadsInPromoter', 'ReadsInTSS', 'Sample', 'TSSEnrichment', 'n_genes_by_counts', 'total_counts', 'total_counts_mt', 'donor_id', 'clone', 'organoid', 'donor', 'leiden', 'stressed_vs_unstressed_celltypes', 'ReadsInPeaks', 'FRIP', 'barcode', 'batch', 'sample', 'barcode_batch', 'cell_type', 'cell_type_custom'\n",
       "    var: 'chr', 'start', 'end', 'strand', 'peak_name', 'score', 'GC', 'nearest_gene', 'peak_type'"
      ]
     },
     "execution_count": 6,
     "metadata": {},
     "output_type": "execute_result"
    }
   ],
   "source": [
    "adata = ad.read_h5ad(ATAC_PEAKS_H5AD_NEW, backed='r')\n",
    "adata"
   ]
  },
  {
   "cell_type": "code",
   "execution_count": null,
   "metadata": {},
   "outputs": [
    {
     "data": {
      "text/html": [
       "<div>\n",
       "<style scoped>\n",
       "    .dataframe tbody tr th:only-of-type {\n",
       "        vertical-align: middle;\n",
       "    }\n",
       "\n",
       "    .dataframe tbody tr th {\n",
       "        vertical-align: top;\n",
       "    }\n",
       "\n",
       "    .dataframe thead th {\n",
       "        text-align: right;\n",
       "    }\n",
       "</style>\n",
       "<table border=\"1\" class=\"dataframe\">\n",
       "  <thead>\n",
       "    <tr style=\"text-align: right;\">\n",
       "      <th></th>\n",
       "      <th>chr</th>\n",
       "      <th>start</th>\n",
       "      <th>end</th>\n",
       "      <th>peak_name</th>\n",
       "    </tr>\n",
       "  </thead>\n",
       "  <tbody>\n",
       "    <tr>\n",
       "      <th>0</th>\n",
       "      <td>chr1</td>\n",
       "      <td>804695</td>\n",
       "      <td>805195</td>\n",
       "      <td>chr1:804695:805195:501:*:1</td>\n",
       "    </tr>\n",
       "    <tr>\n",
       "      <th>1</th>\n",
       "      <td>chr1</td>\n",
       "      <td>811018</td>\n",
       "      <td>811518</td>\n",
       "      <td>chr1:811018:811518:501:*:2</td>\n",
       "    </tr>\n",
       "    <tr>\n",
       "      <th>2</th>\n",
       "      <td>chr1</td>\n",
       "      <td>817077</td>\n",
       "      <td>817577</td>\n",
       "      <td>chr1:817077:817577:501:*:3</td>\n",
       "    </tr>\n",
       "    <tr>\n",
       "      <th>3</th>\n",
       "      <td>chr1</td>\n",
       "      <td>817816</td>\n",
       "      <td>818316</td>\n",
       "      <td>chr1:817816:818316:501:*:4</td>\n",
       "    </tr>\n",
       "    <tr>\n",
       "      <th>4</th>\n",
       "      <td>chr1</td>\n",
       "      <td>819782</td>\n",
       "      <td>820282</td>\n",
       "      <td>chr1:819782:820282:501:*:5</td>\n",
       "    </tr>\n",
       "    <tr>\n",
       "      <th>...</th>\n",
       "      <td>...</td>\n",
       "      <td>...</td>\n",
       "      <td>...</td>\n",
       "      <td>...</td>\n",
       "    </tr>\n",
       "    <tr>\n",
       "      <th>736840</th>\n",
       "      <td>chrX</td>\n",
       "      <td>155891803</td>\n",
       "      <td>155892303</td>\n",
       "      <td>chrX:155891803:155892303:501:*:19674</td>\n",
       "    </tr>\n",
       "    <tr>\n",
       "      <th>736841</th>\n",
       "      <td>chrX</td>\n",
       "      <td>155941826</td>\n",
       "      <td>155942326</td>\n",
       "      <td>chrX:155941826:155942326:501:*:19675</td>\n",
       "    </tr>\n",
       "    <tr>\n",
       "      <th>736842</th>\n",
       "      <td>chrX</td>\n",
       "      <td>155956608</td>\n",
       "      <td>155957108</td>\n",
       "      <td>chrX:155956608:155957108:501:*:19676</td>\n",
       "    </tr>\n",
       "    <tr>\n",
       "      <th>736843</th>\n",
       "      <td>chrX</td>\n",
       "      <td>155959222</td>\n",
       "      <td>155959722</td>\n",
       "      <td>chrX:155959222:155959722:501:*:19677</td>\n",
       "    </tr>\n",
       "    <tr>\n",
       "      <th>736844</th>\n",
       "      <td>chrX</td>\n",
       "      <td>155966839</td>\n",
       "      <td>155967339</td>\n",
       "      <td>chrX:155966839:155967339:501:*:19678</td>\n",
       "    </tr>\n",
       "  </tbody>\n",
       "</table>\n",
       "<p>736845 rows × 4 columns</p>\n",
       "</div>"
      ],
      "text/plain": [
       "         chr      start        end                             peak_name\n",
       "0       chr1     804695     805195            chr1:804695:805195:501:*:1\n",
       "1       chr1     811018     811518            chr1:811018:811518:501:*:2\n",
       "2       chr1     817077     817577            chr1:817077:817577:501:*:3\n",
       "3       chr1     817816     818316            chr1:817816:818316:501:*:4\n",
       "4       chr1     819782     820282            chr1:819782:820282:501:*:5\n",
       "...      ...        ...        ...                                   ...\n",
       "736840  chrX  155891803  155892303  chrX:155891803:155892303:501:*:19674\n",
       "736841  chrX  155941826  155942326  chrX:155941826:155942326:501:*:19675\n",
       "736842  chrX  155956608  155957108  chrX:155956608:155957108:501:*:19676\n",
       "736843  chrX  155959222  155959722  chrX:155959222:155959722:501:*:19677\n",
       "736844  chrX  155966839  155967339  chrX:155966839:155967339:501:*:19678\n",
       "\n",
       "[736845 rows x 4 columns]"
      ]
     },
     "execution_count": 7,
     "metadata": {},
     "output_type": "execute_result"
    }
   ],
   "source": [
    "# Format bed\n",
    "peaks_bed = adata.var[['chr', 'start', 'end', 'peak_name']].copy()\n",
    "\n",
    "peaks_bed['start'] = peaks_bed['start'].astype(int) # 0-based half open (bed and matrix-eQTL)\n",
    "peaks_bed = peaks_bed.sort_values(['chr', 'start'], ascending=[True, True])\n",
    "\n",
    "# Save bed\n",
    "out_path = os.path.join(ATAC_CHROM_ACCESS_METADATA_DIR, 'peaks_all.bed')\n",
    "create_dir(out_path)\n",
    "peaks_bed.to_csv(out_path, sep='\\t', header=False, index=False)"
   ]
  }
 ],
 "metadata": {
  "kernelspec": {
   "display_name": "main04",
   "language": "python",
   "name": "main04"
  }
 },
 "nbformat": 4,
 "nbformat_minor": 2
}
