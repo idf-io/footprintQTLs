{
 "cells": [
  {
   "cell_type": "markdown",
   "id": "68045463",
   "metadata": {},
   "source": [
    "# Make matrix-eqtl input for caQTLs (bulk-tests)\n",
    "\n",
    "Inputs:\n",
    "- a\n",
    "\n",
    "Outputs:\n",
    "- a"
   ]
  },
  {
   "cell_type": "markdown",
   "id": "e5f3e80b",
   "metadata": {},
   "source": [
    "## Setup"
   ]
  },
  {
   "cell_type": "code",
   "execution_count": null,
   "id": "27a7f02c",
   "metadata": {},
   "outputs": [],
   "source": [
    "import os\n",
    "import sys\n",
    "import gc\n",
    "from datetime import date\n",
    "import pandas as pd\n",
    "import anndata as ad"
   ]
  },
  {
   "cell_type": "code",
   "execution_count": null,
   "id": "7f3c0dd7",
   "metadata": {},
   "outputs": [],
   "source": [
    "# Ensure cwd is project root and that /code is in path\n",
    "\n",
    "import os\n",
    "import sys\n",
    "\n",
    "cwd = os.path.basename(os.getcwd())\n",
    "\n",
    "if cwd == 'footprintQTL':\n",
    "    \n",
    "    PROJECT_DIR = '.'\n",
    "\n",
    "\n",
    "elif cwd == 'code':\n",
    "    \n",
    "    PROJECT_DIR = '..'\n",
    "\n",
    "\n",
    "elif cwd == 'fichtner':\n",
    "\n",
    "    PROJECT_DIR = 'projects/footprintQTL'\n",
    "\n",
    "else:\n",
    "\n",
    "    PROJECT_DIR = 'manual'\n",
    "\n",
    "\n",
    "os.chdir(PROJECT_DIR)\n",
    "sys.path.append(os.getcwd() + '/code')"
   ]
  },
  {
   "cell_type": "markdown",
   "id": "3630cd3b-fb7d-47f6-987d-2e8fa177d4d0",
   "metadata": {},
   "source": [
    "### Variables"
   ]
  },
  {
   "cell_type": "code",
   "execution_count": null,
   "id": "437eace9",
   "metadata": {},
   "outputs": [],
   "source": [
    "from helpers.python.utils import create_dir"
   ]
  },
  {
   "cell_type": "code",
   "execution_count": null,
   "id": "c20b27f9-504b-4e17-9f42-8af98b198567",
   "metadata": {},
   "outputs": [],
   "source": [
    "# User variables\n",
    "\n",
    "from glob_vars import CT_MAP_ID, \\\n",
    "                      ATAC_CHROM_ACCESS_DIR, \\\n",
    "                      GENOTYPES_PROCESSED_TSV, GENOTYPE_PCS_TSV, SNP_LOCS_BED, \\\n",
    "                      MATRIX_EQTL_INPUT_DIR, MATRIX_EQTL_OUTPUT_DIR, \\\n",
    "                      MAIN_ENV\n",
    "\n",
    "cell_type = str('DL-EN')\n",
    "\n",
    "mode = 'bulk-tests' # {bulk-tests, single-tests, peak-tests} Perform all tests in bulk and leverage matrix operations or have fine-tuned control over the individual tests\n",
    "\n",
    "n_ca_pcs = 5 # Nr of chromatin accessipeaks_testbility PCs to use as covariate\n",
    "n_gt_pcs = 5 # Nr of genotype PCs to use as covariate"
   ]
  },
  {
   "cell_type": "code",
   "execution_count": null,
   "id": "4dbb7e42",
   "metadata": {},
   "outputs": [],
   "source": [
    "# Variable checks\n",
    "\n",
    "if not mode:\n",
    "    \n",
    "    print('The mode has not been specified {bulk-test, single-test, peak-test}. ABORTING.')\n",
    "    os._exit(1)"
   ]
  },
  {
   "cell_type": "code",
   "execution_count": null,
   "id": "6cc433d5",
   "metadata": {},
   "outputs": [],
   "source": [
    "# Variable checks\n",
    "\n",
    "if mode != 'bulk-tests':\n",
    "    \n",
    "    print('The mode has not implemented yet. ABORTING.')\n",
    "    os._exit(1)"
   ]
  },
  {
   "cell_type": "markdown",
   "id": "ee278004",
   "metadata": {},
   "source": [
    "## Load data"
   ]
  },
  {
   "cell_type": "code",
   "execution_count": null,
   "id": "e7aababd",
   "metadata": {},
   "outputs": [],
   "source": [
    "# Phenotype \n",
    "\n",
    "adata = ad.read_h5ad(f'{ATAC_CHROM_ACCESS_DIR}/adata/subset/{CT_MAP_ID}/{cell_type}/peak_matrix_ca-qtls.h5ad')\n",
    "adata_ref = ad.read_h5ad(f'{ATAC_CHROM_ACCESS_DIR}/adata/subset/{CT_MAP_ID}/{cell_type}/peak_matrix_all-cell-types_cell-lvl.h5ad')\n",
    "\n",
    "\n",
    "# Port donor_id\n",
    "# TODO: annotate adata_ca in process_peaks_adata\n",
    "donor_id_map = adata_ref.obs[['donor', 'donor_id']].groupby('donor')['donor_id'].unique().to_dict()\n",
    "assert all(len(values) == 1 for values in donor_id_map.values())\n",
    "donor_id_map = {key: values[0] for key, values in donor_id_map.items()}\n",
    "adata.obs['donor_id'] = adata.obs.index.map(donor_id_map)\n",
    "\n",
    "donors = adata.obs['donor'].to_list()\n",
    "donor_ids = adata.obs['donor_id'].to_list()\n",
    "peaks = adata.var['peak_name'].to_list()\n",
    "n_donors, n_peaks = adata.shape\n",
    "\n",
    "adata"
   ]
  },
  {
   "cell_type": "code",
   "execution_count": null,
   "id": "c506eaad",
   "metadata": {},
   "outputs": [],
   "source": [
    "adata.obs[['donor', 'donor_id']]"
   ]
  },
  {
   "cell_type": "code",
   "execution_count": null,
   "id": "c3cb5e29",
   "metadata": {},
   "outputs": [],
   "source": [
    "adata.obs['donor_id']"
   ]
  },
  {
   "cell_type": "code",
   "execution_count": null,
   "id": "88aa9fd0",
   "metadata": {},
   "outputs": [],
   "source": [
    "# Genotype\n",
    "\n",
    "gt = pd.read_csv(GENOTYPES_PROCESSED_TSV, sep='\\t', header=0, index_col=0).rename_axis('snp_id')\n",
    "gt = gt[donor_ids]\n",
    "gt"
   ]
  },
  {
   "cell_type": "code",
   "execution_count": null,
   "id": "c89e66da",
   "metadata": {},
   "outputs": [],
   "source": [
    "snps = gt.index.to_list()"
   ]
  },
  {
   "cell_type": "code",
   "execution_count": null,
   "id": "3a56eece",
   "metadata": {},
   "outputs": [],
   "source": [
    "# Checks\n",
    "assert len(set(snps)) == len(snps), f'SNP labels not unique: total = {len(snps)}, unique = {len(set(snps))}'"
   ]
  },
  {
   "cell_type": "markdown",
   "id": "9c05d98a",
   "metadata": {},
   "source": [
    "# Matrix eQTL IO"
   ]
  },
  {
   "cell_type": "markdown",
   "id": "202a8905",
   "metadata": {},
   "source": [
    "## Genotype"
   ]
  },
  {
   "cell_type": "code",
   "execution_count": null,
   "id": "5491698c",
   "metadata": {},
   "outputs": [],
   "source": [
    "if mode == 'bulk-tests':\n",
    "\n",
    "    gt_path = os.path.join(MATRIX_EQTL_INPUT_DIR, 'chromatin-accessibility', CT_MAP_ID, cell_type, mode, 'genotype_NA.tsv')\n",
    "    create_dir(gt_path)\n",
    "    gt.to_csv(gt_path, sep='\\t', na_rep='NaN')\n",
    "\n",
    "# else:\n",
    "\n",
    "#     # Source\n",
    "#     gt_path = os.path.join(MATRIX_EQTL_INPUT_DIR, 'footprints', category, mode, 'genotype_NA_source.tsv')\n",
    "#     create_dir(gt_path)\n",
    "#     gt.to_csv(gt_path, sep='\\t', na_rep='NaN')\n",
    "\n",
    "\n",
    "# if mode == 'single-tests':\n",
    "\n",
    "#     for snp in snps_test:\n",
    "\n",
    "#         # Individual\n",
    "#         gt_snp_path = os.path.join(MATRIX_EQTL_INPUT_DIR, 'footprints', category, mode, f'genotypes/genotype_NA%{snp}.tsv')\n",
    "#         create_dir(gt_snp_path)\n",
    "#         gt.loc[[snp], :].to_csv(gt_snp_path, sep='\\t', na_rep='NaN')\n",
    "\n",
    "# elif mode == 'peak-tests':\n",
    "\n",
    "#     for peak in peaks_test:\n",
    "\n",
    "#         # Individual\n",
    "#         gt_snp_path = os.path.join(MATRIX_EQTL_INPUT_DIR, 'footprints', category, mode, f'genotypes/genotype_NA%{peak}.tsv')\n",
    "#         create_dir(gt_snp_path)\n",
    "#         gt.loc[peak_snps_map[peak], :].to_csv(gt_snp_path, sep='\\t', na_rep='NaN')"
   ]
  },
  {
   "cell_type": "markdown",
   "id": "df85dbe9",
   "metadata": {},
   "source": [
    "## Phenotype matrix"
   ]
  },
  {
   "cell_type": "markdown",
   "id": "a82bc14a",
   "metadata": {},
   "source": [
    "Performed in select_peaks..."
   ]
  },
  {
   "cell_type": "code",
   "execution_count": null,
   "id": "cd720a1e",
   "metadata": {},
   "outputs": [],
   "source": [
    "# Create pheno matrix\n",
    "# donor_id_map = adata.obs['donor_id'].to_dict()\n",
    "\n",
    "# pheno_out = adata.to_df().T\n",
    "# pheno_out = pheno_out.rename(columns=donor_id_map)\n",
    "# pheno_out = pheno_out.rename_axis('peak_id')\n",
    "\n",
    "# pheno_out"
   ]
  },
  {
   "cell_type": "code",
   "execution_count": null,
   "id": "4d765c32",
   "metadata": {},
   "outputs": [],
   "source": [
    "# if mode == 'bulk-tests':\n",
    "\n",
    "#     pheno_out_path = os.path.join(MATRIX_EQTL_INPUT_DIR, 'footprints', category, mode, 'phenotype.tsv')\n",
    "#     create_dir(pheno_out_path)\n",
    "#     pheno_out.round(6).to_csv(pheno_out_path, sep='\\t', na_rep='NaN')\n",
    "\n",
    "# elif any(mode in option for option in ['single-tests', 'peak-tests']):\n",
    "\n",
    "#     # Source\n",
    "#     pheno_out_path = os.path.join(MATRIX_EQTL_INPUT_DIR, 'footprints', category, mode, 'phenotype_source.tsv')\n",
    "#     create_dir(pheno_out_path)\n",
    "#     pheno_out.round(6).to_csv(pheno_out_path, sep='\\t', na_rep='NaN')\n",
    "\n",
    "#     for peak in peaks_test:\n",
    "\n",
    "#         # Individual\n",
    "#         phe_peak_path = os.path.join(MATRIX_EQTL_INPUT_DIR, 'footprints', category, mode, f'phenotypes/phenotype%{peak}.tsv')\n",
    "#         create_dir(phe_peak_path)\n",
    "#         pheno_out.round(6).loc[[peak], :].to_csv(phe_peak_path, sep='\\t', na_rep='NaN')"
   ]
  },
  {
   "cell_type": "code",
   "execution_count": null,
   "id": "c912064f",
   "metadata": {},
   "outputs": [],
   "source": [
    "# del pheno_out\n",
    "# gc.collect()"
   ]
  },
  {
   "cell_type": "markdown",
   "id": "e2d0a3be",
   "metadata": {},
   "source": [
    "## Peak locations"
   ]
  },
  {
   "cell_type": "code",
   "execution_count": null,
   "id": "5fdd5ce6",
   "metadata": {},
   "outputs": [],
   "source": [
    "peak_locs = adata.var[['peak_name', 'chr', 'start', 'end']].copy()\n",
    "\n",
    "peak_locs['start'] = peak_locs['start'].astype(int) # Coordinate system: 0-based half-closed\n",
    "peak_locs['end'] = peak_locs['end'].astype(int)\n",
    "\n",
    "peak_locs"
   ]
  },
  {
   "cell_type": "code",
   "execution_count": null,
   "id": "510a9760",
   "metadata": {},
   "outputs": [],
   "source": [
    "if mode == 'bulk-tests':\n",
    "\n",
    "    peak_loc_path = os.path.join(MATRIX_EQTL_INPUT_DIR, 'chromatin-accessibility', CT_MAP_ID, cell_type, mode, 'peak_location.tsv')\n",
    "    create_dir(peak_loc_path)\n",
    "    peak_locs.to_csv(peak_loc_path, sep='\\t', index=False, na_rep='NaN')\n",
    "\n",
    "# elif any(mode in option for option in ['single-tests', 'peak-tests']):\n",
    "\n",
    "#     # Source\n",
    "#     peak_loc_path = os.path.join(MATRIX_EQTL_INPUT_DIR, 'footprints', category, mode, 'peak_location_source.tsv')\n",
    "#     create_dir(peak_loc_path)\n",
    "#     peak_locs.to_csv(peak_loc_path, sep='\\t', index=False, na_rep='NaN')\n",
    "\n",
    "#     for peak in peaks_test:\n",
    "\n",
    "#         # Individual\n",
    "#         peak_loc_path = os.path.join(MATRIX_EQTL_INPUT_DIR, 'footprints', category, mode, f'peak_locations/peak_location%{peak}.tsv')\n",
    "#         create_dir(peak_loc_path)\n",
    "#         peak_locs.round(6).loc[[peak], :].to_csv(peak_loc_path, sep='\\t', index=False, na_rep='NaN')"
   ]
  },
  {
   "cell_type": "code",
   "execution_count": null,
   "id": "45dbd587",
   "metadata": {},
   "outputs": [],
   "source": [
    "del peak_locs\n",
    "gc.collect()"
   ]
  },
  {
   "cell_type": "markdown",
   "id": "aa79a63b",
   "metadata": {},
   "source": [
    "## SNP locations"
   ]
  },
  {
   "cell_type": "code",
   "execution_count": null,
   "id": "25c271a8",
   "metadata": {},
   "outputs": [],
   "source": [
    "snp_locs = gt.index.to_frame()\n",
    "snp_locs['chr'] = snp_locs.index.str.split('_').str[0]\n",
    "snp_locs['pos'] = snp_locs.index.str.split('_').str[1].astype(int) - 1  # 1-based fully closed (snp) -> 0-based half-open (downstream, matrix-eQTL)\n",
    "snp_locs"
   ]
  },
  {
   "cell_type": "code",
   "execution_count": null,
   "id": "8b12810e",
   "metadata": {},
   "outputs": [],
   "source": [
    "if mode == 'bulk-tests':\n",
    "\n",
    "    snp_locs_path = os.path.join(MATRIX_EQTL_INPUT_DIR, 'chromatin-accessibility', CT_MAP_ID, cell_type, mode, 'snp_location.tsv')\n",
    "    create_dir(snp_locs_path)\n",
    "    snp_locs.to_csv(snp_locs_path, sep='\\t', index=False, na_rep='NaN')\n",
    "\n",
    "# elif any(mode in option for option in ['single-tests', 'peak-tests']):\n",
    "\n",
    "#     # Source\n",
    "#     snp_loc_path = os.path.join(MATRIX_EQTL_INPUT_DIR, 'footprints', category, mode, 'snp_location_source.tsv')\n",
    "#     create_dir(snp_loc_path)\n",
    "#     snp_locs.to_csv(snp_loc_path, sep='\\t', index=False, na_rep='NaN')\n",
    "\n",
    "#     for peak in peaks_test:\n",
    "\n",
    "#         # Individual\n",
    "#         snp_loc_path = os.path.join(MATRIX_EQTL_INPUT_DIR, 'footprints', category, mode, f'snp_locations/snp_location%{peak}.tsv')\n",
    "#         create_dir(snp_loc_path)\n",
    "#         snp_locs.round(6).loc[peak_snps_map[peak], :].to_csv(snp_loc_path, sep='\\t', index=False, na_rep='NaN')"
   ]
  },
  {
   "cell_type": "code",
   "execution_count": null,
   "id": "15bdde48",
   "metadata": {},
   "outputs": [],
   "source": [
    "del gt\n",
    "del snp_locs\n",
    "gc.collect()"
   ]
  },
  {
   "cell_type": "markdown",
   "id": "ad582171",
   "metadata": {},
   "source": [
    "## Covariates"
   ]
  },
  {
   "cell_type": "markdown",
   "id": "248443c6",
   "metadata": {},
   "source": [
    "### Phenotype PCs"
   ]
  },
  {
   "cell_type": "code",
   "execution_count": null,
   "id": "633d8170",
   "metadata": {},
   "outputs": [],
   "source": [
    "phe_pcs = pd.DataFrame(adata.obsm['X_pca'][:, 0:n_ca_pcs]).set_index(adata.obs['donor_id'])\n",
    "\n",
    "phe_pcs.columns = [f'phe_PC_{str(i)}' for i in range(1, len(phe_pcs.columns) + 1)]\n",
    "phe_pcs = phe_pcs.T\n",
    "phe_pcs = phe_pcs.rename_axis('id')\n",
    "\n",
    "phe_pcs"
   ]
  },
  {
   "cell_type": "markdown",
   "id": "755534b0",
   "metadata": {},
   "source": [
    "### Genotype PCs"
   ]
  },
  {
   "cell_type": "code",
   "execution_count": null,
   "id": "f4195996",
   "metadata": {},
   "outputs": [],
   "source": [
    "gt_pcs = pd.read_csv(GENOTYPE_PCS_TSV, sep=\"\\t\", index_col=0)\n",
    "\n",
    "gt_pcs = gt_pcs.T\n",
    "gt_pcs = gt_pcs[0:n_gt_pcs]\n",
    "gt_pcs = gt_pcs.rename_axis('id').rename(index={idx: f'gt_{idx}' for idx in gt_pcs.index})\n",
    "\n",
    "gt_pcs = gt_pcs[donor_ids]\n",
    "\n",
    "gt_pcs"
   ]
  },
  {
   "cell_type": "markdown",
   "id": "d3cc1f68",
   "metadata": {},
   "source": [
    "### Joint covariates"
   ]
  },
  {
   "cell_type": "code",
   "execution_count": null,
   "id": "6d5f2329",
   "metadata": {},
   "outputs": [],
   "source": [
    "covs = pd.concat([gt_pcs, phe_pcs])\n",
    "covs = covs.rename_axis(index='id')\n",
    "covs = covs.round(7)\n",
    "covs   "
   ]
  },
  {
   "cell_type": "code",
   "execution_count": null,
   "id": "eab3163b",
   "metadata": {},
   "outputs": [],
   "source": [
    "if mode == 'bulk-tests':\n",
    "\n",
    "    covs_path = os.path.join(MATRIX_EQTL_INPUT_DIR, 'chromatin-accessibility', CT_MAP_ID, cell_type, mode, 'covariates.tsv')\n",
    "    create_dir(covs_path)\n",
    "    covs.to_csv(covs_path, sep='\\t', na_rep='NaN')\n",
    "\n",
    "# elif any(mode in option for option in ['single-tests', 'peak-tests']):\n",
    "\n",
    "#     # Populate peak-donor-insertions map\n",
    "#     #   = extended peak-specific covariate rows\n",
    "\n",
    "#     peak_donor_ins_map = {peak: {} for peak in peaks_test}\n",
    "#                        # {'peak': {'donor1' : n_insertions, ...}}\n",
    "\n",
    "    \n",
    "#     for donor, donor_id in zip(adata.obs['donor'], adata.obs['donor_id']):\n",
    "\n",
    "#         bw = pyBigWig.open(f'{GROUPED_BIGWIG_FILES_DIR}/{cell_type}/{donor}.bw')\n",
    "\n",
    "#         for peak in peaks_test:\n",
    "\n",
    "#             chr, start, end = peak.split(':')[0:3]\n",
    "\n",
    "#             profile = bw.values(chr, int(start), int(end))\n",
    "#             n_ins = np.nansum(profile).astype(int)\n",
    "#             peak_donor_ins_map[peak][donor_id] = n_ins\n",
    "\n",
    "#         bw.close()\n",
    "\n",
    "\n",
    "#     # For CBPNet populate new map snp: donors: score and also extend covs in next section\n",
    "\n",
    "\n",
    "#     # Export covs_extended\n",
    "\n",
    "#     # Source\n",
    "#     covs_path = os.path.join(MATRIX_EQTL_INPUT_DIR, 'footprints', category, mode, 'covariates_source.tsv')\n",
    "#     create_dir(covs_path)\n",
    "#     covs.to_csv(covs_path, sep='\\t', na_rep='NaN')\n",
    "\n",
    "#     for peak in peaks_test:\n",
    "\n",
    "#         covs_extended = covs.copy()\n",
    "\n",
    "#         row_label = f'n_insertions_{peak}'\n",
    "#         covs_extended.loc[row_label] = pd.Series(peak_donor_ins_map[peak])\n",
    "\n",
    "#         # Individual\n",
    "#         covs_extended_path = os.path.join(MATRIX_EQTL_INPUT_DIR, 'footprints', category, mode, f'covariates/covariates%{peak}.tsv')\n",
    "#         create_dir(covs_extended_path)\n",
    "#         covs_extended.to_csv(covs_extended_path, sep='\\t', na_rep='NaN')\n",
    "\n",
    "\n",
    "        "
   ]
  },
  {
   "cell_type": "code",
   "execution_count": null,
   "id": "5a52c101",
   "metadata": {},
   "outputs": [],
   "source": [
    "del phe_pcs\n",
    "del gt_pcs\n",
    "del covs\n",
    "gc.collect()"
   ]
  },
  {
   "cell_type": "markdown",
   "id": "83ad76fb",
   "metadata": {},
   "source": [
    "# QTL mapping stats"
   ]
  },
  {
   "cell_type": "code",
   "execution_count": null,
   "id": "60435ca0",
   "metadata": {},
   "outputs": [],
   "source": [
    "# Gather stats\n",
    "\n",
    "category = f'{CT_MAP_ID}/{cell_type}/{mode}'\n",
    "\n",
    "adata.obs['n_cells'] = adata.obs.index.map(adata_ref.obs.groupby('donor').size().to_dict())\n",
    "\n",
    "stats = adata.obs[['n_cells']].describe()\n",
    "# stats = adata.obs[['n_cells', 'n_fragments']].describe()\n",
    "\n",
    "mean_cells_donor, std_cells_donor = stats['n_cells'].to_list()[1:3]\n",
    "mean_frags_donor, std_frags_donor = ('NaN', 'NaN') # stats['n_fragments'].to_list()[1:3]\n",
    "\n",
    "total_cells = adata.obs['n_cells'].sum()\n",
    "total_frags = 'NaN' # adata.obs['n_fragments'].sum()"
   ]
  },
  {
   "cell_type": "code",
   "execution_count": null,
   "id": "b538d498",
   "metadata": {},
   "outputs": [],
   "source": [
    "stats_out_path = os.path.join(MATRIX_EQTL_INPUT_DIR, 'chromatin-accessibility', CT_MAP_ID, cell_type, mode, 'qtl_testing_metadata.tsv')\n",
    "\n",
    "create_dir(stats_out_path)\n",
    "\n",
    "with open(stats_out_path, 'a') as f:\n",
    "\n",
    "    msg = f'{date.today().strftime(\"%Y-%m-%d\")}\\t'\n",
    "    msg += f'{category}\\t' \n",
    "    msg += f'{cell_type}\\t' \n",
    "    msg += f'{n_donors}\\t' \n",
    "    msg += f'{n_peaks}\\t' \n",
    "    msg += f'{total_cells}\\t' \n",
    "    msg += f'{mean_cells_donor:.1f}\\t' \n",
    "    msg += f'{std_cells_donor:.1f}\\t' \n",
    "    msg += f'{total_frags}\\t'\n",
    "    msg += f'{mean_frags_donor}\\t' \n",
    "    msg += f'{std_frags_donor}\\n'\n",
    "\n",
    "    f.write(msg)\n",
    "    print(msg)"
   ]
  }
 ],
 "metadata": {
  "kernelspec": {
   "display_name": "main04",
   "language": "python",
   "name": "main04"
  }
 },
 "nbformat": 4,
 "nbformat_minor": 5
}
