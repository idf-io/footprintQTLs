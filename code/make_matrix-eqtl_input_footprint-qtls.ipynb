{
 "cells": [
  {
   "cell_type": "markdown",
   "id": "08929a31",
   "metadata": {},
   "source": [
    "# Make matrix-eqtl input for footprint-QTLs (bulk-tests)\n",
    "sdf\n",
    "Inputs:\n",
    "- FOOTPRINTS_DIR/ footprints_<CT>_processed.h5ad\n",
    "- GENOTYPES_TSV, GENOTYPE_PCS_TSV\n",
    "\n",
    "Outputs:\n",
    "- MATRIX_EQTL_INPUT_DIR\n",
    "- MATRIX_EQTL_OUTPUT_DIR\n",
    "\n",
    "Difference to old file:\n",
    "- n_gt_PCs: 20 --> 10, parametrized\n",
    "- Dropped repeated snps from genotype\n",
    "- Changed SNP loc approach to source from GT tsv\n",
    "- Join cov matrices before output\n",
    "- Add insertions per donor as covariate\n",
    "- bulk/single-test parameter"
   ]
  },
  {
   "cell_type": "markdown",
   "id": "3d75983b-d8b2-4d0e-91db-ea2b30d8d17c",
   "metadata": {},
   "source": [
    "## Setup"
   ]
  },
  {
   "cell_type": "code",
   "execution_count": null,
   "id": "a9d18af4-f325-4093-8899-f0c4d02b1d9b",
   "metadata": {
    "tags": []
   },
   "outputs": [],
   "source": [
    "import os\n",
    "import sys\n",
    "import json\n",
    "import gc\n",
    "from datetime import date\n",
    "import numpy as np\n",
    "import pandas as pd\n",
    "import anndata as ad\n",
    "import pyBigWig"
   ]
  },
  {
   "cell_type": "code",
   "execution_count": null,
   "id": "274b2e93",
   "metadata": {},
   "outputs": [],
   "source": [
    "# Ensure cwd is project root and that /code is in path\n",
    "\n",
    "cwd = os.path.basename(os.getcwd())\n",
    "\n",
    "if cwd == 'footprintQTL':\n",
    "    \n",
    "    PROJECT_DIR = '.'\n",
    "\n",
    "\n",
    "elif cwd == 'code':\n",
    "    \n",
    "    PROJECT_DIR = '..'\n",
    "\n",
    "\n",
    "elif cwd == 'fichtner':\n",
    "\n",
    "    PROJECT_DIR = 'projects/footprintQTL'\n",
    "\n",
    "else:\n",
    "\n",
    "    PROJECT_DIR = 'manual'\n",
    "\n",
    "\n",
    "os.chdir(PROJECT_DIR)\n",
    "sys.path.append(os.getcwd() + '/code')"
   ]
  },
  {
   "cell_type": "code",
   "execution_count": null,
   "id": "aaf1a717",
   "metadata": {},
   "outputs": [],
   "source": [
    "from helpers.python.utils import create_dir, list_dirs, ct_format, ct_format_alt, list_files_and_links\n",
    "from helpers.python.anndata_utils import check_anndata"
   ]
  },
  {
   "cell_type": "markdown",
   "id": "ee12c619-53cc-4ce4-937a-2cd9bc7a9fc7",
   "metadata": {},
   "source": [
    "## Variables"
   ]
  },
  {
   "cell_type": "code",
   "execution_count": null,
   "id": "d50577ec-f875-491e-be70-ad5693d7356b",
   "metadata": {},
   "outputs": [],
   "source": [
    "# User variables\n",
    "\n",
    "from glob_vars import FOOTPRINTS_DIR, FOOTPRINTS_METADATA_DIR, \\\n",
    "                      DATASET, CT_MAP_JSON, CT_MAP_ID, \\\n",
    "                      GENOTYPES_PROCESSED_TSV, GENOTYPE_PCS_TSV, SNP_LOCS_BED, \\\n",
    "                      MATRIX_EQTL_INPUT_DIR, MATRIX_EQTL_OUTPUT_DIR, \\\n",
    "                      GROUPED_BIGWIG_FILES_DIR, \\\n",
    "                      MAIN_ENV\n",
    "\n",
    "cell_type = str(\"DL-EN\")\n",
    "RUN_ID = 'meqtl_io_' + f\"{date.today().strftime('%Y-%m-%d')}_{CT_MAP_ID}_{DATASET}\"\n",
    "\n",
    "mode = 'peak-tests' # {bulk-tests, single-tests, peak-tests} Perform all tests in bulk and leverage matrix operations or have fine-tuned control over the individual tests\n",
    "\n",
    "n_ca_pcs = 2 # Nr of chromatin accessipeaks_testbility PCs to use as covariate\n",
    "n_gt_pcs = 10 # Nr of genotype PCs to use as covariate\n",
    "min_cells_donor = 200 # This should be 0 since this filter should be applied before footprint computation"
   ]
  },
  {
   "cell_type": "code",
   "execution_count": null,
   "id": "5a6c7fd4",
   "metadata": {},
   "outputs": [],
   "source": [
    "os.environ['PATH'] = f'/omics/groups/OE0540/internal_temp/users/fichtner/micromamba/envs/{MAIN_ENV}/bin:' + os.environ['PATH']\n",
    "from pybedtools import BedTool"
   ]
  },
  {
   "cell_type": "code",
   "execution_count": null,
   "id": "be062eaa-6e7e-4387-86b5-ec11bcc9a224",
   "metadata": {
    "tags": []
   },
   "outputs": [],
   "source": [
    "cell_type_alt = ct_format_alt(cell_type)\n",
    "cell_type = ct_format(cell_type)"
   ]
  },
  {
   "cell_type": "code",
   "execution_count": null,
   "id": "f6fc038d",
   "metadata": {},
   "outputs": [],
   "source": [
    "# Get cell-type grouping map\n",
    "\n",
    "with open(CT_MAP_JSON, 'r') as f:\n",
    "    ct_map = json.load(f)\n",
    "\n",
    "ct_map_alt = {ct_format_alt(key): [ct_format_alt(e) for e in listt] for key, listt in ct_map.items()}\n",
    "ct_map_i_alt = {ct_format_alt(old_ct): ct_format_alt(new_ct) for new_ct, old_cts in ct_map.items() for old_ct in old_cts}\n",
    "\n",
    "ct_map = {ct_format(key): [ct_format(e) for e in listt] for key, listt in ct_map.items()}\n",
    "ct_map_i = {old_ct: new_ct for new_ct, old_cts in ct_map.items() for old_ct in old_cts}"
   ]
  },
  {
   "cell_type": "code",
   "execution_count": null,
   "id": "ab2664fa",
   "metadata": {},
   "outputs": [],
   "source": [
    "# Variable checks\n",
    "\n",
    "if not mode:\n",
    "    \n",
    "    print('The mode has not been specified {bulk-test, single-test, peak-test}. ABORTING.')\n",
    "    os._exit(1)"
   ]
  },
  {
   "cell_type": "markdown",
   "id": "377ac1ed",
   "metadata": {},
   "source": [
    "# Process adata"
   ]
  },
  {
   "cell_type": "markdown",
   "id": "f0bd54bf",
   "metadata": {},
   "source": [
    "### Load data"
   ]
  },
  {
   "cell_type": "code",
   "execution_count": null,
   "id": "87e42ac7",
   "metadata": {},
   "outputs": [],
   "source": [
    "# Phenotype\n",
    "\n",
    "adata = ad.read_h5ad(os.path.join(FOOTPRINTS_DIR, 'footprints_' + cell_type + '_processed.h5ad'))\n",
    "donors = adata.obs.index.to_list()\n",
    "donor_ids = adata.obs['donor_id'].to_list()\n",
    "peaks = adata.var.index.to_list()\n",
    "n_donors, n_peaks = adata.shape\n",
    "\n",
    "adata"
   ]
  },
  {
   "cell_type": "code",
   "execution_count": null,
   "id": "4fd7300c",
   "metadata": {},
   "outputs": [],
   "source": [
    "# Checks\n",
    "\n",
    "obs_criteria_kwargs = [\n",
    "    {'col': 'n_cells', 'func': lambda x: (x > min_cells_donor).all()}\n",
    "    ]\n",
    "\n",
    "check_anndata(adata, min_obs=20, obs_criteria_kwargs=obs_criteria_kwargs)"
   ]
  },
  {
   "cell_type": "code",
   "execution_count": null,
   "id": "ff348be3",
   "metadata": {},
   "outputs": [],
   "source": [
    "# Genotype\n",
    "\n",
    "gt = pd.read_csv(GENOTYPES_PROCESSED_TSV, sep='\\t', header=0, index_col=0).rename_axis('snp_id')\n",
    "gt = gt[donor_ids]\n",
    "gt"
   ]
  },
  {
   "cell_type": "code",
   "execution_count": null,
   "id": "b741027a",
   "metadata": {},
   "outputs": [],
   "source": [
    "snps = gt.index.to_list()"
   ]
  },
  {
   "cell_type": "code",
   "execution_count": null,
   "id": "2738b2ea",
   "metadata": {},
   "outputs": [],
   "source": [
    "# Checks\n",
    "assert len(set(snps)) == len(snps), f'SNP labels not unique: total = {len(snps)}, unique = {len(set(snps))}'"
   ]
  },
  {
   "cell_type": "markdown",
   "id": "9a1feef2",
   "metadata": {},
   "source": [
    "### Compute snp-peak pairs for single-test mode"
   ]
  },
  {
   "cell_type": "code",
   "execution_count": null,
   "id": "3e046870",
   "metadata": {},
   "outputs": [],
   "source": [
    "any(mode in option for option in ['single-tests', 'peak-tests'])"
   ]
  },
  {
   "cell_type": "code",
   "execution_count": null,
   "id": "72551fdb",
   "metadata": {},
   "outputs": [],
   "source": [
    "if any(mode in option for option in ['single-tests', 'peak-tests']):\n",
    "\n",
    "    # snp -> peak pairs for testing\n",
    "\n",
    "    snps_bed = BedTool(SNP_LOCS_BED)\n",
    "    peaks_bed = BedTool(f'{FOOTPRINTS_METADATA_DIR}/{cell_type}/peaks.bed')\n",
    "\n",
    "    sp_pairs = snps_bed.intersect(peaks_bed, wa=True, wb=True)\n",
    "\n",
    "\n",
    "    # Save pairs bed\n",
    "\n",
    "    sp_pairs_out1 = f'{MATRIX_EQTL_INPUT_DIR}/{cell_type}/{mode}/tests_snp_peak_pairs.bed'\n",
    "    create_dir(sp_pairs_out1)\n",
    "    sp_pairs.saveas(sp_pairs_out1)\n",
    "\n",
    "    sp_pairs_out2 = f'{MATRIX_EQTL_OUTPUT_DIR}/{cell_type}/{mode}/tests_snp_peak_pairs.bed'\n",
    "    create_dir(sp_pairs_out2)\n",
    "    sp_pairs.saveas(sp_pairs_out2)\n",
    "\n",
    "\n",
    "    # Unique snps & peaks\n",
    "\n",
    "    snps_test = []\n",
    "    peaks_test = []\n",
    "\n",
    "    for pair in sp_pairs:\n",
    "\n",
    "        snps_test.append(pair.fields[3])\n",
    "        peaks_test.append(pair.fields[7])\n",
    "\n",
    "    snps_test = list(set(snps_test))\n",
    "    peaks_test = list(set(peaks_test))\n",
    "\n",
    "\n",
    "    # peak-snps map\n",
    "\n",
    "    if mode == 'peak-tests':\n",
    "\n",
    "        peak_snps_map = {p: [] for p in peaks_test} # {peak: [snps]}\n",
    "\n",
    "        for pair in sp_pairs:\n",
    "\n",
    "            peak_snps_map[pair.fields[7]].append(pair.fields[3])"
   ]
  },
  {
   "cell_type": "markdown",
   "id": "4649f6d2",
   "metadata": {},
   "source": [
    "# Matrix eQTL IO"
   ]
  },
  {
   "cell_type": "markdown",
   "id": "1a9002a9",
   "metadata": {},
   "source": [
    "## Genotype"
   ]
  },
  {
   "cell_type": "code",
   "execution_count": null,
   "id": "1195b800",
   "metadata": {},
   "outputs": [],
   "source": [
    "if mode == 'bulk-tests':\n",
    "\n",
    "    gt_path = f'{MATRIX_EQTL_INPUT_DIR}/{cell_type}/{mode}/genotype_NA.tsv'\n",
    "    create_dir(gt_path)\n",
    "    gt.to_csv(gt_path, sep='\\t', na_rep='NaN')\n",
    "\n",
    "else:\n",
    "\n",
    "    # Source\n",
    "    gt_path = f'{MATRIX_EQTL_INPUT_DIR}/{cell_type}/{mode}/genotype_NA_source.tsv'\n",
    "    create_dir(gt_path)\n",
    "    gt.to_csv(gt_path, sep='\\t', na_rep='NaN')\n",
    "\n",
    "\n",
    "if mode == 'single-tests':\n",
    "\n",
    "    for snp in snps_test:\n",
    "\n",
    "        # Individual\n",
    "        gt_snp_path = f'{MATRIX_EQTL_INPUT_DIR}/{cell_type}/{mode}/genotypes/genotype_NA%{snp}.tsv'\n",
    "        create_dir(gt_snp_path)\n",
    "        gt.loc[[snp], :].to_csv(gt_snp_path, sep='\\t', na_rep='NaN')\n",
    "\n",
    "elif mode == 'peak-tests':\n",
    "\n",
    "    for peak in peaks_test:\n",
    "\n",
    "        # Individual\n",
    "        gt_snp_path = f'{MATRIX_EQTL_INPUT_DIR}/{cell_type}/{mode}/genotypes/genotype_NA%{peak}.tsv'\n",
    "        create_dir(gt_snp_path)\n",
    "        gt.loc[peak_snps_map[peak], :].to_csv(gt_snp_path, sep='\\t', na_rep='NaN')"
   ]
  },
  {
   "cell_type": "markdown",
   "id": "f75834e6",
   "metadata": {},
   "source": [
    "## Phenotype matrix"
   ]
  },
  {
   "cell_type": "code",
   "execution_count": null,
   "id": "e52f4ec9",
   "metadata": {},
   "outputs": [],
   "source": [
    "# Create pheno matrix\n",
    "donor_id_map = adata.obs['donor_id'].to_dict()\n",
    "\n",
    "pheno_out = adata.to_df().T\n",
    "pheno_out = pheno_out.rename(columns=donor_id_map)\n",
    "pheno_out = pheno_out.rename_axis('peak_id')\n",
    "\n",
    "pheno_out"
   ]
  },
  {
   "cell_type": "code",
   "execution_count": null,
   "id": "6f24f232",
   "metadata": {},
   "outputs": [],
   "source": [
    "if mode == 'bulk-tests':\n",
    "\n",
    "    pheno_out_path = f'{MATRIX_EQTL_INPUT_DIR}/{cell_type}/{mode}/phenotype.tsv'\n",
    "    create_dir(pheno_out_path)\n",
    "    pheno_out.round(6).to_csv(pheno_out_path, sep='\\t', na_rep='NaN')\n",
    "\n",
    "elif any(mode in option for option in ['single-tests', 'peak-tests']):\n",
    "\n",
    "    # Source\n",
    "    pheno_out_path = f'{MATRIX_EQTL_INPUT_DIR}/{cell_type}/{mode}/phenotype_source.tsv'\n",
    "    create_dir(pheno_out_path)\n",
    "    pheno_out.round(6).to_csv(pheno_out_path, sep='\\t', na_rep='NaN')\n",
    "\n",
    "    for peak in peaks_test:\n",
    "\n",
    "        # Individual\n",
    "        phe_peak_path = f'{MATRIX_EQTL_INPUT_DIR}/{cell_type}/{mode}/phenotypes/phenotype%{peak}.tsv'\n",
    "        create_dir(phe_peak_path)\n",
    "        pheno_out.round(6).loc[[peak], :].to_csv(phe_peak_path, sep='\\t', na_rep='NaN')"
   ]
  },
  {
   "cell_type": "code",
   "execution_count": null,
   "id": "fd60718c",
   "metadata": {},
   "outputs": [],
   "source": [
    "del pheno_out\n",
    "gc.collect()"
   ]
  },
  {
   "cell_type": "markdown",
   "id": "b498dacf",
   "metadata": {},
   "source": [
    "## Peak locations"
   ]
  },
  {
   "cell_type": "code",
   "execution_count": null,
   "id": "13af5254-e520-477c-a17f-6c8565db00ec",
   "metadata": {},
   "outputs": [],
   "source": [
    "peak_locs = adata.var[['peak_name', 'chr', 'start', 'end']].copy()\n",
    "\n",
    "peak_locs['start'] = peak_locs['start'].astype(int)\n",
    "peak_locs['end'] = peak_locs['end'].astype(int)\n",
    "\n",
    "peak_locs['start'] = peak_locs['start'] - 1 # Peak naming is in 1-based fully closed notation. Format to 0-based half-open notation which is what is used in the genotype matri\n",
    "\n",
    "peak_locs"
   ]
  },
  {
   "cell_type": "code",
   "execution_count": null,
   "id": "3e798d00-dbb7-4617-873b-b6b9496a0389",
   "metadata": {},
   "outputs": [],
   "source": [
    "if mode == 'bulk-tests':\n",
    "\n",
    "    peak_loc_path = f'{MATRIX_EQTL_INPUT_DIR}/{cell_type}/{mode}/peak_location.tsv'\n",
    "    create_dir(peak_loc_path)\n",
    "    peak_locs.to_csv(peak_loc_path, sep='\\t', index=False, na_rep='NaN')\n",
    "\n",
    "elif any(mode in option for option in ['single-tests', 'peak-tests']):\n",
    "\n",
    "    # Source\n",
    "    peak_loc_path = f'{MATRIX_EQTL_INPUT_DIR}/{cell_type}/{mode}/peak_location_source.tsv'\n",
    "    create_dir(peak_loc_path)\n",
    "    peak_locs.to_csv(peak_loc_path, sep='\\t', index=False, na_rep='NaN')\n",
    "\n",
    "    for peak in peaks_test:\n",
    "\n",
    "        # Individual\n",
    "        peak_loc_path = f'{MATRIX_EQTL_INPUT_DIR}/{cell_type}/{mode}/peak_locations/peak_location%{peak}.tsv'\n",
    "        create_dir(peak_loc_path)\n",
    "        peak_locs.round(6).loc[[peak], :].to_csv(peak_loc_path, sep='\\t', index=False, na_rep='NaN')"
   ]
  },
  {
   "cell_type": "code",
   "execution_count": null,
   "id": "87c6f616",
   "metadata": {},
   "outputs": [],
   "source": [
    "del peak_locs\n",
    "gc.collect()"
   ]
  },
  {
   "cell_type": "markdown",
   "id": "930b2d55-5238-4a8e-94a5-41d3d51eccde",
   "metadata": {
    "tags": []
   },
   "source": [
    "## SNP locations"
   ]
  },
  {
   "cell_type": "code",
   "execution_count": null,
   "id": "f8139a88",
   "metadata": {},
   "outputs": [],
   "source": [
    "snp_locs = gt.index.to_frame()\n",
    "snp_locs['chr'] = snp_locs.index.str.split('_').str[0]\n",
    "snp_locs['pos'] = snp_locs.index.str.split('_').str[1].astype(int) - 1  # 1-based fully closed (snp) -> 0-based half-open (downstream, matrix-eQTL)\n",
    "snp_locs"
   ]
  },
  {
   "cell_type": "code",
   "execution_count": null,
   "id": "95971472-11d0-470f-a78f-ca0c8b86580e",
   "metadata": {},
   "outputs": [],
   "source": [
    "if mode == 'bulk-tests':\n",
    "\n",
    "    snp_locs_path = f'{MATRIX_EQTL_INPUT_DIR}/{cell_type}/{mode}/snp_location.tsv'\n",
    "    create_dir(snp_locs_path)\n",
    "    snp_locs.to_csv(snp_locs_path, sep='\\t', index=False, na_rep='NaN')\n",
    "\n",
    "elif any(mode in option for option in ['single-tests', 'peak-tests']):\n",
    "\n",
    "    # Source\n",
    "    snp_loc_path = f'{MATRIX_EQTL_INPUT_DIR}/{cell_type}/{mode}/snp_location_source.tsv'\n",
    "    create_dir(snp_loc_path)\n",
    "    snp_locs.to_csv(snp_loc_path, sep='\\t', index=False, na_rep='NaN')\n",
    "\n",
    "    for peak in peaks_test:\n",
    "\n",
    "        # Individual\n",
    "        snp_loc_path = f'{MATRIX_EQTL_INPUT_DIR}/{cell_type}/{mode}/snp_locations/snp_location%{peak}.tsv'\n",
    "        create_dir(snp_loc_path)\n",
    "        snp_locs.round(6).loc[peak_snps_map[peak], :].to_csv(snp_loc_path, sep='\\t', index=False, na_rep='NaN')"
   ]
  },
  {
   "cell_type": "code",
   "execution_count": null,
   "id": "44174319",
   "metadata": {},
   "outputs": [],
   "source": [
    "del gt\n",
    "del snp_locs\n",
    "gc.collect()"
   ]
  },
  {
   "cell_type": "markdown",
   "id": "14dd8fcf",
   "metadata": {},
   "source": [
    "## Covariates"
   ]
  },
  {
   "cell_type": "markdown",
   "id": "95744d73",
   "metadata": {},
   "source": [
    "### Phenotype PCs"
   ]
  },
  {
   "cell_type": "code",
   "execution_count": null,
   "id": "9c0ee090",
   "metadata": {},
   "outputs": [],
   "source": [
    "phe_pcs = pd.DataFrame(adata.obsm['X_pca'][:, 0:n_ca_pcs]).set_index(adata.obs['donor_id'])\n",
    "\n",
    "phe_pcs.columns = [f'phe_PC_{str(i)}' for i in range(1, len(phe_pcs.columns) + 1)]\n",
    "phe_pcs = phe_pcs.T\n",
    "phe_pcs = phe_pcs.rename_axis('id')\n",
    "\n",
    "phe_pcs"
   ]
  },
  {
   "cell_type": "markdown",
   "id": "21370322",
   "metadata": {},
   "source": [
    "### Genotype PCs"
   ]
  },
  {
   "cell_type": "code",
   "execution_count": null,
   "id": "b05297f9",
   "metadata": {},
   "outputs": [],
   "source": [
    "gt_pcs = pd.read_csv(GENOTYPE_PCS_TSV, sep=\"\\t\", index_col=0)\n",
    "\n",
    "gt_pcs = gt_pcs.T\n",
    "gt_pcs = gt_pcs[0:n_gt_pcs]\n",
    "gt_pcs = gt_pcs.rename_axis('id').rename(index={idx: f'gt_{idx}' for idx in gt_pcs.index})\n",
    "\n",
    "gt_pcs = gt_pcs[donor_ids]\n",
    "\n",
    "gt_pcs"
   ]
  },
  {
   "cell_type": "markdown",
   "id": "bb569f8e",
   "metadata": {},
   "source": [
    "### Nr of insertions per donor"
   ]
  },
  {
   "cell_type": "code",
   "execution_count": null,
   "id": "d3466bce",
   "metadata": {},
   "outputs": [],
   "source": [
    "n_frags = adata.obs[['donor_id', 'n_insertions']].set_index('donor_id').T\n",
    "n_frags"
   ]
  },
  {
   "cell_type": "markdown",
   "id": "e1efda1f",
   "metadata": {},
   "source": [
    "### Joint covariates"
   ]
  },
  {
   "cell_type": "code",
   "execution_count": null,
   "id": "eeb566ee",
   "metadata": {},
   "outputs": [],
   "source": [
    "covs = pd.concat([gt_pcs, phe_pcs, n_frags])\n",
    "covs = covs.rename_axis(index='id')\n",
    "covs = covs.round(7)\n",
    "covs   "
   ]
  },
  {
   "cell_type": "code",
   "execution_count": null,
   "id": "faefc08f",
   "metadata": {},
   "outputs": [],
   "source": [
    "if mode == 'bulk-tests':\n",
    "\n",
    "    covs_path = f'{MATRIX_EQTL_INPUT_DIR}/{cell_type}/{mode}/covariates.tsv'\n",
    "    create_dir(covs_path)\n",
    "    covs.to_csv(covs_path, sep='\\t', na_rep='NaN')\n",
    "\n",
    "elif any(mode in option for option in ['single-tests', 'peak-tests']):\n",
    "\n",
    "    # Populate peak-donor-insertions map\n",
    "    #   = extended peak-specific covariate rows\n",
    "\n",
    "    peak_donor_ins_map = {peak: {} for peak in peaks_test}\n",
    "                       # {'peak': {'donor1' : n_insertions, ...}}\n",
    "\n",
    "    \n",
    "    for donor, donor_id in zip(adata.obs['donor'], adata.obs['donor_id']):\n",
    "\n",
    "        bw = pyBigWig.open(f'{GROUPED_BIGWIG_FILES_DIR}/{cell_type}/{donor}_{cell_type}.bw')\n",
    "\n",
    "        for peak in peaks_test:\n",
    "\n",
    "            chr, start, end = peak.split(':')[0:3]\n",
    "\n",
    "            profile = bw.values(chr, int(start), int(end))\n",
    "            n_ins = np.nansum(profile).astype(int)\n",
    "            peak_donor_ins_map[peak][donor_id] = n_ins\n",
    "\n",
    "        bw.close()\n",
    "\n",
    "\n",
    "    # For CBPNet populate new map snp: donors: score and also extend covs in next section\n",
    "\n",
    "\n",
    "    # Export covs_extended\n",
    "\n",
    "    # Source\n",
    "    covs_path = f'{MATRIX_EQTL_INPUT_DIR}/{cell_type}/{mode}/covariates_source.tsv'\n",
    "    create_dir(covs_path)\n",
    "    covs.to_csv(covs_path, sep='\\t', na_rep='NaN')\n",
    "\n",
    "    for peak in peaks_test:\n",
    "\n",
    "        covs_extended = covs.copy()\n",
    "\n",
    "        row_label = f'n_insertions_{peak}'\n",
    "        covs_extended.loc[row_label] = pd.Series(peak_donor_ins_map[peak])\n",
    "\n",
    "        # Individual\n",
    "        covs_extended_path = f'{MATRIX_EQTL_INPUT_DIR}/{cell_type}/{mode}/covariates/covariates%{peak}.tsv'\n",
    "        create_dir(covs_extended_path)\n",
    "        covs_extended.to_csv(covs_extended_path, sep='\\t', na_rep='NaN')\n",
    "\n",
    "\n",
    "        "
   ]
  },
  {
   "cell_type": "code",
   "execution_count": null,
   "id": "92c25dd6",
   "metadata": {},
   "outputs": [],
   "source": [
    "del phe_pcs\n",
    "del gt_pcs\n",
    "del covs\n",
    "gc.collect()"
   ]
  },
  {
   "cell_type": "markdown",
   "id": "19e979af",
   "metadata": {},
   "source": [
    "# QTL mapping stats"
   ]
  },
  {
   "cell_type": "code",
   "execution_count": null,
   "id": "39483ca2",
   "metadata": {},
   "outputs": [],
   "source": [
    "# Gather stats\n",
    "\n",
    "stats = adata.obs[['n_cells', 'n_fragments']].describe()\n",
    "\n",
    "mean_cells_donor, std_cells_donor = stats['n_cells'].to_list()[1:3]\n",
    "mean_frags_donor, std_frags_donor = stats['n_fragments'].to_list()[1:3]\n",
    "\n",
    "total_cells = adata.obs['n_cells'].sum()\n",
    "total_frags = adata.obs['n_fragments'].sum()"
   ]
  },
  {
   "cell_type": "code",
   "execution_count": null,
   "id": "d988a48d",
   "metadata": {},
   "outputs": [],
   "source": [
    "stats_out_path = f'{MATRIX_EQTL_OUTPUT_DIR}/qtl_testing_metadata.tsv'\n",
    "\n",
    "create_dir(stats_out_path)\n",
    "\n",
    "with open(stats_out_path, 'a') as f:\n",
    "        \n",
    "    msg = f'\\n{RUN_ID}\\t' \\\n",
    "          f'{cell_type}\\t' \\\n",
    "          f'{n_donors}\\t' \\\n",
    "          f'{n_peaks}\\t' \\\n",
    "          f'{total_cells}\\t' \\\n",
    "          f'{mean_cells_donor:.1f}\\t' \\\n",
    "          f'{std_cells_donor:.1f}\\t' \\\n",
    "          f'{total_frags}\\t' \\\n",
    "          f'{mean_frags_donor:.1f}\\t' \\\n",
    "          f'{std_frags_donor:.1f}\\t'\n",
    "\n",
    "    f.write(msg)\n",
    "    print(msg)"
   ]
  }
 ],
 "metadata": {
  "kernelspec": {
   "display_name": "main05",
   "language": "python",
   "name": "main05"
  }
 },
 "nbformat": 4,
 "nbformat_minor": 5
}
