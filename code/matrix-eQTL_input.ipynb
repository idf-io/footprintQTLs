{
 "cells": [
  {
   "cell_type": "code",
   "execution_count": null,
   "id": "a9d18af4-f325-4093-8899-f0c4d02b1d9b",
   "metadata": {
    "tags": []
   },
   "outputs": [],
   "source": [
    "import pandas as pd\n",
    "import os\n",
    "import anndata as ad\n",
    "import numpy as np\n",
    "import scanpy as sc"
   ]
  },
  {
   "cell_type": "code",
   "execution_count": null,
   "id": "bd76848a-2425-477f-94ea-b9c7b73c2a9f",
   "metadata": {},
   "outputs": [],
   "source": [
    "# TMP\n",
    "PROJECT_PATH = '/home/fichtner/projects/footprintQTL'\n",
    "DATA_PATH = '/omics/groups/OE0540/internal/projects/HCA_organoid_2/cemm_sabrina-20Jul2022/'\n",
    "RNA_AD = 'outputs_allsamples/sabrina_allsamples_rna_final_after_atac.h5ad'\n",
    "\n",
    "import sys\n",
    "sys.path.append(PROJECT_PATH + \"/code\")\n",
    "from helpers.helpers import ct_format, get_anndata_coldata\n",
    "\n",
    "cells_coldata = get_anndata_coldata(os.path.join(DATA_PATH, RNA_AD))[0]\n",
    "dids_borgs = set(cells_coldata['donor_id'].unique().tolist())\n",
    "del cells_coldata"
   ]
  },
  {
   "cell_type": "code",
   "execution_count": null,
   "id": "a101abab-616d-4fc3-946b-92d6e3035385",
   "metadata": {},
   "outputs": [],
   "source": [
    "# Exclude for some weird reason, samples in QC but not in other files\n",
    "excl = {'SAMEA2474458', 'SAMEA2555012'}"
   ]
  },
  {
   "cell_type": "markdown",
   "id": "61a9ff9c-a57e-4d81-8a02-bd27bbd22360",
   "metadata": {},
   "source": [
    "# Chromatin accessibility (phenotype)"
   ]
  },
  {
   "cell_type": "code",
   "execution_count": null,
   "id": "64bf8e68-a9a7-47b6-bdf9-0e1d977548e5",
   "metadata": {
    "tags": []
   },
   "outputs": [],
   "source": [
    "borgs_tile_mat = ad.read_h5ad('../data/datasets/hca_brain-organoids_processed/chromatin_accessibility/peak-matrix_rna-qc-cells_norm-reads-in-tss.h5ad')\n",
    "borgs_tile_mat"
   ]
  },
  {
   "cell_type": "code",
   "execution_count": null,
   "id": "e88d76fc-1733-499c-9c0c-38c28560a543",
   "metadata": {},
   "outputs": [],
   "source": [
    "dids_tiles = set(borgs_tile_mat.obs['donor_id'])"
   ]
  },
  {
   "cell_type": "code",
   "execution_count": null,
   "id": "c6d2c440-2b3c-45bc-86f6-0587daf13188",
   "metadata": {},
   "outputs": [],
   "source": [
    "print(f'len dids_tiles: {len(dids_tiles)}')\n",
    "print(f'len dids_borgs: {len(dids_borgs)}')\n",
    "print(dids_tiles - dids_borgs)\n",
    "print(dids_borgs - dids_tiles)"
   ]
  },
  {
   "cell_type": "markdown",
   "id": "6cccea3d-9225-45d7-b44a-a85b22eff65d",
   "metadata": {},
   "source": [
    "## Pilot: Midbrain EN & DRD4"
   ]
  },
  {
   "cell_type": "markdown",
   "id": "9b6c79e7-fff7-45bb-87ad-4f24bbd3afa3",
   "metadata": {},
   "source": [
    "### Peak locations"
   ]
  },
  {
   "cell_type": "code",
   "execution_count": null,
   "id": "cdc54676-14c5-4bfa-ae75-402f7fb9e8a0",
   "metadata": {
    "tags": []
   },
   "outputs": [],
   "source": [
    "ph_pilot = borgs_tile_mat[borgs_tile_mat.obs['celltype'] == 'Midbrain EN', borgs_tile_mat.var['nearest_gene'] == 'DRD4']\n",
    "ph_pilot"
   ]
  },
  {
   "cell_type": "code",
   "execution_count": null,
   "id": "49d239ac-1977-4488-8bbc-828ca5e2071d",
   "metadata": {
    "tags": []
   },
   "outputs": [],
   "source": [
    "ph_pilot.obs"
   ]
  },
  {
   "cell_type": "code",
   "execution_count": null,
   "id": "b3dba95a-32fd-4f30-8f14-8b74da934bb1",
   "metadata": {
    "tags": []
   },
   "outputs": [],
   "source": [
    "ph_pilot.var"
   ]
  },
  {
   "cell_type": "code",
   "execution_count": null,
   "id": "2e25be80-7a08-46e4-af35-3385e4ce51da",
   "metadata": {},
   "outputs": [],
   "source": [
    "ph_pilot.var[['peak_name', 'chr', 'start', 'end']].to_csv(\"../data/datasets/hca_brain-organoids_processed/covariates/peak_locations.tsv\", sep='\\t', index=False)"
   ]
  },
  {
   "cell_type": "markdown",
   "id": "2694ce82-1862-4cf9-bd6c-4d6023e160b9",
   "metadata": {},
   "source": [
    "### Peak CA values"
   ]
  },
  {
   "cell_type": "code",
   "execution_count": null,
   "id": "1932e524-0f82-4a95-9261-3fa8dd1b4ca6",
   "metadata": {
    "tags": []
   },
   "outputs": [],
   "source": [
    "ph_pilot_df = ph_pilot.to_df().copy()\n",
    "ph_pilot_df = ph_pilot_df.rename(columns=ph_pilot.var['peak_name'].to_dict())\n",
    "ph_pilot_df"
   ]
  },
  {
   "cell_type": "code",
   "execution_count": null,
   "id": "81a4eb1d-0f15-42d9-9c39-70381c42a539",
   "metadata": {
    "tags": []
   },
   "outputs": [],
   "source": [
    "ph_pilot_df = ph_pilot_df.join(ph_pilot.obs['donor_id'], how='inner')\n",
    "\n",
    "del ph_pilot\n",
    "\n",
    "ph_pilot_df"
   ]
  },
  {
   "cell_type": "code",
   "execution_count": null,
   "id": "c6c29493-a589-4fc3-baf1-8eb2f5c5f97d",
   "metadata": {
    "tags": []
   },
   "outputs": [],
   "source": [
    "ph_pilot_df = ph_pilot_df.groupby('donor_id').mean().T\n",
    "ph_pilot_df = ph_pilot_df.rename_axis('peak_id')\n",
    "ph_pilot_df"
   ]
  },
  {
   "cell_type": "code",
   "execution_count": null,
   "id": "ffde8889-e69f-4b09-ae43-085351cd39f4",
   "metadata": {
    "tags": []
   },
   "outputs": [],
   "source": [
    "samples_set = list(set(ph_pilot_df.columns) - excl)\n",
    "\n",
    "ph_pilot_df = ph_pilot_df.loc[samples_set, :]\n",
    "ph_pilot_df"
   ]
  },
  {
   "cell_type": "code",
   "execution_count": null,
   "id": "4c4ea910-18b9-40c6-858e-79a3b090a3de",
   "metadata": {
    "tags": []
   },
   "outputs": [],
   "source": [
    "ph_pilot_df.round(6).to_csv(\"../data/datasets/hca_brain-organoids_processed/chromatin_accessibility/peak-matrix_rna-qc-cells_norm-reads-in-tss.tsv\", sep='\\t')"
   ]
  },
  {
   "cell_type": "markdown",
   "id": "ddf2ac6c-d443-4f74-ba03-8dfc1fe8c23d",
   "metadata": {},
   "source": [
    "### CA PCs"
   ]
  },
  {
   "cell_type": "code",
   "execution_count": null,
   "id": "23326bdd-6d82-4f71-b3d4-a610340138be",
   "metadata": {},
   "outputs": [],
   "source": [
    "grouped_ad = ad.AnnData(ph_pilot_df.T)\n",
    "grouped_ad.obs_names = ph_pilot_df.columns.tolist()\n",
    "grouped_ad.var_names = ph_pilot_df.index.tolist()\n",
    "\n",
    "del ph_pilot_df\n",
    "\n",
    "grouped_ad"
   ]
  },
  {
   "cell_type": "code",
   "execution_count": null,
   "id": "afdb0f5f-9ec3-4389-9afe-4311abbf1ac4",
   "metadata": {},
   "outputs": [],
   "source": [
    "sc.pp.pca(grouped_ad)"
   ]
  },
  {
   "cell_type": "code",
   "execution_count": null,
   "id": "955e70f9-3c79-4e35-8a3d-b3b8bbe9c7bc",
   "metadata": {},
   "outputs": [],
   "source": [
    "ca_pcs = pd.DataFrame(grouped_ad.obsm['X_pca'][:, 0:20]).set_index(grouped_ad.obs_names)\n",
    "ca_pcs.columns = [f'caPC_{str(i)}' for i in range(1, 21)]\n",
    "ca_pcs = ca_pcs.T\n",
    "ca_pcs = ca_pcs.rename_axis('id')\n",
    "ca_pcs[samples_set].to_csv(\"../data/datasets/hca_brain-organoids_processed/covariates/ca_pcs.tsv\", sep='\\t')\n",
    "ca_pcs"
   ]
  },
  {
   "cell_type": "code",
   "execution_count": null,
   "id": "d4b2dd2f-70d1-4f77-b419-2f0b59fb1b5b",
   "metadata": {},
   "outputs": [],
   "source": [
    "del grouped_ad\n",
    "del ca_pcs"
   ]
  },
  {
   "cell_type": "code",
   "execution_count": null,
   "id": "91450a53-92d8-4c0a-84c3-ea5a40a6c45c",
   "metadata": {},
   "outputs": [],
   "source": [
    "borgs_tile_mat.file.close()"
   ]
  },
  {
   "cell_type": "markdown",
   "id": "31a103a7-e59b-474b-a2dd-86902d5f4770",
   "metadata": {},
   "source": [
    "## Filter features"
   ]
  },
  {
   "cell_type": "code",
   "execution_count": null,
   "id": "7643d4a7-4aec-469a-9b0d-5125678996c7",
   "metadata": {},
   "outputs": [],
   "source": [
    "# Subset to cell type\n",
    "borgs_men = borgs_tile_mat[borgs_tile_mat.obs['celltype'] == 'Midbrain EN', :]\n",
    "borgs_men"
   ]
  },
  {
   "cell_type": "code",
   "execution_count": null,
   "id": "346ebcaa-6e7a-4f3f-b211-ea23a20acb18",
   "metadata": {},
   "outputs": [],
   "source": [
    "# Make df and aggregate across cells of the same donor\n",
    "\n",
    "borgs_men_df = borgs_men.to_df().copy()\n",
    "\n",
    "\n",
    "\n",
    "borgs_men_df = borgs_men_df.rename(columns=borgs_men.var['peak_name'].to_dict())\n",
    "borgs_men_df = borgs_men_df.join(borgs_men.obs['donor_id'], how='inner')\n",
    "\n",
    "borgs_men_df = borgs_men_df.groupby('donor_id').mean()\n",
    "borgs_men_df = borgs_men_df.rename_axis('donor')\n",
    "\n",
    "borgs_men_df = borgs_men[samples_set]\n",
    "\n",
    "del borgs_men\n",
    "\n",
    "borgs_men_df"
   ]
  },
  {
   "cell_type": "code",
   "execution_count": null,
   "id": "1b095bdc-fc75-4a57-92b2-cfa38ae32f99",
   "metadata": {},
   "outputs": [],
   "source": [
    "# Number of non-sparse peaks\n",
    "\n",
    "thresh = 0.05\n",
    "tot = len(borgs_men_df.columns)\n",
    "npeaks_005 = sum((borgs_men_df != 0).mean() > thresh)\n",
    "# npeaks_005 = borgs_men_df.loc[:, ((borgs_men_df != 0).mean() > thresh).values]\n",
    "print(f'Total nr peaks: {tot:.2f}' \\\n",
    "      f'Filtered nr peaks: {npeaks_005}' \\\n",
    "      f'Proportion: {npeaks_005 / tot:.2f}'\n",
    "    )\n",
    "\n",
    "thresh = 0.10\n",
    "npeaks_010 = sum((borgs_men_df != 0).mean() > thresh)\n",
    "# npeaks_010 = borgs_men_df.loc[:, ((borgs_men_df != 0).mean() > thresh).values]\n",
    "print(f'Total nr peaks: {tot:.2f}' \\\n",
    "      f'Filtered nr peaks: {npeaks_010}' \\\n",
    "      f'Proportion: {npeaks_010 / tot:.2f}'\n",
    "    )"
   ]
  },
  {
   "cell_type": "code",
   "execution_count": null,
   "id": "02a66177-093a-44e7-a3d2-44f3dc1273ea",
   "metadata": {},
   "outputs": [],
   "source": [
    "del borgs_men_df"
   ]
  },
  {
   "cell_type": "code",
   "execution_count": null,
   "id": "4a05d05b-3abe-4695-b8fa-1e5f8c0ba1f8",
   "metadata": {},
   "outputs": [],
   "source": [
    "# Density of CA\n",
    "\n",
    "non0 = borgs_men.X.count_nonzero()\n",
    "all_ = np.product(borgs_men.X.shape)\n",
    "print(f'Density: {non0 / all_}')"
   ]
  },
  {
   "cell_type": "markdown",
   "id": "83ada1a8-b0c5-40a2-b414-564c99c239b2",
   "metadata": {},
   "source": [
    "# Genotype"
   ]
  },
  {
   "cell_type": "code",
   "execution_count": null,
   "id": "c2b0f91b-00da-4abb-aa3c-bcc67d6e8a08",
   "metadata": {
    "tags": []
   },
   "outputs": [],
   "source": [
    "gt = pd.read_csv('../data/datasets/hca_brain-organoids_processed/covariates/genotype.tsv', sep='\\t', header=0, index_col=0).rename_axis('snp_id')\n",
    "gt = gt.rename(index=lambda x: 'chr' + str(x))\n",
    "gt"
   ]
  },
  {
   "cell_type": "code",
   "execution_count": null,
   "id": "600771b8-9d59-472c-808b-bec1fee4f054",
   "metadata": {},
   "outputs": [],
   "source": [
    "dids_genotypes = set(gt.columns.tolist())"
   ]
  },
  {
   "cell_type": "code",
   "execution_count": null,
   "id": "b162b21b-87a5-46b5-9fd2-5e63cc409496",
   "metadata": {},
   "outputs": [],
   "source": [
    "print(f'len dids_genotypes: {len(dids_genotypes)}')\n",
    "print(f'len dids_borgs: {len(dids_borgs)}')\n",
    "print(dids_genotypes - dids_borgs)\n",
    "print(dids_borgs - dids_genotypes)"
   ]
  },
  {
   "cell_type": "code",
   "execution_count": null,
   "id": "755cbbd5-1d7b-473e-937c-6077b8cd6ad4",
   "metadata": {},
   "outputs": [],
   "source": [
    "snps_set = gt.index"
   ]
  },
  {
   "cell_type": "code",
   "execution_count": null,
   "id": "b9bb7f21-7008-49d5-9cd9-ad50dc233b22",
   "metadata": {
    "tags": []
   },
   "outputs": [],
   "source": [
    "gt = gt[samples_set]\n",
    "gt.to_csv('../data/datasets/hca_brain-organoids_processed/covariates/genotype_NA.tsv', sep='\\t', na_rep='NaN')"
   ]
  },
  {
   "cell_type": "markdown",
   "id": "9732f11d-be79-463d-8044-c445e8d067a8",
   "metadata": {
    "tags": []
   },
   "source": [
    "# Covariates"
   ]
  },
  {
   "cell_type": "markdown",
   "id": "2e9fc06a-189e-41ad-bfe7-78d5bcd9d930",
   "metadata": {},
   "source": [
    "## Population structure"
   ]
  },
  {
   "cell_type": "code",
   "execution_count": null,
   "id": "e11b7a12-d266-4949-97b6-6b2ed04cddf8",
   "metadata": {},
   "outputs": [],
   "source": [
    "gt_pcs = pd.read_csv(\"/omics/groups/OE0540/internal/projects/HCA_organoid_2/cemm_sabrina-20Jul2022/Genotypes/GT_PCs.tsv\", sep=\"\\t\", index_col=0)\n",
    "gt_pcs_matrixQTL = gt_pcs.T\n",
    "gt_pcs_matrixQTL = gt_pcs_matrixQTL.rename_axis('id')"
   ]
  },
  {
   "cell_type": "code",
   "execution_count": null,
   "id": "15e8fb72-eec2-45ed-b301-f909ca5c9363",
   "metadata": {},
   "outputs": [],
   "source": [
    "gt_pcs_matrixQTL"
   ]
  },
  {
   "cell_type": "code",
   "execution_count": null,
   "id": "c27e249c-531d-46a4-b788-5cdf7e46d1d2",
   "metadata": {},
   "outputs": [],
   "source": [
    "parent_dir = \"/home/fichtner/projects/footprintQTL/data/datasets/hca_brain-organoids_processed/covariates/\"\n",
    "\n",
    "if not os.path.isdir(parent_dir):\n",
    "    os.makedirs(parent_dir)"
   ]
  },
  {
   "cell_type": "code",
   "execution_count": null,
   "id": "6f14f260-e49f-4a8a-a226-6cf1bc5ede4e",
   "metadata": {},
   "outputs": [],
   "source": [
    "gt_pcs_matrixQTL[samples_set].to_csv(\"/home/fichtner/projects/footprintQTL/data/datasets/hca_brain-organoids_processed/covariates/genotype_pcs.tsv\", sep='\\t')"
   ]
  },
  {
   "cell_type": "code",
   "execution_count": null,
   "id": "fe1fafac-8ec2-4b1e-b1ea-82db851e1a1d",
   "metadata": {},
   "outputs": [],
   "source": [
    "dids_cov = set(gt_pcs_matrixQTL.columns.tolist())"
   ]
  },
  {
   "cell_type": "code",
   "execution_count": null,
   "id": "418e9a68-1c2a-4522-a2d7-ee2ef8ab7baa",
   "metadata": {},
   "outputs": [],
   "source": [
    "print(f'len dids_cov: {len(dids_cov)}')\n",
    "print(f'len dids_borgs: {len(dids_borgs)}')\n",
    "print(dids_cov - dids_borgs)\n",
    "print(dids_borgs - dids_cov)"
   ]
  },
  {
   "cell_type": "code",
   "execution_count": null,
   "id": "1682c038-9d95-454a-ad2a-5557f61e7a51",
   "metadata": {},
   "outputs": [],
   "source": [
    "del gt_pcs\n",
    "del gt_pcs_matrixQTL"
   ]
  },
  {
   "cell_type": "markdown",
   "id": "16e7ee54-d52e-4197-aae9-72828acdcec7",
   "metadata": {
    "tags": []
   },
   "source": [
    "## SNP locations"
   ]
  },
  {
   "cell_type": "code",
   "execution_count": null,
   "id": "e3a959e9-3b3c-4542-b6b5-3d24e1e126ac",
   "metadata": {},
   "outputs": [],
   "source": [
    "snps = pd.read_csv(\"../data/datasets/hca_brain-organoids_processed/covariates/genotype.vcf\",\n",
    "                   sep=\"\\t\",\n",
    "                   comment=\"#\",\n",
    "                   header=None,\n",
    "                   names=[\"CHROM\", \"POS\", \"ID\", \"REF\", \"ALT\", \"QUAL\", \"FILTER\", \"INFO\", \"FORMAT\", \"SAMEA2536416\", \"SAMEA3854313\", \"SAMEA3853161\", \"SAMEA3966392\", \"SAMEA2625592\", \"SAMEA2698309\", \"SAMEA3962624\", \"SAMEA3965165\", \"SAMEA2595426\", \"SAMEA3962389\", \"SAMEA3973854\", \"SAMEA3847031\", \"SAMEA2547622\", \"SAMEA3854308\", \"SAMEA3964906\", \"SAMEA2536410\", \"SAMEA3735541\", \"SAMEA2590621\", \"SAMEA2698315\", \"SAMEA2445784\", \"SAMEA3973848\", \"SAMEA3962524\", \"SAMEA3485962\", \"SAMEA2609965\", \"SAMEA3851971\", \"SAMEA4089454\", \"SAMEA2613912\", \"SAMEA3963885\", \"SAMEA3963884\", \"SAMEA2613897\", \"SAMEA4089453\", \"SAMEA3851966\", \"SAMEA3974241\", \"SAMEA4343052\", \"SAMEA3962619\", \"SAMEA3853122\", \"SAMEA3974015\", \"SAMEA2518325\", \"SAMEA2433566\", \"SAMEA2459959\", \"SAMEA2675459\", \"SAMEA2682671\", \"SAMEA2645805\", \"SAMEA2711371\", \"SAMEA2593858\", \"SAMEA2445790\", \"SAMEA2518322\", \"SAMEA2547619\", \"SAMEA2627577\", \"SAMEA2547637\", \"SAMEA3977051\", \"SAMEA2445779\", \"SAMEA2609971\", \"SAMEA3974247\", \"SAMEA2658107\", \"SAMEA3754205\", \"SAMEA2547644\", \"SAMEA2678742\", \"SAMEA2474454\", \"SAMEA2627566\", \"SAMEA2518334\", \"SAMEA3967410\", \"SAMEA2536404\", \"SAMEA2627578\", \"SAMEA2518324\", \"SAMEA3968753\", \"SAMEA2547899\", \"SAMEA3754201\", \"SAMEA2570435\", \"SAMEA2658084\", \"SAMEA4451098\", \"SAMEA2678738\", \"SAMEA2547633\", \"SAMEA2609972\", \"SAMEA2707499\", \"SAMEA2555017\", \"SAMEA2420640\", \"SAMEA4451109\", \"SAMEA3448738\", \"SAMEA2627141\", \"SAMEA3485958\", \"SAMEA2536413\", \"SAMEA2464819\", \"SAMEA2627567\", \"SAMEA2645814\"],\n",
    "                   index_col=False\n",
    "                  )\n",
    "\n",
    "snps = snps[['ID', 'CHROM', 'POS']].rename(columns={'ID': 'snp_id', 'CHROM': 'chr', 'POS': 'pos'})\n",
    "snps = snps.set_index('snp_id')"
   ]
  },
  {
   "cell_type": "code",
   "execution_count": null,
   "id": "334d0eae-575f-4d5d-9927-d04564f73f34",
   "metadata": {},
   "outputs": [],
   "source": [
    "snps"
   ]
  },
  {
   "cell_type": "code",
   "execution_count": null,
   "id": "0db55588-9402-4ca0-ad66-eaf17cf88770",
   "metadata": {},
   "outputs": [],
   "source": [
    "snps = snps.loc[snps_set]\n",
    "snps.to_csv(\"../data/datasets/hca_brain-organoids_processed/covariates/snp_locations.tsv\", sep='\\t')"
   ]
  },
  {
   "cell_type": "code",
   "execution_count": null,
   "id": "56362994-2441-424c-ac44-ffa232bec4c3",
   "metadata": {},
   "outputs": [],
   "source": [
    "del snps"
   ]
  }
 ],
 "metadata": {
  "kernelspec": {
   "display_name": "ian",
   "language": "python",
   "name": "ian"
  },
  "language_info": {
   "codemirror_mode": {
    "name": "ipython",
    "version": 3
   },
   "file_extension": ".py",
   "mimetype": "text/x-python",
   "name": "python",
   "nbconvert_exporter": "python",
   "pygments_lexer": "ipython3",
   "version": "3.9.19"
  }
 },
 "nbformat": 4,
 "nbformat_minor": 5
}
