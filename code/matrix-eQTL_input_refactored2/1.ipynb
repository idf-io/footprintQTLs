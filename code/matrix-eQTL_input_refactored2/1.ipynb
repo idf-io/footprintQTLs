{
 "cells": [
  {
   "cell_type": "code",
   "execution_count": null,
   "id": "6d067363-b8de-4faa-b6f6-44e20c5eb7ac",
   "metadata": {},
   "outputs": [],
   "source": [
    "import psutil\n",
    "import gc\n",
    "\n",
    "p = psutil.Process()\n",
    "\n",
    "def printM(process, mark=None):\n",
    "    \n",
    "    memory_usage_mb = process.memory_info().rss / (1024 ** 3)\n",
    "    \n",
    "    if mark:\n",
    "        \n",
    "        print(f\"$ RAM @ {mark} = {memory_usage_mb:.2f} GB of RAM.\")\n",
    "        \n",
    "    else:\n",
    "        \n",
    "        print(f\"$ RAM = {memory_usage_mb:.2f} GB of RAM.\")\n",
    "\n",
    "    \n",
    "printM(p, \"0\")"
   ]
  },
  {
   "cell_type": "code",
   "execution_count": null,
   "id": "a9cdd7c0-7068-4ee3-9d75-47a59b613cf6",
   "metadata": {
    "tags": []
   },
   "outputs": [],
   "source": [
    "import os\n",
    "import sys\n",
    "import subprocess\n",
    "import math\n",
    "import json\n",
    "from datetime import date\n",
    "\n",
    "import numpy as np\n",
    "import pandas as pd\n",
    "from matplotlib import pyplot as pl\n",
    "import seaborn as sns\n",
    "import scipy as sp\n",
    "\n",
    "import anndata as ad\n",
    "import scanpy as sc"
   ]
  },
  {
   "cell_type": "markdown",
   "id": "e34cdc5b-4cc0-4625-9439-ad344cbf66b8",
   "metadata": {},
   "source": [
    "### User variables"
   ]
  },
  {
   "cell_type": "code",
   "execution_count": null,
   "id": "fbdd82b8-c3c0-43ed-b12c-fc88823fe964",
   "metadata": {},
   "outputs": [],
   "source": [
    "cell_type = str(\"Glia\")\n",
    "CT_MAP_JSON_PATH = \"config/cell-type_groupings/hca_brain-organoids/approach_2024-09-12.json\"\n",
    "\n",
    "RUN_ID = \"meqtl_io_\" + f\"{date.today().strftime('%Y-%m-%d')}_{CT_MAP_JSON_PATH}\"\n",
    "DATASET_ID = \"hca_brain-organoids\""
   ]
  },
  {
   "cell_type": "code",
   "execution_count": null,
   "id": "de55ef2a-bc8d-43db-9fc1-e37c5330c7a2",
   "metadata": {},
   "outputs": [],
   "source": [
    "PROJ_ROOT = \"/home/fichtner/projects/footprintQTL\"\n",
    "HCA_BORGS_PROJ = \"data/datasets/hca_brain-organoids/\"\n",
    "ATAC_PEAKS_PATH = os.path.join(PROJ_ROOT, \"data/datasets/hca_brain-organoids_processed/chromatin_accessibility/peak-matrix_rna-qc-cells_norm-reads-in-tss.h5ad\")\n",
    "RNA_AD_PATH = os.path.join(PROJ_ROOT, \"data/datasets/hca_brain-organoids/outputs_allsamples/sabrina_allsamples_rna_final_after_atac.h5ad\")"
   ]
  },
  {
   "cell_type": "code",
   "execution_count": null,
   "id": "5ae4b07c-ed2a-4a58-9d98-5643d4c4c5d4",
   "metadata": {},
   "outputs": [],
   "source": [
    "bedtools_bin = '/home/fichtner/.conda/envs/ian/bin/bedtools'"
   ]
  },
  {
   "cell_type": "code",
   "execution_count": null,
   "id": "89866dc6-b99a-4bee-934a-4119f914f544",
   "metadata": {},
   "outputs": [],
   "source": [
    "min_cells = 10 # All cts: cell-level | Minimum amount of cells a peak needs to for the peak to be retained (required for functions to work)\n",
    "\n",
    "n_top_hvps = 10000 # 1 ct: cell-level | Top n ranked peaks to consider in highly-variable-peaks\n",
    "min_mean_acells = 0.0125 # 1 ct: cell-level | Minimum mean value across all cells and donors within ct\n",
    "max_mean_acells = 3 # 1 ct: cell-level | Maximum mean value across all cells and donors within ct\n",
    "\n",
    "min_pval = 0.01 # Min p-value for marker peaks to be considered in the first place in differential peak accessibility\n",
    "n_top_markers = 10000 # All cts: donor-level (cell agg.) | Top n ranking markers peaks to consider\n",
    "\n",
    "min_mean_adonors = 0.002 # 1 ct: donor-level (cell agg.) | Minimum threshold of peak mean across donors\n",
    "min_donors = 0.26 # 1 ct: donor-level (cell agg.) | Minimum percentage of donors a peak needs to be found in AKA Peak sparsity filter\n",
    "min_score = 9 #  1 ct: donor-level (cell agg.) | 30449843Minimum score (resulting -log10(q-val) of peak calling w MACS2\n",
    "\n",
    "n_ca_PCs = 5 # Nr of chromatin accessibility PCs used as covariate"
   ]
  },
  {
   "cell_type": "markdown",
   "id": "08d23c30-c743-4ff8-ad6a-3bb315b94c99",
   "metadata": {},
   "source": [
    "### Variables"
   ]
  },
  {
   "cell_type": "code",
   "execution_count": null,
   "id": "07a0c332-9e8e-4004-a1f0-c4c78d30b91a",
   "metadata": {},
   "outputs": [],
   "source": [
    "os.chdir(PROJ_ROOT)\n",
    "\n",
    "sys.path.append(os.path.join(PROJ_ROOT, \"code\"))\n",
    "from helpers.helpers import ct_format, ct_format_alt, create_folder"
   ]
  },
  {
   "cell_type": "code",
   "execution_count": null,
   "id": "afe4a751-ad05-47c1-85da-2c35896942ff",
   "metadata": {
    "tags": []
   },
   "outputs": [],
   "source": [
    "cell_type_alt = ct_format_alt(cell_type)\n",
    "cell_type = ct_format(cell_type)"
   ]
  },
  {
   "cell_type": "code",
   "execution_count": null,
   "id": "f0b2eb66-6323-4203-97ee-1ead3eb61035",
   "metadata": {},
   "outputs": [],
   "source": [
    "ct_map_id = os.path.basename(CT_MAP_JSON_PATH).split('.')[0]\n",
    "\n",
    "# Get ct-ann --> grouped-ct mappings\n",
    "with open(CT_MAP_JSON_PATH, 'r') as f:\n",
    "    ct_map = json.load(f)\n",
    "\n",
    "# Format\n",
    "ct_map_alt = {ct_format_alt(key): [ct_format_alt(e) for e in listt] for key, listt in ct_map.items()}\n",
    "ct_map_i_alt = {ct_format_alt(old_ct): ct_format_alt(new_ct) for new_ct, old_cts in ct_map.items() for old_ct in old_cts}\n",
    "\n",
    "ct_map = {ct_format(key): [ct_format(e) for e in listt] for key, listt in ct_map.items()}\n",
    "ct_map_i = {old_ct: new_ct for new_ct, old_cts in ct_map.items() for old_ct in old_cts}"
   ]
  },
  {
   "cell_type": "markdown",
   "id": "ee6c046a-0aef-4f0f-843f-82154da0966f",
   "metadata": {},
   "source": [
    "### Artifact donors"
   ]
  },
  {
   "cell_type": "code",
   "execution_count": null,
   "id": "c5f12b37-8001-45ec-9015-c33fe88d6c18",
   "metadata": {},
   "outputs": [],
   "source": [
    "# # TMP\n",
    "# PROJECT_PATH = '/home/fichtner/projects/footprintQTL'\n",
    "# DATA_PATH = '/omics/groups/OE0540/internal/projects/HCA_organoid_2/cemm_sabrina-20Jul2022/'\n",
    "# RNA_AD = 'outputs_allsamples/sabrina_allsamples_rna_final_after_atac.h5ad'\n",
    "\n",
    "# import sys\n",
    "# sys.path.append(PROJECT_PATH + \"/code\")\n",
    "# from helpers.helpers import ct_format, get_anndata_coldata\n",
    "\n",
    "# cells_coldata = get_anndata_coldata(os.path.join(DATA_PATH, RNA_AD))[0]\n",
    "# del cells_coldata"
   ]
  },
  {
   "cell_type": "code",
   "execution_count": null,
   "id": "27819ebf-b8d0-4915-91cf-cc2edf2e443b",
   "metadata": {},
   "outputs": [],
   "source": [
    "# Exclude for some weird reason, samples in QC but not in other files\n",
    "artifact_donors = {'SAMEA2474458', 'SAMEA2555012'}"
   ]
  },
  {
   "cell_type": "code",
   "execution_count": null,
   "id": "0ea8785e-4065-42b1-a2b5-dcff8034568a",
   "metadata": {},
   "outputs": [],
   "source": [
    "printM(p)"
   ]
  },
  {
   "cell_type": "markdown",
   "id": "333a3498-4091-4465-87fc-dc149654a63d",
   "metadata": {},
   "source": [
    "# Get data"
   ]
  },
  {
   "cell_type": "markdown",
   "id": "cb96a46c-5f3e-49de-abe7-c0f51312f52b",
   "metadata": {},
   "source": [
    "## Chromatin accessibility cell-level anndata"
   ]
  },
  {
   "cell_type": "code",
   "execution_count": null,
   "id": "46a48856-1746-4ac8-9193-688d7405637e",
   "metadata": {
    "tags": []
   },
   "outputs": [],
   "source": [
    "borgs_tile_mat = ad.read_h5ad(ATAC_PEAKS_PATH)\n",
    "\n",
    "# Format\n",
    "borgs_tile_mat.var_names = borgs_tile_mat.var['peak_name']\n",
    "borgs_tile_mat.obs['cell_type'] = borgs_tile_mat.obs['cell_type'].apply(ct_format)\n",
    "borgs_tile_mat.obs['cell_type'] = borgs_tile_mat.obs['cell_type'].map(ct_map_i).astype('category')\n",
    "\n",
    "# Filter cell-types marked 'Discard'\n",
    "if 'Discard' in borgs_tile_mat.obs['cell_type'].cat.categories:\n",
    "    borgs_tile_mat = borgs_tile_mat[~(borgs_tile_mat.obs['cell_type'] == 'Discard'), :].copy()\n",
    "    gc.collect()\n",
    "\n",
    "    if 'Discard' in borgs_tile_mat.obs['cell_type'].cat.categories:\n",
    "        borgs_tile_mat.obs['cell_type'] = borgs_tile_mat.obs['cell_type'].cat.remove_categories('Discard')\n",
    "\n",
    "\n",
    "printM(p)\n",
    "print(borgs_tile_mat.obs['cell_type'].cat.categories)\n",
    "borgs_tile_mat"
   ]
  },
  {
   "cell_type": "code",
   "execution_count": null,
   "id": "eba0eef2-c1f3-4c17-9a2c-1664232b7234",
   "metadata": {},
   "outputs": [],
   "source": [
    "borgs_tile_mat.obs['cell_type']"
   ]
  },
  {
   "cell_type": "code",
   "execution_count": null,
   "id": "9b6d514a-b8ab-46c4-b493-461800aace80",
   "metadata": {},
   "outputs": [],
   "source": [
    "# Remove artifact donors\n",
    "donors_qc = ~borgs_tile_mat.obs['donor_id'].isin(artifact_donors)\n",
    "\n",
    "borgs_tile_mat = borgs_tile_mat[donors_qc, :].copy()\n",
    "gc.collect()\n",
    "\n",
    "borgs_tile_mat.shape"
   ]
  },
  {
   "cell_type": "markdown",
   "id": "16cb7b6a-aeb3-4044-a57a-6335ee7f75e8",
   "metadata": {},
   "source": [
    "### Get cell-type anndata"
   ]
  },
  {
   "cell_type": "code",
   "execution_count": null,
   "id": "730fb2bc-cf71-40bb-8825-7efc75b1c8d9",
   "metadata": {
    "tags": []
   },
   "outputs": [],
   "source": [
    "caPeaks_1ct = borgs_tile_mat[borgs_tile_mat.obs['cell_type'] == cell_type, :].copy()\n",
    "gc.collect()\n",
    "\n",
    "printM(p)\n",
    "caPeaks_1ct"
   ]
  },
  {
   "cell_type": "code",
   "execution_count": null,
   "id": "85b38ea0-39d2-4481-8c02-60f334393894",
   "metadata": {
    "tags": []
   },
   "outputs": [],
   "source": [
    "n_peaks_og = caPeaks_1ct.n_vars"
   ]
  },
  {
   "cell_type": "code",
   "execution_count": null,
   "id": "4fe34a17-c6b9-44ea-b578-25a3e446ac16",
   "metadata": {},
   "outputs": [],
   "source": [
    "caPeaks_1ct.obs['cell_type'].cat.categories"
   ]
  },
  {
   "cell_type": "markdown",
   "id": "b3c05c53-d2f1-4d25-ab7e-3fa4f2e2f939",
   "metadata": {},
   "source": [
    "### Hard peak filter: Remove peaks w min cell nr within ct"
   ]
  },
  {
   "cell_type": "code",
   "execution_count": null,
   "id": "19ef49a7-91d8-4213-a02c-6ce228eaaf5f",
   "metadata": {
    "tags": []
   },
   "outputs": [],
   "source": [
    "# Required for HVPeaks\n",
    "sc.pp.filter_genes(caPeaks_1ct, min_cells=min_cells)\n",
    "\n",
    "n_cells, n_peaks_post_min_cells = caPeaks_1ct.shape\n",
    "caPeaks_1ct.shape"
   ]
  },
  {
   "cell_type": "code",
   "execution_count": null,
   "id": "3481c917-95cd-4dec-a89c-96b335fa5973",
   "metadata": {},
   "outputs": [],
   "source": [
    "n_peaks_min_cells = n_peaks_og - n_peaks_post_min_cells"
   ]
  },
  {
   "cell_type": "code",
   "execution_count": null,
   "id": "10e58c1e-5042-4543-93b7-c43a03baeddd",
   "metadata": {},
   "outputs": [],
   "source": [
    "# Remove hard-filtered peaks from cell-level anndata\n",
    "borgs_tile_mat = borgs_tile_mat[:, caPeaks_1ct.var_names].copy()\n",
    "gc.collect()"
   ]
  },
  {
   "cell_type": "markdown",
   "id": "0ed92746-3088-4225-a58d-65785beb5112",
   "metadata": {},
   "source": [
    "### Cell-type cells level stats"
   ]
  },
  {
   "cell_type": "code",
   "execution_count": null,
   "id": "1411198a-4ac3-4dbd-8906-1e4ded8b8f46",
   "metadata": {},
   "outputs": [],
   "source": [
    "# describe_result = sp.stats.describe(caPeaks_1ct.X.toarray(), axis=0)\n",
    "\n",
    "# stats = {\n",
    "#     'nobs': [describe_result.nobs] * len(describe_result.mean),\n",
    "#     'min': describe_result.minmax[0],\n",
    "#     'max': describe_result.minmax[1],\n",
    "#     'mean': describe_result.mean,\n",
    "#     'variance': describe_result.variance,\n",
    "#     'skewness': describe_result.skewness,\n",
    "#     'kurtosis': describe_result.kurtosis\n",
    "# }\n",
    "\n",
    "# # Create a DataFrame with the statistics\n",
    "# df = pd.DataFrame(stats)\n",
    "# df = df.transpose().reset_index().rename(columns={'index': 'statistic'}).set_index('statistic')\n",
    "\n",
    "# df"
   ]
  },
  {
   "cell_type": "markdown",
   "id": "e4077b5e-ce8c-4d86-8b3c-226e95289c1b",
   "metadata": {
    "tags": []
   },
   "source": [
    "### Init donor-level CA matrix"
   ]
  },
  {
   "cell_type": "code",
   "execution_count": null,
   "id": "5c4ec331-17dd-4749-bd3c-e7021108dd11",
   "metadata": {},
   "outputs": [],
   "source": [
    "caPeaks_1ct_agg = sc.get.aggregate(caPeaks_1ct,\n",
    "                                   by=['donor_id'],\n",
    "                                   func=['mean'],\n",
    "                                   axis='obs')\n",
    "\n",
    "caPeaks_1ct_agg.X = caPeaks_1ct_agg.layers['mean'].copy()\n",
    "del caPeaks_1ct_agg.layers['mean']\n",
    "n_donors = caPeaks_1ct_agg.n_obs\n",
    "\n",
    "printM(p)\n",
    "caPeaks_1ct_agg"
   ]
  },
  {
   "cell_type": "code",
   "execution_count": null,
   "id": "8f886287-5142-4dc9-97d0-67a61aa95c3e",
   "metadata": {},
   "outputs": [],
   "source": [
    "agg_df = caPeaks_1ct_agg.to_df()\n",
    "\n",
    "printM(p)\n",
    "agg_df"
   ]
  },
  {
   "cell_type": "markdown",
   "id": "4f3378f0-9a20-430b-81e0-ccb28f57f321",
   "metadata": {},
   "source": [
    "### Init ct-donor-level CA matrix"
   ]
  },
  {
   "cell_type": "code",
   "execution_count": null,
   "id": "60db0079-aec8-47ca-b431-33ad07ae6cdd",
   "metadata": {},
   "outputs": [],
   "source": [
    "caPeaks_agg_cd = sc.get.aggregate(borgs_tile_mat,\n",
    "                                   by=['cell_type', 'donor_id'],\n",
    "                                   func=['mean'],\n",
    "                                   axis='obs')\n",
    "\n",
    "caPeaks_agg_cd.X = caPeaks_agg_cd.layers['mean'].copy()\n",
    "del caPeaks_agg_cd.layers['mean']\n",
    "\n",
    "printM(p)\n",
    "caPeaks_agg_cd"
   ]
  },
  {
   "cell_type": "code",
   "execution_count": null,
   "id": "822fc67b-350d-4ac1-bcaf-6d5635b1262d",
   "metadata": {},
   "outputs": [],
   "source": [
    "# from scipy.sparse import csr_matrix, issparse\n",
    "\n",
    "# if issparse(caPeaks_agg_cdb.X):\n",
    "#     print(\"SCIPY sparse matrix.\")\n",
    "#     if np.any(caPeaks_agg_cdb.X.data < 0):\n",
    "#         print(\"There are negative values in the sparse data matrix.\")\n",
    "#     else:\n",
    "#         print(\"No negative values in the sparse data matrix.\")\n",
    "# else: \n",
    "#     print(f\"X type:\\n{type(caPeaks_agg_cdb.X)}\")\n",
    "#     if np.any(caPeaks_agg_cdb.X < 0):\n",
    "#         print(\"There are negative values in the dense data matrix.\")\n",
    "#     else:\n",
    "#         print(\"No negative values in the dense data matrix.\")"
   ]
  },
  {
   "cell_type": "markdown",
   "id": "d382ec16-1dcf-416c-818f-7a1879d6a1de",
   "metadata": {},
   "source": [
    "### Init donor-batch-level CA matrix"
   ]
  },
  {
   "cell_type": "code",
   "execution_count": null,
   "id": "baf29414-7124-46f3-8eb2-158cf73825b6",
   "metadata": {},
   "outputs": [],
   "source": [
    "caPeaks_agg_cdb = sc.get.aggregate(borgs_tile_mat,\n",
    "                                   by=['cell_type', 'donor_id', 'batch'],\n",
    "                                   func=['mean'],\n",
    "                                   axis='obs')\n",
    "\n",
    "caPeaks_agg_cdb.X = caPeaks_agg_cdb.layers['mean'].copy()\n",
    "del caPeaks_agg_cdb.layers['mean']\n",
    "\n",
    "n_donor_batch = caPeaks_agg_cdb.obs[caPeaks_agg_cdb.obs['cell_type'] == cell_type].shape[0]\n",
    "\n",
    "printM(p)\n",
    "caPeaks_agg_cdb"
   ]
  },
  {
   "cell_type": "markdown",
   "id": "fd1f2c43-5e91-4f7e-9535-3d18d3ea9f29",
   "metadata": {
    "tags": []
   },
   "source": [
    "# Cell-level analysis"
   ]
  },
  {
   "cell_type": "markdown",
   "id": "d69baf16-048b-4dd4-ae24-90f7a71d5279",
   "metadata": {
    "tags": []
   },
   "source": [
    "## Peak filter: DAPeaks"
   ]
  },
  {
   "cell_type": "code",
   "execution_count": null,
   "id": "17edd5ff-d3da-445f-8ac7-82f6980adcde",
   "metadata": {},
   "outputs": [],
   "source": [
    "sc.tl.rank_genes_groups(caPeaks_agg_cd, groupby='cell_type', method='t-test', rankby_abs=True)\n",
    "sc.pl.rank_genes_groups(caPeaks_agg_cd, n_genes=25, sharey=False)"
   ]
  },
  {
   "cell_type": "code",
   "execution_count": null,
   "id": "a6dd6887-10d1-4b9b-8b23-628d15267763",
   "metadata": {},
   "outputs": [],
   "source": [
    "daps = sc.get.rank_genes_groups_df(caPeaks_agg_cd, group=cell_type, pval_cutoff=min_pval)\n",
    "peaks_markers = set(daps['names'][0:n_top_markers])\n",
    "daps"
   ]
  },
  {
   "cell_type": "code",
   "execution_count": null,
   "id": "e7dc5b88-a52f-4d13-8b6a-11dd9a67f501",
   "metadata": {},
   "outputs": [],
   "source": [
    "daps_out_path = f\"data/intermediate-data/datasets/{DATASET_ID}/matrix-eQTL_io/chromatin_accessibility/differentially-accessible-peaks/{ct_map_id}/{cell_type}.tsv\"\n",
    "\n",
    "create_folder(os.path.dirname(os.path.abspath(daps_out_path)))\n",
    "\n",
    "daps.to_csv(daps_out_path, sep='\\t')"
   ]
  },
  {
   "cell_type": "code",
   "execution_count": null,
   "id": "2aa4cf01-e849-4393-baed-be71ef91649b",
   "metadata": {},
   "outputs": [],
   "source": [
    "del caPeaks_agg_cd\n",
    "gc.collect()"
   ]
  },
  {
   "cell_type": "markdown",
   "id": "be71866b-d182-49b5-9009-ee97cfcd115c",
   "metadata": {
    "tags": []
   },
   "source": [
    "## Peaks filter: intersecting w eQTLs"
   ]
  },
  {
   "cell_type": "markdown",
   "id": "186c41d7-9b31-4acb-abe4-542e74b2d0ff",
   "metadata": {},
   "source": [
    "### Make eQTLs bed file"
   ]
  },
  {
   "cell_type": "code",
   "execution_count": null,
   "id": "00c64eb1-a468-43af-b984-41f705462a59",
   "metadata": {
    "tags": []
   },
   "outputs": [],
   "source": [
    "eqtls = pd.read_csv(os.path.join(HCA_BORGS_PROJ, \"eQTL_mapping/eSNPs_significant_all_celltypes_HVGs.tsv\"),\n",
    "                   sep='\\t',\n",
    "                   header=0,\n",
    "                   index_col=21)\n",
    "\n",
    "eqtls.columns"
   ]
  },
  {
   "cell_type": "code",
   "execution_count": null,
   "id": "af8f44db-00ff-4d66-a105-9bdf5f90a737",
   "metadata": {},
   "outputs": [],
   "source": [
    "eqtls"
   ]
  },
  {
   "cell_type": "code",
   "execution_count": null,
   "id": "fef763c5-470e-4cae-a8d0-11cb73276000",
   "metadata": {},
   "outputs": [],
   "source": [
    "eqtls['celltype'].unique()"
   ]
  },
  {
   "cell_type": "code",
   "execution_count": null,
   "id": "6e7d5564-b094-44cb-b998-6f2fc73f5481",
   "metadata": {},
   "outputs": [],
   "source": [
    "cell_type_alt"
   ]
  },
  {
   "cell_type": "code",
   "execution_count": null,
   "id": "9ee526b2-1138-4ae5-b9ae-d12fc263ccf6",
   "metadata": {},
   "outputs": [],
   "source": [
    "# Make eQTL bed file\n",
    "eqtls_bed = eqtls[['snp_chromosome', 'snp_position', 'beta', 'celltype']].copy()\n",
    "\n",
    "# Filter out 'Discard' marked cell-types\n",
    "eqtls_bed = eqtls_bed[eqtls_bed['celltype'].isin(ct_map_alt['Discard'])].copy()\n",
    "\n",
    "eqtls_bed['start'] = eqtls_bed['snp_position'] - 1 # Make index 0-based open\n",
    "eqtls_bed['strand'] = '+'\n",
    "eqtls_bed.reset_index(inplace=True)\n",
    "eqtls_bed['chr'] = 'chr' + eqtls_bed['snp_chromosome'].astype(str)\n",
    "eqtls_bed = eqtls_bed.rename(columns={'snp_position': 'end', 'QTL': 'id', 'beta': 'score'})\n",
    "\n",
    "eqtls_bed = eqtls_bed[['chr', 'start', 'end', 'id', 'score', 'strand']].sort_values(by=['chr', 'start'], ascending=[True, True])\n",
    "        \n",
    "eqtls_bed_path = f'data/intermediate-data/datasets/{DATASET_ID}/matrix-eQTL_io/eQTLs/{ct_map_id}/eQTLs_{cell_type}.tsv'\n",
    "\n",
    "create_folder(os.path.dirname(os.path.abspath(eqtls_bed_path)))\n",
    "\n",
    "eqtls_bed.to_csv(eqtls_bed_path, sep='\\t', header=False, index=False)\n",
    "\n",
    "eqtls_bed"
   ]
  },
  {
   "cell_type": "markdown",
   "id": "d90d7d27-dc19-41d8-bb97-39555bced344",
   "metadata": {},
   "source": [
    "### Make peaks bed file"
   ]
  },
  {
   "cell_type": "code",
   "execution_count": null,
   "id": "5d67e6c5-2747-4551-9c6e-e968025927f0",
   "metadata": {},
   "outputs": [],
   "source": [
    "peaks_bed = borgs_tile_mat.var[['chr', 'start', 'end', 'peak_name', 'score']].copy()\n",
    "peaks_bed['start'] = peaks_bed['start'] - 1\n",
    "peaks_bed['strand'] = '+'\n",
    "\n",
    "peaks_bed_path = f'data/intermediate-data/datasets/{DATASET_ID}/matrix-eQTL_io/chromatin_accessibility/peaks/{ct_map_id}/{cell_type}.bed'\n",
    "\n",
    "create_folder(os.path.dirname(os.path.abspath(peaks_bed_path)))\n",
    "\n",
    "peaks_bed.to_csv(peaks_bed_path, sep='\\t', header=False, index=False)\n",
    "\n",
    "print(len(peaks_bed))\n",
    "peaks_bed"
   ]
  },
  {
   "cell_type": "markdown",
   "id": "5f86d4c4-218a-45d6-8089-f168d925ddab",
   "metadata": {
    "tags": []
   },
   "source": [
    "### Peaks intersecting w eQTLs"
   ]
  },
  {
   "cell_type": "code",
   "execution_count": null,
   "id": "b244b51d-5b7c-4671-aceb-fa19b8e6be37",
   "metadata": {},
   "outputs": [],
   "source": [
    "try:\n",
    "    result = subprocess.run([bedtools_bin, 'intersect' , '-a', peaks_bed_path, '-b', eqtls_bed_path, '-u'], text=True, capture_output=True)\n",
    "\n",
    "    # with open(f'data/datasets/hca_brain-organoids_processed/chromatin_accessibility/peaks_{cell_type}_filt-eqtls.bed', 'w') as f:\n",
    "        # f.write(result.stdout)\n",
    "\n",
    "    peaks_eqtl = set([i.split('\\t')[3] for i in result.stdout.split('\\n')[:-1]])\n",
    "    \n",
    "except subprocess.CalledProcessError as e:\n",
    "    \n",
    "    print(f\"Command failed with error: {e.stderr}\")\n",
    "    \n",
    "printM(p)"
   ]
  },
  {
   "cell_type": "markdown",
   "id": "9cfe2287-0d16-4daf-b465-2c86b54a2ef7",
   "metadata": {},
   "source": [
    "### Peaks filter: close to eGenes"
   ]
  },
  {
   "cell_type": "code",
   "execution_count": 54,
   "id": "5720314d-c2da-4d80-95b1-4598c74eced8",
   "metadata": {},
   "outputs": [],
   "source": [
    "eGenes = set(eqtls.loc[~eqtls['gene_name'].isna(), 'gene_name'].unique())"
   ]
  },
  {
   "cell_type": "code",
   "execution_count": 55,
   "id": "f3024463-0749-4c42-a665-dc0774f9fd6d",
   "metadata": {},
   "outputs": [
    {
     "data": {
      "text/plain": [
       "1204"
      ]
     },
     "execution_count": 55,
     "metadata": {},
     "output_type": "execute_result"
    }
   ],
   "source": [
    "len(eGenes)"
   ]
  },
  {
   "cell_type": "code",
   "execution_count": 71,
   "id": "647965f8-bc3c-43f4-b9ee-7d99f7938352",
   "metadata": {},
   "outputs": [
    {
     "data": {
      "text/plain": [
       "33062"
      ]
     },
     "execution_count": 71,
     "metadata": {},
     "output_type": "execute_result"
    }
   ],
   "source": [
    "peaks_eGenes = set(borgs_tile_mat.var[borgs_tile_mat.var['nearest_gene'].isin(eGenes)].index)\n",
    "\n",
    "len(peaks_eGenes)"
   ]
  },
  {
   "cell_type": "code",
   "execution_count": null,
   "id": "997c6382-fede-40b2-bf63-9f4b30197892",
   "metadata": {
    "tags": []
   },
   "outputs": [],
   "source": [
    "del borgs_tile_mat\n",
    "gc.collect()"
   ]
  },
  {
   "cell_type": "markdown",
   "id": "e0e90fca-f9e7-4274-9ab1-d30b7eadb218",
   "metadata": {},
   "source": [
    "# Cell-type level analysis"
   ]
  },
  {
   "cell_type": "markdown",
   "id": "af7e7680-2bc8-4285-bcb0-f9cebd211ca6",
   "metadata": {},
   "source": [
    "### Peak filter: HVPeaks"
   ]
  },
  {
   "cell_type": "code",
   "execution_count": null,
   "id": "76d3b5d4-ded1-40bd-ab58-dc467cd9cb2b",
   "metadata": {
    "tags": []
   },
   "outputs": [],
   "source": [
    "# Remove batches w with min cell nr\n",
    "cell_counts_per_donor_batch = caPeaks_1ct.obs.groupby('batch').transform('size')\n",
    "ca_1ct_batch_filtered = caPeaks_1ct[cell_counts_per_donor_batch >= 10, :].copy()\n",
    "\n",
    "printM(p)\n",
    "sum(cell_counts_per_donor_batch >= 10)"
   ]
  },
  {
   "cell_type": "code",
   "execution_count": null,
   "id": "0c966b7e-1ac1-4d29-845a-2e91b918889f",
   "metadata": {},
   "outputs": [],
   "source": [
    "# Seurat (expect log)\n",
    "printM(p)\n",
    "sc.pp.highly_variable_genes(ca_1ct_batch_filtered, flavor='seurat', batch_key='batch', n_top_genes=ca_1ct_batch_filtered.n_vars)\n",
    "sc.pl.highly_variable_genes(ca_1ct_batch_filtered)\n",
    "printM(p)"
   ]
  },
  {
   "cell_type": "code",
   "execution_count": null,
   "id": "f72728ff-16ad-40ba-bc9c-924edba371f5",
   "metadata": {},
   "outputs": [],
   "source": [
    "# Extract top n HVPs\n",
    "merge = pd.merge(ca_1ct_batch_filtered.var['means'].to_frame(),\n",
    "              ca_1ct_batch_filtered.var['highly_variable_nbatches'].to_frame(),\n",
    "              left_index=True,\n",
    "              right_index=True,\n",
    "              how='inner')\n",
    "\n",
    "merge = pd.merge(merge,\n",
    "              ca_1ct_batch_filtered.var['dispersions_norm'].abs().to_frame(),\n",
    "              left_index=True,\n",
    "              right_index=True,\n",
    "              how='inner')\n",
    "\n",
    "merge = merge[(merge['means'] > min_mean_acells) & (merge['means'] < max_mean_acells)]\n",
    "\n",
    "merge = merge.sort_values(by=['highly_variable_nbatches', 'dispersions_norm'], ascending=[False, False])\n",
    "peaks_hvp = set(merge[0:n_top_hvps].index)"
   ]
  },
  {
   "cell_type": "code",
   "execution_count": null,
   "id": "7f4e1847-59fa-4716-8d6d-b5312de17dea",
   "metadata": {},
   "outputs": [],
   "source": [
    "# peaks_hvp = set(ca_1ct_batch_filtered.var[ca_1ct_batch_filtered.var['highly_variable']].index)"
   ]
  },
  {
   "cell_type": "code",
   "execution_count": null,
   "id": "9d2d6969-cfa4-4f01-9957-d44eb6836c27",
   "metadata": {},
   "outputs": [],
   "source": [
    "# from scipy.sparse import issparse\n",
    "\n",
    "# # Convert sparse matrix to dense format if necessary\n",
    "# printM(p)\n",
    "# data_matrix = caPeaks_1ct.X.toarray() if issparse(caPeaks_1ct.X) else caPeaks_1ct.X\n",
    "# printM(p)\n",
    "\n",
    "# # Check for NaN values\n",
    "# print(\"Number of NaN values in data:\", np.isnan(data_matrix).sum())\n",
    "\n",
    "# # Check for infinite values\n",
    "# print(\"Number of infinite values in data:\", np.isinf(data_matrix).sum())\n",
    "\n",
    "# # Check for rows with all zeros (optimized for sparse matrices)\n",
    "# if issparse(caPeaks_1ct.X):\n",
    "#     zero_rows = np.array((caPeaks_1ct.X != 0).sum(axis=1)).flatten() == 0\n",
    "# else:\n",
    "#     zero_rows = np.sum(data_matrix == 0, axis=1) == data_matrix.shape[1]\n",
    "\n",
    "# print(\"Number of rows with all zero values:\", zero_rows.sum())"
   ]
  },
  {
   "cell_type": "code",
   "execution_count": null,
   "id": "8559b2dc-97c3-424a-94fb-64142e6158af",
   "metadata": {},
   "outputs": [],
   "source": [
    "printM(p)\n",
    "del ca_1ct_batch_filtered\n",
    "printM(p)\n",
    "gc.collect()\n",
    "printM(p)"
   ]
  },
  {
   "cell_type": "markdown",
   "id": "1e630b5c-e3a3-4f50-80d8-67c3b5835874",
   "metadata": {
    "tags": []
   },
   "source": [
    "## Peaks filter: min mean across donors"
   ]
  },
  {
   "cell_type": "code",
   "execution_count": null,
   "id": "fa23c04f-5a93-42f7-bca8-6670244cc026",
   "metadata": {},
   "outputs": [],
   "source": [
    "agg_mean = agg_df.mean()\n",
    "printM(p)"
   ]
  },
  {
   "cell_type": "code",
   "execution_count": null,
   "id": "e037af6a-9123-401e-b4e3-167f5c84cfcb",
   "metadata": {},
   "outputs": [],
   "source": [
    "agg_mean.describe()"
   ]
  },
  {
   "cell_type": "code",
   "execution_count": null,
   "id": "eb584fc9-eb70-4ffb-b0ef-36415f5b7108",
   "metadata": {},
   "outputs": [],
   "source": [
    "agg_mean.plot(kind='hist',\n",
    "              bins=300, title=\"Peak mean across donors distr.\",\n",
    "              xlabel=\"\",\n",
    "              ylabel=\"#\")"
   ]
  },
  {
   "cell_type": "code",
   "execution_count": null,
   "id": "19a0ca73-437a-4d98-8f30-faf860e575bc",
   "metadata": {},
   "outputs": [],
   "source": [
    "agg_mean.plot(kind='hist', \n",
    "              bins=np.linspace(0, 0.015, 31),\n",
    "              title=\"Peak mean across donors ZOOM distr.\",\n",
    "              xlabel=\"\",\n",
    "              ylabel=\"#\")"
   ]
  },
  {
   "cell_type": "code",
   "execution_count": null,
   "id": "6e992d3a-cfbe-4747-a397-686104e52828",
   "metadata": {},
   "outputs": [],
   "source": [
    "agg_mean.plot(kind='density',\n",
    "              xlim=[0, 0.015],\n",
    "              title=\"Peak mean across donors ZOOM distr.\",\n",
    "              xlabel=\"\")"
   ]
  },
  {
   "cell_type": "code",
   "execution_count": null,
   "id": "13943bb9-e543-4c1a-97f6-4cff9f6c3c21",
   "metadata": {},
   "outputs": [],
   "source": [
    "peaks_min_mean = set(agg_df.loc[:, agg_mean > min_mean_adonors].columns.tolist())"
   ]
  },
  {
   "cell_type": "markdown",
   "id": "42620cf3-477a-4f53-834a-fcfaa1db4ed5",
   "metadata": {},
   "source": [
    "## Peaks filter: min donors with non-zero ca count"
   ]
  },
  {
   "cell_type": "code",
   "execution_count": null,
   "id": "a73a533e-0a93-4181-b078-5ff4ac592254",
   "metadata": {},
   "outputs": [],
   "source": [
    "non0s = (agg_df != 0).mean()\n",
    "\n",
    "non0s.describe()"
   ]
  },
  {
   "cell_type": "code",
   "execution_count": null,
   "id": "58408e7e-7707-43ec-9ecc-f1a8184e2ee5",
   "metadata": {},
   "outputs": [],
   "source": [
    "non0s.plot(kind='hist',\n",
    "           bins=np.linspace(0, 1, 51),\n",
    "           title=\"Non-zero donor count distr.\",\n",
    "           ylabel=\"#\")"
   ]
  },
  {
   "cell_type": "code",
   "execution_count": null,
   "id": "56b53b73-316d-4f87-878c-4d07d2803512",
   "metadata": {},
   "outputs": [],
   "source": [
    "peaks_min_donors = set(agg_df.loc[:, non0s > min_donors].columns.to_list())"
   ]
  },
  {
   "cell_type": "code",
   "execution_count": null,
   "id": "4a05d05b-3abe-4695-b8fa-1e5f8c0ba1f8",
   "metadata": {},
   "outputs": [],
   "source": [
    "# Density of CA\n",
    "\n",
    "non0 = np.count_nonzero(caPeaks_1ct_agg.X)\n",
    "all_ = np.product(caPeaks_1ct_agg.X.shape)\n",
    "general_ca_density = round(non0 / all_, 2)\n",
    "print(f'General matrix density: {general_ca_density}')"
   ]
  },
  {
   "cell_type": "markdown",
   "id": "4cd26cb6-1dd3-4755-ab7d-64b45a31edf2",
   "metadata": {},
   "source": [
    "## Peaks filter: min peak score"
   ]
  },
  {
   "cell_type": "code",
   "execution_count": null,
   "id": "a06e016d-92f5-48af-a0f0-a9530b7f33a5",
   "metadata": {},
   "outputs": [],
   "source": [
    "peak_scores = caPeaks_1ct_agg.var['score']"
   ]
  },
  {
   "cell_type": "code",
   "execution_count": null,
   "id": "966fa41e-6de1-4d35-a43b-fe27203a7430",
   "metadata": {},
   "outputs": [],
   "source": [
    "peak_scores.describe()"
   ]
  },
  {
   "cell_type": "code",
   "execution_count": null,
   "id": "dd7cfaac-78a5-427b-b205-6e129f347f0b",
   "metadata": {},
   "outputs": [],
   "source": [
    "peak_scores.plot(kind='hist',\n",
    "                 bins=np.linspace(0, 60, 61),\n",
    "                 figsize=(14,3),\n",
    "                 title=\"Peak score distr.\",\n",
    "                 ylabel=\"#\")"
   ]
  },
  {
   "cell_type": "code",
   "execution_count": null,
   "id": "3641496a-ea43-41d9-a4cf-aaf191ad1310",
   "metadata": {},
   "outputs": [],
   "source": [
    "peaks_min_score = set(caPeaks_1ct_agg.var[(caPeaks_1ct_agg.var['score'] >= min_score).tolist()].index.tolist())"
   ]
  },
  {
   "cell_type": "code",
   "execution_count": null,
   "id": "6fb46720-6ec3-4930-acf0-61a250f0a02a",
   "metadata": {},
   "outputs": [],
   "source": [
    "printM(p)\n",
    "del agg_df\n",
    "printM(p)"
   ]
  }
 ],
 "metadata": {
  "kernelspec": {
   "display_name": "ian",
   "language": "python",
   "name": "ian"
  },
  "language_info": {
   "codemirror_mode": {
    "name": "ipython",
    "version": 3
   },
   "file_extension": ".py",
   "mimetype": "text/x-python",
   "name": "python",
   "nbconvert_exporter": "python",
   "pygments_lexer": "ipython3",
   "version": "3.9.19"
  }
 },
 "nbformat": 4,
 "nbformat_minor": 5
}
