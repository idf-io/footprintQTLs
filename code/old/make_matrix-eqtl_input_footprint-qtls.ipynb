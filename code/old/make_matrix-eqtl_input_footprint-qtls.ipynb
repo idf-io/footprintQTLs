{
 "cells": [
  {
   "cell_type": "markdown",
   "id": "3d75983b-d8b2-4d0e-91db-ea2b30d8d17c",
   "metadata": {},
   "source": [
    "# Setup"
   ]
  },
  {
   "cell_type": "code",
   "execution_count": null,
   "id": "a9d18af4-f325-4093-8899-f0c4d02b1d9b",
   "metadata": {
    "tags": []
   },
   "outputs": [],
   "source": [
    "import os\n",
    "import sys\n",
    "import json\n",
    "import gc\n",
    "from datetime import date\n",
    "import numpy as np\n",
    "import pandas as pd\n",
    "import anndata as ad"
   ]
  },
  {
   "cell_type": "code",
   "execution_count": null,
   "id": "274b2e93",
   "metadata": {},
   "outputs": [],
   "source": [
    "# cwd -> project root \n",
    "# /code in path\n",
    "\n",
    "cwd = os.path.basename(os.getcwd())\n",
    "\n",
    "if cwd == 'footprintQTL':\n",
    "    \n",
    "    PROJECT_DIR = '.'\n",
    "\n",
    "\n",
    "elif cwd == 'code':\n",
    "    \n",
    "    PROJECT_DIR = '..'\n",
    "\n",
    "\n",
    "elif cwd == 'fichtner':\n",
    "\n",
    "    PROJECT_DIR = 'projects/footprintQTL'\n",
    "\n",
    "else:\n",
    "\n",
    "    PROJECT_DIR = 'manual'\n",
    "\n",
    "\n",
    "os.chdir(PROJECT_DIR)\n",
    "sys.path.append(os.getcwd() + '/code')"
   ]
  },
  {
   "cell_type": "code",
   "execution_count": null,
   "id": "aaf1a717",
   "metadata": {},
   "outputs": [],
   "source": [
    "from helpers.python.utils import create_dir, ct_format, ct_format_alt, parse_vcf\n",
    "from helpers.python.anndata_utils import check_anndata"
   ]
  },
  {
   "cell_type": "markdown",
   "id": "ee12c619-53cc-4ce4-937a-2cd9bc7a9fc7",
   "metadata": {},
   "source": [
    "## Variables"
   ]
  },
  {
   "cell_type": "code",
   "execution_count": null,
   "id": "d50577ec-f875-491e-be70-ad5693d7356b",
   "metadata": {},
   "outputs": [],
   "source": [
    "# User variables\n",
    "\n",
    "from glob_vars import FOOTPRINTS_DIR, DATASET, CT_MAP_JSON, CT_MAP_ID, GENOTYPES_VCF, GENOTYPES_TSV, GENOTYPE_PCS_TSV, MATRIX_EQTL_INPUT_DIR, MATRIX_EQTL_OUTPUT_DIR\n",
    "\n",
    "cell_type = str(\"DL-EN\")\n",
    "RUN_ID = 'meqtl_io_' + f\"{date.today().strftime('%Y-%m-%d')}_{CT_MAP_ID}_{DATASET}\"\n",
    "\n",
    "n_ca_PCs = 2 # Nr of chromatin accessibility PCs used as covariate\n",
    "min_cells_donor = 200 # This should be 0 since this filter should be applied before footprint computation"
   ]
  },
  {
   "cell_type": "code",
   "execution_count": null,
   "id": "be062eaa-6e7e-4387-86b5-ec11bcc9a224",
   "metadata": {
    "tags": []
   },
   "outputs": [],
   "source": [
    "cell_type_alt = ct_format_alt(cell_type)\n",
    "cell_type = ct_format(cell_type)"
   ]
  },
  {
   "cell_type": "code",
   "execution_count": null,
   "id": "f6fc038d",
   "metadata": {},
   "outputs": [],
   "source": [
    "# Get cell-type grouping map\n",
    "\n",
    "with open(CT_MAP_JSON, 'r') as f:\n",
    "    ct_map = json.load(f)\n",
    "\n",
    "ct_map_alt = {ct_format_alt(key): [ct_format_alt(e) for e in listt] for key, listt in ct_map.items()}\n",
    "ct_map_i_alt = {ct_format_alt(old_ct): ct_format_alt(new_ct) for new_ct, old_cts in ct_map.items() for old_ct in old_cts}\n",
    "\n",
    "ct_map = {ct_format(key): [ct_format(e) for e in listt] for key, listt in ct_map.items()}\n",
    "ct_map_i = {old_ct: new_ct for new_ct, old_cts in ct_map.items() for old_ct in old_cts}"
   ]
  },
  {
   "cell_type": "markdown",
   "id": "377ac1ed",
   "metadata": {},
   "source": [
    "# Process adata"
   ]
  },
  {
   "cell_type": "code",
   "execution_count": null,
   "id": "87e42ac7",
   "metadata": {},
   "outputs": [],
   "source": [
    "adata = ad.read_h5ad(os.path.join(FOOTPRINTS_DIR, 'footprints_' + cell_type + '_processed.h5ad'))\n",
    "donors = adata.obs.index.to_list()\n",
    "donor_ids = adata.obs['donor_id'].to_list()\n",
    "peaks = adata.var.index.to_list()\n",
    "n_donors, n_peaks = adata.shape\n",
    "\n",
    "adata"
   ]
  },
  {
   "cell_type": "code",
   "execution_count": null,
   "id": "4fd7300c",
   "metadata": {},
   "outputs": [],
   "source": [
    "# Checks\n",
    "\n",
    "obs_criteria_kwargs = [\n",
    "    {'col': 'n_cells', 'func': lambda x: (x > min_cells_donor).all()}\n",
    "    ]\n",
    "\n",
    "check_anndata(adata, min_obs=20, obs_criteria_kwargs=obs_criteria_kwargs)"
   ]
  },
  {
   "cell_type": "markdown",
   "id": "4649f6d2",
   "metadata": {},
   "source": [
    "# Matrix eQTL IO"
   ]
  },
  {
   "cell_type": "markdown",
   "id": "f75834e6",
   "metadata": {},
   "source": [
    "## Phenotype matrix"
   ]
  },
  {
   "cell_type": "code",
   "execution_count": null,
   "id": "e52f4ec9",
   "metadata": {},
   "outputs": [],
   "source": [
    "# Create pheno matrix\n",
    "donor_id_map = adata.obs['donor_id'].to_dict()\n",
    "\n",
    "pheno_out = adata.to_df().T\n",
    "pheno_out= pheno_out.rename(columns=donor_id_map)\n",
    "pheno_out = pheno_out.rename_axis('peak_id')\n",
    "\n",
    "pheno_out"
   ]
  },
  {
   "cell_type": "code",
   "execution_count": null,
   "id": "74f7bb03",
   "metadata": {},
   "outputs": [],
   "source": [
    "# Export peak chromatin accessibility\n",
    "pheno_out_path = f'{MATRIX_EQTL_INPUT_DIR}/{cell_type}/footprints.tsv'\n",
    "\n",
    "create_dir(pheno_out_path)\n",
    "\n",
    "pheno_out.round(6).to_csv(pheno_out_path, sep='\\t')"
   ]
  },
  {
   "cell_type": "code",
   "execution_count": null,
   "id": "fd60718c",
   "metadata": {},
   "outputs": [],
   "source": [
    "del pheno_out\n",
    "gc.collect()"
   ]
  },
  {
   "cell_type": "markdown",
   "id": "6001e2e0-ae9c-4784-a2e6-a722a0df3745",
   "metadata": {},
   "source": [
    "## COV: peak locations"
   ]
  },
  {
   "cell_type": "code",
   "execution_count": null,
   "id": "13af5254-e520-477c-a17f-6c8565db00ec",
   "metadata": {},
   "outputs": [],
   "source": [
    "peak_locs = adata.var[['peak_name', 'chr', 'start', 'end']].copy()\n",
    "\n",
    "peak_locs['start'] = peak_locs['start'].astype(int)\n",
    "peak_locs['end'] = peak_locs['end'].astype(int)\n",
    "\n",
    "peak_locs['start'] = peak_locs['start'] - 1 # Peak naming is in 1-based fully closed notation. Format to 0-based half-open notation which is what is used in the genotype matri\n",
    "\n",
    "peak_locs"
   ]
  },
  {
   "cell_type": "code",
   "execution_count": null,
   "id": "3e798d00-dbb7-4617-873b-b6b9496a0389",
   "metadata": {},
   "outputs": [],
   "source": [
    "peak_locs_path = f'{MATRIX_EQTL_INPUT_DIR}/{cell_type}/peak_locations.tsv'\n",
    "\n",
    "create_dir(peak_locs_path)\n",
    "\n",
    "peak_locs.to_csv(peak_locs_path, sep='\\t', index=False)"
   ]
  },
  {
   "cell_type": "code",
   "execution_count": null,
   "id": "87c6f616",
   "metadata": {},
   "outputs": [],
   "source": [
    "del peak_locs\n",
    "gc.collect()"
   ]
  },
  {
   "cell_type": "markdown",
   "id": "8c2efa77-1434-4db3-a7df-894441cb66c3",
   "metadata": {},
   "source": [
    "## COV: CA PCs"
   ]
  },
  {
   "cell_type": "code",
   "execution_count": null,
   "id": "ffba8b12",
   "metadata": {},
   "outputs": [],
   "source": [
    "phe_pcs = pd.DataFrame(adata.obsm['X_pca'][:, 0:n_ca_PCs]).set_index(adata.obs['donor_id'])\n",
    "\n",
    "phe_pcs.columns = [f'phe_PC_{str(i)}' for i in range(1, len(phe_pcs.columns) + 1)]\n",
    "phe_pcs = phe_pcs.T\n",
    "phe_pcs = phe_pcs.rename_axis('id')\n",
    "\n",
    "phe_pcs"
   ]
  },
  {
   "cell_type": "code",
   "execution_count": null,
   "id": "4c0ba8f6-388e-487e-9c5e-4bf3e44e0f37",
   "metadata": {},
   "outputs": [],
   "source": [
    "phe_pcs_path = f'{MATRIX_EQTL_INPUT_DIR}/{cell_type}/footprint_pcs.tsv'\n",
    "\n",
    "create_dir(phe_pcs_path)\n",
    "\n",
    "phe_pcs.to_csv(phe_pcs_path, sep='\\t')"
   ]
  },
  {
   "cell_type": "code",
   "execution_count": null,
   "id": "d8c34b88",
   "metadata": {},
   "outputs": [],
   "source": [
    "del phe_pcs\n",
    "gc.collect()"
   ]
  },
  {
   "cell_type": "markdown",
   "id": "15079d36-e040-4378-9ecc-f5e94a00330c",
   "metadata": {},
   "source": [
    "## COV: Genotype PCs"
   ]
  },
  {
   "cell_type": "code",
   "execution_count": null,
   "id": "f082d329-abc5-4bd4-bbea-8d7db0a7f1e9",
   "metadata": {},
   "outputs": [],
   "source": [
    "gt_pcs = pd.read_csv(GENOTYPE_PCS_TSV, sep=\"\\t\", index_col=0)\n",
    "\n",
    "gt_pcs = gt_pcs.T\n",
    "gt_pcs = gt_pcs.rename_axis('id').rename(index={idx: f'geno_{idx}' for idx in gt_pcs.index})\n",
    "\n",
    "gt_pcs = gt_pcs[donor_ids]\n",
    "\n",
    "gt_pcs"
   ]
  },
  {
   "cell_type": "code",
   "execution_count": null,
   "id": "6f14f260-e49f-4a8a-a226-6cf1bc5ede4e",
   "metadata": {},
   "outputs": [],
   "source": [
    "gt_pcs_path = f'{MATRIX_EQTL_INPUT_DIR}/{cell_type}/genotype_pcs.tsv'\n",
    "\n",
    "create_dir(gt_pcs_path)\n",
    "\n",
    "gt_pcs.to_csv(gt_pcs_path, sep='\\t')"
   ]
  },
  {
   "cell_type": "code",
   "execution_count": null,
   "id": "4ceaaaeb",
   "metadata": {},
   "outputs": [],
   "source": [
    "del gt_pcs\n",
    "gc.collect()"
   ]
  },
  {
   "cell_type": "markdown",
   "id": "5615e59d-3eaf-442b-af62-a4bc60a8f33f",
   "metadata": {},
   "source": [
    "## Genotype"
   ]
  },
  {
   "cell_type": "code",
   "execution_count": null,
   "id": "c2b0f91b-00da-4abb-aa3c-bcc67d6e8a08",
   "metadata": {
    "tags": []
   },
   "outputs": [],
   "source": [
    "gt = pd.read_csv(GENOTYPES_TSV, sep='\\t', header=0, index_col=0).rename_axis('snp_id')\n",
    "gt = gt.rename(index=lambda x: 'chr' + str(x))\n",
    "gt = gt.loc[gt.index.drop_duplicates(), :]\n",
    "gt = gt[donor_ids]\n",
    "gt"
   ]
  },
  {
   "cell_type": "code",
   "execution_count": null,
   "id": "755cbbd5-1d7b-473e-937c-6077b8cd6ad4",
   "metadata": {},
   "outputs": [],
   "source": [
    "snps = gt.index.to_list()"
   ]
  },
  {
   "cell_type": "code",
   "execution_count": null,
   "id": "e2744ef1-c3a5-4d7c-95e3-74c914439bf3",
   "metadata": {
    "tags": []
   },
   "outputs": [],
   "source": [
    "gt_path = f'{MATRIX_EQTL_INPUT_DIR}/{cell_type}/genotype_NA.tsv'\n",
    "\n",
    "create_dir(gt_path)\n",
    "\n",
    "gt.to_csv(gt_path, sep='\\t', na_rep='NaN')"
   ]
  },
  {
   "cell_type": "code",
   "execution_count": null,
   "id": "93755cff",
   "metadata": {},
   "outputs": [],
   "source": [
    "del gt\n",
    "gc.collect()"
   ]
  },
  {
   "cell_type": "markdown",
   "id": "930b2d55-5238-4a8e-94a5-41d3d51eccde",
   "metadata": {
    "tags": []
   },
   "source": [
    "## SNP locations"
   ]
  },
  {
   "cell_type": "code",
   "execution_count": null,
   "id": "e3a959e9-3b3c-4542-b6b5-3d24e1e126ac",
   "metadata": {},
   "outputs": [],
   "source": [
    "snp_locs = parse_vcf(GENOTYPES_VCF)\n",
    "snp_locs = snp_locs[['ID', 'CHROM', 'POS']].rename(columns={'ID': 'snp_id', 'CHROM': 'chr', 'POS': 'pos'})\n",
    "snp_locs = snp_locs.set_index('snp_id')"
   ]
  },
  {
   "cell_type": "code",
   "execution_count": null,
   "id": "069daa5f-5490-432e-a902-bb268c8ff4ba",
   "metadata": {},
   "outputs": [],
   "source": [
    "snp_locs = snp_locs.loc[snps, :].groupby(level=0).first() # There are repeated indexes in snps. Take the first one\n",
    "snp_locs = snps_locs.reindex(snps)\n",
    "snp_locs"
   ]
  },
  {
   "cell_type": "code",
   "execution_count": null,
   "id": "95971472-11d0-470f-a78f-ca0c8b86580e",
   "metadata": {},
   "outputs": [],
   "source": [
    "snps_path = f'{MATRIX_EQTL_INPUT_DIR}/{cell_type}/snp_locations.tsv'\n",
    "\n",
    "create_dir(snps_path)\n",
    "\n",
    "snp_locs.to_csv(snps_path, sep='\\t')"
   ]
  },
  {
   "cell_type": "code",
   "execution_count": null,
   "id": "44174319",
   "metadata": {},
   "outputs": [],
   "source": [
    "del snp_locs\n",
    "gc.collect()"
   ]
  },
  {
   "cell_type": "markdown",
   "id": "19e979af",
   "metadata": {},
   "source": [
    "# QTL mapping stats"
   ]
  },
  {
   "cell_type": "code",
   "execution_count": null,
   "id": "39483ca2",
   "metadata": {},
   "outputs": [],
   "source": [
    "# Gather stats\n",
    "\n",
    "stats = adata.obs[['n_cells', 'n_frags']].describe()\n",
    "\n",
    "mean_cells_donor, std_cells_donor = stats['n_cells'].to_list()[1:3]\n",
    "mean_frags_donor, std_frags_donor = stats['n_frags'].to_list()[1:3]\n",
    "\n",
    "total_cells = adata.obs['n_cells'].sum()\n",
    "total_frags = adata.obs['n_frags'].sum()"
   ]
  },
  {
   "cell_type": "code",
   "execution_count": null,
   "id": "d988a48d",
   "metadata": {},
   "outputs": [],
   "source": [
    "stats_out_path = f'{MATRIX_EQTL_OUTPUT_DIR}/qtl_testing_metadata.tsv'\n",
    "\n",
    "create_dir(stats_out_path)\n",
    "\n",
    "with open(stats_out_path, 'a') as f:\n",
    "        \n",
    "    msg = f'\\n{RUN_ID}\\t' \\\n",
    "          f'{cell_type}\\t' \\\n",
    "          f'{n_donors}\\t' \\\n",
    "          f'{n_peaks}\\t' \\\n",
    "          f'{total_cells}\\t' \\\n",
    "          f'{mean_cells_donor:.1f}\\t' \\\n",
    "          f'{std_cells_donor:.1f}\\t' \\\n",
    "          f'{total_frags}\\t' \\\n",
    "          f'{mean_frags_donor:.1f}\\t' \\\n",
    "          f'{std_frags_donor:.1f}\\t'\n",
    "\n",
    "    f.write(msg)\n",
    "    print(msg)"
   ]
  }
 ],
 "metadata": {
  "kernelspec": {
   "display_name": "main04",
   "language": "python",
   "name": "main04"
  }
 },
 "nbformat": 4,
 "nbformat_minor": 5
}
