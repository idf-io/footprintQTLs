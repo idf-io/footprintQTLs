{
 "cells": [
  {
   "cell_type": "markdown",
   "metadata": {},
   "source": [
    "# Peak selection\n",
    "\n",
    "From chromatin accessibility anndata (peaks called), select peaks for downstream QTL testing and other tasks.\n",
    "\n",
    "Inputs:\n",
    "- ! Temp: FOOTPRINTS_DIR/ footprints_<CT>_processed.h5ad\n",
    "\n",
    "Outputs:\n",
    "\n",
    "Notes:\n",
    "- Source of peak selection should change to here."
   ]
  },
  {
   "cell_type": "markdown",
   "metadata": {},
   "source": [
    "## Setup"
   ]
  },
  {
   "cell_type": "code",
   "execution_count": 8,
   "metadata": {},
   "outputs": [],
   "source": [
    "import os\n",
    "import sys\n",
    "# import json\n",
    "# import gc\n",
    "# from datetime import date\n",
    "# import numpy as np\n",
    "# import pandas as pd\n",
    "# import anndata as ad\n",
    "# import pyBigWig"
   ]
  },
  {
   "cell_type": "code",
   "execution_count": 21,
   "metadata": {},
   "outputs": [],
   "source": [
    "# Ensure cwd is project root and that /code is in path\n",
    "\n",
    "import os\n",
    "import sys\n",
    "\n",
    "cwd = os.path.basename(os.getcwd())\n",
    "\n",
    "if cwd == 'footprintQTL':\n",
    "    \n",
    "    PROJECT_DIR = '.'\n",
    "\n",
    "\n",
    "elif cwd == 'code':\n",
    "    \n",
    "    PROJECT_DIR = '..'\n",
    "\n",
    "\n",
    "elif cwd == 'fichtner':\n",
    "\n",
    "    PROJECT_DIR = 'projects/footprintQTL'\n",
    "\n",
    "else:\n",
    "\n",
    "    PROJECT_DIR = 'manual'\n",
    "\n",
    "\n",
    "os.chdir(PROJECT_DIR)\n",
    "sys.path.append(os.getcwd() + '/code')"
   ]
  },
  {
   "cell_type": "code",
   "execution_count": 10,
   "metadata": {},
   "outputs": [],
   "source": [
    "from helpers.python.utils import create_dir, list_files_and_links, list_dirs, read_rownames"
   ]
  },
  {
   "cell_type": "markdown",
   "metadata": {},
   "source": [
    "## Variables"
   ]
  },
  {
   "cell_type": "code",
   "execution_count": 11,
   "metadata": {},
   "outputs": [],
   "source": [
    "# User variables\n",
    "\n",
    "from glob_vars import \\\n",
    "                    MAIN_ENV, \\\n",
    "                    DATASET, CT_MAP_ID, \\\n",
    "                    ATAC_CHROM_ACCESS_METADATA_DIR, SELECT_PEAKS_TSV_DIR, \\\n",
    "                    CHROM_SIZES, SNP_LOCS_BED\n",
    "#                       GROUPED_BIGWIG_FILES_DIR, \\\n",
    "#FOOTPRINTS_DIR, FOOTPRINTS_METADATA_DIR, \\\n",
    "#                       DATASET, CT_MAP_JSON \\\n",
    "#                       GENOTYPES_PROCESSED_TSV, GENOTYPE_PCS_TSV, \\\n",
    "#                       MATRIX_EQTL_INPUT_DIR, MATRIX_EQTL_OUTPUT_DIR, \\\n",
    "\n",
    "\n",
    "# cell_type = str(\"DL-EN\")\n",
    "scales = (16, 26, 51, 101)\n",
    "radii = tuple(scale // 2 for scale in scales)\n"
   ]
  },
  {
   "cell_type": "code",
   "execution_count": 12,
   "metadata": {},
   "outputs": [],
   "source": [
    "os.environ['PATH'] = f'/omics/groups/OE0540/internal_temp/users/fichtner/micromamba/envs/{MAIN_ENV}/bin:' + os.environ['PATH']\n",
    "from pybedtools import BedTool"
   ]
  },
  {
   "cell_type": "markdown",
   "metadata": {},
   "source": [
    "# Load data"
   ]
  },
  {
   "cell_type": "code",
   "execution_count": 13,
   "metadata": {},
   "outputs": [],
   "source": [
    "snps_bed = BedTool(SNP_LOCS_BED)"
   ]
  },
  {
   "cell_type": "markdown",
   "metadata": {},
   "source": [
    "## Variant-centred peaks"
   ]
  },
  {
   "cell_type": "code",
   "execution_count": 23,
   "metadata": {},
   "outputs": [
    {
     "data": {
      "text/plain": [
       "'/omics/groups/OE0540/internal_temp/users/fichtner/projects/footprintQTL'"
      ]
     },
     "execution_count": 23,
     "metadata": {},
     "output_type": "execute_result"
    }
   ],
   "source": [
    "os.getcwd()"
   ]
  },
  {
   "cell_type": "code",
   "execution_count": 26,
   "metadata": {},
   "outputs": [
    {
     "name": "stdout",
     "output_type": "stream",
     "text": [
      "Neural-progenitors\n",
      "Midbrain-EN\n",
      "Glia\n",
      "DL-EN\n",
      "UL-EN\n"
     ]
    }
   ],
   "source": [
    "from glob_vars import SELECT_PEAKS_TSV_DIR\n",
    "\n",
    "\n",
    "IN_DIR = f'data/intermediate-data/datasets/{DATASET}/matrix-eqtl/chromatin-accessibility/matrix-eQTL_io_5caPCs/chromatin_accessibility/peak_ca/{CT_MAP_ID}'\n",
    "in_files = list_files_and_links(IN_DIR, extension='.tsv')\n",
    "\n",
    "for file in in_files:\n",
    "\n",
    "    cell_type = os.path.splitext(file)[0]\n",
    "    print(cell_type)\n",
    "\n",
    "    ## Get select peaks bed\n",
    "    peaks = read_rownames(os.path.join(IN_DIR, file), header=True)\n",
    "\n",
    "    peaks_bed_list = []\n",
    "\n",
    "    for peak in peaks:\n",
    "\n",
    "        fields = peak.split(':')\n",
    "        entry = '{} {} {} {}'.format(fields[0], str(int(fields[1]) - 1), fields[2], peak) # Indexing basis correction: 1-based fully closed -> 0-based half open\n",
    "        peaks_bed_list.append(entry)\n",
    "\n",
    "    peaks_bed = '\\n'.join(peaks_bed_list)\n",
    "\n",
    "    peaks_bed = BedTool(peaks_bed, from_string=True)\n",
    "\n",
    "    # Save\n",
    "\n",
    "    peak_bed_out = os.path.join(SELECT_PEAKS_TSV_DIR, cell_type, 'peaks_ca-qtls.bed')\n",
    "    create_dir(peak_bed_out)\n",
    "    peaks_bed.saveas(peak_bed_out)\n",
    "\n",
    "\n",
    "    ## SNPs overlapping peaks\n",
    "\n",
    "    for radius, scale in zip(radii, scales):\n",
    "\n",
    "        snps_overlap = snps_bed.intersect(peaks_bed, wa=True)\n",
    "        peaks_vc_bed = snps_overlap.slop(b=radius, g=CHROM_SIZES)\n",
    "\n",
    "        # Save\n",
    "\n",
    "        peaks_vc_bed_out = os.path.join(SELECT_PEAKS_TSV_DIR, cell_type, f'peaks_ca-qtls_variant-centred_{scale}bp.bed')\n",
    "        create_dir(peaks_vc_bed_out)\n",
    "        peaks_vc_bed.saveas(peaks_vc_bed_out)\n",
    "\n",
    "\n"
   ]
  }
 ],
 "metadata": {
  "kernelspec": {
   "display_name": "main06",
   "language": "python",
   "name": "main06"
  },
  "language_info": {
   "codemirror_mode": {
    "name": "ipython",
    "version": 3
   },
   "file_extension": ".py",
   "mimetype": "text/x-python",
   "name": "python",
   "nbconvert_exporter": "python",
   "pygments_lexer": "ipython3",
   "version": "3.9.19"
  }
 },
 "nbformat": 4,
 "nbformat_minor": 2
}
