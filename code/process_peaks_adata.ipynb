{
 "cells": [
  {
   "cell_type": "markdown",
   "id": "76808497",
   "metadata": {},
   "source": [
    "# Process peaks anndata\n",
    "\n",
    "- Check integrity\n",
    "- Subset to donors also in genotype data\n",
    "- Subset to cell-type\n",
    "- ~~Remove Discard cells~~\n",
    "- Pseudo-bulk to:\n",
    "    - cell-type-donor level (mean-aggregation across cells)\n",
    "    - donor-level for a specific cell-type (mean-aggregation across cells)"
   ]
  },
  {
   "cell_type": "markdown",
   "id": "596ec2c4-4b8c-4ef4-a9e5-56e85772f502",
   "metadata": {},
   "source": [
    "## Setup"
   ]
  },
  {
   "cell_type": "code",
   "execution_count": 1,
   "id": "e673d4e0-983c-4686-885f-1ad00f72479e",
   "metadata": {
    "execution": {
     "iopub.execute_input": "2025-01-07T10:49:59.655731Z",
     "iopub.status.busy": "2025-01-07T10:49:59.655149Z",
     "iopub.status.idle": "2025-01-07T10:52:25.753329Z",
     "shell.execute_reply": "2025-01-07T10:52:25.752300Z"
    }
   },
   "outputs": [],
   "source": [
    "import os\n",
    "import sys\n",
    "import gc\n",
    "import anndata as ad\n",
    "import scanpy as sc"
   ]
  },
  {
   "cell_type": "code",
   "execution_count": 2,
   "id": "d302bd9b",
   "metadata": {
    "execution": {
     "iopub.execute_input": "2025-01-07T10:52:25.760829Z",
     "iopub.status.busy": "2025-01-07T10:52:25.759242Z",
     "iopub.status.idle": "2025-01-07T10:52:25.768086Z",
     "shell.execute_reply": "2025-01-07T10:52:25.767195Z"
    }
   },
   "outputs": [],
   "source": [
    "# Ensure cwd is project root and that /code is in path\n",
    "\n",
    "import os\n",
    "import sys\n",
    "\n",
    "cwd = os.path.basename(os.getcwd())\n",
    "\n",
    "if cwd == 'footprintQTL':\n",
    "    \n",
    "    PROJECT_DIR = '.'\n",
    "\n",
    "\n",
    "elif cwd == 'code':\n",
    "    \n",
    "    PROJECT_DIR = '..'\n",
    "\n",
    "\n",
    "elif cwd == 'fichtner':\n",
    "\n",
    "    PROJECT_DIR = 'projects/footprintQTL'\n",
    "\n",
    "else:\n",
    "\n",
    "    PROJECT_DIR = 'manual'\n",
    "\n",
    "\n",
    "os.chdir(PROJECT_DIR)\n",
    "sys.path.append(os.getcwd() + '/code')"
   ]
  },
  {
   "cell_type": "code",
   "execution_count": 3,
   "id": "6772cd96",
   "metadata": {
    "execution": {
     "iopub.execute_input": "2025-01-07T10:52:25.773917Z",
     "iopub.status.busy": "2025-01-07T10:52:25.772331Z",
     "iopub.status.idle": "2025-01-07T10:52:26.244307Z",
     "shell.execute_reply": "2025-01-07T10:52:26.243403Z"
    }
   },
   "outputs": [],
   "source": [
    "from helpers.python.utils import create_dir\n",
    "from helpers.python.anndata_utils import check_anndata, subset_common_donors, port_obs_adata"
   ]
  },
  {
   "cell_type": "markdown",
   "id": "1d7b507e",
   "metadata": {},
   "source": [
    "### Variables"
   ]
  },
  {
   "cell_type": "code",
   "execution_count": 4,
   "id": "8f51eff0",
   "metadata": {
    "execution": {
     "iopub.execute_input": "2025-01-07T10:52:26.249457Z",
     "iopub.status.busy": "2025-01-07T10:52:26.248114Z",
     "iopub.status.idle": "2025-01-07T10:52:26.616529Z",
     "shell.execute_reply": "2025-01-07T10:52:26.615624Z"
    }
   },
   "outputs": [],
   "source": [
    "from glob_vars import ATAC_PEAKS_H5AD_NEW, ATAC_PEAKS_PROCESSED_H5AD, GENOTYPES_TSV, GENOTYPE_PCS_TSV, ATAC_CHROM_ACCESS_DIR, CT_MAP_ID"
   ]
  },
  {
   "cell_type": "markdown",
   "id": "1eb10c25",
   "metadata": {},
   "source": [
    "## Load anndata"
   ]
  },
  {
   "cell_type": "code",
   "execution_count": 5,
   "id": "c34e2503-ae6e-44ab-9e5d-884e82a6315a",
   "metadata": {
    "execution": {
     "iopub.execute_input": "2025-01-07T10:52:26.621762Z",
     "iopub.status.busy": "2025-01-07T10:52:26.620409Z",
     "iopub.status.idle": "2025-01-07T10:55:16.285143Z",
     "shell.execute_reply": "2025-01-07T10:55:16.284638Z"
    },
    "tags": []
   },
   "outputs": [
    {
     "data": {
      "text/plain": [
       "AnnData object with n_obs × n_vars = 265053 × 736845\n",
       "    obs: 'BlacklistRatio', 'nDiFrags', 'nFrags', 'nMonoFrags', 'nMultiFrags', 'NucleosomeRatio', 'PassQC', 'PromoterRatio', 'ReadsInBlacklist', 'ReadsInPromoter', 'ReadsInTSS', 'Sample', 'TSSEnrichment', 'n_genes_by_counts', 'total_counts', 'total_counts_mt', 'donor_id', 'clone', 'organoid', 'donor', 'leiden', 'stressed_vs_unstressed_celltypes', 'ReadsInPeaks', 'FRIP', 'barcode', 'batch', 'sample', 'barcode_batch', 'cell_type', 'cell_type_custom'\n",
       "    var: 'chr', 'start', 'end', 'strand', 'peak_name', 'score', 'GC', 'nearest_gene', 'peak_type'"
      ]
     },
     "execution_count": 5,
     "metadata": {},
     "output_type": "execute_result"
    }
   ],
   "source": [
    "adata = ad.read_h5ad(ATAC_PEAKS_H5AD_NEW)\n",
    "adata"
   ]
  },
  {
   "cell_type": "code",
   "execution_count": 6,
   "id": "047fca30",
   "metadata": {
    "execution": {
     "iopub.execute_input": "2025-01-07T10:55:16.287729Z",
     "iopub.status.busy": "2025-01-07T10:55:16.287160Z",
     "iopub.status.idle": "2025-01-07T10:55:19.149506Z",
     "shell.execute_reply": "2025-01-07T10:55:19.149019Z"
    }
   },
   "outputs": [],
   "source": [
    "# Check anndata integrity\n",
    "check_anndata(adata)"
   ]
  },
  {
   "cell_type": "markdown",
   "id": "ac4a8b22-9d4f-4583-a4f2-f29cd160bdc6",
   "metadata": {},
   "source": [
    "## Process anndata"
   ]
  },
  {
   "cell_type": "code",
   "execution_count": 7,
   "id": "b202bf7d",
   "metadata": {
    "execution": {
     "iopub.execute_input": "2025-01-07T10:55:19.152564Z",
     "iopub.status.busy": "2025-01-07T10:55:19.151952Z",
     "iopub.status.idle": "2025-01-07T10:55:19.180940Z",
     "shell.execute_reply": "2025-01-07T10:55:19.180458Z"
    }
   },
   "outputs": [],
   "source": [
    "# Format\n",
    "\n",
    "# Make .obs: cell_type_custom --> cell_type\n",
    "adata.obs.drop(columns=['cell_type'], inplace=True)\n",
    "adata.obs['cell_type'] = adata.obs['cell_type_custom']\n",
    "adata.obs.drop(columns=['cell_type_custom'], inplace=True)"
   ]
  },
  {
   "cell_type": "code",
   "execution_count": 8,
   "id": "a79e9c77",
   "metadata": {
    "execution": {
     "iopub.execute_input": "2025-01-07T10:55:19.183871Z",
     "iopub.status.busy": "2025-01-07T10:55:19.183235Z",
     "iopub.status.idle": "2025-01-07T10:55:19.189086Z",
     "shell.execute_reply": "2025-01-07T10:55:19.188729Z"
    }
   },
   "outputs": [
    {
     "data": {
      "text/plain": [
       "72"
      ]
     },
     "execution_count": 8,
     "metadata": {},
     "output_type": "execute_result"
    }
   ],
   "source": [
    "adata.obs['donor_id'].nunique()"
   ]
  },
  {
   "cell_type": "code",
   "execution_count": 9,
   "id": "f8567ea5",
   "metadata": {
    "execution": {
     "iopub.execute_input": "2025-01-07T10:55:19.191374Z",
     "iopub.status.busy": "2025-01-07T10:55:19.190819Z",
     "iopub.status.idle": "2025-01-07T10:56:28.615132Z",
     "shell.execute_reply": "2025-01-07T10:56:28.614703Z"
    }
   },
   "outputs": [
    {
     "data": {
      "text/plain": [
       "1063"
      ]
     },
     "execution_count": 9,
     "metadata": {},
     "output_type": "execute_result"
    }
   ],
   "source": [
    "# Remove donors not found in genotype data\n",
    "adata_processed = subset_common_donors(adata, GENOTYPES_TSV, GENOTYPE_PCS_TSV)\n",
    "\n",
    "del adata\n",
    "gc.collect()"
   ]
  },
  {
   "cell_type": "code",
   "execution_count": 10,
   "id": "e0d35977",
   "metadata": {
    "execution": {
     "iopub.execute_input": "2025-01-07T10:56:28.619180Z",
     "iopub.status.busy": "2025-01-07T10:56:28.618559Z",
     "iopub.status.idle": "2025-01-07T10:56:28.624146Z",
     "shell.execute_reply": "2025-01-07T10:56:28.623753Z"
    }
   },
   "outputs": [
    {
     "data": {
      "text/plain": [
       "70"
      ]
     },
     "execution_count": 10,
     "metadata": {},
     "output_type": "execute_result"
    }
   ],
   "source": [
    "adata_processed.obs['donor_id'].nunique()"
   ]
  },
  {
   "cell_type": "code",
   "execution_count": 11,
   "id": "e10fa738",
   "metadata": {
    "execution": {
     "iopub.execute_input": "2025-01-07T10:56:28.626427Z",
     "iopub.status.busy": "2025-01-07T10:56:28.625827Z",
     "iopub.status.idle": "2025-01-07T10:56:28.639050Z",
     "shell.execute_reply": "2025-01-07T10:56:28.638674Z"
    }
   },
   "outputs": [
    {
     "data": {
      "text/plain": [
       "(260972, 736845)"
      ]
     },
     "execution_count": 11,
     "metadata": {},
     "output_type": "execute_result"
    }
   ],
   "source": [
    "adata_processed.shape"
   ]
  },
  {
   "cell_type": "code",
   "execution_count": 12,
   "id": "861fd3d0",
   "metadata": {
    "execution": {
     "iopub.execute_input": "2025-01-07T10:56:28.641237Z",
     "iopub.status.busy": "2025-01-07T10:56:28.640652Z",
     "iopub.status.idle": "2025-01-07T10:56:28.650892Z",
     "shell.execute_reply": "2025-01-07T10:56:28.650540Z"
    }
   },
   "outputs": [],
   "source": [
    "# Remove cell-types marked 'Discard'\n",
    "# if 'Discard' in adata_processed.obs['cell_type'].cat.categories:\n",
    "\n",
    "#     adata_processed = adata_processed[~(adata_processed.obs['cell_type'] == 'Discard'), :].copy()\n",
    "    \n",
    "#     if 'Discard' in adata_processed.obs['cell_type'].cat.categories:\n",
    "\n",
    "#         adata_processed.obs['cell_type'] = adata_processed.obs['cell_type'].cat.remove_categories('Discard')\n",
    "\n",
    "# print(adata_processed.obs['cell_type'].cat.categories)"
   ]
  },
  {
   "cell_type": "code",
   "execution_count": 13,
   "id": "b462fd08",
   "metadata": {
    "execution": {
     "iopub.execute_input": "2025-01-07T10:56:28.653005Z",
     "iopub.status.busy": "2025-01-07T10:56:28.652393Z",
     "iopub.status.idle": "2025-01-07T10:56:28.667262Z",
     "shell.execute_reply": "2025-01-07T10:56:28.666918Z"
    }
   },
   "outputs": [],
   "source": [
    "# adata_processed.shape"
   ]
  },
  {
   "cell_type": "markdown",
   "id": "01cda552-22ea-415e-96ae-f415662b1c60",
   "metadata": {},
   "source": [
    "### Export"
   ]
  },
  {
   "cell_type": "code",
   "execution_count": 14,
   "id": "ff0c2396",
   "metadata": {
    "execution": {
     "iopub.execute_input": "2025-01-07T10:56:28.669397Z",
     "iopub.status.busy": "2025-01-07T10:56:28.668825Z",
     "iopub.status.idle": "2025-01-07T11:01:52.648470Z",
     "shell.execute_reply": "2025-01-07T11:01:52.647436Z"
    }
   },
   "outputs": [],
   "source": [
    "create_dir(ATAC_PEAKS_PROCESSED_H5AD)\n",
    "adata_processed.write(ATAC_PEAKS_PROCESSED_H5AD, compression='gzip')"
   ]
  },
  {
   "cell_type": "markdown",
   "id": "f81acd0e",
   "metadata": {},
   "source": [
    "## Subset and/or pseudobulk anndata"
   ]
  },
  {
   "cell_type": "code",
   "execution_count": 15,
   "id": "6c3bb0d6",
   "metadata": {
    "execution": {
     "iopub.execute_input": "2025-01-07T11:01:52.657095Z",
     "iopub.status.busy": "2025-01-07T11:01:52.655703Z",
     "iopub.status.idle": "2025-01-07T11:03:09.132060Z",
     "shell.execute_reply": "2025-01-07T11:03:09.131646Z"
    }
   },
   "outputs": [
    {
     "name": "stdout",
     "output_type": "stream",
     "text": [
      "n_ct_donor_groups after pseudo-bulking\" 386\n"
     ]
    },
    {
     "data": {
      "text/plain": [
       "0"
      ]
     },
     "execution_count": 15,
     "metadata": {},
     "output_type": "execute_result"
    }
   ],
   "source": [
    "# Cell-type-donor -level pseudobulk\n",
    "# REMINDER: sc.get.aggregate() removes groups without any members\n",
    "\n",
    "adata_ctdonors = sc.get.aggregate(adata_processed,\n",
    "                                by=['cell_type', 'donor'],\n",
    "                                func=['mean'],\n",
    "                                axis='obs')\n",
    "\n",
    "adata_ctdonors.X = adata_ctdonors.layers['mean'].copy()\n",
    "del adata_ctdonors.layers['mean']\n",
    "\n",
    "adata_ctdonors_out_path = f'{os.path.dirname(ATAC_PEAKS_PROCESSED_H5AD)}/peak_matrix_cell-type-donors-pseudobulk.h5ad'\n",
    "create_dir(adata_ctdonors_out_path)\n",
    "adata_ctdonors.write(adata_ctdonors_out_path, compression='gzip')\n",
    "\n",
    "print(f'n_ct_donor_groups after pseudo-bulking\" {adata_ctdonors.n_obs}')\n",
    "\n",
    "del adata_ctdonors\n",
    "gc.collect()"
   ]
  },
  {
   "cell_type": "code",
   "execution_count": null,
   "id": "09e125e4",
   "metadata": {
    "execution": {
     "iopub.execute_input": "2025-01-07T11:03:09.134589Z",
     "iopub.status.busy": "2025-01-07T11:03:09.134012Z",
     "iopub.status.idle": "2025-01-07T11:12:20.182569Z",
     "shell.execute_reply": "2025-01-07T11:12:20.182170Z"
    }
   },
   "outputs": [
    {
     "name": "stdout",
     "output_type": "stream",
     "text": [
      "n_cells before: 260972\n",
      "Processing cell-type: DL-EN\n"
     ]
    },
    {
     "name": "stdout",
     "output_type": "stream",
     "text": [
      "n_cells after cell-type subset: 30210\n"
     ]
    },
    {
     "name": "stdout",
     "output_type": "stream",
     "text": [
      "n_donors after pseudo-bulking\" 66\n",
      "Processing cell-type: Glia\n"
     ]
    },
    {
     "name": "stdout",
     "output_type": "stream",
     "text": [
      "n_cells after cell-type subset: 52409\n"
     ]
    },
    {
     "name": "stdout",
     "output_type": "stream",
     "text": [
      "n_donors after pseudo-bulking\" 70\n",
      "Processing cell-type: UL-EN\n"
     ]
    },
    {
     "name": "stdout",
     "output_type": "stream",
     "text": [
      "n_cells after cell-type subset: 41200\n"
     ]
    },
    {
     "name": "stdout",
     "output_type": "stream",
     "text": [
      "n_donors after pseudo-bulking\" 52\n",
      "Processing cell-type: Discard\n"
     ]
    },
    {
     "name": "stdout",
     "output_type": "stream",
     "text": [
      "n_cells after cell-type subset: 65041\n"
     ]
    },
    {
     "name": "stdout",
     "output_type": "stream",
     "text": [
      "n_donors after pseudo-bulking\" 70\n",
      "Processing cell-type: Neural-progenitors\n"
     ]
    },
    {
     "name": "stdout",
     "output_type": "stream",
     "text": [
      "n_cells after cell-type subset: 52780\n"
     ]
    },
    {
     "name": "stdout",
     "output_type": "stream",
     "text": [
      "n_donors after pseudo-bulking\" 59\n",
      "Processing cell-type: Midbrain-EN\n"
     ]
    },
    {
     "name": "stdout",
     "output_type": "stream",
     "text": [
      "n_cells after cell-type subset: 19332\n"
     ]
    },
    {
     "name": "stdout",
     "output_type": "stream",
     "text": [
      "n_donors after pseudo-bulking\" 69\n"
     ]
    }
   ],
   "source": [
    "print(f'n_cells before: {adata_processed.shape[0]}')\n",
    "\n",
    "for ct in adata_processed.obs['cell_type'].unique():\n",
    "\n",
    "\n",
    "    print(f'Processing cell-type: {ct}')\n",
    "\n",
    "\n",
    "    # Subset to cell-type\n",
    "    adata_ct_cells = adata_processed[adata_processed.obs['cell_type'] == ct, :].copy()\n",
    "\n",
    "    adata_ct_cells_out_path = f'{ATAC_CHROM_ACCESS_DIR}/adata/subset/{CT_MAP_ID}/{ct}/peak_matrix_cell-lvl.h5ad'\n",
    "    create_dir(adata_ct_cells_out_path)\n",
    "    adata_ct_cells.write(adata_ct_cells_out_path, compression='gzip')\n",
    "\n",
    "    print(f'n_cells after cell-type subset: {adata_ct_cells.shape[0]}')\n",
    "\n",
    "\n",
    "    # Cell-type specific donor-level pseudobulk\n",
    "    adata_ct_donors = sc.get.aggregate(adata_ct_cells,\n",
    "                                       by=['donor'],\n",
    "                                       func=['mean'],\n",
    "                                       axis='obs')\n",
    "\n",
    "    adata_ct_donors.X = adata_ct_donors.layers['mean'].copy()\n",
    "    del adata_ct_donors.layers['mean']\n",
    "\n",
    "\n",
    "    # Port .obs from adata_processed ('donor_id' important for downstream QTL testing)\n",
    "    kwargs = {'grouping_col': 'donor', 'filter_col': 'cell_type', 'filter_key': ct, 'obs_map_col': 'index'}\n",
    "    adata_ct_donors = port_obs_adata(adata_ct_donors, adata_processed, suffix='_all_cells', neg_filter_ref=['leiden'], kwargs=kwargs)\n",
    "\n",
    "    adata_ct_donors_out_path = f'{ATAC_CHROM_ACCESS_DIR}/adata/subset/{CT_MAP_ID}/{ct}/peak_matrix_donor-lvl_average-agg.h5ad'\n",
    "    create_dir(adata_ct_donors_out_path)\n",
    "    adata_ct_donors.write(adata_ct_donors_out_path, compression='gzip')\n",
    "\n",
    "    print(f'n_donors after pseudo-bulking\" {adata_ct_donors.n_obs}')\n",
    "\n",
    "    del adata_ct_donors\n",
    "    gc.collect()\n",
    "    \n"
   ]
  }
 ],
 "metadata": {
  "kernelspec": {
   "display_name": "main05",
   "language": "python",
   "name": "main05"
  },
  "language_info": {
   "codemirror_mode": {
    "name": "ipython",
    "version": 3
   },
   "file_extension": ".py",
   "mimetype": "text/x-python",
   "name": "python",
   "nbconvert_exporter": "python",
   "pygments_lexer": "ipython3",
   "version": "3.9.19"
  }
 },
 "nbformat": 4,
 "nbformat_minor": 5
}
