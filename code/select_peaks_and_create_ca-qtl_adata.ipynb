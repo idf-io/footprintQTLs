{
 "cells": [
  {
   "cell_type": "markdown",
   "metadata": {},
   "source": [
    "# Select peaks"
   ]
  },
  {
   "cell_type": "markdown",
   "metadata": {
    "vscode": {
     "languageId": "plaintext"
    }
   },
   "source": [
    "Filter the MACS2 called peaks down to those which have a hypothesized higher probability of being involved in genetic effects.\n",
    "\n",
    "Also create Matrix eQTL chromatin accessibility phenotype input\n",
    "\n",
    "**Input**:"
   ]
  },
  {
   "cell_type": "markdown",
   "metadata": {
    "vscode": {
     "languageId": "plaintext"
    }
   },
   "source": [
    "## Setup"
   ]
  },
  {
   "cell_type": "code",
   "execution_count": null,
   "metadata": {},
   "outputs": [],
   "source": [
    "import os\n",
    "import sys\n",
    "import gc\n",
    "import json\n",
    "import numpy as np\n",
    "import pandas as pd\n",
    "import anndata as ad\n",
    "import scanpy as sc"
   ]
  },
  {
   "cell_type": "code",
   "execution_count": null,
   "metadata": {},
   "outputs": [],
   "source": [
    "# Ensure cwd is project root and that /code is in path\n",
    "\n",
    "cwd = os.path.basename(os.getcwd())\n",
    "\n",
    "if cwd == 'footprintQTL':\n",
    "    \n",
    "    PROJECT_DIR = '.'\n",
    "\n",
    "\n",
    "elif cwd == 'code':\n",
    "    \n",
    "    PROJECT_DIR = '..'\n",
    "\n",
    "\n",
    "elif cwd == 'fichtner':\n",
    "\n",
    "    PROJECT_DIR = 'projects/footprintQTL'\n",
    "\n",
    "else:\n",
    "\n",
    "    PROJECT_DIR = 'manual'\n",
    "\n",
    "\n",
    "os.chdir(PROJECT_DIR)\n",
    "sys.path.append(os.getcwd() + '/code')"
   ]
  },
  {
   "cell_type": "code",
   "execution_count": null,
   "metadata": {},
   "outputs": [],
   "source": [
    "from helpers.python.utils import create_dir, list_dirs, list_files_and_links, \\\n",
    "                                 ct_format, ct_format_alt\n",
    "from helpers.python.anndata_utils import check_anndata"
   ]
  },
  {
   "cell_type": "markdown",
   "metadata": {},
   "source": [
    "## Variables"
   ]
  },
  {
   "cell_type": "code",
   "execution_count": null,
   "metadata": {},
   "outputs": [],
   "source": [
    "# User variables\n",
    "\n",
    "from glob_vars import ATAC_PEAKS_PROCESSED_H5AD, \\\n",
    "                      ATAC_CHROM_ACCESS_DIR, \\\n",
    "                      CT_MAP_ID, CT_MAP_JSON, \\\n",
    "                      SELECT_PEAKS_TSV_DIR, \\\n",
    "                      MATRIX_EQTL_INPUT_DIR, \\\n",
    "                      PRECOMPUTED_EQTLS_TSV, \\\n",
    "                      MAIN_ENV\n",
    "\n",
    "cell_type = str('DL-EN')"
   ]
  },
  {
   "cell_type": "code",
   "execution_count": null,
   "metadata": {},
   "outputs": [],
   "source": [
    "n_top_hvps = 10000 # 1 ct: cell-level | Top n ranked peaks to consider in highly-variable-peaks\n",
    "min_mean_acells = 0.0125 # 1 ct: cell-level | Minimum mean value across all cells and donors within ct\n",
    "max_mean_acells = 3 # 1 ct: cell-level | Maximum mean value across all cells and donors within ct\n",
    "\n",
    "min_pval = 0.01 # Min p-value for marker peaks to be considered in the first place in differential peak accessibility\n",
    "n_top_markers = 10000 # All cts: donor-level (cell agg.) | Top n ranking markers peaks to consider\n",
    "\n",
    "min_mean_adonors = 0.002 # 1 ct: donor-level (cell agg.) | Minimum threshold of peak mean across donors\n",
    "min_donors = 0.26 # 1 ct: donor-level (cell agg.) | Minimum percentage of donors a peak needs to be found in AKA Peak sparsity filter\n",
    "min_score = 9 #  1 ct: donor-level (cell agg.) | 30449843Minimum score (resulting -log10(q-val) of peak calling w MACS2"
   ]
  },
  {
   "cell_type": "code",
   "execution_count": null,
   "metadata": {},
   "outputs": [],
   "source": [
    "os.environ['PATH'] = f'/omics/groups/OE0540/internal_temp/users/fichtner/micromamba/envs/{MAIN_ENV}/bin:' + os.environ['PATH']\n",
    "from pybedtools import BedTool"
   ]
  },
  {
   "cell_type": "code",
   "execution_count": null,
   "metadata": {},
   "outputs": [],
   "source": [
    "cell_type_alt = ct_format_alt(cell_type)\n",
    "cell_type = ct_format(cell_type)"
   ]
  },
  {
   "cell_type": "code",
   "execution_count": null,
   "metadata": {},
   "outputs": [],
   "source": [
    "# Get ct-ann --> grouped-ct mappings\n",
    "with open(CT_MAP_JSON, 'r') as f:\n",
    "    ct_map = json.load(f)\n",
    "\n",
    "# Format\n",
    "ct_map_alt = {ct_format_alt(key): [ct_format_alt(e) for e in listt] for key, listt in ct_map.items()}\n",
    "ct_map_i_alt = {ct_format_alt(old_ct): ct_format_alt(new_ct) for new_ct, old_cts in ct_map.items() for old_ct in old_cts}\n",
    "\n",
    "ct_map = {ct_format(key): [ct_format(e) for e in listt] for key, listt in ct_map.items()}\n",
    "ct_map_i = {old_ct: new_ct for new_ct, old_cts in ct_map.items() for old_ct in old_cts}"
   ]
  },
  {
   "cell_type": "markdown",
   "metadata": {},
   "source": [
    "## Load data"
   ]
  },
  {
   "cell_type": "code",
   "execution_count": null,
   "metadata": {},
   "outputs": [],
   "source": [
    "adata_all_cts_cells = ad.read_h5ad(f'{ATAC_CHROM_ACCESS_DIR}/adata/subset/{CT_MAP_ID}/{cell_type}/peak_matrix_all-cell-types_cell-lvl.h5ad')\n",
    "adata_all_cts_ctd = ad.read_h5ad(f'{ATAC_CHROM_ACCESS_DIR}/adata/subset/{CT_MAP_ID}/{cell_type}/peak_matrix_all-cell-types_cell-type-donor-lvl_averag-agg.h5ad')\n",
    "adata_ct_cells = ad.read_h5ad(f'{ATAC_CHROM_ACCESS_DIR}/adata/subset/{CT_MAP_ID}/{cell_type}/peak_matrix_ct-filtered_cell-lvl.h5ad')\n",
    "adata_ct_donors = ad.read_h5ad(f'{ATAC_CHROM_ACCESS_DIR}/adata/subset/{CT_MAP_ID}/{cell_type}/peak_matrix_ct-filtered_donor-lvl_average-agg.h5ad')\n",
    "\n",
    "df_ct_donors = adata_ct_donors.to_df()\n",
    "df_ct_donors"
   ]
  },
  {
   "cell_type": "markdown",
   "metadata": {},
   "source": [
    "## Filter peaks\n",
    "\n",
    "**Approach**\n",
    "\n",
    "Peak group A = \n",
    "1. Highly variable peaks (HVPs) within cell-type OR\n",
    "2. Marker peaks (DAPs) for the cell-type OR\n",
    "3. Overlapping with pre-computed eQTLs OR\n",
    "4. Near eGenes OR\n",
    "\n",
    "Peak group B =\n",
    "1. Min. nr. of donors within cell-type\n",
    "2. Min. mean within cell-type\n",
    "3. Min. score\n",
    "\n",
    "Peak selection = A intersect B"
   ]
  },
  {
   "cell_type": "markdown",
   "metadata": {},
   "source": [
    "## A1. HVPs (cell-type specific)"
   ]
  },
  {
   "cell_type": "code",
   "execution_count": null,
   "metadata": {},
   "outputs": [],
   "source": [
    "# Remove batches w with min cell nr\n",
    "cell_counts_per_donor_batch = adata_ct_cells.obs.groupby('batch').transform('size')\n",
    "adata_ct_cells_batch_filtered = adata_ct_cells[cell_counts_per_donor_batch >= 10, :].copy()"
   ]
  },
  {
   "cell_type": "code",
   "execution_count": null,
   "metadata": {},
   "outputs": [],
   "source": [
    "# Seurat (expect log)\n",
    "sc.pp.highly_variable_genes(adata_ct_cells_batch_filtered, flavor='seurat', batch_key='batch', n_top_genes=adata_ct_cells_batch_filtered.n_vars)\n",
    "sc.pl.highly_variable_genes(adata_ct_cells_batch_filtered)"
   ]
  },
  {
   "cell_type": "code",
   "execution_count": null,
   "metadata": {},
   "outputs": [],
   "source": [
    "# Extract top n HVPs\n",
    "merge = pd.merge(adata_ct_cells_batch_filtered.var['means'].to_frame(),\n",
    "                adata_ct_cells_batch_filtered.var['highly_variable_nbatches'].to_frame(),\n",
    "                left_index=True,\n",
    "                right_index=True,\n",
    "                how='inner')\n",
    "\n",
    "merge = pd.merge(merge,\n",
    "                adata_ct_cells_batch_filtered.var['dispersions_norm'].abs().to_frame(),\n",
    "                left_index=True,\n",
    "                right_index=True,\n",
    "                how='inner')\n",
    "\n",
    "merge = merge[(merge['means'] > min_mean_acells) & (merge['means'] < max_mean_acells)]\n",
    "\n",
    "merge = merge.sort_values(by=['highly_variable_nbatches', 'dispersions_norm'], ascending=[False, False])\n",
    "peaks_hvp = set(merge[0:n_top_hvps].index)"
   ]
  },
  {
   "cell_type": "markdown",
   "metadata": {},
   "source": [
    "## A2. DAPs (cell-type specific, computed on all cell-types)"
   ]
  },
  {
   "cell_type": "code",
   "execution_count": null,
   "metadata": {},
   "outputs": [],
   "source": [
    "sc.tl.rank_genes_groups(adata_all_cts_ctd, groupby='cell_type', method='t-test', rankby_abs=True)\n",
    "sc.pl.rank_genes_groups(adata_all_cts_ctd, n_genes=25, sharey=False)"
   ]
  },
  {
   "cell_type": "code",
   "execution_count": null,
   "metadata": {},
   "outputs": [],
   "source": [
    "daps = sc.get.rank_genes_groups_df(adata_all_cts_ctd, group=cell_type, pval_cutoff=min_pval)\n",
    "peaks_markers = set(daps['names'][0:n_top_markers])\n",
    "daps"
   ]
  },
  {
   "cell_type": "code",
   "execution_count": null,
   "metadata": {},
   "outputs": [],
   "source": [
    "del adata_all_cts_ctd\n",
    "gc.collect()"
   ]
  },
  {
   "cell_type": "markdown",
   "metadata": {},
   "source": [
    "## A3. Peaks overlapping with pre-computed eQTLs"
   ]
  },
  {
   "cell_type": "markdown",
   "metadata": {},
   "source": [
    "### Make peaks bed"
   ]
  },
  {
   "cell_type": "code",
   "execution_count": null,
   "metadata": {},
   "outputs": [],
   "source": [
    "peaks_df = adata_all_cts_cells.var[['chr', 'start', 'end', 'peak_name']].copy()\n",
    "peaks_df['start'] = peaks_df['start']\n",
    "\n",
    "peaks_bed = BedTool(peaks_df.values.tolist())\n",
    "\n",
    "print(len(peaks_bed))\n",
    "peaks_bed"
   ]
  },
  {
   "cell_type": "markdown",
   "metadata": {},
   "source": [
    "### Make eQTLs bed"
   ]
  },
  {
   "cell_type": "code",
   "execution_count": null,
   "metadata": {},
   "outputs": [],
   "source": [
    "eqtls = pd.read_csv(PRECOMPUTED_EQTLS_TSV,\n",
    "                   sep='\\t',\n",
    "                   header=0,\n",
    "                   index_col=21)\n",
    "eqtls.columns"
   ]
  },
  {
   "cell_type": "code",
   "execution_count": null,
   "metadata": {},
   "outputs": [],
   "source": [
    "# Make eQTL bed file\n",
    "\n",
    "eqtls_df = eqtls[['snp_chromosome', 'snp_position', 'beta', 'celltype']].copy()\n",
    "\n",
    "# Filter out 'Discard' marked cell-types\n",
    "eqtls_df = eqtls_df[~eqtls_df['celltype'].isin(ct_map_alt['Discard'])].copy()\n",
    "\n",
    "eqtls_df['start'] = eqtls_df['snp_position'] - 1 # Make index 0-based open\n",
    "eqtls_df.reset_index(inplace=True)\n",
    "eqtls_df['chr'] = 'chr' + eqtls_df['snp_chromosome'].astype(str)\n",
    "eqtls_df = eqtls_df.rename(columns={'snp_position': 'end', 'QTL': 'id'})\n",
    "\n",
    "eqtls_df = eqtls_df[['chr', 'start', 'end', 'id']].sort_values(by=['chr', 'start'], ascending=[True, True])\n",
    "\n",
    "eqtls_bed = BedTool(eqtls_df.values.tolist())\n",
    "\n",
    "len(eqtls_bed)"
   ]
  },
  {
   "cell_type": "markdown",
   "metadata": {},
   "source": [
    "### Peaks intersecting w eQTLs"
   ]
  },
  {
   "cell_type": "code",
   "execution_count": null,
   "metadata": {},
   "outputs": [],
   "source": [
    "peaks_eqtl_bed = peaks_bed.intersect(eqtls_bed, u=True)\n",
    "\n",
    "\n",
    "peaks_eqtl = []\n",
    "\n",
    "for fields in peaks_eqtl_bed:\n",
    "\n",
    "    peaks_eqtl.append(fields[3])\n",
    "\n",
    "print(len(peaks_eqtl))\n",
    "\n",
    "peaks_eqtl = set(peaks_eqtl)"
   ]
  },
  {
   "cell_type": "markdown",
   "metadata": {},
   "source": [
    "## A4. Peaks near eGenes"
   ]
  },
  {
   "cell_type": "code",
   "execution_count": null,
   "metadata": {},
   "outputs": [],
   "source": [
    "eGenes = set(eqtls.loc[~eqtls['gene_name'].isna(), 'gene_name'].unique())"
   ]
  },
  {
   "cell_type": "code",
   "execution_count": null,
   "metadata": {},
   "outputs": [],
   "source": [
    "len(eGenes)"
   ]
  },
  {
   "cell_type": "code",
   "execution_count": null,
   "metadata": {},
   "outputs": [],
   "source": [
    "peaks_eGenes = set(adata_ct_cells.var[adata_ct_cells.var['nearest_gene'].isin(eGenes)].index)\n",
    "\n",
    "len(peaks_eGenes)"
   ]
  },
  {
   "cell_type": "code",
   "execution_count": null,
   "metadata": {},
   "outputs": [],
   "source": [
    "del adata_ct_cells\n",
    "gc.collect()"
   ]
  },
  {
   "cell_type": "markdown",
   "metadata": {},
   "source": [
    "## Peaks B1: Peaks with min donors with non-zero ca count (intra-cell-type)"
   ]
  },
  {
   "cell_type": "code",
   "execution_count": null,
   "metadata": {},
   "outputs": [],
   "source": [
    "non0s = (df_ct_donors != 0).mean()\n",
    "\n",
    "non0s.describe()"
   ]
  },
  {
   "cell_type": "code",
   "execution_count": null,
   "metadata": {},
   "outputs": [],
   "source": [
    "non0s.plot(kind='hist',\n",
    "           bins=np.linspace(0, 1, 51),\n",
    "           title=\"Non-zero donor count distr.\",\n",
    "           ylabel=\"#\")"
   ]
  },
  {
   "cell_type": "code",
   "execution_count": null,
   "metadata": {},
   "outputs": [],
   "source": [
    "peaks_min_donors = set(df_ct_donors.loc[:, non0s > min_donors].columns.to_list())"
   ]
  },
  {
   "cell_type": "code",
   "execution_count": null,
   "metadata": {},
   "outputs": [],
   "source": [
    "# Density of CA\n",
    "\n",
    "non0 = np.count_nonzero(adata_ct_donors.X)\n",
    "all_ = np.product(adata_ct_donors.X.shape)\n",
    "general_ca_density = round(non0 / all_, 2)\n",
    "print(f'General matrix density: {general_ca_density}')"
   ]
  },
  {
   "cell_type": "markdown",
   "metadata": {},
   "source": [
    "## Peaks B2: peaks with min mean across donors (intra-cell-type)"
   ]
  },
  {
   "cell_type": "code",
   "execution_count": null,
   "metadata": {},
   "outputs": [],
   "source": [
    "agg_mean = df_ct_donors.mean()"
   ]
  },
  {
   "cell_type": "code",
   "execution_count": null,
   "metadata": {},
   "outputs": [],
   "source": [
    "agg_mean.describe()"
   ]
  },
  {
   "cell_type": "code",
   "execution_count": null,
   "metadata": {},
   "outputs": [],
   "source": [
    "agg_mean.plot(kind='hist',\n",
    "              bins=300, title=\"Peak mean across donors distr.\",\n",
    "              xlabel=\"\",\n",
    "              ylabel=\"#\")"
   ]
  },
  {
   "cell_type": "code",
   "execution_count": null,
   "metadata": {},
   "outputs": [],
   "source": [
    "agg_mean.plot(kind='hist', \n",
    "              bins=np.linspace(0, 0.015, 31),\n",
    "              title=\"Peak mean across donors ZOOM distr.\",\n",
    "              xlabel=\"\",\n",
    "              ylabel=\"#\")"
   ]
  },
  {
   "cell_type": "code",
   "execution_count": null,
   "metadata": {},
   "outputs": [],
   "source": [
    "agg_mean.plot(kind='density',\n",
    "              xlim=[0, 0.015],\n",
    "              title=\"Peak mean across donors ZOOM distr.\",\n",
    "              xlabel=\"\")"
   ]
  },
  {
   "cell_type": "code",
   "execution_count": null,
   "metadata": {},
   "outputs": [],
   "source": [
    "peaks_min_mean = set(df_ct_donors.loc[:, agg_mean > min_mean_adonors].columns.tolist())"
   ]
  },
  {
   "cell_type": "markdown",
   "metadata": {},
   "source": [
    "## B3. Peaks with min peak score value"
   ]
  },
  {
   "cell_type": "code",
   "execution_count": null,
   "metadata": {},
   "outputs": [],
   "source": [
    "peak_scores = adata_ct_donors.var['score']"
   ]
  },
  {
   "cell_type": "code",
   "execution_count": null,
   "metadata": {},
   "outputs": [],
   "source": [
    "peak_scores.describe()"
   ]
  },
  {
   "cell_type": "code",
   "execution_count": null,
   "metadata": {},
   "outputs": [],
   "source": [
    "peak_scores.plot(kind='hist',\n",
    "                 bins=np.linspace(0, 60, 61),\n",
    "                 figsize=(14,3),\n",
    "                 title=\"Peak score distr.\",\n",
    "                 ylabel=\"#\")"
   ]
  },
  {
   "cell_type": "code",
   "execution_count": null,
   "metadata": {},
   "outputs": [],
   "source": [
    "peaks_min_score = set(adata_ct_donors.var[(adata_ct_donors.var['score'] >= min_score).tolist()].index.tolist())"
   ]
  },
  {
   "cell_type": "code",
   "execution_count": null,
   "metadata": {},
   "outputs": [],
   "source": [
    "del df_ct_donors\n",
    "gc.collect()"
   ]
  },
  {
   "cell_type": "markdown",
   "metadata": {},
   "source": [
    "## Export final peaks"
   ]
  },
  {
   "cell_type": "code",
   "execution_count": null,
   "metadata": {},
   "outputs": [],
   "source": [
    "print(f'Len peaks_hvp = {len(peaks_hvp)}\\n' \\\n",
    "      f'peaks_hvp = {list(peaks_hvp)[0:4]}')\n",
    "\n",
    "print(f'Len peaks_markers = {len(peaks_markers)}\\n' \\\n",
    "      f'peaks_markers = {list(peaks_markers)[0:4]}')\n",
    "\n",
    "print(f'Len peaks_eqtl = {len(peaks_eqtl)}\\n' \\\n",
    "      f'peaks_eqtl = {list(peaks_eqtl)[0:4]}')\n",
    "\n",
    "print(f'Len peaks_eGenes = {len(peaks_eGenes)}\\n' \\\n",
    "      f'peaks_eGenes = {list(peaks_eGenes)[0:4]}')\n",
    "\n",
    "print(f'Len peaks_min_mean = {len(peaks_min_mean)}\\n' \\\n",
    "      f'peaks_min_mean = {list(peaks_min_mean)[0:4]}')\n",
    "\n",
    "print(f'Len peaks_min_donors = {len(peaks_min_donors)}\\n' \\\n",
    "      f'peaks_min_donors = {list(peaks_min_donors)[0:4]}')\n",
    "\n",
    "print(f'Len peaks_min_score = {len(peaks_min_score)}\\n' \\\n",
    "      f'peaks_min_score = {list(peaks_min_score)[0:4]}')"
   ]
  },
  {
   "cell_type": "code",
   "execution_count": null,
   "metadata": {},
   "outputs": [],
   "source": [
    "final_peaks = list((peaks_hvp | peaks_markers | peaks_eqtl | peaks_eGenes) & (peaks_min_mean | peaks_min_donors | peaks_min_score)) # remove peaks_min_mean or peaks_min_donors\n",
    "\n",
    "\n",
    "# Export bed\n",
    "\n",
    "final_peaks_df = adata_all_cts_cells.var.loc[final_peaks, ['chr', 'start', 'end', 'peak_name']].copy()\n",
    "final_peaks_bed = BedTool(final_peaks_df.values.tolist()).sort()\n",
    "\n",
    "final_peaks_bed_path = f'{SELECT_PEAKS_TSV_DIR}/{cell_type}/peaks_ca-qtls.bed'\n",
    "create_dir(final_peaks_bed_path)\n",
    "final_peaks_bed.saveas(final_peaks_bed_path)\n",
    "\n",
    "print(len(final_peaks))\n",
    "final_peaks"
   ]
  },
  {
   "cell_type": "markdown",
   "metadata": {},
   "source": [
    "## Export final adata"
   ]
  },
  {
   "cell_type": "code",
   "execution_count": null,
   "metadata": {},
   "outputs": [],
   "source": [
    "adata_ca = adata_ct_donors[:, final_peaks].copy() # Filtered for final peak set\n",
    "adata_ca"
   ]
  },
  {
   "cell_type": "code",
   "execution_count": null,
   "metadata": {},
   "outputs": [],
   "source": [
    "adata_ca.var_names"
   ]
  },
  {
   "cell_type": "markdown",
   "metadata": {},
   "source": [
    "### Make caPCs"
   ]
  },
  {
   "cell_type": "code",
   "execution_count": null,
   "metadata": {},
   "outputs": [],
   "source": [
    "sc.pp.pca(adata_ca)"
   ]
  },
  {
   "cell_type": "code",
   "execution_count": null,
   "metadata": {},
   "outputs": [],
   "source": [
    "adata_ca_path = f'{ATAC_CHROM_ACCESS_DIR}/adata/subset/{CT_MAP_ID}/{cell_type}/peak_matrix_ca-qtls.h5ad'\n",
    "create_dir(adata_ca_path)\n",
    "adata_ca.write(adata_ca_path, compression='gzip')"
   ]
  },
  {
   "cell_type": "markdown",
   "metadata": {},
   "source": [
    "## Export caQTL phenotype tsv"
   ]
  },
  {
   "cell_type": "code",
   "execution_count": null,
   "metadata": {},
   "outputs": [],
   "source": [
    "# Create pheno matrix\n",
    "\n",
    "# Get donor -> donor_id mappint\n",
    "# TODO: annotate adata_ca in process_peaks_adata\n",
    "\n",
    "donor_id_map = adata_all_cts_cells.obs[['donor', 'donor_id']].groupby('donor')['donor_id'].unique().to_dict()\n",
    "assert all(len(values) == 1 for values in donor_id_map.values())\n",
    "donor_id_map = {key: values[0] for key, values in donor_id_map.items()}\n",
    "\n",
    "pheno_out = adata_ca.to_df().T\n",
    "pheno_out = pheno_out.rename(columns=donor_id_map)\n",
    "pheno_out = pheno_out.rename_axis('peak_id')\n",
    "\n",
    "pheno_out"
   ]
  },
  {
   "cell_type": "code",
   "execution_count": null,
   "metadata": {},
   "outputs": [],
   "source": [
    "# Export peak chromatin accessibility\n",
    "pheno_out_path = f'{MATRIX_EQTL_INPUT_DIR}/chromatin-accessibility/{CT_MAP_ID}/{cell_type}/bulk-tests/phenotype.tsv'\n",
    "create_dir(pheno_out_path)\n",
    "pheno_out.round(6).to_csv(pheno_out_path, sep='\\t', na_rep='NaN')"
   ]
  },
  {
   "cell_type": "code",
   "execution_count": null,
   "metadata": {},
   "outputs": [],
   "source": [
    "del adata_all_cts_cells\n",
    "del adata_ct_donors\n",
    "gc.collect()"
   ]
  }
 ],
 "metadata": {
  "kernelspec": {
   "display_name": "main06",
   "language": "python",
   "name": "main06"
  },
  "language_info": {
   "codemirror_mode": {
    "name": "ipython",
    "version": 3
   },
   "file_extension": ".py",
   "mimetype": "text/x-python",
   "name": "python",
   "nbconvert_exporter": "python",
   "pygments_lexer": "ipython3",
   "version": "3.9.19"
  }
 },
 "nbformat": 4,
 "nbformat_minor": 2
}
