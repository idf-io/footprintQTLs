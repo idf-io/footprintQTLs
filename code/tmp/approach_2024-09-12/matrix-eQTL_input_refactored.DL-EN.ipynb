{
 "cells": [
  {
   "cell_type": "markdown",
   "id": "3d75983b-d8b2-4d0e-91db-ea2b30d8d17c",
   "metadata": {},
   "source": [
    "# Setup"
   ]
  },
  {
   "cell_type": "code",
   "execution_count": 1,
   "id": "a9d18af4-f325-4093-8899-f0c4d02b1d9b",
   "metadata": {
    "tags": []
   },
   "outputs": [],
   "source": [
    "import os\n",
    "import sys\n",
    "import subprocess\n",
    "import math\n",
    "import json\n",
    "\n",
    "import numpy as np\n",
    "import pandas as pd\n",
    "from matplotlib import pyplot as pl\n",
    "import seaborn as sns\n",
    "import scipy as sp\n",
    "\n",
    "import anndata as ad\n",
    "import scanpy as sc"
   ]
  },
  {
   "cell_type": "markdown",
   "id": "ee12c619-53cc-4ce4-937a-2cd9bc7a9fc7",
   "metadata": {},
   "source": [
    "### User variables"
   ]
  },
  {
   "cell_type": "code",
   "execution_count": null,
   "id": "d50577ec-f875-491e-be70-ad5693d7356b",
   "metadata": {},
   "outputs": [],
   "source": [
    "cell_type = str(\"DL-EN\")\n",
    "CT_MAP_JSON_PATH = \"config/cell-type_groupings/hca_brain-organoids/approach_2024-09-12.json\"\n",
    "\n",
    "RUN_ID = \"meqtl_sep30_ref2_approach_2024-09-12\"\n",
    "DATASET_ID = \"hca_brain-organoids\""
   ]
  },
  {
   "cell_type": "code",
   "execution_count": null,
   "id": "5b463562-21ca-4e62-9cfe-e0d09c6542c6",
   "metadata": {},
   "outputs": [],
   "source": [
    "PROJ_ROOT = \"/home/fichtner/projects/footprintQTL\"\n",
    "HCA_BORGS_PROJ = \"data/datasets/hca_brain-organoids/\"\n",
    "ATAC_PEAKS_PATH = os.path.join(PROJ_ROOT, \"data/datasets/hca_brain-organoids_processed/chromatin_accessibility/peak-matrix_rna-qc-cells_norm-reads-in-tss.h5ad\")\n",
    "RNA_AD_PATH = os.path.join(PROJ_ROOT, \"data/datasets/hca_brain-organoids/outputs_allsamples/sabrina_allsamples_rna_final_after_atac.h5ad\")"
   ]
  },
  {
   "cell_type": "code",
   "execution_count": null,
   "id": "292b7051-bdb2-4ded-83f2-e73e5bab7f35",
   "metadata": {},
   "outputs": [],
   "source": [
    "bedtools_bin = '/home/fichtner/.conda/envs/ian/bin/bedtools'"
   ]
  },
  {
   "cell_type": "code",
   "execution_count": null,
   "id": "c20b27f9-504b-4e17-9f42-8af98b198567",
   "metadata": {},
   "outputs": [],
   "source": [
    "min_cells = 10 # All cts: cell-level | Minimum amount of cells a peak needs to for the peak to be retained (required for functions to work)\n",
    "\n",
    "n_top_hvps = 10000 # 1 ct: cell-level | Top n ranked peaks to consider in highly-variable-peaks\n",
    "min_mean_acells = 0.0125\n",
    "max_mean_acells = 2\n",
    "\n",
    "min_pval = 0.01 # Min p-value for marker peaks to be considered in the first place in differential peak accessibility\n",
    "n_top_markers = 10000 # All cts: donor-level (cell agg.) | Top n ranking markers peaks to consider\n",
    "\n",
    "min_mean_adonors = 0.002\n",
    "min_donors = 0.24\n",
    "min_score = 0.8\n",
    "\n",
    "n_ca_PCs = 5 # Nr of chromatin accessibility PCs used as covariate"
   ]
  },
  {
   "cell_type": "markdown",
   "id": "3630cd3b-fb7d-47f6-987d-2e8fa177d4d0",
   "metadata": {},
   "source": [
    "### Variables"
   ]
  },
  {
   "cell_type": "code",
   "execution_count": null,
   "id": "dee3119d-8ec4-4cdc-89d8-4232b48a40d7",
   "metadata": {},
   "outputs": [],
   "source": [
    "os.chdir(PROJ_ROOT)\n",
    "\n",
    "sys.path.append(os.path.join(PROJ_ROOT, \"code\"))\n",
    "from helpers.helpers import ct_format, ct_format_alt, create_folder"
   ]
  },
  {
   "cell_type": "code",
   "execution_count": null,
   "id": "be062eaa-6e7e-4387-86b5-ec11bcc9a224",
   "metadata": {
    "tags": []
   },
   "outputs": [],
   "source": [
    "cell_type_alt = ct_format_alt(cell_type)\n",
    "cell_type = ct_format(cell_type)"
   ]
  },
  {
   "cell_type": "code",
   "execution_count": 28,
   "id": "59242122-20e8-48e2-8cff-939435784c0d",
   "metadata": {},
   "outputs": [],
   "source": [
    "ct_map_id = os.path.basename(CT_MAP_JSON_PATH).split('.')[0]\n",
    "\n",
    "# Get ct-ann --> grouped-ct mappings\n",
    "with open(CT_MAP_JSON_PATH, 'r') as f:\n",
    "    ct_map = json.load(f)\n",
    "\n",
    "# Format\n",
    "ct_map_alt = {ct_format_alt(key): [ct_format_alt(e) for e in listt] for key, listt in ct_map.items()}\n",
    "ct_map_i_alt = {ct_format_alt(old_ct): ct_format_alt(new_ct) for new_ct, old_cts in ct_map.items() for old_ct in old_cts}\n",
    "\n",
    "ct_map = {ct_format(key): [ct_format(e) for e in listt] for key, listt in ct_map.items()}\n",
    "ct_map_i = {old_ct: new_ct for new_ct, old_cts in ct_map.items() for old_ct in old_cts}"
   ]
  },
  {
   "cell_type": "markdown",
   "id": "30ba233d-23e6-4f69-a878-5033b6aae997",
   "metadata": {},
   "source": [
    "### Artifact donors"
   ]
  },
  {
   "cell_type": "code",
   "execution_count": null,
   "id": "bd76848a-2425-477f-94ea-b9c7b73c2a9f",
   "metadata": {},
   "outputs": [],
   "source": [
    "# # TMP\n",
    "# PROJECT_PATH = '/home/fichtner/projects/footprintQTL'\n",
    "# DATA_PATH = '/omics/groups/OE0540/internal/projects/HCA_organoid_2/cemm_sabrina-20Jul2022/'\n",
    "# RNA_AD = 'outputs_allsamples/sabrina_allsamples_rna_final_after_atac.h5ad'\n",
    "\n",
    "# import sys\n",
    "# sys.path.append(PROJECT_PATH + \"/code\")\n",
    "# from helpers.helpers import ct_format, get_anndata_coldata\n",
    "\n",
    "# cells_coldata = get_anndata_coldata(os.path.join(DATA_PATH, RNA_AD))[0]\n",
    "# del cells_coldata"
   ]
  },
  {
   "cell_type": "code",
   "execution_count": null,
   "id": "a101abab-616d-4fc3-946b-92d6e3035385",
   "metadata": {},
   "outputs": [],
   "source": [
    "# Exclude for some weird reason, samples in QC but not in other files\n",
    "artifact_donors = {'SAMEA2474458', 'SAMEA2555012'}"
   ]
  },
  {
   "cell_type": "markdown",
   "id": "7c62cb62-fb59-4cb0-bfdd-d0989039b079",
   "metadata": {},
   "source": [
    "# Get data"
   ]
  },
  {
   "cell_type": "markdown",
   "id": "61a9ff9c-a57e-4d81-8a02-bd27bbd22360",
   "metadata": {},
   "source": [
    "## Chromatin accessibility cell-level anndata"
   ]
  },
  {
   "cell_type": "code",
   "execution_count": null,
   "id": "07989e72-c4af-4a3f-9d38-85659ad6fa5f",
   "metadata": {
    "tags": []
   },
   "outputs": [],
   "source": [
    "borgs_tile_mat = ad.read_h5ad(ATAC_PEAKS_PATH)\n",
    "\n",
    "# Format\n",
    "borgs_tile_mat.var_names = borgs_tile_mat.var['peak_name']\n",
    "borgs_tile_mat.obs['cell_type'] = borgs_tile_mat.obs['cell_type'].apply(ct_format)\n",
    "borgs_tile_mat.obs['cell_type'] = borgs_tile_mat.obs['cell_type'].map(ct_map_i).astype('category')\n",
    "\n",
    "# Filter cell-types marked 'Discard'\n",
    "if 'Discard' in borgs_tile_mat.obs['cell_type'].cat.categories:\n",
    "    borgs_tile_mat = borgs_tile_mat[~(borgs_tile_mat.obs['cell_type'] == 'Discard'), :].copy()\n",
    "    \n",
    "    if 'Discard' in borgs_tile_mat.obs['cell_type'].cat.categories:\n",
    "        borgs_tile_mat.obs['cell_type'] = borgs_tile_mat.obs['cell_type'].cat.remove_categories('Discard')\n",
    "\n",
    "print(borgs_tile_mat.obs['cell_type'].cat.categories)\n",
    "borgs_tile_mat"
   ]
  },
  {
   "cell_type": "code",
   "execution_count": null,
   "id": "105c3c7e-8f50-41ca-879d-b8b3dbfcf8dc",
   "metadata": {},
   "outputs": [],
   "source": [
    "borgs_tile_mat.obs['cell_type']"
   ]
  },
  {
   "cell_type": "code",
   "execution_count": null,
   "id": "42098c1f-4f2b-4231-bedc-2c7f3aa9fd65",
   "metadata": {},
   "outputs": [],
   "source": [
    "# Remove artifact donors\n",
    "donors_qc = ~borgs_tile_mat.obs['donor_id'].isin(artifact_donors)\n",
    "\n",
    "borgs_tile_mat = borgs_tile_mat[donors_qc, :].copy()\n",
    "\n",
    "borgs_tile_mat.shape"
   ]
  },
  {
   "cell_type": "markdown",
   "id": "f93ee572-e459-413c-a529-b7fbcd62d42a",
   "metadata": {},
   "source": [
    "### Get cell-type anndata"
   ]
  },
  {
   "cell_type": "code",
   "execution_count": null,
   "id": "f7939836-aba0-4d08-ad1f-3d52bf6bbc34",
   "metadata": {
    "tags": []
   },
   "outputs": [],
   "source": [
    "caPeaks_1ct = borgs_tile_mat[borgs_tile_mat.obs['cell_type'] == cell_type, :].copy()\n",
    "caPeaks_1ct"
   ]
  },
  {
   "cell_type": "code",
   "execution_count": null,
   "id": "e041ffe9-d20d-48f9-9930-68383eefa47c",
   "metadata": {
    "tags": []
   },
   "outputs": [],
   "source": [
    "n_peaks_og = caPeaks_1ct.n_vars"
   ]
  },
  {
   "cell_type": "code",
   "execution_count": null,
   "id": "ddc10085-26e8-4ee7-85cc-bc988eab7e71",
   "metadata": {},
   "outputs": [],
   "source": [
    "caPeaks_1ct.obs['cell_type'].cat.categories"
   ]
  },
  {
   "cell_type": "markdown",
   "id": "542b493f-dec4-46cd-acbb-ecfbe707e1a3",
   "metadata": {},
   "source": [
    "### Hard peak filter: Remove peaks w min cell nr within ct"
   ]
  },
  {
   "cell_type": "code",
   "execution_count": null,
   "id": "96b6acb0-19e2-42df-a5a1-1f5a7456129b",
   "metadata": {
    "tags": []
   },
   "outputs": [],
   "source": [
    "# Required for HVPeaks\n",
    "sc.pp.filter_genes(caPeaks_1ct, min_cells=min_cells)\n",
    "n_cells, n_peaks_post_min_cells = caPeaks_1ct.shape\n",
    "caPeaks_1ct.shape"
   ]
  },
  {
   "cell_type": "code",
   "execution_count": null,
   "id": "bac7286c-ca18-4c4d-97de-68b33dd8fefe",
   "metadata": {},
   "outputs": [],
   "source": [
    "n_peaks_min_cells = n_peaks_og - n_peaks_post_min_cells"
   ]
  },
  {
   "cell_type": "code",
   "execution_count": null,
   "id": "8fb8c79d-187d-416e-b340-80ea373e5cc9",
   "metadata": {},
   "outputs": [],
   "source": [
    "# Remove hard-filtered peaks from cell-level anndata\n",
    "borgs_tile_mat = borgs_tile_mat[:, caPeaks_1ct.var_names].copy()"
   ]
  },
  {
   "cell_type": "markdown",
   "id": "cb35f230-dd38-4f82-a4ec-9504e18cff70",
   "metadata": {},
   "source": [
    "### Cell-type cells level stats"
   ]
  },
  {
   "cell_type": "code",
   "execution_count": null,
   "id": "e8eefe99-39a6-4139-baaf-a8c7c23dc02e",
   "metadata": {},
   "outputs": [],
   "source": [
    "# describe_result = sp.stats.describe(caPeaks_1ct.X.toarray(), axis=0)\n",
    "\n",
    "# stats = {\n",
    "#     'nobs': [describe_result.nobs] * len(describe_result.mean),\n",
    "#     'min': describe_result.minmax[0],\n",
    "#     'max': describe_result.minmax[1],\n",
    "#     'mean': describe_result.mean,\n",
    "#     'variance': describe_result.variance,\n",
    "#     'skewness': describe_result.skewness,\n",
    "#     'kurtosis': describe_result.kurtosis\n",
    "# }\n",
    "\n",
    "# # Create a DataFrame with the statistics\n",
    "# df = pd.DataFrame(stats)\n",
    "# df = df.transpose().reset_index().rename(columns={'index': 'statistic'}).set_index('statistic')\n",
    "\n",
    "# df"
   ]
  },
  {
   "cell_type": "markdown",
   "id": "1be06bf5-d9a4-425c-925c-06e455bc5f07",
   "metadata": {
    "tags": []
   },
   "source": [
    "### Init donor-level CA matrix"
   ]
  },
  {
   "cell_type": "code",
   "execution_count": null,
   "id": "5caa9c31-f8c7-4ca2-b7ae-6babd4b6713c",
   "metadata": {},
   "outputs": [],
   "source": [
    "caPeaks_1ct_agg = sc.get.aggregate(caPeaks_1ct,\n",
    "                                   by=['donor_id'],\n",
    "                                   func=['mean'],\n",
    "                                   axis='obs')\n",
    "\n",
    "caPeaks_1ct_agg.X = caPeaks_1ct_agg.layers['mean'].copy()\n",
    "del caPeaks_1ct_agg.layers['mean']\n",
    "\n",
    "n_donors = caPeaks_1ct_agg.n_obs\n",
    "\n",
    "caPeaks_1ct_agg"
   ]
  },
  {
   "cell_type": "code",
   "execution_count": null,
   "id": "0a1ea7fe-e1e1-4dc4-af8c-de8a932e3d55",
   "metadata": {},
   "outputs": [],
   "source": [
    "agg_df = caPeaks_1ct_agg.to_df()\n",
    "agg_df"
   ]
  },
  {
   "cell_type": "markdown",
   "id": "fe46e213-6abc-477c-8aa3-a33934de20eb",
   "metadata": {},
   "source": [
    "### Init ct-donor-level CA matrix"
   ]
  },
  {
   "cell_type": "code",
   "execution_count": 24,
   "id": "e6b25f28-9cf2-4293-8db4-b4da336f954b",
   "metadata": {
    "execution": {
     "iopub.execute_input": "2024-09-18T08:44:31.002536Z",
     "iopub.status.busy": "2024-09-18T08:44:31.002403Z",
     "iopub.status.idle": "2024-09-18T08:44:31.005303Z",
     "shell.execute_reply": "2024-09-18T08:44:31.004952Z"
    }
   },
   "outputs": [],
   "source": [
    "caPeaks_agg_cd = sc.get.aggregate(borgs_tile_mat,\n",
    "                                   by=['cell_type', 'donor_id'],\n",
    "                                   func=['mean'],\n",
    "                                   axis='obs')\n",
    "\n",
    "caPeaks_agg_cd.X = caPeaks_agg_cd.layers['mean'].copy()\n",
    "del caPeaks_agg_cd.layers['mean']\n",
    "\n",
    "caPeaks_agg_cd"
   ]
  },
  {
   "cell_type": "markdown",
   "id": "9a24cfca-f174-4a4d-b290-19fea7d6209f",
   "metadata": {},
   "source": [
    "### Init donor-batch-level CA matrix"
   ]
  },
  {
   "cell_type": "code",
   "execution_count": null,
   "id": "aa893137-6955-45a9-a22c-4541c846b1c8",
   "metadata": {},
   "outputs": [],
   "source": [
    "# caPeaks_agg_cdb = sc.get.aggregate(borgs_tile_mat,\n",
    "#                                    by=['cell_type', 'donor_id', 'batch'],\n",
    "#                                    func=['mean'],\n",
    "#                                    axis='obs')\n",
    "\n",
    "# caPeaks_agg_cdb.X = caPeaks_agg_cdb.layers['mean'].copy()\n",
    "# del caPeaks_agg_cdb.layers['mean']\n",
    "\n",
    "# n_donor_batch = caPeaks_agg_cdb.obs[caPeaks_agg_cdb.obs['cell_type'] == cell_type].shape[0]\n",
    "\n",
    "# caPeaks_agg_cdb"
   ]
  },
  {
   "cell_type": "markdown",
   "id": "120a60c0-4275-4a16-8cf9-94aa895996a0",
   "metadata": {
    "tags": []
   },
   "source": [
    "# Cell-level analysis"
   ]
  },
  {
   "cell_type": "markdown",
   "id": "448bb894-7fec-4ee3-9c1a-0e61d86bc4a0",
   "metadata": {
    "tags": []
   },
   "source": [
    "## Peak filter: DAPeaks"
   ]
  },
  {
   "cell_type": "code",
   "execution_count": null,
   "id": "17edd5ff-d3da-445f-8ac7-82f6980adcde",
   "metadata": {},
   "outputs": [],
   "source": [
    "sc.tl.rank_genes_groups(caPeaks_agg_cd, groupby='cell_type', method='t-test', rankby_abs=True)\n",
    "sc.pl.rank_genes_groups(caPeaks_agg_cd, n_genes=25, sharey=False)"
   ]
  },
  {
   "cell_type": "code",
   "execution_count": null,
   "id": "a6dd6887-10d1-4b9b-8b23-628d15267763",
   "metadata": {},
   "outputs": [],
   "source": [
    "daps = sc.get.rank_genes_groups_df(caPeaks_agg_cd, group=cell_type, pval_cutoff=min_pval)\n",
    "peaks_markers = set(daps['names'][0:n_top_markers])\n",
    "daps"
   ]
  },
  {
   "cell_type": "code",
   "execution_count": null,
   "id": "e7dc5b88-a52f-4d13-8b6a-11dd9a67f501",
   "metadata": {},
   "outputs": [],
   "source": [
    "daps_out_path = f\"data/intermediate-data/datasets/{DATASET_ID}/matrix-eQTL_io/chromatin_accessibility/differentially-accessible-peaks/{ct_map_id}/{cell_type}.tsv\"\n",
    "\n",
    "create_folder(os.path.dirname(os.path.abspath(daps_out_path)))\n",
    "\n",
    "daps.to_csv(daps_out_path, sep='\\t')"
   ]
  },
  {
   "cell_type": "code",
   "execution_count": null,
   "id": "2aa4cf01-e849-4393-baed-be71ef91649b",
   "metadata": {},
   "outputs": [],
   "source": [
    "del caPeaks_agg_cd"
   ]
  },
  {
   "cell_type": "markdown",
   "id": "aaf0f243-67ae-4be9-956d-790f451d3a07",
   "metadata": {
    "tags": []
   },
   "source": [
    "## Peaks filter: intersecting w eQTLs"
   ]
  },
  {
   "cell_type": "markdown",
   "id": "84ccb96b-c71f-4abc-aabf-5c6b9f0589de",
   "metadata": {},
   "source": [
    "### Make eQTLs bed file"
   ]
  },
  {
   "cell_type": "code",
   "execution_count": null,
   "id": "00c64eb1-a468-43af-b984-41f705462a59",
   "metadata": {
    "tags": []
   },
   "outputs": [],
   "source": [
    "eqtls = pd.read_csv(os.path.join(HCA_BORGS_PROJ, \"eQTL_mapping/eSNPs_significant_all_celltypes_HVGs.tsv\"),\n",
    "                   sep='\\t',\n",
    "                   header=0,\n",
    "                   index_col=21)\n",
    "eqtls.columns"
   ]
  },
  {
   "cell_type": "code",
   "execution_count": null,
   "id": "af8f44db-00ff-4d66-a105-9bdf5f90a737",
   "metadata": {},
   "outputs": [],
   "source": [
    "eqtls"
   ]
  },
  {
   "cell_type": "code",
   "execution_count": null,
   "id": "fef763c5-470e-4cae-a8d0-11cb73276000",
   "metadata": {},
   "outputs": [],
   "source": [
    "eqtls['celltype'].unique()"
   ]
  },
  {
   "cell_type": "code",
   "execution_count": null,
   "id": "6e7d5564-b094-44cb-b998-6f2fc73f5481",
   "metadata": {},
   "outputs": [],
   "source": [
    "cell_type_alt"
   ]
  },
  {
   "cell_type": "code",
   "execution_count": null,
   "id": "9ee526b2-1138-4ae5-b9ae-d12fc263ccf6",
   "metadata": {},
   "outputs": [],
   "source": [
    "# Make eQTL bed file\n",
    "\n",
    "eqtls_bed = eqtls[['snp_chromosome', 'snp_position', 'beta', 'celltype']].copy()\n",
    "\n",
    "# Filter out 'Discard' marked cell-types\n",
    "eqtls_bed = eqtls_bed[eqtls_bed['celltype'].isin(ct_map_alt['Discard'])].copy()\n",
    "\n",
    "eqtls_bed['start'] = eqtls_bed['snp_position'] - 1 # Make index 0-based open\n",
    "eqtls_bed['strand'] = '+'\n",
    "eqtls_bed.reset_index(inplace=True)\n",
    "eqtls_bed['chr'] = 'chr' + eqtls_bed['snp_chromosome'].astype(str)\n",
    "eqtls_bed = eqtls_bed.rename(columns={'snp_position': 'end', 'QTL': 'id', 'beta': 'score'})\n",
    "\n",
    "eqtls_bed = eqtls_bed[['chr', 'start', 'end', 'id', 'score', 'strand']].sort_values(by=['chr', 'start'], ascending=[True, True])\n",
    "        \n",
    "eqtls_bed_path = f'data/intermediate-data/datasets/{DATASET_ID}/matrix-eQTL_io/eQTLs/{ct_map_id}/eQTLs_{cell_type}.tsv'\n",
    "\n",
    "create_folder(os.path.dirname(os.path.abspath(eqtls_bed_path)))\n",
    "\n",
    "eqtls_bed.to_csv(eqtls_bed_path, sep='\\t', header=False, index=False)\n",
    "\n",
    "eqtls_bed"
   ]
  },
  {
   "cell_type": "markdown",
   "id": "a3b671ea-0062-4e6a-8310-e35419457a62",
   "metadata": {},
   "source": [
    "### Make peaks bed file"
   ]
  },
  {
   "cell_type": "code",
   "execution_count": null,
   "id": "5d67e6c5-2747-4551-9c6e-e968025927f0",
   "metadata": {},
   "outputs": [],
   "source": [
    "peaks_bed = borgs_tile_mat.var[['chr', 'start', 'end', 'peak_name', 'score']].copy()\n",
    "peaks_bed['start'] = peaks_bed['start'] - 1\n",
    "peaks_bed['strand'] = '+'\n",
    "\n",
    "peaks_bed_path = f'data/intermediate-data/datasets/{DATASET_ID}/matrix-eQTL_io/chromatin_accessibility/peaks/{ct_map_id}/{cell_type}.bed'\n",
    "\n",
    "create_folder(os.path.dirname(os.path.abspath(peaks_bed_path)))\n",
    "\n",
    "peaks_bed.to_csv(peaks_bed_path, sep='\\t', header=False, index=False)\n",
    "\n",
    "print(len(peaks_bed))\n",
    "peaks_bed"
   ]
  },
  {
   "cell_type": "markdown",
   "id": "735c3f4e-2a19-40be-ae38-79112fa041d4",
   "metadata": {
    "tags": []
   },
   "source": [
    "### Peaks intersecting w eQTLs"
   ]
  },
  {
   "cell_type": "code",
   "execution_count": null,
   "id": "b244b51d-5b7c-4671-aceb-fa19b8e6be37",
   "metadata": {},
   "outputs": [],
   "source": [
    "try:\n",
    "    result = subprocess.run([bedtools_bin, 'intersect' , '-a', peaks_bed_path, '-b', eqtls_bed_path, '-u'], text=True, capture_output=True)\n",
    "\n",
    "    # with open(f'data/datasets/hca_brain-organoids_processed/chromatin_accessibility/peaks_{cell_type}_filt-eqtls.bed', 'w') as f:\n",
    "        # f.write(result.stdout)\n",
    "\n",
    "    peaks_eqtl = set([i.split('\\t')[3] for i in result.stdout.split('\\n')[:-1]])\n",
    "    \n",
    "except subprocess.CalledProcessError as e:\n",
    "    \n",
    "    print(f\"Command failed with error: {e.stderr}\")"
   ]
  },
  {
   "cell_type": "markdown",
   "id": "5916468c-1c95-4740-8bcc-ae6ad1f942aa",
   "metadata": {},
   "source": [
    "### Peaks filter: close to eGenes"
   ]
  },
  {
   "cell_type": "code",
   "execution_count": 54,
   "id": "5720314d-c2da-4d80-95b1-4598c74eced8",
   "metadata": {},
   "outputs": [],
   "source": [
    "eGenes = set(eqtls.loc[~eqtls['gene_name'].isna(), 'gene_name'].unique())"
   ]
  },
  {
   "cell_type": "code",
   "execution_count": 55,
   "id": "f3024463-0749-4c42-a665-dc0774f9fd6d",
   "metadata": {},
   "outputs": [
    {
     "data": {
      "text/plain": [
       "1204"
      ]
     },
     "execution_count": 55,
     "metadata": {},
     "output_type": "execute_result"
    }
   ],
   "source": [
    "len(eGenes)"
   ]
  },
  {
   "cell_type": "code",
   "execution_count": 71,
   "id": "647965f8-bc3c-43f4-b9ee-7d99f7938352",
   "metadata": {},
   "outputs": [
    {
     "data": {
      "text/plain": [
       "33062"
      ]
     },
     "execution_count": 71,
     "metadata": {},
     "output_type": "execute_result"
    }
   ],
   "source": [
    "peaks_eGenes = set(borgs_tile_mat.var[borgs_tile_mat.var['nearest_gene'].isin(eGenes)].index)\n",
    "\n",
    "len(peaks_eGenes)"
   ]
  },
  {
   "cell_type": "code",
   "execution_count": null,
   "id": "997c6382-fede-40b2-bf63-9f4b30197892",
   "metadata": {
    "tags": []
   },
   "outputs": [],
   "source": [
    "del borgs_tile_mat"
   ]
  },
  {
   "cell_type": "markdown",
   "id": "6cccea3d-9225-45d7-b44a-a85b22eff65d",
   "metadata": {},
   "source": [
    "# Cell-type level analysis"
   ]
  },
  {
   "cell_type": "markdown",
   "id": "48938ffc-5806-4d70-8d67-1e3b2891be09",
   "metadata": {},
   "source": [
    "### Peak filter: HVPeaks"
   ]
  },
  {
   "cell_type": "code",
   "execution_count": null,
   "id": "76d3b5d4-ded1-40bd-ab58-dc467cd9cb2b",
   "metadata": {
    "tags": []
   },
   "outputs": [],
   "source": [
    "# Remove batches w with min cell nr\n",
    "cell_counts_per_donor_batch = caPeaks_1ct.obs.groupby('batch').transform('size')\n",
    "ca_1ct_batch_filtered = caPeaks_1ct[cell_counts_per_donor_batch >= 10, :].copy()\n",
    "sum(cell_counts_per_donor_batch >= 10)"
   ]
  },
  {
   "cell_type": "code",
   "execution_count": null,
   "id": "0c966b7e-1ac1-4d29-845a-2e91b918889f",
   "metadata": {},
   "outputs": [],
   "source": [
    "# Seurat (expect log)\n",
    "sc.pp.highly_variable_genes(ca_1ct_batch_filtered, flavor='seurat', batch_key='batch', n_top_genes=ca_1ct_batch_filtered.n_vars)\n",
    "sc.pl.highly_variable_genes(ca_1ct_batch_filtered)"
   ]
  },
  {
   "cell_type": "code",
   "execution_count": null,
   "id": "f72728ff-16ad-40ba-bc9c-924edba371f5",
   "metadata": {},
   "outputs": [],
   "source": [
    "# Extract top n HVPs\n",
    "merge = pd.merge(ca_1ct_batch_filtered.var['means'].to_frame(),\n",
    "              ca_1ct_batch_filtered.var['highly_variable_nbatches'].to_frame(),\n",
    "              left_index=True,\n",
    "              right_index=True,\n",
    "              how='inner')\n",
    "\n",
    "merge = pd.merge(merge,\n",
    "              ca_1ct_batch_filtered.var['dispersions_norm'].abs().to_frame(),\n",
    "              left_index=True,\n",
    "              right_index=True,\n",
    "              how='inner')\n",
    "\n",
    "merge = merge[(merge['means'] > min_mean_acells) & (merge['means'] < max_mean_acells)]\n",
    "\n",
    "merge = merge.sort_values(by=['highly_variable_nbatches', 'dispersions_norm'], ascending=[False, False])\n",
    "peaks_hvp = set(merge[0:n_top_hvps].index)"
   ]
  },
  {
   "cell_type": "code",
   "execution_count": null,
   "id": "7f4e1847-59fa-4716-8d6d-b5312de17dea",
   "metadata": {},
   "outputs": [],
   "source": [
    "# peaks_hvp = set(ca_1ct_batch_filtered.var[ca_1ct_batch_filtered.var['highly_variable']].index)"
   ]
  },
  {
   "cell_type": "code",
   "execution_count": null,
   "id": "9d2d6969-cfa4-4f01-9957-d44eb6836c27",
   "metadata": {},
   "outputs": [],
   "source": [
    "from scipy.sparse import issparse\n",
    "\n",
    "# Convert sparse matrix to dense format if necessary\n",
    "data_matrix = caPeaks_1ct.X.toarray() if issparse(caPeaks_1ct.X) else caPeaks_1ct.X\n",
    "\n",
    "# Check for NaN values\n",
    "print(\"Number of NaN values in data:\", np.isnan(data_matrix).sum())\n",
    "\n",
    "# Check for infinite values\n",
    "print(\"Number of infinite values in data:\", np.isinf(data_matrix).sum())\n",
    "\n",
    "# Check for rows with all zeros (optimized for sparse matrices)\n",
    "if issparse(caPeaks_1ct.X):\n",
    "    zero_rows = np.array((caPeaks_1ct.X != 0).sum(axis=1)).flatten() == 0\n",
    "else:\n",
    "    zero_rows = np.sum(data_matrix == 0, axis=1) == data_matrix.shape[1]\n",
    "\n",
    "print(\"Number of rows with all zero values:\", zero_rows.sum())"
   ]
  },
  {
   "cell_type": "code",
   "execution_count": null,
   "id": "8559b2dc-97c3-424a-94fb-64142e6158af",
   "metadata": {},
   "outputs": [],
   "source": [
    "del ca_1ct_batch_filtered"
   ]
  },
  {
   "cell_type": "markdown",
   "id": "24c85214-d263-49a9-aca3-caac8f1297ff",
   "metadata": {
    "tags": []
   },
   "source": [
    "## Peaks filter: min mean across donors"
   ]
  },
  {
   "cell_type": "code",
   "execution_count": null,
   "id": "fa23c04f-5a93-42f7-bca8-6670244cc026",
   "metadata": {},
   "outputs": [],
   "source": [
    "agg_mean = agg_df.mean()"
   ]
  },
  {
   "cell_type": "code",
   "execution_count": null,
   "id": "e037af6a-9123-401e-b4e3-167f5c84cfcb",
   "metadata": {},
   "outputs": [],
   "source": [
    "agg_mean.describe()"
   ]
  },
  {
   "cell_type": "code",
   "execution_count": null,
   "id": "eb584fc9-eb70-4ffb-b0ef-36415f5b7108",
   "metadata": {},
   "outputs": [],
   "source": [
    "agg_mean.plot(kind='hist',\n",
    "              bins=300, title=\"Peak mean across donors distr.\",\n",
    "              xlabel=\"\",\n",
    "              ylabel=\"#\")"
   ]
  },
  {
   "cell_type": "code",
   "execution_count": null,
   "id": "19a0ca73-437a-4d98-8f30-faf860e575bc",
   "metadata": {},
   "outputs": [],
   "source": [
    "agg_mean.plot(kind='hist', \n",
    "              bins=np.linspace(0, 0.015, 31),\n",
    "              title=\"Peak mean across donors ZOOM distr.\",\n",
    "              xlabel=\"\",\n",
    "              ylabel=\"#\")"
   ]
  },
  {
   "cell_type": "code",
   "execution_count": null,
   "id": "6e992d3a-cfbe-4747-a397-686104e52828",
   "metadata": {},
   "outputs": [],
   "source": [
    "agg_mean.plot(kind='density',\n",
    "              xlim=[0, 0.015],\n",
    "              title=\"Peak mean across donors ZOOM distr.\",\n",
    "              xlabel=\"\")"
   ]
  },
  {
   "cell_type": "code",
   "execution_count": null,
   "id": "13943bb9-e543-4c1a-97f6-4cff9f6c3c21",
   "metadata": {},
   "outputs": [],
   "source": [
    "peaks_min_mean = set(agg_df.loc[:, agg_mean > min_mean_adonors].columns.tolist())"
   ]
  },
  {
   "cell_type": "markdown",
   "id": "196cb960-1bb1-4cad-97f9-137b522a1935",
   "metadata": {},
   "source": [
    "## Peaks filter: min donors with non-zero ca count"
   ]
  },
  {
   "cell_type": "code",
   "execution_count": null,
   "id": "a73a533e-0a93-4181-b078-5ff4ac592254",
   "metadata": {},
   "outputs": [],
   "source": [
    "non0s = (agg_df != 0).mean()\n",
    "\n",
    "non0s.describe()"
   ]
  },
  {
   "cell_type": "code",
   "execution_count": null,
   "id": "58408e7e-7707-43ec-9ecc-f1a8184e2ee5",
   "metadata": {},
   "outputs": [],
   "source": [
    "non0s.plot(kind='hist',\n",
    "           bins=np.linspace(0, 1, 51),\n",
    "           title=\"Non-zero donor count distr.\",\n",
    "           ylabel=\"#\")"
   ]
  },
  {
   "cell_type": "code",
   "execution_count": null,
   "id": "56b53b73-316d-4f87-878c-4d07d2803512",
   "metadata": {},
   "outputs": [],
   "source": [
    "peaks_min_donors = set(agg_df.loc[:, non0s > min_donors].columns.to_list())"
   ]
  },
  {
   "cell_type": "code",
   "execution_count": null,
   "id": "4a05d05b-3abe-4695-b8fa-1e5f8c0ba1f8",
   "metadata": {},
   "outputs": [],
   "source": [
    "# Density of CA\n",
    "\n",
    "non0 = np.count_nonzero(caPeaks_1ct_agg.X)\n",
    "all_ = np.product(caPeaks_1ct_agg.X.shape)\n",
    "general_ca_density = round(non0 / all_, 2)\n",
    "print(f'General matrix density: {general_ca_density}')"
   ]
  },
  {
   "cell_type": "markdown",
   "id": "cd14d605-df96-4c09-9c3a-9e670ccac0ed",
   "metadata": {},
   "source": [
    "## Peaks filter: min peak score"
   ]
  },
  {
   "cell_type": "code",
   "execution_count": null,
   "id": "a06e016d-92f5-48af-a0f0-a9530b7f33a5",
   "metadata": {},
   "outputs": [],
   "source": [
    "peak_scores = caPeaks_1ct_agg.var['score']"
   ]
  },
  {
   "cell_type": "code",
   "execution_count": null,
   "id": "966fa41e-6de1-4d35-a43b-fe27203a7430",
   "metadata": {},
   "outputs": [],
   "source": [
    "peak_scores.describe()"
   ]
  },
  {
   "cell_type": "code",
   "execution_count": null,
   "id": "dd7cfaac-78a5-427b-b205-6e129f347f0b",
   "metadata": {},
   "outputs": [],
   "source": [
    "peak_scores.plot(kind='hist',\n",
    "                 bins=np.linspace(0, 60, 61),\n",
    "                 figsize=(14,3),\n",
    "                 title=\"Peak score distr.\",\n",
    "                 ylabel=\"#\")"
   ]
  },
  {
   "cell_type": "code",
   "execution_count": null,
   "id": "3641496a-ea43-41d9-a4cf-aaf191ad1310",
   "metadata": {},
   "outputs": [],
   "source": [
    "peaks_min_score = set(caPeaks_1ct_agg.var[(caPeaks_1ct_agg.var['score'] >= min_score).tolist()].index.tolist())"
   ]
  },
  {
   "cell_type": "code",
   "execution_count": null,
   "id": "6fb46720-6ec3-4930-acf0-61a250f0a02a",
   "metadata": {},
   "outputs": [],
   "source": [
    "del agg_df"
   ]
  },
  {
   "cell_type": "markdown",
   "id": "9f7709b5-7293-4a1c-8c72-d64504d22071",
   "metadata": {},
   "source": [
    "## CA matrix: final peaks filtering step and export"
   ]
  },
  {
   "cell_type": "code",
   "execution_count": null,
   "id": "d829e968-9e8a-4bd3-b486-4f6794c4eeb3",
   "metadata": {},
   "outputs": [],
   "source": [
    "print(f'Len peaks_hvp = {len(peaks_hvp)}\\n' \\\n",
    "      f'peaks_hvp = {list(peaks_hvp)[0:4]}')\n",
    "\n",
    "print(f'Len peaks_markers = {len(peaks_markers)}\\n' \\\n",
    "      f'peaks_markers = {list(peaks_markers)[0:4]}')\n",
    "\n",
    "print(f'Len peaks_eqtl = {len(peaks_eqtl)}\\n' \\\n",
    "      f'peaks_eqtl = {list(peaks_eqtl)[0:4]}')\n",
    "\n",
    "print(f'Len peaks_eGenes = {len(peaks_eGenes)}\\n' \\\n",
    "      f'peaks_eGenes = {list(peaks_eGenes)[0:4]}')\n",
    "\n",
    "print(f'Len peaks_min_mean = {len(peaks_min_mean)}\\n' \\\n",
    "      f'peaks_min_mean = {list(peaks_min_mean)[0:4]}')\n",
    "\n",
    "print(f'Len peaks_min_donors = {len(peaks_min_donors)}\\n' \\\n",
    "      f'peaks_min_donors = {list(peaks_min_donors)[0:4]}')\n",
    "\n",
    "print(f'Len peaks_min_score = {len(peaks_min_score)}\\n' \\\n",
    "      f'peaks_min_score = {list(peaks_min_score)[0:4]}')"
   ]
  },
  {
   "cell_type": "code",
   "execution_count": null,
   "id": "94559bea-63c1-4910-be38-6612ffc8b69a",
   "metadata": {},
   "outputs": [],
   "source": [
    "# Filter final peaks\n",
    "final_peaks = list((peaks_hvp | peaks_markers | peaks_eqtl | peaks_eGenes) & (peaks_min_mean | peaks_min_donors | peaks_min_score)) # remove peaks_min_mean or peaks_min_donors\n",
    "\n",
    "caPeaks_1ct_agg = caPeaks_1ct_agg[:, final_peaks].copy()\n",
    "\n",
    "len(final_peaks)"
   ]
  },
  {
   "cell_type": "code",
   "execution_count": null,
   "id": "c6c29493-a589-4fc3-baf1-8eb2f5c5f97d",
   "metadata": {
    "tags": []
   },
   "outputs": [],
   "source": [
    "# Create CA matrix\n",
    "ca_peaks_out = caPeaks_1ct_agg.to_df().T\n",
    "ca_peaks_out = ca_peaks_out.rename_axis('peak_id')"
   ]
  },
  {
   "cell_type": "code",
   "execution_count": null,
   "id": "ad169ea7-c2d7-472b-98b6-2f6c9199e608",
   "metadata": {},
   "outputs": [],
   "source": [
    "len(ca_peaks_out.columns.tolist())"
   ]
  },
  {
   "cell_type": "code",
   "execution_count": null,
   "id": "db891f26-2589-4968-95e8-667e4984f4c5",
   "metadata": {},
   "outputs": [],
   "source": [
    "ca_donors = list(set(ca_peaks_out.columns.tolist()) - artifact_donors) # Should be redundand\n",
    "len(ca_donors)"
   ]
  },
  {
   "cell_type": "code",
   "execution_count": null,
   "id": "f46502f9-280e-4ef3-812d-35fdc34a2781",
   "metadata": {},
   "outputs": [],
   "source": [
    "ca_peaks_out = ca_peaks_out[ca_donors]\n",
    "\n",
    "print(ca_peaks_out.shape)\n",
    "ca_peaks_out"
   ]
  },
  {
   "cell_type": "code",
   "execution_count": null,
   "id": "2424711c-4395-435a-93ad-8946ef094ec4",
   "metadata": {},
   "outputs": [],
   "source": [
    "# Export peak chromatin accessibility\n",
    "ca_peaks_out_path = f\"data/intermediate-data/datasets/{DATASET_ID}/matrix-eQTL_io/chromatin_accessibility/peak_ca/{ct_map_id}/{cell_type}.tsv\"\n",
    "\n",
    "create_folder(os.path.dirname(os.path.abspath(ca_peaks_out_path)))\n",
    "\n",
    "ca_peaks_out.round(6).to_csv(ca_peaks_out_path, sep='\\t')"
   ]
  },
  {
   "cell_type": "markdown",
   "id": "eb84b8fb-c69c-4784-ba71-744d90eb2b58",
   "metadata": {},
   "source": [
    "### CA matrix stats"
   ]
  },
  {
   "cell_type": "code",
   "execution_count": null,
   "id": "11b43359-6153-4c33-99c5-ab7634e44db6",
   "metadata": {},
   "outputs": [],
   "source": [
    "_, mean_cells_donor, std_cells_donor, _, _, _, _, _ = caPeaks_1ct.obs.groupby('donor_id').size().describe()\n",
    "\n",
    "donor_batch = caPeaks_1ct.obs.groupby(['donor_id', 'batch']).size()\n",
    "donor_batch = donor_batch[donor_batch != 0]\n",
    "n_donor_batches, mean_cells_donor_batch, std_cells_donor_batch, _, _, _, _, _ = donor_batch.describe()\n",
    "n_donor_batches = int(n_donor_batches)"
   ]
  },
  {
   "cell_type": "code",
   "execution_count": null,
   "id": "c3e24b70-a8e5-482b-a14d-29385e24f4cf",
   "metadata": {},
   "outputs": [],
   "source": [
    "# Stats\n",
    "\n",
    "stats_out_path = f\"results/datasets/{DATASET_ID}/matrix-eQTL/{ct_map_id}/io_stats.tsv\"\n",
    "\n",
    "create_folder(os.path.dirname(os.path.abspath(stats_out_path)))\n",
    "\n",
    "with open(stats_out_path, 'a') as f:\n",
    "        \n",
    "    msg = f'\\n{RUN_ID}\\t' \\\n",
    "            f'{cell_type}\\t' \\\n",
    "            f'{general_ca_density}\\t' \\\n",
    "            f'{n_cells}\\t' \\\n",
    "            f'{n_donors}\\t' \\\n",
    "            f'{mean_cells_donor}\\t' \\\n",
    "            f'{std_cells_donor}\\t' \\\n",
    "            f'{n_donor_batches}\\t' \\\n",
    "            f'{mean_cells_donor_batch}\\t' \\\n",
    "            f'{std_cells_donor_batch}\\t' \\\n",
    "            f'{n_peaks_og}\\t' \\\n",
    "            f'{n_peaks_min_cells}\\t' \\\n",
    "            f'{n_peaks_post_min_cells}\\t' \\\n",
    "            f'{len(peaks_hvp)}\\t' \\\n",
    "            f'{len(peaks_markers)}\\t' \\\n",
    "            f'{len(peaks_eqtl)}\\t' \\\n",
    "            f'{len(peaks_eGenes)}\\t' \\\n",
    "            f'{len(peaks_min_mean)}\\t' \\\n",
    "            f'{len(peaks_min_donors)}\\t' \\\n",
    "            f'{len(peaks_min_score)}\\t' \\\n",
    "            f'{ca_peaks_out.shape[0]}\\t' \\\n",
    "            f'{ca_peaks_out.shape[1]}'\n",
    "\n",
    "    f.write(msg)\n",
    "    print(msg)"
   ]
  },
  {
   "cell_type": "code",
   "execution_count": null,
   "id": "322fe981-6a06-46d7-b8da-f1ba1f3f5430",
   "metadata": {},
   "outputs": [],
   "source": [
    "del ca_peaks_out\n",
    "del caPeaks_1ct"
   ]
  },
  {
   "cell_type": "markdown",
   "id": "6001e2e0-ae9c-4784-a2e6-a722a0df3745",
   "metadata": {},
   "source": [
    "# COV: peak locations"
   ]
  },
  {
   "cell_type": "code",
   "execution_count": null,
   "id": "13af5254-e520-477c-a17f-6c8565db00ec",
   "metadata": {},
   "outputs": [],
   "source": [
    "peak_locs = caPeaks_1ct_agg.var[['peak_name', 'chr', 'start', 'end']].copy()\n",
    "peak_locs['start'] = peak_locs['start'] - 1\n",
    "\n",
    "peak_locs"
   ]
  },
  {
   "cell_type": "code",
   "execution_count": null,
   "id": "3e798d00-dbb7-4617-873b-b6b9496a0389",
   "metadata": {},
   "outputs": [],
   "source": [
    "peak_locs_path = f\"data/intermediate-data/datasets/{DATASET_ID}/matrix-eQTL_io/chromatin_accessibility/peak_locations/{ct_map_id}/{cell_type}.tsv\"\n",
    "\n",
    "create_folder(os.path.dirname(os.path.abspath(peak_locs_path)))\n",
    "\n",
    "peak_locs.to_csv(peak_locs_path, sep='\\t', index=False)"
   ]
  },
  {
   "cell_type": "code",
   "execution_count": null,
   "id": "70b0d4d2-8125-4117-8a49-5cb782174b94",
   "metadata": {},
   "outputs": [],
   "source": [
    "del peak_locs"
   ]
  },
  {
   "cell_type": "markdown",
   "id": "8c2efa77-1434-4db3-a7df-894441cb66c3",
   "metadata": {},
   "source": [
    "# COV: CA PCs"
   ]
  },
  {
   "cell_type": "code",
   "execution_count": null,
   "id": "430de14f-87be-4ca6-b75e-2500a0b810e4",
   "metadata": {},
   "outputs": [],
   "source": [
    "sc.pp.pca(caPeaks_1ct_agg) # Filtered for final peak set"
   ]
  },
  {
   "cell_type": "code",
   "execution_count": null,
   "id": "f67e9f62-a2ae-4a58-acda-527e1df05648",
   "metadata": {},
   "outputs": [],
   "source": [
    "ca_pcs = pd.DataFrame(caPeaks_1ct_agg.obsm['X_pca'][:, 0:n_ca_PCs]).set_index(caPeaks_1ct_agg.obs_names)\n",
    "ca_pcs.columns = [f'caPC_{str(i)}' for i in range(1, n_ca_PCs + 1)]\n",
    "ca_pcs = ca_pcs.T\n",
    "ca_pcs = ca_pcs.rename_axis('id')"
   ]
  },
  {
   "cell_type": "code",
   "execution_count": null,
   "id": "139fd2d5-083b-46ad-9129-c48a2facd0b1",
   "metadata": {},
   "outputs": [],
   "source": [
    "# ! Important that this doesn't change the sample nr! 2 cells above\n",
    "ca_pcs = ca_pcs[ca_donors]\n",
    "\n",
    "print(ca_pcs.shape)\n",
    "ca_pcs"
   ]
  },
  {
   "cell_type": "code",
   "execution_count": null,
   "id": "4c0ba8f6-388e-487e-9c5e-4bf3e44e0f37",
   "metadata": {},
   "outputs": [],
   "source": [
    "ca_pcs_path = f\"data/intermediate-data/datasets/{DATASET_ID}/matrix-eQTL_io/chromatin_accessibility/ca_pcs/{ct_map_id}/{cell_type}.tsv\"\n",
    "\n",
    "create_folder(os.path.dirname(os.path.abspath(ca_pcs_path)))\n",
    "\n",
    "ca_pcs.to_csv(ca_pcs_path, sep='\\t')"
   ]
  },
  {
   "cell_type": "code",
   "execution_count": null,
   "id": "ac869a75-faee-4f2d-b748-b5af0597bfa9",
   "metadata": {},
   "outputs": [],
   "source": [
    "del ca_pcs\n",
    "del caPeaks_1ct_agg"
   ]
  },
  {
   "cell_type": "markdown",
   "id": "15079d36-e040-4378-9ecc-f5e94a00330c",
   "metadata": {},
   "source": [
    "# COV: Population structure"
   ]
  },
  {
   "cell_type": "code",
   "execution_count": null,
   "id": "f082d329-abc5-4bd4-bbea-8d7db0a7f1e9",
   "metadata": {},
   "outputs": [],
   "source": [
    "gt_pcs = pd.read_csv(os.path.join(HCA_BORGS_PROJ, \"Genotypes/GT_PCs.tsv\"), sep=\"\\t\", index_col=0)\n",
    "gt_pcs_matrixQTL = gt_pcs.T\n",
    "gt_pcs_matrixQTL = gt_pcs_matrixQTL.rename_axis('id')\n",
    "gt_pcs_matrixQTL = gt_pcs_matrixQTL[ca_donors]\n",
    "\n",
    "print(gt_pcs_matrixQTL.shape)\n",
    "gt_pcs_matrixQTL"
   ]
  },
  {
   "cell_type": "code",
   "execution_count": null,
   "id": "c27e249c-531d-46a4-b788-5cdf7e46d1d2",
   "metadata": {},
   "outputs": [],
   "source": [
    "parent_dir = \"data/datasets/hca_brain-organoids_processed/covariates/\"\n",
    "\n",
    "if not os.path.isdir(parent_dir):\n",
    "    os.makedirs(parent_dir)"
   ]
  },
  {
   "cell_type": "code",
   "execution_count": null,
   "id": "6f14f260-e49f-4a8a-a226-6cf1bc5ede4e",
   "metadata": {},
   "outputs": [],
   "source": [
    "gt_pcs_matrixQTL_path = f\"data/intermediate-data/datasets/{DATASET_ID}/matrix-eQTL_io/genotype/genotype_pcs/{ct_map_id}/{cell_type}.tsv\"\n",
    "\n",
    "create_folder(os.path.dirname(os.path.abspath(gt_pcs_matrixQTL_path)))\n",
    "\n",
    "gt_pcs_matrixQTL.to_csv(gt_pcs_matrixQTL_path, sep='\\t')"
   ]
  },
  {
   "cell_type": "code",
   "execution_count": null,
   "id": "1682c038-9d95-454a-ad2a-5557f61e7a51",
   "metadata": {},
   "outputs": [],
   "source": [
    "del gt_pcs\n",
    "del gt_pcs_matrixQTL"
   ]
  },
  {
   "cell_type": "markdown",
   "id": "5615e59d-3eaf-442b-af62-a4bc60a8f33f",
   "metadata": {},
   "source": [
    "# Genotype"
   ]
  },
  {
   "cell_type": "code",
   "execution_count": null,
   "id": "c2b0f91b-00da-4abb-aa3c-bcc67d6e8a08",
   "metadata": {
    "tags": []
   },
   "outputs": [],
   "source": [
    "gt = pd.read_csv('data/datasets/hca_brain-organoids_processed/covariates/genotype.tsv', sep='\\t', header=0, index_col=0).rename_axis('snp_id')\n",
    "gt = gt.rename(index=lambda x: 'chr' + str(x))"
   ]
  },
  {
   "cell_type": "code",
   "execution_count": null,
   "id": "755cbbd5-1d7b-473e-937c-6077b8cd6ad4",
   "metadata": {},
   "outputs": [],
   "source": [
    "snps_set = list(set(gt.index))"
   ]
  },
  {
   "cell_type": "code",
   "execution_count": null,
   "id": "fa9ffc30-5796-41bd-a625-ca2ecb12998e",
   "metadata": {
    "tags": []
   },
   "outputs": [],
   "source": [
    "gt = gt[ca_donors]\n",
    "gt"
   ]
  },
  {
   "cell_type": "code",
   "execution_count": null,
   "id": "e2744ef1-c3a5-4d7c-95e3-74c914439bf3",
   "metadata": {
    "tags": []
   },
   "outputs": [],
   "source": [
    "gt_path = f'data/intermediate-data/datasets/{DATASET_ID}/matrix-eQTL_io/genotype/{ct_map_id}/genotype_NA_{cell_type}.tsv'\n",
    "\n",
    "create_folder(os.path.dirname(os.path.abspath(gt_path)))\n",
    "\n",
    "gt.to_csv(gt_path, sep='\\t', na_rep='NaN')"
   ]
  },
  {
   "cell_type": "code",
   "execution_count": null,
   "id": "0997dff9-b885-4bdc-9a9e-787b03a51a4a",
   "metadata": {},
   "outputs": [],
   "source": [
    "del gt"
   ]
  },
  {
   "cell_type": "markdown",
   "id": "930b2d55-5238-4a8e-94a5-41d3d51eccde",
   "metadata": {
    "tags": []
   },
   "source": [
    "# SNP locations"
   ]
  },
  {
   "cell_type": "code",
   "execution_count": null,
   "id": "e3a959e9-3b3c-4542-b6b5-3d24e1e126ac",
   "metadata": {},
   "outputs": [],
   "source": [
    "snps = pd.read_csv(\"data/datasets/hca_brain-organoids_processed/covariates/genotype.vcf\",\n",
    "                   sep=\"\\t\",\n",
    "                   comment=\"#\",\n",
    "                   header=None,\n",
    "                   names=[\"CHROM\", \"POS\", \"ID\", \"REF\", \"ALT\", \"QUAL\", \"FILTER\", \"INFO\", \"FORMAT\", \"SAMEA2536416\", \"SAMEA3854313\", \"SAMEA3853161\", \"SAMEA3966392\", \"SAMEA2625592\", \"SAMEA2698309\", \"SAMEA3962624\", \"SAMEA3965165\", \"SAMEA2595426\", \"SAMEA3962389\", \"SAMEA3973854\", \"SAMEA3847031\", \"SAMEA2547622\", \"SAMEA3854308\", \"SAMEA3964906\", \"SAMEA2536410\", \"SAMEA3735541\", \"SAMEA2590621\", \"SAMEA2698315\", \"SAMEA2445784\", \"SAMEA3973848\", \"SAMEA3962524\", \"SAMEA3485962\", \"SAMEA2609965\", \"SAMEA3851971\", \"SAMEA4089454\", \"SAMEA2613912\", \"SAMEA3963885\", \"SAMEA3963884\", \"SAMEA2613897\", \"SAMEA4089453\", \"SAMEA3851966\", \"SAMEA3974241\", \"SAMEA4343052\", \"SAMEA3962619\", \"SAMEA3853122\", \"SAMEA3974015\", \"SAMEA2518325\", \"SAMEA2433566\", \"SAMEA2459959\", \"SAMEA2675459\", \"SAMEA2682671\", \"SAMEA2645805\", \"SAMEA2711371\", \"SAMEA2593858\", \"SAMEA2445790\", \"SAMEA2518322\", \"SAMEA2547619\", \"SAMEA2627577\", \"SAMEA2547637\", \"SAMEA3977051\", \"SAMEA2445779\", \"SAMEA2609971\", \"SAMEA3974247\", \"SAMEA2658107\", \"SAMEA3754205\", \"SAMEA2547644\", \"SAMEA2678742\", \"SAMEA2474454\", \"SAMEA2627566\", \"SAMEA2518334\", \"SAMEA3967410\", \"SAMEA2536404\", \"SAMEA2627578\", \"SAMEA2518324\", \"SAMEA3968753\", \"SAMEA2547899\", \"SAMEA3754201\", \"SAMEA2570435\", \"SAMEA2658084\", \"SAMEA4451098\", \"SAMEA2678738\", \"SAMEA2547633\", \"SAMEA2609972\", \"SAMEA2707499\", \"SAMEA2555017\", \"SAMEA2420640\", \"SAMEA4451109\", \"SAMEA3448738\", \"SAMEA2627141\", \"SAMEA3485958\", \"SAMEA2536413\", \"SAMEA2464819\", \"SAMEA2627567\", \"SAMEA2645814\"],\n",
    "                   index_col=False\n",
    "                  )\n",
    "\n",
    "snps = snps[['ID', 'CHROM', 'POS']].rename(columns={'ID': 'snp_id', 'CHROM': 'chr', 'POS': 'pos'})\n",
    "snps = snps.set_index('snp_id')"
   ]
  },
  {
   "cell_type": "code",
   "execution_count": null,
   "id": "069daa5f-5490-432e-a902-bb268c8ff4ba",
   "metadata": {},
   "outputs": [],
   "source": [
    "snps = snps.loc[snps_set, :].groupby(level=0).first() # There are repeated indexes in snps. Take the first one\n",
    "snps"
   ]
  },
  {
   "cell_type": "code",
   "execution_count": null,
   "id": "95971472-11d0-470f-a78f-ca0c8b86580e",
   "metadata": {},
   "outputs": [],
   "source": [
    "snps_path = f\"data/intermediate-data/datasets/{DATASET_ID}/matrix-eQTL_io/genotype/snp_locations/{ct_map_id}/{cell_type}.tsv\"\n",
    "\n",
    "create_folder(os.path.dirname(os.path.abspath(snps_path)))\n",
    "\n",
    "snps.to_csv(snps_path, sep='\\t')"
   ]
  },
  {
   "cell_type": "code",
   "execution_count": null,
   "id": "56362994-2441-424c-ac44-ffa232bec4c3",
   "metadata": {},
   "outputs": [],
   "source": [
    "del snps"
   ]
  }
 ],
 "metadata": {
  "kernelspec": {
   "display_name": "ian",
   "language": "python",
   "name": "ian"
  },
  "language_info": {
   "codemirror_mode": {
    "name": "ipython",
    "version": 3
   },
   "file_extension": ".py",
   "mimetype": "text/x-python",
   "name": "python",
   "nbconvert_exporter": "python",
   "pygments_lexer": "ipython3",
   "version": "3.9.19"
  }
 },
 "nbformat": 4,
 "nbformat_minor": 5
}
