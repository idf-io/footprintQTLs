{
 "cells": [
  {
   "cell_type": "markdown",
   "id": "3d75983b-d8b2-4d0e-91db-ea2b30d8d17c",
   "metadata": {},
   "source": [
    "# Setup"
   ]
  },
  {
   "cell_type": "code",
   "execution_count": 1,
   "id": "a9d18af4-f325-4093-8899-f0c4d02b1d9b",
   "metadata": {
    "execution": {
     "iopub.execute_input": "2024-10-02T09:09:16.063913Z",
     "iopub.status.busy": "2024-10-02T09:09:16.062795Z",
     "iopub.status.idle": "2024-10-02T09:10:48.482369Z",
     "shell.execute_reply": "2024-10-02T09:10:48.480400Z"
    },
    "tags": []
   },
   "outputs": [],
   "source": [
    "import os\n",
    "import sys\n",
    "import subprocess\n",
    "import math\n",
    "import json\n",
    "\n",
    "import numpy as np\n",
    "import pandas as pd\n",
    "from matplotlib import pyplot as pl\n",
    "import seaborn as sns\n",
    "import scipy as sp\n",
    "\n",
    "import anndata as ad\n",
    "import scanpy as sc"
   ]
  },
  {
   "cell_type": "markdown",
   "id": "ee12c619-53cc-4ce4-937a-2cd9bc7a9fc7",
   "metadata": {},
   "source": [
    "### User variables"
   ]
  },
  {
   "cell_type": "code",
   "execution_count": 2,
   "id": "d50577ec-f875-491e-be70-ad5693d7356b",
   "metadata": {
    "execution": {
     "iopub.execute_input": "2024-10-02T09:10:48.495329Z",
     "iopub.status.busy": "2024-10-02T09:10:48.492354Z",
     "iopub.status.idle": "2024-10-02T09:10:48.503138Z",
     "shell.execute_reply": "2024-10-02T09:10:48.501884Z"
    }
   },
   "outputs": [],
   "source": [
    "cell_type = str(\"Bulk\")\n",
    "CT_MAP_JSON_PATH = \"config/cell-type_groupings/hca_brain-organoids/bulk.json\"\n",
    "\n",
    "RUN_ID = \"meqtl_oct1_bulk\"\n",
    "DATASET_ID = \"hca_brain-organoids\""
   ]
  },
  {
   "cell_type": "code",
   "execution_count": 3,
   "id": "5b463562-21ca-4e62-9cfe-e0d09c6542c6",
   "metadata": {
    "execution": {
     "iopub.execute_input": "2024-10-02T09:10:48.511428Z",
     "iopub.status.busy": "2024-10-02T09:10:48.509139Z",
     "iopub.status.idle": "2024-10-02T09:10:48.527773Z",
     "shell.execute_reply": "2024-10-02T09:10:48.526632Z"
    }
   },
   "outputs": [],
   "source": [
    "PROJ_ROOT = \"/home/fichtner/projects/footprintQTL\"\n",
    "HCA_BORGS_PROJ = \"data/datasets/hca_brain-organoids/\"\n",
    "ATAC_PEAKS_PATH = os.path.join(PROJ_ROOT, \"data/datasets/hca_brain-organoids_processed/chromatin_accessibility/peak-matrix_rna-qc-cells_norm-reads-in-tss.h5ad\")\n",
    "RNA_AD_PATH = os.path.join(PROJ_ROOT, \"data/datasets/hca_brain-organoids/outputs_allsamples/sabrina_allsamples_rna_final_after_atac.h5ad\")"
   ]
  },
  {
   "cell_type": "code",
   "execution_count": 4,
   "id": "292b7051-bdb2-4ded-83f2-e73e5bab7f35",
   "metadata": {
    "execution": {
     "iopub.execute_input": "2024-10-02T09:10:48.535493Z",
     "iopub.status.busy": "2024-10-02T09:10:48.533331Z",
     "iopub.status.idle": "2024-10-02T09:10:48.547854Z",
     "shell.execute_reply": "2024-10-02T09:10:48.546829Z"
    }
   },
   "outputs": [],
   "source": [
    "bedtools_bin = '/home/fichtner/.conda/envs/ian/bin/bedtools'"
   ]
  },
  {
   "cell_type": "code",
   "execution_count": 5,
   "id": "c20b27f9-504b-4e17-9f42-8af98b198567",
   "metadata": {
    "execution": {
     "iopub.execute_input": "2024-10-02T09:10:48.555487Z",
     "iopub.status.busy": "2024-10-02T09:10:48.553478Z",
     "iopub.status.idle": "2024-10-02T09:10:48.568739Z",
     "shell.execute_reply": "2024-10-02T09:10:48.567694Z"
    }
   },
   "outputs": [],
   "source": [
    "min_cells = 10 # All cts: cell-level | Minimum amount of cells a peak needs to for the peak to be retained (required for functions to work)\n",
    "\n",
    "n_top_hvps = 10000 # 1 ct: cell-level | Top n ranked peaks to consider in highly-variable-peaks\n",
    "min_mean_acells = 0.0125\n",
    "max_mean_acells = 3\n",
    "\n",
    "min_pval = 0.01 # Min p-value for marker peaks to be considered in the first place in differential peak accessibility\n",
    "n_top_markers = 10000 # All cts: donor-level (cell agg.) | Top n ranking markers peaks to consider\n",
    "\n",
    "min_mean_adonors = 0.002\n",
    "min_donors = 0.26\n",
    "min_score = 9\n",
    "\n",
    "n_ca_PCs = 5 # Nr of chromatin accessibility PCs used as covariate"
   ]
  },
  {
   "cell_type": "markdown",
   "id": "3630cd3b-fb7d-47f6-987d-2e8fa177d4d0",
   "metadata": {},
   "source": [
    "### Variables"
   ]
  },
  {
   "cell_type": "code",
   "execution_count": 6,
   "id": "dee3119d-8ec4-4cdc-89d8-4232b48a40d7",
   "metadata": {
    "execution": {
     "iopub.execute_input": "2024-10-02T09:10:48.576125Z",
     "iopub.status.busy": "2024-10-02T09:10:48.574193Z",
     "iopub.status.idle": "2024-10-02T09:12:21.638162Z",
     "shell.execute_reply": "2024-10-02T09:12:21.636756Z"
    }
   },
   "outputs": [],
   "source": [
    "os.chdir(PROJ_ROOT)\n",
    "\n",
    "sys.path.append(os.path.join(PROJ_ROOT, \"code\"))\n",
    "from helpers.helpers import ct_format, ct_format_alt, create_folder"
   ]
  },
  {
   "cell_type": "code",
   "execution_count": 7,
   "id": "be062eaa-6e7e-4387-86b5-ec11bcc9a224",
   "metadata": {
    "execution": {
     "iopub.execute_input": "2024-10-02T09:12:21.645665Z",
     "iopub.status.busy": "2024-10-02T09:12:21.645194Z",
     "iopub.status.idle": "2024-10-02T09:12:21.655104Z",
     "shell.execute_reply": "2024-10-02T09:12:21.653717Z"
    },
    "tags": []
   },
   "outputs": [],
   "source": [
    "cell_type_alt = ct_format_alt(cell_type)\n",
    "cell_type = ct_format(cell_type)"
   ]
  },
  {
   "cell_type": "code",
   "execution_count": 8,
   "id": "59242122-20e8-48e2-8cff-939435784c0d",
   "metadata": {
    "execution": {
     "iopub.execute_input": "2024-10-02T09:12:21.662962Z",
     "iopub.status.busy": "2024-10-02T09:12:21.661916Z",
     "iopub.status.idle": "2024-10-02T09:12:21.685022Z",
     "shell.execute_reply": "2024-10-02T09:12:21.683698Z"
    }
   },
   "outputs": [],
   "source": [
    "ct_map_id = os.path.basename(CT_MAP_JSON_PATH).split('.')[0]\n",
    "\n",
    "# Get ct-ann --> grouped-ct mappings\n",
    "with open(CT_MAP_JSON_PATH, 'r') as f:\n",
    "    ct_map = json.load(f)\n",
    "\n",
    "# Format\n",
    "ct_map_alt = {ct_format_alt(key): [ct_format_alt(e) for e in listt] for key, listt in ct_map.items()}\n",
    "ct_map_i_alt = {ct_format_alt(old_ct): ct_format_alt(new_ct) for new_ct, old_cts in ct_map.items() for old_ct in old_cts}\n",
    "\n",
    "ct_map = {ct_format(key): [ct_format(e) for e in listt] for key, listt in ct_map.items()}\n",
    "ct_map_i = {old_ct: new_ct for new_ct, old_cts in ct_map.items() for old_ct in old_cts}"
   ]
  },
  {
   "cell_type": "markdown",
   "id": "30ba233d-23e6-4f69-a878-5033b6aae997",
   "metadata": {},
   "source": [
    "### Artifact donors"
   ]
  },
  {
   "cell_type": "code",
   "execution_count": 9,
   "id": "bd76848a-2425-477f-94ea-b9c7b73c2a9f",
   "metadata": {
    "execution": {
     "iopub.execute_input": "2024-10-02T09:12:21.693545Z",
     "iopub.status.busy": "2024-10-02T09:12:21.691044Z",
     "iopub.status.idle": "2024-10-02T09:12:21.699378Z",
     "shell.execute_reply": "2024-10-02T09:12:21.698212Z"
    }
   },
   "outputs": [],
   "source": [
    "# # TMP\n",
    "# PROJECT_PATH = '/home/fichtner/projects/footprintQTL'\n",
    "# DATA_PATH = '/omics/groups/OE0540/internal/projects/HCA_organoid_2/cemm_sabrina-20Jul2022/'\n",
    "# RNA_AD = 'outputs_allsamples/sabrina_allsamples_rna_final_after_atac.h5ad'\n",
    "\n",
    "# import sys\n",
    "# sys.path.append(PROJECT_PATH + \"/code\")\n",
    "# from helpers.helpers import ct_format, get_anndata_coldata\n",
    "\n",
    "# cells_coldata = get_anndata_coldata(os.path.join(DATA_PATH, RNA_AD))[0]\n",
    "# del cells_coldata"
   ]
  },
  {
   "cell_type": "code",
   "execution_count": 10,
   "id": "a101abab-616d-4fc3-946b-92d6e3035385",
   "metadata": {
    "execution": {
     "iopub.execute_input": "2024-10-02T09:12:21.707958Z",
     "iopub.status.busy": "2024-10-02T09:12:21.705778Z",
     "iopub.status.idle": "2024-10-02T09:12:21.718064Z",
     "shell.execute_reply": "2024-10-02T09:12:21.716638Z"
    }
   },
   "outputs": [],
   "source": [
    "# Exclude for some weird reason, samples in QC but not in other files\n",
    "artifact_donors = {'SAMEA2474458', 'SAMEA2555012'}"
   ]
  },
  {
   "cell_type": "markdown",
   "id": "7c62cb62-fb59-4cb0-bfdd-d0989039b079",
   "metadata": {},
   "source": [
    "# Get data"
   ]
  },
  {
   "cell_type": "markdown",
   "id": "61a9ff9c-a57e-4d81-8a02-bd27bbd22360",
   "metadata": {},
   "source": [
    "## Chromatin accessibility cell-level anndata"
   ]
  },
  {
   "cell_type": "code",
   "execution_count": 11,
   "id": "07989e72-c4af-4a3f-9d38-85659ad6fa5f",
   "metadata": {
    "execution": {
     "iopub.execute_input": "2024-10-02T09:12:21.727340Z",
     "iopub.status.busy": "2024-10-02T09:12:21.724831Z",
     "iopub.status.idle": "2024-10-02T09:13:34.201067Z",
     "shell.execute_reply": "2024-10-02T09:13:34.200287Z"
    },
    "tags": []
   },
   "outputs": [
    {
     "name": "stdout",
     "output_type": "stream",
     "text": [
      "Index(['Bulk'], dtype='object')\n"
     ]
    },
    {
     "data": {
      "text/plain": [
       "AnnData object with n_obs × n_vars = 214375 × 736845\n",
       "    obs: 'BlacklistRatio', 'nDiFrags', 'nFrags', 'nMonoFrags', 'nMultiFrags', 'NucleosomeRatio', 'PassQC', 'PromoterRatio', 'ReadsInBlacklist', 'ReadsInPromoter', 'ReadsInTSS', 'Sample', 'TSSEnrichment', 'n_genes_by_counts', 'total_counts', 'total_counts_mt', 'donor_id', 'clone', 'organoid', 'donor', 'leiden', 'stressed_vs_unstressed_celltypes', 'ReadsInPeaks', 'FRIP', 'barcode', 'batch', 'barcode_batch', 'cell_type'\n",
       "    var: 'chr', 'start', 'end', 'strand', 'peak_name', 'score', 'GC', 'nearest_gene', 'peak_type'"
      ]
     },
     "execution_count": 11,
     "metadata": {},
     "output_type": "execute_result"
    }
   ],
   "source": [
    "borgs_tile_mat = ad.read_h5ad(ATAC_PEAKS_PATH)\n",
    "\n",
    "# Format\n",
    "borgs_tile_mat.var_names = borgs_tile_mat.var['peak_name']\n",
    "borgs_tile_mat.obs['cell_type'] = borgs_tile_mat.obs['cell_type'].apply(ct_format)\n",
    "borgs_tile_mat.obs['cell_type'] = borgs_tile_mat.obs['cell_type'].map(ct_map_i).astype('category')\n",
    "\n",
    "# Filter cell-types marked 'Discard'\n",
    "if 'Discard' in borgs_tile_mat.obs['cell_type'].cat.categories:\n",
    "    borgs_tile_mat = borgs_tile_mat[~(borgs_tile_mat.obs['cell_type'] == 'Discard'), :].copy()\n",
    "    \n",
    "    if 'Discard' in borgs_tile_mat.obs['cell_type'].cat.categories:\n",
    "        borgs_tile_mat.obs['cell_type'] = borgs_tile_mat.obs['cell_type'].cat.remove_categories('Discard')\n",
    "\n",
    "print(borgs_tile_mat.obs['cell_type'].cat.categories)\n",
    "borgs_tile_mat"
   ]
  },
  {
   "cell_type": "code",
   "execution_count": 12,
   "id": "105c3c7e-8f50-41ca-879d-b8b3dbfcf8dc",
   "metadata": {
    "execution": {
     "iopub.execute_input": "2024-10-02T09:13:34.206320Z",
     "iopub.status.busy": "2024-10-02T09:13:34.205331Z",
     "iopub.status.idle": "2024-10-02T09:13:34.214858Z",
     "shell.execute_reply": "2024-10-02T09:13:34.214108Z"
    }
   },
   "outputs": [
    {
     "data": {
      "text/plain": [
       "index_name\n",
       "CCTAAATCACATAACT-1_sSL0163     Bulk\n",
       "GCTGCAATCCTTAGTT-1_sSL0108     Bulk\n",
       "AGTCTTGCAGGCGAGT-1_sSL0161     Bulk\n",
       "TGACTTAAGTAATCCA-1_sSL0113A    Bulk\n",
       "CAATGTGGTTGAGGTC-1_sSL0149     Bulk\n",
       "                               ... \n",
       "TGTTATGAGAAGGTGC-1_sSL0112A    Bulk\n",
       "CATTGTAAGTTAGGCT-1_sSL0089     Bulk\n",
       "AGGTCTTAGTTAGTTG-1_sSL0099     Bulk\n",
       "CGAGCTGGTCACAAAT-1_sSL0112A    Bulk\n",
       "GTTACGTAGATAGACG-1_sSL0093     Bulk\n",
       "Name: cell_type, Length: 214375, dtype: category\n",
       "Categories (1, object): ['Bulk']"
      ]
     },
     "execution_count": 12,
     "metadata": {},
     "output_type": "execute_result"
    }
   ],
   "source": [
    "borgs_tile_mat.obs['cell_type']"
   ]
  },
  {
   "cell_type": "code",
   "execution_count": 13,
   "id": "42098c1f-4f2b-4231-bedc-2c7f3aa9fd65",
   "metadata": {
    "execution": {
     "iopub.execute_input": "2024-10-02T09:13:34.219319Z",
     "iopub.status.busy": "2024-10-02T09:13:34.218100Z",
     "iopub.status.idle": "2024-10-02T09:14:05.566449Z",
     "shell.execute_reply": "2024-10-02T09:14:05.565789Z"
    }
   },
   "outputs": [
    {
     "data": {
      "text/plain": [
       "(210857, 736845)"
      ]
     },
     "execution_count": 13,
     "metadata": {},
     "output_type": "execute_result"
    }
   ],
   "source": [
    "# Remove artifact donors\n",
    "donors_qc = ~borgs_tile_mat.obs['donor_id'].isin(artifact_donors)\n",
    "\n",
    "borgs_tile_mat = borgs_tile_mat[donors_qc, :].copy()\n",
    "\n",
    "borgs_tile_mat.shape"
   ]
  },
  {
   "cell_type": "markdown",
   "id": "f93ee572-e459-413c-a529-b7fbcd62d42a",
   "metadata": {},
   "source": [
    "### Get cell-type anndata"
   ]
  },
  {
   "cell_type": "code",
   "execution_count": 14,
   "id": "f7939836-aba0-4d08-ad1f-3d52bf6bbc34",
   "metadata": {
    "execution": {
     "iopub.execute_input": "2024-10-02T09:14:05.570493Z",
     "iopub.status.busy": "2024-10-02T09:14:05.569505Z",
     "iopub.status.idle": "2024-10-02T09:14:37.618496Z",
     "shell.execute_reply": "2024-10-02T09:14:37.617789Z"
    },
    "tags": []
   },
   "outputs": [
    {
     "data": {
      "text/plain": [
       "AnnData object with n_obs × n_vars = 210857 × 736845\n",
       "    obs: 'BlacklistRatio', 'nDiFrags', 'nFrags', 'nMonoFrags', 'nMultiFrags', 'NucleosomeRatio', 'PassQC', 'PromoterRatio', 'ReadsInBlacklist', 'ReadsInPromoter', 'ReadsInTSS', 'Sample', 'TSSEnrichment', 'n_genes_by_counts', 'total_counts', 'total_counts_mt', 'donor_id', 'clone', 'organoid', 'donor', 'leiden', 'stressed_vs_unstressed_celltypes', 'ReadsInPeaks', 'FRIP', 'barcode', 'batch', 'barcode_batch', 'cell_type'\n",
       "    var: 'chr', 'start', 'end', 'strand', 'peak_name', 'score', 'GC', 'nearest_gene', 'peak_type'"
      ]
     },
     "execution_count": 14,
     "metadata": {},
     "output_type": "execute_result"
    }
   ],
   "source": [
    "caPeaks_1ct = borgs_tile_mat[borgs_tile_mat.obs['cell_type'] == cell_type, :].copy()\n",
    "caPeaks_1ct"
   ]
  },
  {
   "cell_type": "code",
   "execution_count": 15,
   "id": "e041ffe9-d20d-48f9-9930-68383eefa47c",
   "metadata": {
    "execution": {
     "iopub.execute_input": "2024-10-02T09:14:37.622429Z",
     "iopub.status.busy": "2024-10-02T09:14:37.621450Z",
     "iopub.status.idle": "2024-10-02T09:14:37.625744Z",
     "shell.execute_reply": "2024-10-02T09:14:37.625179Z"
    },
    "tags": []
   },
   "outputs": [],
   "source": [
    "n_peaks_og = caPeaks_1ct.n_vars"
   ]
  },
  {
   "cell_type": "code",
   "execution_count": 16,
   "id": "ddc10085-26e8-4ee7-85cc-bc988eab7e71",
   "metadata": {
    "execution": {
     "iopub.execute_input": "2024-10-02T09:14:37.630344Z",
     "iopub.status.busy": "2024-10-02T09:14:37.629118Z",
     "iopub.status.idle": "2024-10-02T09:14:37.648532Z",
     "shell.execute_reply": "2024-10-02T09:14:37.647830Z"
    }
   },
   "outputs": [
    {
     "data": {
      "text/plain": [
       "Index(['Bulk'], dtype='object')"
      ]
     },
     "execution_count": 16,
     "metadata": {},
     "output_type": "execute_result"
    }
   ],
   "source": [
    "caPeaks_1ct.obs['cell_type'].cat.categories"
   ]
  },
  {
   "cell_type": "markdown",
   "id": "542b493f-dec4-46cd-acbb-ecfbe707e1a3",
   "metadata": {},
   "source": [
    "### Hard peak filter: Remove peaks w min cell nr within ct"
   ]
  },
  {
   "cell_type": "code",
   "execution_count": 17,
   "id": "96b6acb0-19e2-42df-a5a1-1f5a7456129b",
   "metadata": {
    "execution": {
     "iopub.execute_input": "2024-10-02T09:14:37.652670Z",
     "iopub.status.busy": "2024-10-02T09:14:37.651579Z",
     "iopub.status.idle": "2024-10-02T09:16:42.261410Z",
     "shell.execute_reply": "2024-10-02T09:16:42.260731Z"
    },
    "tags": []
   },
   "outputs": [
    {
     "data": {
      "text/plain": [
       "(210857, 736845)"
      ]
     },
     "execution_count": 17,
     "metadata": {},
     "output_type": "execute_result"
    }
   ],
   "source": [
    "# Required for HVPeaks\n",
    "sc.pp.filter_genes(caPeaks_1ct, min_cells=min_cells)\n",
    "n_cells, n_peaks_post_min_cells = caPeaks_1ct.shape\n",
    "caPeaks_1ct.shape"
   ]
  },
  {
   "cell_type": "code",
   "execution_count": 18,
   "id": "bac7286c-ca18-4c4d-97de-68b33dd8fefe",
   "metadata": {
    "execution": {
     "iopub.execute_input": "2024-10-02T09:16:42.265321Z",
     "iopub.status.busy": "2024-10-02T09:16:42.264341Z",
     "iopub.status.idle": "2024-10-02T09:16:42.269273Z",
     "shell.execute_reply": "2024-10-02T09:16:42.268690Z"
    }
   },
   "outputs": [],
   "source": [
    "n_peaks_min_cells = n_peaks_og - n_peaks_post_min_cells"
   ]
  },
  {
   "cell_type": "code",
   "execution_count": 19,
   "id": "8fb8c79d-187d-416e-b340-80ea373e5cc9",
   "metadata": {
    "execution": {
     "iopub.execute_input": "2024-10-02T09:16:42.273139Z",
     "iopub.status.busy": "2024-10-02T09:16:42.272122Z",
     "iopub.status.idle": "2024-10-02T09:17:35.517389Z",
     "shell.execute_reply": "2024-10-02T09:17:35.516573Z"
    }
   },
   "outputs": [],
   "source": [
    "# Remove hard-filtered peaks from cell-level anndata\n",
    "borgs_tile_mat = borgs_tile_mat[:, caPeaks_1ct.var_names].copy()"
   ]
  },
  {
   "cell_type": "markdown",
   "id": "cb35f230-dd38-4f82-a4ec-9504e18cff70",
   "metadata": {},
   "source": [
    "### Cell-type cells level stats"
   ]
  },
  {
   "cell_type": "code",
   "execution_count": 20,
   "id": "e8eefe99-39a6-4139-baaf-a8c7c23dc02e",
   "metadata": {
    "execution": {
     "iopub.execute_input": "2024-10-02T09:17:35.521773Z",
     "iopub.status.busy": "2024-10-02T09:17:35.520789Z",
     "iopub.status.idle": "2024-10-02T09:17:35.525465Z",
     "shell.execute_reply": "2024-10-02T09:17:35.524641Z"
    }
   },
   "outputs": [],
   "source": [
    "# describe_result = sp.stats.describe(caPeaks_1ct.X.toarray(), axis=0)\n",
    "\n",
    "# stats = {\n",
    "#     'nobs': [describe_result.nobs] * len(describe_result.mean),\n",
    "#     'min': describe_result.minmax[0],\n",
    "#     'max': describe_result.minmax[1],\n",
    "#     'mean': describe_result.mean,\n",
    "#     'variance': describe_result.variance,\n",
    "#     'skewness': describe_result.skewness,\n",
    "#     'kurtosis': describe_result.kurtosis\n",
    "# }\n",
    "\n",
    "# # Create a DataFrame with the statistics\n",
    "# df = pd.DataFrame(stats)\n",
    "# df = df.transpose().reset_index().rename(columns={'index': 'statistic'}).set_index('statistic')\n",
    "\n",
    "# df"
   ]
  },
  {
   "cell_type": "markdown",
   "id": "1be06bf5-d9a4-425c-925c-06e455bc5f07",
   "metadata": {
    "tags": []
   },
   "source": [
    "### Init donor-level CA matrix"
   ]
  },
  {
   "cell_type": "code",
   "execution_count": 21,
   "id": "5caa9c31-f8c7-4ca2-b7ae-6babd4b6713c",
   "metadata": {
    "execution": {
     "iopub.execute_input": "2024-10-02T09:17:35.529770Z",
     "iopub.status.busy": "2024-10-02T09:17:35.528632Z",
     "iopub.status.idle": "2024-10-02T09:17:54.547186Z",
     "shell.execute_reply": "2024-10-02T09:17:54.546452Z"
    }
   },
   "outputs": [
    {
     "data": {
      "text/plain": [
       "AnnData object with n_obs × n_vars = 70 × 736845\n",
       "    obs: 'donor_id'\n",
       "    var: 'chr', 'start', 'end', 'strand', 'peak_name', 'score', 'GC', 'nearest_gene', 'peak_type', 'n_cells'"
      ]
     },
     "execution_count": 21,
     "metadata": {},
     "output_type": "execute_result"
    }
   ],
   "source": [
    "caPeaks_1ct_agg = sc.get.aggregate(caPeaks_1ct,\n",
    "                                   by=['donor_id'],\n",
    "                                   func=['mean'],\n",
    "                                   axis='obs')\n",
    "\n",
    "caPeaks_1ct_agg.X = caPeaks_1ct_agg.layers['mean'].copy()\n",
    "del caPeaks_1ct_agg.layers['mean']\n",
    "\n",
    "n_donors = caPeaks_1ct_agg.n_obs\n",
    "\n",
    "caPeaks_1ct_agg"
   ]
  },
  {
   "cell_type": "code",
   "execution_count": 22,
   "id": "0a1ea7fe-e1e1-4dc4-af8c-de8a932e3d55",
   "metadata": {
    "execution": {
     "iopub.execute_input": "2024-10-02T09:17:54.551078Z",
     "iopub.status.busy": "2024-10-02T09:17:54.550100Z",
     "iopub.status.idle": "2024-10-02T09:17:54.644126Z",
     "shell.execute_reply": "2024-10-02T09:17:54.643605Z"
    }
   },
   "outputs": [
    {
     "data": {
      "text/html": [
       "<div>\n",
       "<style scoped>\n",
       "    .dataframe tbody tr th:only-of-type {\n",
       "        vertical-align: middle;\n",
       "    }\n",
       "\n",
       "    .dataframe tbody tr th {\n",
       "        vertical-align: top;\n",
       "    }\n",
       "\n",
       "    .dataframe thead th {\n",
       "        text-align: right;\n",
       "    }\n",
       "</style>\n",
       "<table border=\"1\" class=\"dataframe\">\n",
       "  <thead>\n",
       "    <tr style=\"text-align: right;\">\n",
       "      <th>peak_name</th>\n",
       "      <th>chr1:804695:805195:501:*:1</th>\n",
       "      <th>chr1:811018:811518:501:*:2</th>\n",
       "      <th>chr1:817077:817577:501:*:3</th>\n",
       "      <th>chr1:817816:818316:501:*:4</th>\n",
       "      <th>chr1:819782:820282:501:*:5</th>\n",
       "      <th>chr1:826617:827117:501:*:6</th>\n",
       "      <th>chr1:827319:827819:501:*:7</th>\n",
       "      <th>chr1:830673:831173:501:*:8</th>\n",
       "      <th>chr1:838258:838758:501:*:9</th>\n",
       "      <th>chr1:849809:850309:501:*:10</th>\n",
       "      <th>...</th>\n",
       "      <th>chrX:155880442:155880942:501:*:19669</th>\n",
       "      <th>chrX:155881013:155881513:501:*:19670</th>\n",
       "      <th>chrX:155881586:155882086:501:*:19671</th>\n",
       "      <th>chrX:155888143:155888643:501:*:19672</th>\n",
       "      <th>chrX:155889305:155889805:501:*:19673</th>\n",
       "      <th>chrX:155891803:155892303:501:*:19674</th>\n",
       "      <th>chrX:155941826:155942326:501:*:19675</th>\n",
       "      <th>chrX:155956608:155957108:501:*:19676</th>\n",
       "      <th>chrX:155959222:155959722:501:*:19677</th>\n",
       "      <th>chrX:155966839:155967339:501:*:19678</th>\n",
       "    </tr>\n",
       "  </thead>\n",
       "  <tbody>\n",
       "    <tr>\n",
       "      <th>SAMEA2420640</th>\n",
       "      <td>0.001298</td>\n",
       "      <td>0.001443</td>\n",
       "      <td>0.001896</td>\n",
       "      <td>0.000880</td>\n",
       "      <td>0.003620</td>\n",
       "      <td>0.006175</td>\n",
       "      <td>0.055694</td>\n",
       "      <td>0.000000</td>\n",
       "      <td>0.000000</td>\n",
       "      <td>0.001444</td>\n",
       "      <td>...</td>\n",
       "      <td>0.003879</td>\n",
       "      <td>0.067043</td>\n",
       "      <td>0.007543</td>\n",
       "      <td>0.003228</td>\n",
       "      <td>0.002261</td>\n",
       "      <td>0.000000</td>\n",
       "      <td>0.002833</td>\n",
       "      <td>0.010751</td>\n",
       "      <td>0.000894</td>\n",
       "      <td>0.001466</td>\n",
       "    </tr>\n",
       "    <tr>\n",
       "      <th>SAMEA2433566</th>\n",
       "      <td>0.001032</td>\n",
       "      <td>0.000000</td>\n",
       "      <td>0.010437</td>\n",
       "      <td>0.000900</td>\n",
       "      <td>0.000000</td>\n",
       "      <td>0.005115</td>\n",
       "      <td>0.053394</td>\n",
       "      <td>0.000000</td>\n",
       "      <td>0.000000</td>\n",
       "      <td>0.005625</td>\n",
       "      <td>...</td>\n",
       "      <td>0.005151</td>\n",
       "      <td>0.074174</td>\n",
       "      <td>0.009522</td>\n",
       "      <td>0.000485</td>\n",
       "      <td>0.000000</td>\n",
       "      <td>0.000000</td>\n",
       "      <td>0.000000</td>\n",
       "      <td>0.004252</td>\n",
       "      <td>0.000000</td>\n",
       "      <td>0.000000</td>\n",
       "    </tr>\n",
       "    <tr>\n",
       "      <th>SAMEA2445779</th>\n",
       "      <td>0.000198</td>\n",
       "      <td>0.003728</td>\n",
       "      <td>0.000432</td>\n",
       "      <td>0.000651</td>\n",
       "      <td>0.003289</td>\n",
       "      <td>0.004924</td>\n",
       "      <td>0.052959</td>\n",
       "      <td>0.000244</td>\n",
       "      <td>0.002375</td>\n",
       "      <td>0.000852</td>\n",
       "      <td>...</td>\n",
       "      <td>0.005109</td>\n",
       "      <td>0.074190</td>\n",
       "      <td>0.008606</td>\n",
       "      <td>0.006081</td>\n",
       "      <td>0.000928</td>\n",
       "      <td>0.002593</td>\n",
       "      <td>0.003183</td>\n",
       "      <td>0.005989</td>\n",
       "      <td>0.001981</td>\n",
       "      <td>0.003728</td>\n",
       "    </tr>\n",
       "    <tr>\n",
       "      <th>SAMEA2445784</th>\n",
       "      <td>0.000000</td>\n",
       "      <td>0.003247</td>\n",
       "      <td>0.001779</td>\n",
       "      <td>0.000293</td>\n",
       "      <td>0.001916</td>\n",
       "      <td>0.007816</td>\n",
       "      <td>0.054037</td>\n",
       "      <td>0.000819</td>\n",
       "      <td>0.000263</td>\n",
       "      <td>0.002262</td>\n",
       "      <td>...</td>\n",
       "      <td>0.010229</td>\n",
       "      <td>0.071965</td>\n",
       "      <td>0.006797</td>\n",
       "      <td>0.005488</td>\n",
       "      <td>0.002854</td>\n",
       "      <td>0.008814</td>\n",
       "      <td>0.003763</td>\n",
       "      <td>0.009007</td>\n",
       "      <td>0.002321</td>\n",
       "      <td>0.005449</td>\n",
       "    </tr>\n",
       "    <tr>\n",
       "      <th>SAMEA2459959</th>\n",
       "      <td>0.000000</td>\n",
       "      <td>0.000000</td>\n",
       "      <td>0.004889</td>\n",
       "      <td>0.004577</td>\n",
       "      <td>0.000000</td>\n",
       "      <td>0.008981</td>\n",
       "      <td>0.069085</td>\n",
       "      <td>0.000000</td>\n",
       "      <td>0.000000</td>\n",
       "      <td>0.012882</td>\n",
       "      <td>...</td>\n",
       "      <td>0.000000</td>\n",
       "      <td>0.074389</td>\n",
       "      <td>0.000000</td>\n",
       "      <td>0.001064</td>\n",
       "      <td>0.004045</td>\n",
       "      <td>0.000000</td>\n",
       "      <td>0.000000</td>\n",
       "      <td>0.006273</td>\n",
       "      <td>0.000000</td>\n",
       "      <td>0.011641</td>\n",
       "    </tr>\n",
       "    <tr>\n",
       "      <th>...</th>\n",
       "      <td>...</td>\n",
       "      <td>...</td>\n",
       "      <td>...</td>\n",
       "      <td>...</td>\n",
       "      <td>...</td>\n",
       "      <td>...</td>\n",
       "      <td>...</td>\n",
       "      <td>...</td>\n",
       "      <td>...</td>\n",
       "      <td>...</td>\n",
       "      <td>...</td>\n",
       "      <td>...</td>\n",
       "      <td>...</td>\n",
       "      <td>...</td>\n",
       "      <td>...</td>\n",
       "      <td>...</td>\n",
       "      <td>...</td>\n",
       "      <td>...</td>\n",
       "      <td>...</td>\n",
       "      <td>...</td>\n",
       "      <td>...</td>\n",
       "    </tr>\n",
       "    <tr>\n",
       "      <th>SAMEA3977051</th>\n",
       "      <td>0.000872</td>\n",
       "      <td>0.001099</td>\n",
       "      <td>0.003846</td>\n",
       "      <td>0.000406</td>\n",
       "      <td>0.001092</td>\n",
       "      <td>0.006675</td>\n",
       "      <td>0.047560</td>\n",
       "      <td>0.000000</td>\n",
       "      <td>0.006878</td>\n",
       "      <td>0.001016</td>\n",
       "      <td>...</td>\n",
       "      <td>0.009097</td>\n",
       "      <td>0.087049</td>\n",
       "      <td>0.006323</td>\n",
       "      <td>0.004444</td>\n",
       "      <td>0.002403</td>\n",
       "      <td>0.009077</td>\n",
       "      <td>0.003301</td>\n",
       "      <td>0.011139</td>\n",
       "      <td>0.001814</td>\n",
       "      <td>0.000921</td>\n",
       "    </tr>\n",
       "    <tr>\n",
       "      <th>SAMEA4089453</th>\n",
       "      <td>0.000884</td>\n",
       "      <td>0.001087</td>\n",
       "      <td>0.004447</td>\n",
       "      <td>0.002036</td>\n",
       "      <td>0.000759</td>\n",
       "      <td>0.007706</td>\n",
       "      <td>0.057282</td>\n",
       "      <td>0.000200</td>\n",
       "      <td>0.000138</td>\n",
       "      <td>0.009637</td>\n",
       "      <td>...</td>\n",
       "      <td>0.006691</td>\n",
       "      <td>0.061436</td>\n",
       "      <td>0.011078</td>\n",
       "      <td>0.001829</td>\n",
       "      <td>0.004396</td>\n",
       "      <td>0.002353</td>\n",
       "      <td>0.000815</td>\n",
       "      <td>0.005671</td>\n",
       "      <td>0.000939</td>\n",
       "      <td>0.001152</td>\n",
       "    </tr>\n",
       "    <tr>\n",
       "      <th>SAMEA4343052</th>\n",
       "      <td>0.000000</td>\n",
       "      <td>0.003276</td>\n",
       "      <td>0.005437</td>\n",
       "      <td>0.000320</td>\n",
       "      <td>0.001512</td>\n",
       "      <td>0.007395</td>\n",
       "      <td>0.051915</td>\n",
       "      <td>0.000000</td>\n",
       "      <td>0.000345</td>\n",
       "      <td>0.000277</td>\n",
       "      <td>...</td>\n",
       "      <td>0.004253</td>\n",
       "      <td>0.070545</td>\n",
       "      <td>0.012506</td>\n",
       "      <td>0.004739</td>\n",
       "      <td>0.001584</td>\n",
       "      <td>0.009330</td>\n",
       "      <td>0.003431</td>\n",
       "      <td>0.004853</td>\n",
       "      <td>0.001474</td>\n",
       "      <td>0.003110</td>\n",
       "    </tr>\n",
       "    <tr>\n",
       "      <th>SAMEA4451098</th>\n",
       "      <td>0.000647</td>\n",
       "      <td>0.004422</td>\n",
       "      <td>0.003298</td>\n",
       "      <td>0.000607</td>\n",
       "      <td>0.001741</td>\n",
       "      <td>0.005409</td>\n",
       "      <td>0.053924</td>\n",
       "      <td>0.000500</td>\n",
       "      <td>0.000000</td>\n",
       "      <td>0.000859</td>\n",
       "      <td>...</td>\n",
       "      <td>0.008313</td>\n",
       "      <td>0.082750</td>\n",
       "      <td>0.016179</td>\n",
       "      <td>0.004406</td>\n",
       "      <td>0.003012</td>\n",
       "      <td>0.007455</td>\n",
       "      <td>0.004467</td>\n",
       "      <td>0.007757</td>\n",
       "      <td>0.003447</td>\n",
       "      <td>0.000678</td>\n",
       "    </tr>\n",
       "    <tr>\n",
       "      <th>SAMEA4451109</th>\n",
       "      <td>0.000372</td>\n",
       "      <td>0.000491</td>\n",
       "      <td>0.000000</td>\n",
       "      <td>0.000000</td>\n",
       "      <td>0.000278</td>\n",
       "      <td>0.004802</td>\n",
       "      <td>0.048823</td>\n",
       "      <td>0.003432</td>\n",
       "      <td>0.000762</td>\n",
       "      <td>0.000398</td>\n",
       "      <td>...</td>\n",
       "      <td>0.004297</td>\n",
       "      <td>0.064189</td>\n",
       "      <td>0.013060</td>\n",
       "      <td>0.002312</td>\n",
       "      <td>0.000326</td>\n",
       "      <td>0.000000</td>\n",
       "      <td>0.000000</td>\n",
       "      <td>0.000000</td>\n",
       "      <td>0.001027</td>\n",
       "      <td>0.001754</td>\n",
       "    </tr>\n",
       "  </tbody>\n",
       "</table>\n",
       "<p>70 rows × 736845 columns</p>\n",
       "</div>"
      ],
      "text/plain": [
       "peak_name     chr1:804695:805195:501:*:1  chr1:811018:811518:501:*:2  \\\n",
       "SAMEA2420640                    0.001298                    0.001443   \n",
       "SAMEA2433566                    0.001032                    0.000000   \n",
       "SAMEA2445779                    0.000198                    0.003728   \n",
       "SAMEA2445784                    0.000000                    0.003247   \n",
       "SAMEA2459959                    0.000000                    0.000000   \n",
       "...                                  ...                         ...   \n",
       "SAMEA3977051                    0.000872                    0.001099   \n",
       "SAMEA4089453                    0.000884                    0.001087   \n",
       "SAMEA4343052                    0.000000                    0.003276   \n",
       "SAMEA4451098                    0.000647                    0.004422   \n",
       "SAMEA4451109                    0.000372                    0.000491   \n",
       "\n",
       "peak_name     chr1:817077:817577:501:*:3  chr1:817816:818316:501:*:4  \\\n",
       "SAMEA2420640                    0.001896                    0.000880   \n",
       "SAMEA2433566                    0.010437                    0.000900   \n",
       "SAMEA2445779                    0.000432                    0.000651   \n",
       "SAMEA2445784                    0.001779                    0.000293   \n",
       "SAMEA2459959                    0.004889                    0.004577   \n",
       "...                                  ...                         ...   \n",
       "SAMEA3977051                    0.003846                    0.000406   \n",
       "SAMEA4089453                    0.004447                    0.002036   \n",
       "SAMEA4343052                    0.005437                    0.000320   \n",
       "SAMEA4451098                    0.003298                    0.000607   \n",
       "SAMEA4451109                    0.000000                    0.000000   \n",
       "\n",
       "peak_name     chr1:819782:820282:501:*:5  chr1:826617:827117:501:*:6  \\\n",
       "SAMEA2420640                    0.003620                    0.006175   \n",
       "SAMEA2433566                    0.000000                    0.005115   \n",
       "SAMEA2445779                    0.003289                    0.004924   \n",
       "SAMEA2445784                    0.001916                    0.007816   \n",
       "SAMEA2459959                    0.000000                    0.008981   \n",
       "...                                  ...                         ...   \n",
       "SAMEA3977051                    0.001092                    0.006675   \n",
       "SAMEA4089453                    0.000759                    0.007706   \n",
       "SAMEA4343052                    0.001512                    0.007395   \n",
       "SAMEA4451098                    0.001741                    0.005409   \n",
       "SAMEA4451109                    0.000278                    0.004802   \n",
       "\n",
       "peak_name     chr1:827319:827819:501:*:7  chr1:830673:831173:501:*:8  \\\n",
       "SAMEA2420640                    0.055694                    0.000000   \n",
       "SAMEA2433566                    0.053394                    0.000000   \n",
       "SAMEA2445779                    0.052959                    0.000244   \n",
       "SAMEA2445784                    0.054037                    0.000819   \n",
       "SAMEA2459959                    0.069085                    0.000000   \n",
       "...                                  ...                         ...   \n",
       "SAMEA3977051                    0.047560                    0.000000   \n",
       "SAMEA4089453                    0.057282                    0.000200   \n",
       "SAMEA4343052                    0.051915                    0.000000   \n",
       "SAMEA4451098                    0.053924                    0.000500   \n",
       "SAMEA4451109                    0.048823                    0.003432   \n",
       "\n",
       "peak_name     chr1:838258:838758:501:*:9  chr1:849809:850309:501:*:10  ...  \\\n",
       "SAMEA2420640                    0.000000                     0.001444  ...   \n",
       "SAMEA2433566                    0.000000                     0.005625  ...   \n",
       "SAMEA2445779                    0.002375                     0.000852  ...   \n",
       "SAMEA2445784                    0.000263                     0.002262  ...   \n",
       "SAMEA2459959                    0.000000                     0.012882  ...   \n",
       "...                                  ...                          ...  ...   \n",
       "SAMEA3977051                    0.006878                     0.001016  ...   \n",
       "SAMEA4089453                    0.000138                     0.009637  ...   \n",
       "SAMEA4343052                    0.000345                     0.000277  ...   \n",
       "SAMEA4451098                    0.000000                     0.000859  ...   \n",
       "SAMEA4451109                    0.000762                     0.000398  ...   \n",
       "\n",
       "peak_name     chrX:155880442:155880942:501:*:19669  \\\n",
       "SAMEA2420640                              0.003879   \n",
       "SAMEA2433566                              0.005151   \n",
       "SAMEA2445779                              0.005109   \n",
       "SAMEA2445784                              0.010229   \n",
       "SAMEA2459959                              0.000000   \n",
       "...                                            ...   \n",
       "SAMEA3977051                              0.009097   \n",
       "SAMEA4089453                              0.006691   \n",
       "SAMEA4343052                              0.004253   \n",
       "SAMEA4451098                              0.008313   \n",
       "SAMEA4451109                              0.004297   \n",
       "\n",
       "peak_name     chrX:155881013:155881513:501:*:19670  \\\n",
       "SAMEA2420640                              0.067043   \n",
       "SAMEA2433566                              0.074174   \n",
       "SAMEA2445779                              0.074190   \n",
       "SAMEA2445784                              0.071965   \n",
       "SAMEA2459959                              0.074389   \n",
       "...                                            ...   \n",
       "SAMEA3977051                              0.087049   \n",
       "SAMEA4089453                              0.061436   \n",
       "SAMEA4343052                              0.070545   \n",
       "SAMEA4451098                              0.082750   \n",
       "SAMEA4451109                              0.064189   \n",
       "\n",
       "peak_name     chrX:155881586:155882086:501:*:19671  \\\n",
       "SAMEA2420640                              0.007543   \n",
       "SAMEA2433566                              0.009522   \n",
       "SAMEA2445779                              0.008606   \n",
       "SAMEA2445784                              0.006797   \n",
       "SAMEA2459959                              0.000000   \n",
       "...                                            ...   \n",
       "SAMEA3977051                              0.006323   \n",
       "SAMEA4089453                              0.011078   \n",
       "SAMEA4343052                              0.012506   \n",
       "SAMEA4451098                              0.016179   \n",
       "SAMEA4451109                              0.013060   \n",
       "\n",
       "peak_name     chrX:155888143:155888643:501:*:19672  \\\n",
       "SAMEA2420640                              0.003228   \n",
       "SAMEA2433566                              0.000485   \n",
       "SAMEA2445779                              0.006081   \n",
       "SAMEA2445784                              0.005488   \n",
       "SAMEA2459959                              0.001064   \n",
       "...                                            ...   \n",
       "SAMEA3977051                              0.004444   \n",
       "SAMEA4089453                              0.001829   \n",
       "SAMEA4343052                              0.004739   \n",
       "SAMEA4451098                              0.004406   \n",
       "SAMEA4451109                              0.002312   \n",
       "\n",
       "peak_name     chrX:155889305:155889805:501:*:19673  \\\n",
       "SAMEA2420640                              0.002261   \n",
       "SAMEA2433566                              0.000000   \n",
       "SAMEA2445779                              0.000928   \n",
       "SAMEA2445784                              0.002854   \n",
       "SAMEA2459959                              0.004045   \n",
       "...                                            ...   \n",
       "SAMEA3977051                              0.002403   \n",
       "SAMEA4089453                              0.004396   \n",
       "SAMEA4343052                              0.001584   \n",
       "SAMEA4451098                              0.003012   \n",
       "SAMEA4451109                              0.000326   \n",
       "\n",
       "peak_name     chrX:155891803:155892303:501:*:19674  \\\n",
       "SAMEA2420640                              0.000000   \n",
       "SAMEA2433566                              0.000000   \n",
       "SAMEA2445779                              0.002593   \n",
       "SAMEA2445784                              0.008814   \n",
       "SAMEA2459959                              0.000000   \n",
       "...                                            ...   \n",
       "SAMEA3977051                              0.009077   \n",
       "SAMEA4089453                              0.002353   \n",
       "SAMEA4343052                              0.009330   \n",
       "SAMEA4451098                              0.007455   \n",
       "SAMEA4451109                              0.000000   \n",
       "\n",
       "peak_name     chrX:155941826:155942326:501:*:19675  \\\n",
       "SAMEA2420640                              0.002833   \n",
       "SAMEA2433566                              0.000000   \n",
       "SAMEA2445779                              0.003183   \n",
       "SAMEA2445784                              0.003763   \n",
       "SAMEA2459959                              0.000000   \n",
       "...                                            ...   \n",
       "SAMEA3977051                              0.003301   \n",
       "SAMEA4089453                              0.000815   \n",
       "SAMEA4343052                              0.003431   \n",
       "SAMEA4451098                              0.004467   \n",
       "SAMEA4451109                              0.000000   \n",
       "\n",
       "peak_name     chrX:155956608:155957108:501:*:19676  \\\n",
       "SAMEA2420640                              0.010751   \n",
       "SAMEA2433566                              0.004252   \n",
       "SAMEA2445779                              0.005989   \n",
       "SAMEA2445784                              0.009007   \n",
       "SAMEA2459959                              0.006273   \n",
       "...                                            ...   \n",
       "SAMEA3977051                              0.011139   \n",
       "SAMEA4089453                              0.005671   \n",
       "SAMEA4343052                              0.004853   \n",
       "SAMEA4451098                              0.007757   \n",
       "SAMEA4451109                              0.000000   \n",
       "\n",
       "peak_name     chrX:155959222:155959722:501:*:19677  \\\n",
       "SAMEA2420640                              0.000894   \n",
       "SAMEA2433566                              0.000000   \n",
       "SAMEA2445779                              0.001981   \n",
       "SAMEA2445784                              0.002321   \n",
       "SAMEA2459959                              0.000000   \n",
       "...                                            ...   \n",
       "SAMEA3977051                              0.001814   \n",
       "SAMEA4089453                              0.000939   \n",
       "SAMEA4343052                              0.001474   \n",
       "SAMEA4451098                              0.003447   \n",
       "SAMEA4451109                              0.001027   \n",
       "\n",
       "peak_name     chrX:155966839:155967339:501:*:19678  \n",
       "SAMEA2420640                              0.001466  \n",
       "SAMEA2433566                              0.000000  \n",
       "SAMEA2445779                              0.003728  \n",
       "SAMEA2445784                              0.005449  \n",
       "SAMEA2459959                              0.011641  \n",
       "...                                            ...  \n",
       "SAMEA3977051                              0.000921  \n",
       "SAMEA4089453                              0.001152  \n",
       "SAMEA4343052                              0.003110  \n",
       "SAMEA4451098                              0.000678  \n",
       "SAMEA4451109                              0.001754  \n",
       "\n",
       "[70 rows x 736845 columns]"
      ]
     },
     "execution_count": 22,
     "metadata": {},
     "output_type": "execute_result"
    }
   ],
   "source": [
    "agg_df = caPeaks_1ct_agg.to_df()\n",
    "agg_df"
   ]
  },
  {
   "cell_type": "markdown",
   "id": "fe46e213-6abc-477c-8aa3-a33934de20eb",
   "metadata": {},
   "source": [
    "### Init ct-donor-level CA matrix"
   ]
  },
  {
   "cell_type": "code",
   "execution_count": 23,
   "id": "e6b25f28-9cf2-4293-8db4-b4da336f954b",
   "metadata": {
    "execution": {
     "iopub.execute_input": "2024-10-02T09:17:54.647895Z",
     "iopub.status.busy": "2024-10-02T09:17:54.646920Z",
     "iopub.status.idle": "2024-10-02T09:18:14.677586Z",
     "shell.execute_reply": "2024-10-02T09:18:14.676791Z"
    }
   },
   "outputs": [
    {
     "data": {
      "text/plain": [
       "AnnData object with n_obs × n_vars = 70 × 736845\n",
       "    obs: 'cell_type', 'donor_id'\n",
       "    var: 'chr', 'start', 'end', 'strand', 'peak_name', 'score', 'GC', 'nearest_gene', 'peak_type'"
      ]
     },
     "execution_count": 23,
     "metadata": {},
     "output_type": "execute_result"
    }
   ],
   "source": [
    "caPeaks_agg_cd = sc.get.aggregate(borgs_tile_mat,\n",
    "                                   by=['cell_type', 'donor_id'],\n",
    "                                   func=['mean'],\n",
    "                                   axis='obs')\n",
    "\n",
    "caPeaks_agg_cd.X = caPeaks_agg_cd.layers['mean'].copy()\n",
    "del caPeaks_agg_cd.layers['mean']\n",
    "\n",
    "caPeaks_agg_cd"
   ]
  },
  {
   "cell_type": "markdown",
   "id": "9a24cfca-f174-4a4d-b290-19fea7d6209f",
   "metadata": {},
   "source": [
    "### Init donor-batch-level CA matrix"
   ]
  },
  {
   "cell_type": "code",
   "execution_count": 24,
   "id": "aa893137-6955-45a9-a22c-4541c846b1c8",
   "metadata": {
    "execution": {
     "iopub.execute_input": "2024-10-02T09:18:14.681564Z",
     "iopub.status.busy": "2024-10-02T09:18:14.680581Z",
     "iopub.status.idle": "2024-10-02T09:18:14.684954Z",
     "shell.execute_reply": "2024-10-02T09:18:14.684278Z"
    }
   },
   "outputs": [],
   "source": [
    "# caPeaks_agg_cdb = sc.get.aggregate(borgs_tile_mat,\n",
    "#                                    by=['cell_type', 'donor_id', 'batch'],\n",
    "#                                    func=['mean'],\n",
    "#                                    axis='obs')\n",
    "\n",
    "# caPeaks_agg_cdb.X = caPeaks_agg_cdb.layers['mean'].copy()\n",
    "# del caPeaks_agg_cdb.layers['mean']\n",
    "\n",
    "# n_donor_batch = caPeaks_agg_cdb.obs[caPeaks_agg_cdb.obs['cell_type'] == cell_type].shape[0]\n",
    "\n",
    "# caPeaks_agg_cdb"
   ]
  },
  {
   "cell_type": "markdown",
   "id": "120a60c0-4275-4a16-8cf9-94aa895996a0",
   "metadata": {
    "tags": []
   },
   "source": [
    "# Cell-level analysis"
   ]
  },
  {
   "cell_type": "markdown",
   "id": "448bb894-7fec-4ee3-9c1a-0e61d86bc4a0",
   "metadata": {
    "tags": []
   },
   "source": [
    "## Peak filter: DAPeaks"
   ]
  },
  {
   "cell_type": "code",
   "execution_count": 25,
   "id": "17edd5ff-d3da-445f-8ac7-82f6980adcde",
   "metadata": {
    "execution": {
     "iopub.execute_input": "2024-10-02T09:18:14.689457Z",
     "iopub.status.busy": "2024-10-02T09:18:14.688210Z",
     "iopub.status.idle": "2024-10-02T09:18:42.609138Z",
     "shell.execute_reply": "2024-10-02T09:18:42.608522Z"
    }
   },
   "outputs": [
    {
     "name": "stderr",
     "output_type": "stream",
     "text": [
      "/home/fichtner/.conda/envs/ian/lib/python3.9/site-packages/scanpy/preprocessing/_utils.py:29: RuntimeWarning: Mean of empty slice.\n",
      "  return X.mean(axis=axis, dtype=dtype)\n",
      "/home/fichtner/.conda/envs/ian/lib/python3.9/site-packages/numpy/core/_methods.py:121: RuntimeWarning: invalid value encountered in divide\n",
      "  ret = um.true_divide(\n"
     ]
    },
    {
     "name": "stderr",
     "output_type": "stream",
     "text": [
      "/home/fichtner/.conda/envs/ian/lib/python3.9/site-packages/scanpy/plotting/_tools/__init__.py:432: UserWarning: Attempting to set identical low and high ylims makes transformation singular; automatically expanding.\n",
      "  ax.set_ylim(ymin, ymax)\n"
     ]
    },
    {
     "data": {
      "image/png": "[encoded data removed]",
      "text/plain": [
       "<Figure size 640x480 with 1 Axes>"
      ]
     },
     "metadata": {},
     "output_type": "display_data"
    }
   ],
   "source": [
    "sc.tl.rank_genes_groups(caPeaks_agg_cd, groupby='cell_type', method='t-test', rankby_abs=True)\n",
    "sc.pl.rank_genes_groups(caPeaks_agg_cd, n_genes=25, sharey=False)"
   ]
  },
  {
   "cell_type": "code",
   "execution_count": 26,
   "id": "a6dd6887-10d1-4b9b-8b23-628d15267763",
   "metadata": {
    "execution": {
     "iopub.execute_input": "2024-10-02T09:18:42.613334Z",
     "iopub.status.busy": "2024-10-02T09:18:42.612288Z",
     "iopub.status.idle": "2024-10-02T09:18:43.155769Z",
     "shell.execute_reply": "2024-10-02T09:18:43.155015Z"
    }
   },
   "outputs": [
    {
     "data": {
      "text/html": [
       "<div>\n",
       "<style scoped>\n",
       "    .dataframe tbody tr th:only-of-type {\n",
       "        vertical-align: middle;\n",
       "    }\n",
       "\n",
       "    .dataframe tbody tr th {\n",
       "        vertical-align: top;\n",
       "    }\n",
       "\n",
       "    .dataframe thead th {\n",
       "        text-align: right;\n",
       "    }\n",
       "</style>\n",
       "<table border=\"1\" class=\"dataframe\">\n",
       "  <thead>\n",
       "    <tr style=\"text-align: right;\">\n",
       "      <th></th>\n",
       "      <th>names</th>\n",
       "      <th>scores</th>\n",
       "      <th>logfoldchanges</th>\n",
       "      <th>pvals</th>\n",
       "      <th>pvals_adj</th>\n",
       "    </tr>\n",
       "  </thead>\n",
       "  <tbody>\n",
       "  </tbody>\n",
       "</table>\n",
       "</div>"
      ],
      "text/plain": [
       "Empty DataFrame\n",
       "Columns: [names, scores, logfoldchanges, pvals, pvals_adj]\n",
       "Index: []"
      ]
     },
     "execution_count": 26,
     "metadata": {},
     "output_type": "execute_result"
    }
   ],
   "source": [
    "daps = sc.get.rank_genes_groups_df(caPeaks_agg_cd, group=cell_type, pval_cutoff=min_pval)\n",
    "peaks_markers = set(daps['names'][0:n_top_markers])\n",
    "daps"
   ]
  },
  {
   "cell_type": "code",
   "execution_count": 27,
   "id": "e7dc5b88-a52f-4d13-8b6a-11dd9a67f501",
   "metadata": {
    "execution": {
     "iopub.execute_input": "2024-10-02T09:18:43.159743Z",
     "iopub.status.busy": "2024-10-02T09:18:43.158765Z",
     "iopub.status.idle": "2024-10-02T09:18:43.244333Z",
     "shell.execute_reply": "2024-10-02T09:18:43.243188Z"
    }
   },
   "outputs": [],
   "source": [
    "daps_out_path = f\"data/intermediate-data/datasets/{DATASET_ID}/matrix-eQTL_io/chromatin_accessibility/differentially-accessible-peaks/{ct_map_id}/{cell_type}.tsv\"\n",
    "\n",
    "create_folder(os.path.dirname(os.path.abspath(daps_out_path)))\n",
    "\n",
    "daps.to_csv(daps_out_path, sep='\\t')"
   ]
  },
  {
   "cell_type": "code",
   "execution_count": 28,
   "id": "2aa4cf01-e849-4393-baed-be71ef91649b",
   "metadata": {
    "execution": {
     "iopub.execute_input": "2024-10-02T09:18:43.250466Z",
     "iopub.status.busy": "2024-10-02T09:18:43.248617Z",
     "iopub.status.idle": "2024-10-02T09:18:43.256297Z",
     "shell.execute_reply": "2024-10-02T09:18:43.255085Z"
    }
   },
   "outputs": [],
   "source": [
    "del caPeaks_agg_cd"
   ]
  },
  {
   "cell_type": "markdown",
   "id": "aaf0f243-67ae-4be9-956d-790f451d3a07",
   "metadata": {
    "tags": []
   },
   "source": [
    "## Peaks filter: intersecting w eQTLs"
   ]
  },
  {
   "cell_type": "markdown",
   "id": "84ccb96b-c71f-4abc-aabf-5c6b9f0589de",
   "metadata": {},
   "source": [
    "### Make eQTLs bed file"
   ]
  },
  {
   "cell_type": "code",
   "execution_count": 29,
   "id": "00c64eb1-a468-43af-b984-41f705462a59",
   "metadata": {
    "execution": {
     "iopub.execute_input": "2024-10-02T09:18:43.263673Z",
     "iopub.status.busy": "2024-10-02T09:18:43.262506Z",
     "iopub.status.idle": "2024-10-02T09:18:43.413153Z",
     "shell.execute_reply": "2024-10-02T09:18:43.411986Z"
    },
    "tags": []
   },
   "outputs": [
    {
     "data": {
      "text/plain": [
       "Index(['snp_id', 'p_value', 'beta', 'beta_se', 'empirical_feature_p_value',\n",
       "       'feature_chromosome', 'feature_start', 'feature_end', 'gene_name',\n",
       "       'n_samples', 'n_e_samples', 'alpha_param', 'beta_param', 'rho',\n",
       "       'snp_chromosome', 'snp_position', 'assessed_allele', 'call_rate', 'maf',\n",
       "       'hwe_p', 'feature_id', 'global_corrected_pValue',\n",
       "       'global_corrected_pValue_BH', 'global_corrected_pValue_BF', 'celltype'],\n",
       "      dtype='object')"
      ]
     },
     "execution_count": 29,
     "metadata": {},
     "output_type": "execute_result"
    }
   ],
   "source": [
    "eqtls = pd.read_csv(os.path.join(HCA_BORGS_PROJ, \"eQTL_mapping/eSNPs_significant_all_celltypes_HVGs.tsv\"),\n",
    "                   sep='\\t',\n",
    "                   header=0,\n",
    "                   index_col=21)\n",
    "eqtls.columns"
   ]
  },
  {
   "cell_type": "code",
   "execution_count": 30,
   "id": "af8f44db-00ff-4d66-a105-9bdf5f90a737",
   "metadata": {
    "execution": {
     "iopub.execute_input": "2024-10-02T09:18:43.420959Z",
     "iopub.status.busy": "2024-10-02T09:18:43.418848Z",
     "iopub.status.idle": "2024-10-02T09:18:43.471060Z",
     "shell.execute_reply": "2024-10-02T09:18:43.470230Z"
    }
   },
   "outputs": [
    {
     "data": {
      "text/html": [
       "<div>\n",
       "<style scoped>\n",
       "    .dataframe tbody tr th:only-of-type {\n",
       "        vertical-align: middle;\n",
       "    }\n",
       "\n",
       "    .dataframe tbody tr th {\n",
       "        vertical-align: top;\n",
       "    }\n",
       "\n",
       "    .dataframe thead th {\n",
       "        text-align: right;\n",
       "    }\n",
       "</style>\n",
       "<table border=\"1\" class=\"dataframe\">\n",
       "  <thead>\n",
       "    <tr style=\"text-align: right;\">\n",
       "      <th></th>\n",
       "      <th>snp_id</th>\n",
       "      <th>p_value</th>\n",
       "      <th>beta</th>\n",
       "      <th>beta_se</th>\n",
       "      <th>empirical_feature_p_value</th>\n",
       "      <th>feature_chromosome</th>\n",
       "      <th>feature_start</th>\n",
       "      <th>feature_end</th>\n",
       "      <th>gene_name</th>\n",
       "      <th>n_samples</th>\n",
       "      <th>...</th>\n",
       "      <th>snp_position</th>\n",
       "      <th>assessed_allele</th>\n",
       "      <th>call_rate</th>\n",
       "      <th>maf</th>\n",
       "      <th>hwe_p</th>\n",
       "      <th>feature_id</th>\n",
       "      <th>global_corrected_pValue</th>\n",
       "      <th>global_corrected_pValue_BH</th>\n",
       "      <th>global_corrected_pValue_BF</th>\n",
       "      <th>celltype</th>\n",
       "    </tr>\n",
       "    <tr>\n",
       "      <th>QTL</th>\n",
       "      <th></th>\n",
       "      <th></th>\n",
       "      <th></th>\n",
       "      <th></th>\n",
       "      <th></th>\n",
       "      <th></th>\n",
       "      <th></th>\n",
       "      <th></th>\n",
       "      <th></th>\n",
       "      <th></th>\n",
       "      <th></th>\n",
       "      <th></th>\n",
       "      <th></th>\n",
       "      <th></th>\n",
       "      <th></th>\n",
       "      <th></th>\n",
       "      <th></th>\n",
       "      <th></th>\n",
       "      <th></th>\n",
       "      <th></th>\n",
       "      <th></th>\n",
       "    </tr>\n",
       "  </thead>\n",
       "  <tbody>\n",
       "    <tr>\n",
       "      <th>ENSG00000269376-chr13_112983450_T_C</th>\n",
       "      <td>chr13_112983450_T_C</td>\n",
       "      <td>0.000066</td>\n",
       "      <td>-0.364427</td>\n",
       "      <td>0.092665</td>\n",
       "      <td>0.000000e+00</td>\n",
       "      <td>13</td>\n",
       "      <td>113009671</td>\n",
       "      <td>113010319</td>\n",
       "      <td>NaN</td>\n",
       "      <td>277</td>\n",
       "      <td>...</td>\n",
       "      <td>112983450</td>\n",
       "      <td>C</td>\n",
       "      <td>1.0</td>\n",
       "      <td>0.044776</td>\n",
       "      <td>1.000000</td>\n",
       "      <td>ENSG00000269376</td>\n",
       "      <td>0.000000e+00</td>\n",
       "      <td>0.000000e+00</td>\n",
       "      <td>0.000000e+00</td>\n",
       "      <td>immature_EN</td>\n",
       "    </tr>\n",
       "    <tr>\n",
       "      <th>ENSG00000183463-chr13_27824764_C_T</th>\n",
       "      <td>chr13_27824764_C_T</td>\n",
       "      <td>0.047441</td>\n",
       "      <td>-0.089739</td>\n",
       "      <td>0.045430</td>\n",
       "      <td>0.000000e+00</td>\n",
       "      <td>13</td>\n",
       "      <td>27977717</td>\n",
       "      <td>27988693</td>\n",
       "      <td>URAD</td>\n",
       "      <td>277</td>\n",
       "      <td>...</td>\n",
       "      <td>27824764</td>\n",
       "      <td>C</td>\n",
       "      <td>1.0</td>\n",
       "      <td>0.089552</td>\n",
       "      <td>0.073438</td>\n",
       "      <td>ENSG00000183463</td>\n",
       "      <td>0.000000e+00</td>\n",
       "      <td>0.000000e+00</td>\n",
       "      <td>0.000000e+00</td>\n",
       "      <td>immature_EN</td>\n",
       "    </tr>\n",
       "    <tr>\n",
       "      <th>ENSG00000259182-chr15_101221494_A_C</th>\n",
       "      <td>chr15_101221494_A_C</td>\n",
       "      <td>0.202509</td>\n",
       "      <td>-0.088910</td>\n",
       "      <td>0.069866</td>\n",
       "      <td>0.000000e+00</td>\n",
       "      <td>15</td>\n",
       "      <td>101168530</td>\n",
       "      <td>101170821</td>\n",
       "      <td>NaN</td>\n",
       "      <td>277</td>\n",
       "      <td>...</td>\n",
       "      <td>101221494</td>\n",
       "      <td>A</td>\n",
       "      <td>1.0</td>\n",
       "      <td>0.044776</td>\n",
       "      <td>0.110206</td>\n",
       "      <td>ENSG00000259182</td>\n",
       "      <td>0.000000e+00</td>\n",
       "      <td>0.000000e+00</td>\n",
       "      <td>0.000000e+00</td>\n",
       "      <td>immature_EN</td>\n",
       "    </tr>\n",
       "    <tr>\n",
       "      <th>ENSG00000286922-chr12_127567286_A_G</th>\n",
       "      <td>chr12_127567286_A_G</td>\n",
       "      <td>0.265404</td>\n",
       "      <td>-0.030918</td>\n",
       "      <td>0.027792</td>\n",
       "      <td>0.000000e+00</td>\n",
       "      <td>12</td>\n",
       "      <td>127486938</td>\n",
       "      <td>127533242</td>\n",
       "      <td>NaN</td>\n",
       "      <td>277</td>\n",
       "      <td>...</td>\n",
       "      <td>127567286</td>\n",
       "      <td>G</td>\n",
       "      <td>1.0</td>\n",
       "      <td>0.074627</td>\n",
       "      <td>1.000000</td>\n",
       "      <td>ENSG00000286922</td>\n",
       "      <td>0.000000e+00</td>\n",
       "      <td>0.000000e+00</td>\n",
       "      <td>0.000000e+00</td>\n",
       "      <td>immature_EN</td>\n",
       "    </tr>\n",
       "    <tr>\n",
       "      <th>ENSG00000286246-chr12_129375924_C_G</th>\n",
       "      <td>chr12_129375924_C_G</td>\n",
       "      <td>0.949835</td>\n",
       "      <td>-0.000101</td>\n",
       "      <td>0.001608</td>\n",
       "      <td>4.101945e-163</td>\n",
       "      <td>12</td>\n",
       "      <td>129622929</td>\n",
       "      <td>129625366</td>\n",
       "      <td>NaN</td>\n",
       "      <td>277</td>\n",
       "      <td>...</td>\n",
       "      <td>129375924</td>\n",
       "      <td>C</td>\n",
       "      <td>1.0</td>\n",
       "      <td>0.089552</td>\n",
       "      <td>0.073438</td>\n",
       "      <td>ENSG00000286246</td>\n",
       "      <td>1.930191e-161</td>\n",
       "      <td>2.223254e-161</td>\n",
       "      <td>1.111627e-160</td>\n",
       "      <td>immature_EN</td>\n",
       "    </tr>\n",
       "    <tr>\n",
       "      <th>...</th>\n",
       "      <td>...</td>\n",
       "      <td>...</td>\n",
       "      <td>...</td>\n",
       "      <td>...</td>\n",
       "      <td>...</td>\n",
       "      <td>...</td>\n",
       "      <td>...</td>\n",
       "      <td>...</td>\n",
       "      <td>...</td>\n",
       "      <td>...</td>\n",
       "      <td>...</td>\n",
       "      <td>...</td>\n",
       "      <td>...</td>\n",
       "      <td>...</td>\n",
       "      <td>...</td>\n",
       "      <td>...</td>\n",
       "      <td>...</td>\n",
       "      <td>...</td>\n",
       "      <td>...</td>\n",
       "      <td>...</td>\n",
       "      <td>...</td>\n",
       "    </tr>\n",
       "    <tr>\n",
       "      <th>ENSG00000250842-chr5_145190494_A_T</th>\n",
       "      <td>chr5_145190494_A_T</td>\n",
       "      <td>0.000033</td>\n",
       "      <td>0.535958</td>\n",
       "      <td>0.130797</td>\n",
       "      <td>1.828702e-02</td>\n",
       "      <td>5</td>\n",
       "      <td>145337932</td>\n",
       "      <td>145381670</td>\n",
       "      <td>NaN</td>\n",
       "      <td>310</td>\n",
       "      <td>...</td>\n",
       "      <td>145190494</td>\n",
       "      <td>A</td>\n",
       "      <td>1.0</td>\n",
       "      <td>0.316176</td>\n",
       "      <td>1.000000</td>\n",
       "      <td>ENSG00000250842</td>\n",
       "      <td>4.610052e-02</td>\n",
       "      <td>4.610052e-02</td>\n",
       "      <td>1.000000e+00</td>\n",
       "      <td>Differentiating_RG</td>\n",
       "    </tr>\n",
       "    <tr>\n",
       "      <th>ENSG00000267537-chr19_28873752_G_A</th>\n",
       "      <td>chr19_28873752_G_A</td>\n",
       "      <td>0.000285</td>\n",
       "      <td>-0.620958</td>\n",
       "      <td>0.172965</td>\n",
       "      <td>1.854836e-02</td>\n",
       "      <td>19</td>\n",
       "      <td>28602379</td>\n",
       "      <td>28648303</td>\n",
       "      <td>NaN</td>\n",
       "      <td>310</td>\n",
       "      <td>...</td>\n",
       "      <td>28873752</td>\n",
       "      <td>G</td>\n",
       "      <td>1.0</td>\n",
       "      <td>0.066176</td>\n",
       "      <td>0.246147</td>\n",
       "      <td>ENSG00000267537</td>\n",
       "      <td>4.669823e-02</td>\n",
       "      <td>4.669823e-02</td>\n",
       "      <td>1.000000e+00</td>\n",
       "      <td>Differentiating_RG</td>\n",
       "    </tr>\n",
       "    <tr>\n",
       "      <th>ENSG00000287056-chr6_168100952_C_G</th>\n",
       "      <td>chr6_168100952_C_G</td>\n",
       "      <td>0.001926</td>\n",
       "      <td>-0.216988</td>\n",
       "      <td>0.070509</td>\n",
       "      <td>1.932144e-02</td>\n",
       "      <td>6</td>\n",
       "      <td>168217032</td>\n",
       "      <td>168220262</td>\n",
       "      <td>NaN</td>\n",
       "      <td>310</td>\n",
       "      <td>...</td>\n",
       "      <td>168100952</td>\n",
       "      <td>C</td>\n",
       "      <td>1.0</td>\n",
       "      <td>0.102941</td>\n",
       "      <td>1.000000</td>\n",
       "      <td>ENSG00000287056</td>\n",
       "      <td>4.858106e-02</td>\n",
       "      <td>4.858106e-02</td>\n",
       "      <td>1.000000e+00</td>\n",
       "      <td>Differentiating_RG</td>\n",
       "    </tr>\n",
       "    <tr>\n",
       "      <th>ENSG00000144130-chr2_112830976_A_G</th>\n",
       "      <td>chr2_112830976_A_G</td>\n",
       "      <td>0.017801</td>\n",
       "      <td>-0.395662</td>\n",
       "      <td>0.167722</td>\n",
       "      <td>1.944629e-02</td>\n",
       "      <td>2</td>\n",
       "      <td>112721020</td>\n",
       "      <td>112742879</td>\n",
       "      <td>NT5DC4</td>\n",
       "      <td>310</td>\n",
       "      <td>...</td>\n",
       "      <td>112830976</td>\n",
       "      <td>G</td>\n",
       "      <td>1.0</td>\n",
       "      <td>0.073529</td>\n",
       "      <td>1.000000</td>\n",
       "      <td>ENSG00000144130</td>\n",
       "      <td>4.883123e-02</td>\n",
       "      <td>4.883123e-02</td>\n",
       "      <td>1.000000e+00</td>\n",
       "      <td>Differentiating_RG</td>\n",
       "    </tr>\n",
       "    <tr>\n",
       "      <th>ENSG00000119913-chr10_112484985_A_C</th>\n",
       "      <td>chr10_112484985_A_C</td>\n",
       "      <td>0.000204</td>\n",
       "      <td>-0.378626</td>\n",
       "      <td>0.103072</td>\n",
       "      <td>1.984266e-02</td>\n",
       "      <td>10</td>\n",
       "      <td>112283400</td>\n",
       "      <td>112305038</td>\n",
       "      <td>TECTB</td>\n",
       "      <td>310</td>\n",
       "      <td>...</td>\n",
       "      <td>112484985</td>\n",
       "      <td>A</td>\n",
       "      <td>1.0</td>\n",
       "      <td>0.176471</td>\n",
       "      <td>0.674815</td>\n",
       "      <td>ENSG00000119913</td>\n",
       "      <td>4.976167e-02</td>\n",
       "      <td>4.976167e-02</td>\n",
       "      <td>1.000000e+00</td>\n",
       "      <td>Differentiating_RG</td>\n",
       "    </tr>\n",
       "  </tbody>\n",
       "</table>\n",
       "<p>2470 rows × 25 columns</p>\n",
       "</div>"
      ],
      "text/plain": [
       "                                                  snp_id   p_value      beta  \\\n",
       "QTL                                                                            \n",
       "ENSG00000269376-chr13_112983450_T_C  chr13_112983450_T_C  0.000066 -0.364427   \n",
       "ENSG00000183463-chr13_27824764_C_T    chr13_27824764_C_T  0.047441 -0.089739   \n",
       "ENSG00000259182-chr15_101221494_A_C  chr15_101221494_A_C  0.202509 -0.088910   \n",
       "ENSG00000286922-chr12_127567286_A_G  chr12_127567286_A_G  0.265404 -0.030918   \n",
       "ENSG00000286246-chr12_129375924_C_G  chr12_129375924_C_G  0.949835 -0.000101   \n",
       "...                                                  ...       ...       ...   \n",
       "ENSG00000250842-chr5_145190494_A_T    chr5_145190494_A_T  0.000033  0.535958   \n",
       "ENSG00000267537-chr19_28873752_G_A    chr19_28873752_G_A  0.000285 -0.620958   \n",
       "ENSG00000287056-chr6_168100952_C_G    chr6_168100952_C_G  0.001926 -0.216988   \n",
       "ENSG00000144130-chr2_112830976_A_G    chr2_112830976_A_G  0.017801 -0.395662   \n",
       "ENSG00000119913-chr10_112484985_A_C  chr10_112484985_A_C  0.000204 -0.378626   \n",
       "\n",
       "                                      beta_se  empirical_feature_p_value  \\\n",
       "QTL                                                                        \n",
       "ENSG00000269376-chr13_112983450_T_C  0.092665               0.000000e+00   \n",
       "ENSG00000183463-chr13_27824764_C_T   0.045430               0.000000e+00   \n",
       "ENSG00000259182-chr15_101221494_A_C  0.069866               0.000000e+00   \n",
       "ENSG00000286922-chr12_127567286_A_G  0.027792               0.000000e+00   \n",
       "ENSG00000286246-chr12_129375924_C_G  0.001608              4.101945e-163   \n",
       "...                                       ...                        ...   \n",
       "ENSG00000250842-chr5_145190494_A_T   0.130797               1.828702e-02   \n",
       "ENSG00000267537-chr19_28873752_G_A   0.172965               1.854836e-02   \n",
       "ENSG00000287056-chr6_168100952_C_G   0.070509               1.932144e-02   \n",
       "ENSG00000144130-chr2_112830976_A_G   0.167722               1.944629e-02   \n",
       "ENSG00000119913-chr10_112484985_A_C  0.103072               1.984266e-02   \n",
       "\n",
       "                                     feature_chromosome  feature_start  \\\n",
       "QTL                                                                      \n",
       "ENSG00000269376-chr13_112983450_T_C                  13      113009671   \n",
       "ENSG00000183463-chr13_27824764_C_T                   13       27977717   \n",
       "ENSG00000259182-chr15_101221494_A_C                  15      101168530   \n",
       "ENSG00000286922-chr12_127567286_A_G                  12      127486938   \n",
       "ENSG00000286246-chr12_129375924_C_G                  12      129622929   \n",
       "...                                                 ...            ...   \n",
       "ENSG00000250842-chr5_145190494_A_T                    5      145337932   \n",
       "ENSG00000267537-chr19_28873752_G_A                   19       28602379   \n",
       "ENSG00000287056-chr6_168100952_C_G                    6      168217032   \n",
       "ENSG00000144130-chr2_112830976_A_G                    2      112721020   \n",
       "ENSG00000119913-chr10_112484985_A_C                  10      112283400   \n",
       "\n",
       "                                     feature_end gene_name  n_samples  ...  \\\n",
       "QTL                                                                    ...   \n",
       "ENSG00000269376-chr13_112983450_T_C    113010319       NaN        277  ...   \n",
       "ENSG00000183463-chr13_27824764_C_T      27988693      URAD        277  ...   \n",
       "ENSG00000259182-chr15_101221494_A_C    101170821       NaN        277  ...   \n",
       "ENSG00000286922-chr12_127567286_A_G    127533242       NaN        277  ...   \n",
       "ENSG00000286246-chr12_129375924_C_G    129625366       NaN        277  ...   \n",
       "...                                          ...       ...        ...  ...   \n",
       "ENSG00000250842-chr5_145190494_A_T     145381670       NaN        310  ...   \n",
       "ENSG00000267537-chr19_28873752_G_A      28648303       NaN        310  ...   \n",
       "ENSG00000287056-chr6_168100952_C_G     168220262       NaN        310  ...   \n",
       "ENSG00000144130-chr2_112830976_A_G     112742879    NT5DC4        310  ...   \n",
       "ENSG00000119913-chr10_112484985_A_C    112305038     TECTB        310  ...   \n",
       "\n",
       "                                     snp_position  assessed_allele  call_rate  \\\n",
       "QTL                                                                             \n",
       "ENSG00000269376-chr13_112983450_T_C     112983450                C        1.0   \n",
       "ENSG00000183463-chr13_27824764_C_T       27824764                C        1.0   \n",
       "ENSG00000259182-chr15_101221494_A_C     101221494                A        1.0   \n",
       "ENSG00000286922-chr12_127567286_A_G     127567286                G        1.0   \n",
       "ENSG00000286246-chr12_129375924_C_G     129375924                C        1.0   \n",
       "...                                           ...              ...        ...   \n",
       "ENSG00000250842-chr5_145190494_A_T      145190494                A        1.0   \n",
       "ENSG00000267537-chr19_28873752_G_A       28873752                G        1.0   \n",
       "ENSG00000287056-chr6_168100952_C_G      168100952                C        1.0   \n",
       "ENSG00000144130-chr2_112830976_A_G      112830976                G        1.0   \n",
       "ENSG00000119913-chr10_112484985_A_C     112484985                A        1.0   \n",
       "\n",
       "                                          maf     hwe_p       feature_id  \\\n",
       "QTL                                                                        \n",
       "ENSG00000269376-chr13_112983450_T_C  0.044776  1.000000  ENSG00000269376   \n",
       "ENSG00000183463-chr13_27824764_C_T   0.089552  0.073438  ENSG00000183463   \n",
       "ENSG00000259182-chr15_101221494_A_C  0.044776  0.110206  ENSG00000259182   \n",
       "ENSG00000286922-chr12_127567286_A_G  0.074627  1.000000  ENSG00000286922   \n",
       "ENSG00000286246-chr12_129375924_C_G  0.089552  0.073438  ENSG00000286246   \n",
       "...                                       ...       ...              ...   \n",
       "ENSG00000250842-chr5_145190494_A_T   0.316176  1.000000  ENSG00000250842   \n",
       "ENSG00000267537-chr19_28873752_G_A   0.066176  0.246147  ENSG00000267537   \n",
       "ENSG00000287056-chr6_168100952_C_G   0.102941  1.000000  ENSG00000287056   \n",
       "ENSG00000144130-chr2_112830976_A_G   0.073529  1.000000  ENSG00000144130   \n",
       "ENSG00000119913-chr10_112484985_A_C  0.176471  0.674815  ENSG00000119913   \n",
       "\n",
       "                                    global_corrected_pValue  \\\n",
       "QTL                                                           \n",
       "ENSG00000269376-chr13_112983450_T_C            0.000000e+00   \n",
       "ENSG00000183463-chr13_27824764_C_T             0.000000e+00   \n",
       "ENSG00000259182-chr15_101221494_A_C            0.000000e+00   \n",
       "ENSG00000286922-chr12_127567286_A_G            0.000000e+00   \n",
       "ENSG00000286246-chr12_129375924_C_G           1.930191e-161   \n",
       "...                                                     ...   \n",
       "ENSG00000250842-chr5_145190494_A_T             4.610052e-02   \n",
       "ENSG00000267537-chr19_28873752_G_A             4.669823e-02   \n",
       "ENSG00000287056-chr6_168100952_C_G             4.858106e-02   \n",
       "ENSG00000144130-chr2_112830976_A_G             4.883123e-02   \n",
       "ENSG00000119913-chr10_112484985_A_C            4.976167e-02   \n",
       "\n",
       "                                     global_corrected_pValue_BH  \\\n",
       "QTL                                                               \n",
       "ENSG00000269376-chr13_112983450_T_C                0.000000e+00   \n",
       "ENSG00000183463-chr13_27824764_C_T                 0.000000e+00   \n",
       "ENSG00000259182-chr15_101221494_A_C                0.000000e+00   \n",
       "ENSG00000286922-chr12_127567286_A_G                0.000000e+00   \n",
       "ENSG00000286246-chr12_129375924_C_G               2.223254e-161   \n",
       "...                                                         ...   \n",
       "ENSG00000250842-chr5_145190494_A_T                 4.610052e-02   \n",
       "ENSG00000267537-chr19_28873752_G_A                 4.669823e-02   \n",
       "ENSG00000287056-chr6_168100952_C_G                 4.858106e-02   \n",
       "ENSG00000144130-chr2_112830976_A_G                 4.883123e-02   \n",
       "ENSG00000119913-chr10_112484985_A_C                4.976167e-02   \n",
       "\n",
       "                                     global_corrected_pValue_BF  \\\n",
       "QTL                                                               \n",
       "ENSG00000269376-chr13_112983450_T_C                0.000000e+00   \n",
       "ENSG00000183463-chr13_27824764_C_T                 0.000000e+00   \n",
       "ENSG00000259182-chr15_101221494_A_C                0.000000e+00   \n",
       "ENSG00000286922-chr12_127567286_A_G                0.000000e+00   \n",
       "ENSG00000286246-chr12_129375924_C_G               1.111627e-160   \n",
       "...                                                         ...   \n",
       "ENSG00000250842-chr5_145190494_A_T                 1.000000e+00   \n",
       "ENSG00000267537-chr19_28873752_G_A                 1.000000e+00   \n",
       "ENSG00000287056-chr6_168100952_C_G                 1.000000e+00   \n",
       "ENSG00000144130-chr2_112830976_A_G                 1.000000e+00   \n",
       "ENSG00000119913-chr10_112484985_A_C                1.000000e+00   \n",
       "\n",
       "                                               celltype  \n",
       "QTL                                                      \n",
       "ENSG00000269376-chr13_112983450_T_C         immature_EN  \n",
       "ENSG00000183463-chr13_27824764_C_T          immature_EN  \n",
       "ENSG00000259182-chr15_101221494_A_C         immature_EN  \n",
       "ENSG00000286922-chr12_127567286_A_G         immature_EN  \n",
       "ENSG00000286246-chr12_129375924_C_G         immature_EN  \n",
       "...                                                 ...  \n",
       "ENSG00000250842-chr5_145190494_A_T   Differentiating_RG  \n",
       "ENSG00000267537-chr19_28873752_G_A   Differentiating_RG  \n",
       "ENSG00000287056-chr6_168100952_C_G   Differentiating_RG  \n",
       "ENSG00000144130-chr2_112830976_A_G   Differentiating_RG  \n",
       "ENSG00000119913-chr10_112484985_A_C  Differentiating_RG  \n",
       "\n",
       "[2470 rows x 25 columns]"
      ]
     },
     "execution_count": 30,
     "metadata": {},
     "output_type": "execute_result"
    }
   ],
   "source": [
    "eqtls"
   ]
  },
  {
   "cell_type": "code",
   "execution_count": 31,
   "id": "fef763c5-470e-4cae-a8d0-11cb73276000",
   "metadata": {
    "execution": {
     "iopub.execute_input": "2024-10-02T09:18:43.476825Z",
     "iopub.status.busy": "2024-10-02T09:18:43.475329Z",
     "iopub.status.idle": "2024-10-02T09:18:43.485617Z",
     "shell.execute_reply": "2024-10-02T09:18:43.484616Z"
    }
   },
   "outputs": [
    {
     "data": {
      "text/plain": [
       "array(['immature_EN', 'Stressed_Prog', 'IPC', 'Glia', 'UL-EN',\n",
       "       'Midbrain_EN', 'Dividing_Glia', 'DL-EN', 'Interneurons',\n",
       "       'Stressed_Neurons', 'Differentiating_RG'], dtype=object)"
      ]
     },
     "execution_count": 31,
     "metadata": {},
     "output_type": "execute_result"
    }
   ],
   "source": [
    "eqtls['celltype'].unique()"
   ]
  },
  {
   "cell_type": "code",
   "execution_count": 32,
   "id": "6e7d5564-b094-44cb-b998-6f2fc73f5481",
   "metadata": {
    "execution": {
     "iopub.execute_input": "2024-10-02T09:18:43.489827Z",
     "iopub.status.busy": "2024-10-02T09:18:43.488672Z",
     "iopub.status.idle": "2024-10-02T09:18:43.500871Z",
     "shell.execute_reply": "2024-10-02T09:18:43.500001Z"
    }
   },
   "outputs": [
    {
     "data": {
      "text/plain": [
       "'Bulk'"
      ]
     },
     "execution_count": 32,
     "metadata": {},
     "output_type": "execute_result"
    }
   ],
   "source": [
    "cell_type_alt"
   ]
  },
  {
   "cell_type": "code",
   "execution_count": 33,
   "id": "9ee526b2-1138-4ae5-b9ae-d12fc263ccf6",
   "metadata": {
    "execution": {
     "iopub.execute_input": "2024-10-02T09:18:43.505356Z",
     "iopub.status.busy": "2024-10-02T09:18:43.504157Z",
     "iopub.status.idle": "2024-10-02T09:18:44.274219Z",
     "shell.execute_reply": "2024-10-02T09:18:44.273080Z"
    }
   },
   "outputs": [
    {
     "data": {
      "text/html": [
       "<div>\n",
       "<style scoped>\n",
       "    .dataframe tbody tr th:only-of-type {\n",
       "        vertical-align: middle;\n",
       "    }\n",
       "\n",
       "    .dataframe tbody tr th {\n",
       "        vertical-align: top;\n",
       "    }\n",
       "\n",
       "    .dataframe thead th {\n",
       "        text-align: right;\n",
       "    }\n",
       "</style>\n",
       "<table border=\"1\" class=\"dataframe\">\n",
       "  <thead>\n",
       "    <tr style=\"text-align: right;\">\n",
       "      <th></th>\n",
       "      <th>chr</th>\n",
       "      <th>start</th>\n",
       "      <th>end</th>\n",
       "      <th>id</th>\n",
       "      <th>score</th>\n",
       "      <th>strand</th>\n",
       "    </tr>\n",
       "  </thead>\n",
       "  <tbody>\n",
       "    <tr>\n",
       "      <th>89</th>\n",
       "      <td>chr1</td>\n",
       "      <td>31667956</td>\n",
       "      <td>31667957</td>\n",
       "      <td>ENSG00000203620-chr1_31667957_G_A</td>\n",
       "      <td>-0.362039</td>\n",
       "      <td>+</td>\n",
       "    </tr>\n",
       "    <tr>\n",
       "      <th>84</th>\n",
       "      <td>chr1</td>\n",
       "      <td>41152241</td>\n",
       "      <td>41152242</td>\n",
       "      <td>ENSG00000286668-chr1_41152242_C_G</td>\n",
       "      <td>-0.047192</td>\n",
       "      <td>+</td>\n",
       "    </tr>\n",
       "    <tr>\n",
       "      <th>83</th>\n",
       "      <td>chr1</td>\n",
       "      <td>41964567</td>\n",
       "      <td>41964568</td>\n",
       "      <td>ENSG00000044012-chr1_41964568_T_A</td>\n",
       "      <td>-0.015555</td>\n",
       "      <td>+</td>\n",
       "    </tr>\n",
       "    <tr>\n",
       "      <th>82</th>\n",
       "      <td>chr1</td>\n",
       "      <td>50418557</td>\n",
       "      <td>50418558</td>\n",
       "      <td>ENSG00000284645-chr1_50418558_G_C</td>\n",
       "      <td>-0.030638</td>\n",
       "      <td>+</td>\n",
       "    </tr>\n",
       "    <tr>\n",
       "      <th>88</th>\n",
       "      <td>chr1</td>\n",
       "      <td>51296414</td>\n",
       "      <td>51296415</td>\n",
       "      <td>ENSG00000227070-chr1_51296415_A_G</td>\n",
       "      <td>-0.411862</td>\n",
       "      <td>+</td>\n",
       "    </tr>\n",
       "    <tr>\n",
       "      <th>...</th>\n",
       "      <td>...</td>\n",
       "      <td>...</td>\n",
       "      <td>...</td>\n",
       "      <td>...</td>\n",
       "      <td>...</td>\n",
       "      <td>...</td>\n",
       "    </tr>\n",
       "    <tr>\n",
       "      <th>52</th>\n",
       "      <td>chr4</td>\n",
       "      <td>79528284</td>\n",
       "      <td>79528285</td>\n",
       "      <td>ENSG00000156269-chr4_79528285_AC_A</td>\n",
       "      <td>0.452924</td>\n",
       "      <td>+</td>\n",
       "    </tr>\n",
       "    <tr>\n",
       "      <th>20</th>\n",
       "      <td>chr4</td>\n",
       "      <td>89627551</td>\n",
       "      <td>89627552</td>\n",
       "      <td>ENSG00000276542-chr4_89627552_C_T</td>\n",
       "      <td>-0.000616</td>\n",
       "      <td>+</td>\n",
       "    </tr>\n",
       "    <tr>\n",
       "      <th>15</th>\n",
       "      <td>chr4</td>\n",
       "      <td>93323765</td>\n",
       "      <td>93323766</td>\n",
       "      <td>ENSG00000250908-chr4_93323766_C_T</td>\n",
       "      <td>-0.131579</td>\n",
       "      <td>+</td>\n",
       "    </tr>\n",
       "    <tr>\n",
       "      <th>4</th>\n",
       "      <td>chr4</td>\n",
       "      <td>94676404</td>\n",
       "      <td>94676405</td>\n",
       "      <td>ENSG00000249599-chr4_94676405_C_T</td>\n",
       "      <td>-0.101460</td>\n",
       "      <td>+</td>\n",
       "    </tr>\n",
       "    <tr>\n",
       "      <th>39</th>\n",
       "      <td>chr4</td>\n",
       "      <td>104535918</td>\n",
       "      <td>104535919</td>\n",
       "      <td>ENSG00000251170-chr4_104535919_G_A</td>\n",
       "      <td>-0.574284</td>\n",
       "      <td>+</td>\n",
       "    </tr>\n",
       "  </tbody>\n",
       "</table>\n",
       "<p>90 rows × 6 columns</p>\n",
       "</div>"
      ],
      "text/plain": [
       "     chr      start        end                                  id     score  \\\n",
       "89  chr1   31667956   31667957   ENSG00000203620-chr1_31667957_G_A -0.362039   \n",
       "84  chr1   41152241   41152242   ENSG00000286668-chr1_41152242_C_G -0.047192   \n",
       "83  chr1   41964567   41964568   ENSG00000044012-chr1_41964568_T_A -0.015555   \n",
       "82  chr1   50418557   50418558   ENSG00000284645-chr1_50418558_G_C -0.030638   \n",
       "88  chr1   51296414   51296415   ENSG00000227070-chr1_51296415_A_G -0.411862   \n",
       "..   ...        ...        ...                                 ...       ...   \n",
       "52  chr4   79528284   79528285  ENSG00000156269-chr4_79528285_AC_A  0.452924   \n",
       "20  chr4   89627551   89627552   ENSG00000276542-chr4_89627552_C_T -0.000616   \n",
       "15  chr4   93323765   93323766   ENSG00000250908-chr4_93323766_C_T -0.131579   \n",
       "4   chr4   94676404   94676405   ENSG00000249599-chr4_94676405_C_T -0.101460   \n",
       "39  chr4  104535918  104535919  ENSG00000251170-chr4_104535919_G_A -0.574284   \n",
       "\n",
       "   strand  \n",
       "89      +  \n",
       "84      +  \n",
       "83      +  \n",
       "82      +  \n",
       "88      +  \n",
       "..    ...  \n",
       "52      +  \n",
       "20      +  \n",
       "15      +  \n",
       "4       +  \n",
       "39      +  \n",
       "\n",
       "[90 rows x 6 columns]"
      ]
     },
     "execution_count": 33,
     "metadata": {},
     "output_type": "execute_result"
    }
   ],
   "source": [
    "# Make eQTL bed file\n",
    "\n",
    "eqtls_bed = eqtls[['snp_chromosome', 'snp_position', 'beta', 'celltype']].copy()\n",
    "\n",
    "# Filter out 'Discard' marked cell-types\n",
    "eqtls_bed = eqtls_bed[eqtls_bed['celltype'].isin(ct_map_alt['Discard'])].copy()\n",
    "\n",
    "eqtls_bed['start'] = eqtls_bed['snp_position'] - 1 # Make index 0-based open\n",
    "eqtls_bed['strand'] = '+'\n",
    "eqtls_bed.reset_index(inplace=True)\n",
    "eqtls_bed['chr'] = 'chr' + eqtls_bed['snp_chromosome'].astype(str)\n",
    "eqtls_bed = eqtls_bed.rename(columns={'snp_position': 'end', 'QTL': 'id', 'beta': 'score'})\n",
    "\n",
    "eqtls_bed = eqtls_bed[['chr', 'start', 'end', 'id', 'score', 'strand']].sort_values(by=['chr', 'start'], ascending=[True, True])\n",
    "        \n",
    "eqtls_bed_path = f'data/intermediate-data/datasets/{DATASET_ID}/matrix-eQTL_io/eQTLs/{ct_map_id}/eQTLs_{cell_type}.tsv'\n",
    "\n",
    "create_folder(os.path.dirname(os.path.abspath(eqtls_bed_path)))\n",
    "\n",
    "eqtls_bed.to_csv(eqtls_bed_path, sep='\\t', header=False, index=False)\n",
    "\n",
    "eqtls_bed"
   ]
  },
  {
   "cell_type": "markdown",
   "id": "a3b671ea-0062-4e6a-8310-e35419457a62",
   "metadata": {},
   "source": [
    "### Make peaks bed file"
   ]
  },
  {
   "cell_type": "code",
   "execution_count": 34,
   "id": "5d67e6c5-2747-4551-9c6e-e968025927f0",
   "metadata": {
    "execution": {
     "iopub.execute_input": "2024-10-02T09:18:44.281976Z",
     "iopub.status.busy": "2024-10-02T09:18:44.280046Z",
     "iopub.status.idle": "2024-10-02T09:18:46.463859Z",
     "shell.execute_reply": "2024-10-02T09:18:46.462722Z"
    }
   },
   "outputs": [
    {
     "name": "stdout",
     "output_type": "stream",
     "text": [
      "736845\n"
     ]
    },
    {
     "data": {
      "text/html": [
       "<div>\n",
       "<style scoped>\n",
       "    .dataframe tbody tr th:only-of-type {\n",
       "        vertical-align: middle;\n",
       "    }\n",
       "\n",
       "    .dataframe tbody tr th {\n",
       "        vertical-align: top;\n",
       "    }\n",
       "\n",
       "    .dataframe thead th {\n",
       "        text-align: right;\n",
       "    }\n",
       "</style>\n",
       "<table border=\"1\" class=\"dataframe\">\n",
       "  <thead>\n",
       "    <tr style=\"text-align: right;\">\n",
       "      <th></th>\n",
       "      <th>chr</th>\n",
       "      <th>start</th>\n",
       "      <th>end</th>\n",
       "      <th>peak_name</th>\n",
       "      <th>score</th>\n",
       "      <th>strand</th>\n",
       "    </tr>\n",
       "    <tr>\n",
       "      <th>peak_name</th>\n",
       "      <th></th>\n",
       "      <th></th>\n",
       "      <th></th>\n",
       "      <th></th>\n",
       "      <th></th>\n",
       "      <th></th>\n",
       "    </tr>\n",
       "  </thead>\n",
       "  <tbody>\n",
       "    <tr>\n",
       "      <th>chr1:804695:805195:501:*:1</th>\n",
       "      <td>chr1</td>\n",
       "      <td>804694</td>\n",
       "      <td>805195</td>\n",
       "      <td>chr1:804695:805195:501:*:1</td>\n",
       "      <td>3.01127</td>\n",
       "      <td>+</td>\n",
       "    </tr>\n",
       "    <tr>\n",
       "      <th>chr1:811018:811518:501:*:2</th>\n",
       "      <td>chr1</td>\n",
       "      <td>811017</td>\n",
       "      <td>811518</td>\n",
       "      <td>chr1:811018:811518:501:*:2</td>\n",
       "      <td>17.72120</td>\n",
       "      <td>+</td>\n",
       "    </tr>\n",
       "    <tr>\n",
       "      <th>chr1:817077:817577:501:*:3</th>\n",
       "      <td>chr1</td>\n",
       "      <td>817076</td>\n",
       "      <td>817577</td>\n",
       "      <td>chr1:817077:817577:501:*:3</td>\n",
       "      <td>19.46110</td>\n",
       "      <td>+</td>\n",
       "    </tr>\n",
       "    <tr>\n",
       "      <th>chr1:817816:818316:501:*:4</th>\n",
       "      <td>chr1</td>\n",
       "      <td>817815</td>\n",
       "      <td>818316</td>\n",
       "      <td>chr1:817816:818316:501:*:4</td>\n",
       "      <td>10.06330</td>\n",
       "      <td>+</td>\n",
       "    </tr>\n",
       "    <tr>\n",
       "      <th>chr1:819782:820282:501:*:5</th>\n",
       "      <td>chr1</td>\n",
       "      <td>819781</td>\n",
       "      <td>820282</td>\n",
       "      <td>chr1:819782:820282:501:*:5</td>\n",
       "      <td>2.71269</td>\n",
       "      <td>+</td>\n",
       "    </tr>\n",
       "    <tr>\n",
       "      <th>...</th>\n",
       "      <td>...</td>\n",
       "      <td>...</td>\n",
       "      <td>...</td>\n",
       "      <td>...</td>\n",
       "      <td>...</td>\n",
       "      <td>...</td>\n",
       "    </tr>\n",
       "    <tr>\n",
       "      <th>chrX:155891803:155892303:501:*:19674</th>\n",
       "      <td>chrX</td>\n",
       "      <td>155891802</td>\n",
       "      <td>155892303</td>\n",
       "      <td>chrX:155891803:155892303:501:*:19674</td>\n",
       "      <td>11.25430</td>\n",
       "      <td>+</td>\n",
       "    </tr>\n",
       "    <tr>\n",
       "      <th>chrX:155941826:155942326:501:*:19675</th>\n",
       "      <td>chrX</td>\n",
       "      <td>155941825</td>\n",
       "      <td>155942326</td>\n",
       "      <td>chrX:155941826:155942326:501:*:19675</td>\n",
       "      <td>9.46511</td>\n",
       "      <td>+</td>\n",
       "    </tr>\n",
       "    <tr>\n",
       "      <th>chrX:155956608:155957108:501:*:19676</th>\n",
       "      <td>chrX</td>\n",
       "      <td>155956607</td>\n",
       "      <td>155957108</td>\n",
       "      <td>chrX:155956608:155957108:501:*:19676</td>\n",
       "      <td>42.66500</td>\n",
       "      <td>+</td>\n",
       "    </tr>\n",
       "    <tr>\n",
       "      <th>chrX:155959222:155959722:501:*:19677</th>\n",
       "      <td>chrX</td>\n",
       "      <td>155959221</td>\n",
       "      <td>155959722</td>\n",
       "      <td>chrX:155959222:155959722:501:*:19677</td>\n",
       "      <td>7.84954</td>\n",
       "      <td>+</td>\n",
       "    </tr>\n",
       "    <tr>\n",
       "      <th>chrX:155966839:155967339:501:*:19678</th>\n",
       "      <td>chrX</td>\n",
       "      <td>155966838</td>\n",
       "      <td>155967339</td>\n",
       "      <td>chrX:155966839:155967339:501:*:19678</td>\n",
       "      <td>9.09441</td>\n",
       "      <td>+</td>\n",
       "    </tr>\n",
       "  </tbody>\n",
       "</table>\n",
       "<p>736845 rows × 6 columns</p>\n",
       "</div>"
      ],
      "text/plain": [
       "                                       chr      start        end  \\\n",
       "peak_name                                                          \n",
       "chr1:804695:805195:501:*:1            chr1     804694     805195   \n",
       "chr1:811018:811518:501:*:2            chr1     811017     811518   \n",
       "chr1:817077:817577:501:*:3            chr1     817076     817577   \n",
       "chr1:817816:818316:501:*:4            chr1     817815     818316   \n",
       "chr1:819782:820282:501:*:5            chr1     819781     820282   \n",
       "...                                    ...        ...        ...   \n",
       "chrX:155891803:155892303:501:*:19674  chrX  155891802  155892303   \n",
       "chrX:155941826:155942326:501:*:19675  chrX  155941825  155942326   \n",
       "chrX:155956608:155957108:501:*:19676  chrX  155956607  155957108   \n",
       "chrX:155959222:155959722:501:*:19677  chrX  155959221  155959722   \n",
       "chrX:155966839:155967339:501:*:19678  chrX  155966838  155967339   \n",
       "\n",
       "                                                                 peak_name  \\\n",
       "peak_name                                                                    \n",
       "chr1:804695:805195:501:*:1                      chr1:804695:805195:501:*:1   \n",
       "chr1:811018:811518:501:*:2                      chr1:811018:811518:501:*:2   \n",
       "chr1:817077:817577:501:*:3                      chr1:817077:817577:501:*:3   \n",
       "chr1:817816:818316:501:*:4                      chr1:817816:818316:501:*:4   \n",
       "chr1:819782:820282:501:*:5                      chr1:819782:820282:501:*:5   \n",
       "...                                                                    ...   \n",
       "chrX:155891803:155892303:501:*:19674  chrX:155891803:155892303:501:*:19674   \n",
       "chrX:155941826:155942326:501:*:19675  chrX:155941826:155942326:501:*:19675   \n",
       "chrX:155956608:155957108:501:*:19676  chrX:155956608:155957108:501:*:19676   \n",
       "chrX:155959222:155959722:501:*:19677  chrX:155959222:155959722:501:*:19677   \n",
       "chrX:155966839:155967339:501:*:19678  chrX:155966839:155967339:501:*:19678   \n",
       "\n",
       "                                         score strand  \n",
       "peak_name                                              \n",
       "chr1:804695:805195:501:*:1             3.01127      +  \n",
       "chr1:811018:811518:501:*:2            17.72120      +  \n",
       "chr1:817077:817577:501:*:3            19.46110      +  \n",
       "chr1:817816:818316:501:*:4            10.06330      +  \n",
       "chr1:819782:820282:501:*:5             2.71269      +  \n",
       "...                                        ...    ...  \n",
       "chrX:155891803:155892303:501:*:19674  11.25430      +  \n",
       "chrX:155941826:155942326:501:*:19675   9.46511      +  \n",
       "chrX:155956608:155957108:501:*:19676  42.66500      +  \n",
       "chrX:155959222:155959722:501:*:19677   7.84954      +  \n",
       "chrX:155966839:155967339:501:*:19678   9.09441      +  \n",
       "\n",
       "[736845 rows x 6 columns]"
      ]
     },
     "execution_count": 34,
     "metadata": {},
     "output_type": "execute_result"
    }
   ],
   "source": [
    "peaks_bed = borgs_tile_mat.var[['chr', 'start', 'end', 'peak_name', 'score']].copy()\n",
    "peaks_bed['start'] = peaks_bed['start'] - 1\n",
    "peaks_bed['strand'] = '+'\n",
    "\n",
    "peaks_bed_path = f'data/intermediate-data/datasets/{DATASET_ID}/matrix-eQTL_io/chromatin_accessibility/peaks/{ct_map_id}/{cell_type}.bed'\n",
    "\n",
    "create_folder(os.path.dirname(os.path.abspath(peaks_bed_path)))\n",
    "\n",
    "peaks_bed.to_csv(peaks_bed_path, sep='\\t', header=False, index=False)\n",
    "\n",
    "print(len(peaks_bed))\n",
    "peaks_bed"
   ]
  },
  {
   "cell_type": "markdown",
   "id": "735c3f4e-2a19-40be-ae38-79112fa041d4",
   "metadata": {
    "tags": []
   },
   "source": [
    "### Peaks intersecting w eQTLs"
   ]
  },
  {
   "cell_type": "code",
   "execution_count": 35,
   "id": "b244b51d-5b7c-4671-aceb-fa19b8e6be37",
   "metadata": {
    "execution": {
     "iopub.execute_input": "2024-10-02T09:18:46.471369Z",
     "iopub.status.busy": "2024-10-02T09:18:46.469463Z",
     "iopub.status.idle": "2024-10-02T09:18:49.689236Z",
     "shell.execute_reply": "2024-10-02T09:18:49.688300Z"
    }
   },
   "outputs": [],
   "source": [
    "try:\n",
    "    result = subprocess.run([bedtools_bin, 'intersect' , '-a', peaks_bed_path, '-b', eqtls_bed_path, '-u'], text=True, capture_output=True)\n",
    "\n",
    "    # with open(f'data/datasets/hca_brain-organoids_processed/chromatin_accessibility/peaks_{cell_type}_filt-eqtls.bed', 'w') as f:\n",
    "        # f.write(result.stdout)\n",
    "\n",
    "    peaks_eqtl = set([i.split('\\t')[3] for i in result.stdout.split('\\n')[:-1]])\n",
    "    \n",
    "except subprocess.CalledProcessError as e:\n",
    "    \n",
    "    print(f\"Command failed with error: {e.stderr}\")"
   ]
  },
  {
   "cell_type": "markdown",
   "id": "5916468c-1c95-4740-8bcc-ae6ad1f942aa",
   "metadata": {},
   "source": [
    "### Peaks filter: close to eGenes"
   ]
  },
  {
   "cell_type": "code",
   "execution_count": 36,
   "id": "5720314d-c2da-4d80-95b1-4598c74eced8",
   "metadata": {
    "execution": {
     "iopub.execute_input": "2024-10-02T09:18:49.692985Z",
     "iopub.status.busy": "2024-10-02T09:18:49.692766Z",
     "iopub.status.idle": "2024-10-02T09:18:49.700001Z",
     "shell.execute_reply": "2024-10-02T09:18:49.699296Z"
    }
   },
   "outputs": [],
   "source": [
    "eGenes = set(eqtls.loc[~eqtls['gene_name'].isna(), 'gene_name'].unique())"
   ]
  },
  {
   "cell_type": "code",
   "execution_count": 37,
   "id": "f3024463-0749-4c42-a665-dc0774f9fd6d",
   "metadata": {
    "execution": {
     "iopub.execute_input": "2024-10-02T09:18:49.704293Z",
     "iopub.status.busy": "2024-10-02T09:18:49.703009Z",
     "iopub.status.idle": "2024-10-02T09:18:49.966079Z",
     "shell.execute_reply": "2024-10-02T09:18:49.964902Z"
    }
   },
   "outputs": [
    {
     "data": {
      "text/plain": [
       "1204"
      ]
     },
     "execution_count": 37,
     "metadata": {},
     "output_type": "execute_result"
    }
   ],
   "source": [
    "len(eGenes)"
   ]
  },
  {
   "cell_type": "code",
   "execution_count": 38,
   "id": "647965f8-bc3c-43f4-b9ee-7d99f7938352",
   "metadata": {
    "execution": {
     "iopub.execute_input": "2024-10-02T09:18:49.975100Z",
     "iopub.status.busy": "2024-10-02T09:18:49.972726Z",
     "iopub.status.idle": "2024-10-02T09:18:50.021415Z",
     "shell.execute_reply": "2024-10-02T09:18:50.020483Z"
    }
   },
   "outputs": [
    {
     "data": {
      "text/plain": [
       "33062"
      ]
     },
     "execution_count": 38,
     "metadata": {},
     "output_type": "execute_result"
    }
   ],
   "source": [
    "peaks_eGenes = set(borgs_tile_mat.var[borgs_tile_mat.var['nearest_gene'].isin(eGenes)].index)\n",
    "\n",
    "len(peaks_eGenes)"
   ]
  },
  {
   "cell_type": "code",
   "execution_count": 39,
   "id": "997c6382-fede-40b2-bf63-9f4b30197892",
   "metadata": {
    "execution": {
     "iopub.execute_input": "2024-10-02T09:18:50.027660Z",
     "iopub.status.busy": "2024-10-02T09:18:50.025986Z",
     "iopub.status.idle": "2024-10-02T09:18:50.032462Z",
     "shell.execute_reply": "2024-10-02T09:18:50.031554Z"
    },
    "tags": []
   },
   "outputs": [],
   "source": [
    "del borgs_tile_mat"
   ]
  },
  {
   "cell_type": "markdown",
   "id": "6cccea3d-9225-45d7-b44a-a85b22eff65d",
   "metadata": {},
   "source": [
    "# Cell-type level analysis"
   ]
  },
  {
   "cell_type": "markdown",
   "id": "48938ffc-5806-4d70-8d67-1e3b2891be09",
   "metadata": {},
   "source": [
    "### Peak filter: HVPeaks"
   ]
  },
  {
   "cell_type": "code",
   "execution_count": 40,
   "id": "76d3b5d4-ded1-40bd-ab58-dc467cd9cb2b",
   "metadata": {
    "execution": {
     "iopub.execute_input": "2024-10-02T09:18:50.039455Z",
     "iopub.status.busy": "2024-10-02T09:18:50.037680Z",
     "iopub.status.idle": "2024-10-02T09:19:15.815887Z",
     "shell.execute_reply": "2024-10-02T09:19:15.815099Z"
    },
    "tags": []
   },
   "outputs": [
    {
     "data": {
      "text/plain": [
       "210857"
      ]
     },
     "execution_count": 40,
     "metadata": {},
     "output_type": "execute_result"
    }
   ],
   "source": [
    "# Remove batches w with min cell nr\n",
    "cell_counts_per_donor_batch = caPeaks_1ct.obs.groupby('batch').transform('size')\n",
    "ca_1ct_batch_filtered = caPeaks_1ct[cell_counts_per_donor_batch >= 10, :].copy()\n",
    "sum(cell_counts_per_donor_batch >= 10)"
   ]
  },
  {
   "cell_type": "code",
   "execution_count": 41,
   "id": "0c966b7e-1ac1-4d29-845a-2e91b918889f",
   "metadata": {
    "execution": {
     "iopub.execute_input": "2024-10-02T09:19:15.819802Z",
     "iopub.status.busy": "2024-10-02T09:19:15.818826Z",
     "iopub.status.idle": "2024-10-02T09:28:18.862887Z",
     "shell.execute_reply": "2024-10-02T09:28:18.862047Z"
    }
   },
   "outputs": [
    {
     "name": "stderr",
     "output_type": "stream",
     "text": [
      "/home/fichtner/.conda/envs/ian/lib/python3.9/site-packages/scanpy/preprocessing/_highly_variable_genes.py:383: UserWarning: `n_top_genes` > number of normalized dispersions, returning all genes with normalized dispersions.\n",
      "  warnings.warn(msg, UserWarning)\n"
     ]
    },
    {
     "name": "stderr",
     "output_type": "stream",
     "text": [
      "/home/fichtner/.conda/envs/ian/lib/python3.9/site-packages/scanpy/preprocessing/_highly_variable_genes.py:383: UserWarning: `n_top_genes` > number of normalized dispersions, returning all genes with normalized dispersions.\n",
      "  warnings.warn(msg, UserWarning)\n"
     ]
    },
    {
     "name": "stderr",
     "output_type": "stream",
     "text": [
      "/home/fichtner/.conda/envs/ian/lib/python3.9/site-packages/scanpy/preprocessing/_highly_variable_genes.py:383: UserWarning: `n_top_genes` > number of normalized dispersions, returning all genes with normalized dispersions.\n",
      "  warnings.warn(msg, UserWarning)\n"
     ]
    },
    {
     "name": "stderr",
     "output_type": "stream",
     "text": [
      "/home/fichtner/.conda/envs/ian/lib/python3.9/site-packages/scanpy/preprocessing/_highly_variable_genes.py:383: UserWarning: `n_top_genes` > number of normalized dispersions, returning all genes with normalized dispersions.\n",
      "  warnings.warn(msg, UserWarning)\n"
     ]
    },
    {
     "name": "stderr",
     "output_type": "stream",
     "text": [
      "/home/fichtner/.conda/envs/ian/lib/python3.9/site-packages/scanpy/preprocessing/_highly_variable_genes.py:383: UserWarning: `n_top_genes` > number of normalized dispersions, returning all genes with normalized dispersions.\n",
      "  warnings.warn(msg, UserWarning)\n"
     ]
    },
    {
     "name": "stderr",
     "output_type": "stream",
     "text": [
      "/home/fichtner/.conda/envs/ian/lib/python3.9/site-packages/scanpy/preprocessing/_highly_variable_genes.py:383: UserWarning: `n_top_genes` > number of normalized dispersions, returning all genes with normalized dispersions.\n",
      "  warnings.warn(msg, UserWarning)\n"
     ]
    },
    {
     "name": "stderr",
     "output_type": "stream",
     "text": [
      "/home/fichtner/.conda/envs/ian/lib/python3.9/site-packages/scanpy/preprocessing/_highly_variable_genes.py:383: UserWarning: `n_top_genes` > number of normalized dispersions, returning all genes with normalized dispersions.\n",
      "  warnings.warn(msg, UserWarning)\n"
     ]
    },
    {
     "name": "stderr",
     "output_type": "stream",
     "text": [
      "/home/fichtner/.conda/envs/ian/lib/python3.9/site-packages/scanpy/preprocessing/_highly_variable_genes.py:383: UserWarning: `n_top_genes` > number of normalized dispersions, returning all genes with normalized dispersions.\n",
      "  warnings.warn(msg, UserWarning)\n"
     ]
    },
    {
     "name": "stderr",
     "output_type": "stream",
     "text": [
      "/home/fichtner/.conda/envs/ian/lib/python3.9/site-packages/scanpy/preprocessing/_highly_variable_genes.py:383: UserWarning: `n_top_genes` > number of normalized dispersions, returning all genes with normalized dispersions.\n",
      "  warnings.warn(msg, UserWarning)\n"
     ]
    },
    {
     "name": "stderr",
     "output_type": "stream",
     "text": [
      "/home/fichtner/.conda/envs/ian/lib/python3.9/site-packages/scanpy/preprocessing/_highly_variable_genes.py:383: UserWarning: `n_top_genes` > number of normalized dispersions, returning all genes with normalized dispersions.\n",
      "  warnings.warn(msg, UserWarning)\n"
     ]
    },
    {
     "name": "stderr",
     "output_type": "stream",
     "text": [
      "/home/fichtner/.conda/envs/ian/lib/python3.9/site-packages/scanpy/preprocessing/_highly_variable_genes.py:383: UserWarning: `n_top_genes` > number of normalized dispersions, returning all genes with normalized dispersions.\n",
      "  warnings.warn(msg, UserWarning)\n"
     ]
    },
    {
     "name": "stderr",
     "output_type": "stream",
     "text": [
      "/home/fichtner/.conda/envs/ian/lib/python3.9/site-packages/scanpy/preprocessing/_highly_variable_genes.py:383: UserWarning: `n_top_genes` > number of normalized dispersions, returning all genes with normalized dispersions.\n",
      "  warnings.warn(msg, UserWarning)\n"
     ]
    },
    {
     "name": "stderr",
     "output_type": "stream",
     "text": [
      "/home/fichtner/.conda/envs/ian/lib/python3.9/site-packages/scanpy/preprocessing/_highly_variable_genes.py:383: UserWarning: `n_top_genes` > number of normalized dispersions, returning all genes with normalized dispersions.\n",
      "  warnings.warn(msg, UserWarning)\n"
     ]
    },
    {
     "name": "stderr",
     "output_type": "stream",
     "text": [
      "/home/fichtner/.conda/envs/ian/lib/python3.9/site-packages/scanpy/preprocessing/_highly_variable_genes.py:383: UserWarning: `n_top_genes` > number of normalized dispersions, returning all genes with normalized dispersions.\n",
      "  warnings.warn(msg, UserWarning)\n"
     ]
    },
    {
     "name": "stderr",
     "output_type": "stream",
     "text": [
      "/home/fichtner/.conda/envs/ian/lib/python3.9/site-packages/scanpy/preprocessing/_highly_variable_genes.py:383: UserWarning: `n_top_genes` > number of normalized dispersions, returning all genes with normalized dispersions.\n",
      "  warnings.warn(msg, UserWarning)\n"
     ]
    },
    {
     "name": "stderr",
     "output_type": "stream",
     "text": [
      "/home/fichtner/.conda/envs/ian/lib/python3.9/site-packages/scanpy/preprocessing/_highly_variable_genes.py:383: UserWarning: `n_top_genes` > number of normalized dispersions, returning all genes with normalized dispersions.\n",
      "  warnings.warn(msg, UserWarning)\n"
     ]
    },
    {
     "name": "stderr",
     "output_type": "stream",
     "text": [
      "/home/fichtner/.conda/envs/ian/lib/python3.9/site-packages/scanpy/preprocessing/_highly_variable_genes.py:383: UserWarning: `n_top_genes` > number of normalized dispersions, returning all genes with normalized dispersions.\n",
      "  warnings.warn(msg, UserWarning)\n"
     ]
    },
    {
     "name": "stderr",
     "output_type": "stream",
     "text": [
      "/home/fichtner/.conda/envs/ian/lib/python3.9/site-packages/scanpy/preprocessing/_highly_variable_genes.py:383: UserWarning: `n_top_genes` > number of normalized dispersions, returning all genes with normalized dispersions.\n",
      "  warnings.warn(msg, UserWarning)\n"
     ]
    },
    {
     "name": "stderr",
     "output_type": "stream",
     "text": [
      "/home/fichtner/.conda/envs/ian/lib/python3.9/site-packages/scanpy/preprocessing/_highly_variable_genes.py:383: UserWarning: `n_top_genes` > number of normalized dispersions, returning all genes with normalized dispersions.\n",
      "  warnings.warn(msg, UserWarning)\n"
     ]
    },
    {
     "name": "stderr",
     "output_type": "stream",
     "text": [
      "/home/fichtner/.conda/envs/ian/lib/python3.9/site-packages/scanpy/preprocessing/_highly_variable_genes.py:383: UserWarning: `n_top_genes` > number of normalized dispersions, returning all genes with normalized dispersions.\n",
      "  warnings.warn(msg, UserWarning)\n"
     ]
    },
    {
     "name": "stderr",
     "output_type": "stream",
     "text": [
      "/home/fichtner/.conda/envs/ian/lib/python3.9/site-packages/scanpy/preprocessing/_highly_variable_genes.py:383: UserWarning: `n_top_genes` > number of normalized dispersions, returning all genes with normalized dispersions.\n",
      "  warnings.warn(msg, UserWarning)\n"
     ]
    },
    {
     "name": "stderr",
     "output_type": "stream",
     "text": [
      "/home/fichtner/.conda/envs/ian/lib/python3.9/site-packages/scanpy/preprocessing/_highly_variable_genes.py:383: UserWarning: `n_top_genes` > number of normalized dispersions, returning all genes with normalized dispersions.\n",
      "  warnings.warn(msg, UserWarning)\n"
     ]
    },
    {
     "name": "stderr",
     "output_type": "stream",
     "text": [
      "/home/fichtner/.conda/envs/ian/lib/python3.9/site-packages/scanpy/preprocessing/_highly_variable_genes.py:383: UserWarning: `n_top_genes` > number of normalized dispersions, returning all genes with normalized dispersions.\n",
      "  warnings.warn(msg, UserWarning)\n"
     ]
    },
    {
     "data": {
      "image/png": "[encoded data removed]",
      "text/plain": [
       "<Figure size 1280x480 with 2 Axes>"
      ]
     },
     "metadata": {},
     "output_type": "display_data"
    }
   ],
   "source": [
    "# Seurat (expect log)\n",
    "sc.pp.highly_variable_genes(ca_1ct_batch_filtered, flavor='seurat', batch_key='batch', n_top_genes=ca_1ct_batch_filtered.n_vars)\n",
    "sc.pl.highly_variable_genes(ca_1ct_batch_filtered)"
   ]
  },
  {
   "cell_type": "code",
   "execution_count": 42,
   "id": "f72728ff-16ad-40ba-bc9c-924edba371f5",
   "metadata": {
    "execution": {
     "iopub.execute_input": "2024-10-02T09:28:18.866984Z",
     "iopub.status.busy": "2024-10-02T09:28:18.866761Z",
     "iopub.status.idle": "2024-10-02T09:28:19.631089Z",
     "shell.execute_reply": "2024-10-02T09:28:19.630324Z"
    }
   },
   "outputs": [],
   "source": [
    "# Extract top n HVPs\n",
    "merge = pd.merge(ca_1ct_batch_filtered.var['means'].to_frame(),\n",
    "              ca_1ct_batch_filtered.var['highly_variable_nbatches'].to_frame(),\n",
    "              left_index=True,\n",
    "              right_index=True,\n",
    "              how='inner')\n",
    "\n",
    "merge = pd.merge(merge,\n",
    "              ca_1ct_batch_filtered.var['dispersions_norm'].abs().to_frame(),\n",
    "              left_index=True,\n",
    "              right_index=True,\n",
    "              how='inner')\n",
    "\n",
    "merge = merge[(merge['means'] > min_mean_acells) & (merge['means'] < max_mean_acells)]\n",
    "\n",
    "merge = merge.sort_values(by=['highly_variable_nbatches', 'dispersions_norm'], ascending=[False, False])\n",
    "peaks_hvp = set(merge[0:n_top_hvps].index)"
   ]
  },
  {
   "cell_type": "code",
   "execution_count": 43,
   "id": "7f4e1847-59fa-4716-8d6d-b5312de17dea",
   "metadata": {
    "execution": {
     "iopub.execute_input": "2024-10-02T09:28:19.635391Z",
     "iopub.status.busy": "2024-10-02T09:28:19.634402Z",
     "iopub.status.idle": "2024-10-02T09:28:19.638769Z",
     "shell.execute_reply": "2024-10-02T09:28:19.638125Z"
    }
   },
   "outputs": [],
   "source": [
    "# peaks_hvp = set(ca_1ct_batch_filtered.var[ca_1ct_batch_filtered.var['highly_variable']].index)"
   ]
  },
  {
   "cell_type": "code",
   "execution_count": 44,
   "id": "9d2d6969-cfa4-4f01-9957-d44eb6836c27",
   "metadata": {
    "execution": {
     "iopub.execute_input": "2024-10-02T09:28:19.642975Z",
     "iopub.status.busy": "2024-10-02T09:28:19.641923Z",
     "iopub.status.idle": "2024-10-02T09:28:19.656404Z",
     "shell.execute_reply": "2024-10-02T09:28:19.655791Z"
    }
   },
   "outputs": [],
   "source": [
    "# from scipy.sparse import issparse\n",
    "\n",
    "# # Convert sparse matrix to dense format if necessary\n",
    "# data_matrix = caPeaks_1ct.X.toarray() if issparse(caPeaks_1ct.X) else caPeaks_1ct.X\n",
    "\n",
    "# # Check for NaN values\n",
    "# print(\"Number of NaN values in data:\", np.isnan(data_matrix).sum())\n",
    "\n",
    "# # Check for infinite values\n",
    "# print(\"Number of infinite values in data:\", np.isinf(data_matrix).sum())\n",
    "\n",
    "# # Check for rows with all zeros (optimized for sparse matrices)\n",
    "# if issparse(caPeaks_1ct.X):\n",
    "#     zero_rows = np.array((caPeaks_1ct.X != 0).sum(axis=1)).flatten() == 030686794\n",
    "# else:\n",
    "#     zero_rows = np.sum(data_matrix == 0, axis=1) == data_matrix.shape[1]\n",
    "\n",
    "# print(\"Number of rows with all zero values:\", zero_rows.sum())"
   ]
  },
  {
   "cell_type": "code",
   "execution_count": 45,
   "id": "8559b2dc-97c3-424a-94fb-64142e6158af",
   "metadata": {
    "execution": {
     "iopub.execute_input": "2024-10-02T09:28:19.660586Z",
     "iopub.status.busy": "2024-10-02T09:28:19.659549Z",
     "iopub.status.idle": "2024-10-02T09:28:19.673845Z",
     "shell.execute_reply": "2024-10-02T09:28:19.673071Z"
    }
   },
   "outputs": [],
   "source": [
    "del ca_1ct_batch_filtered"
   ]
  },
  {
   "cell_type": "markdown",
   "id": "24c85214-d263-49a9-aca3-caac8f1297ff",
   "metadata": {
    "tags": []
   },
   "source": [
    "## Peaks filter: min mean across donors"
   ]
  },
  {
   "cell_type": "code",
   "execution_count": 46,
   "id": "fa23c04f-5a93-42f7-bca8-6670244cc026",
   "metadata": {
    "execution": {
     "iopub.execute_input": "2024-10-02T09:28:19.678071Z",
     "iopub.status.busy": "2024-10-02T09:28:19.677053Z",
     "iopub.status.idle": "2024-10-02T09:28:20.016705Z",
     "shell.execute_reply": "2024-10-02T09:28:20.016070Z"
    }
   },
   "outputs": [],
   "source": [
    "agg_mean = agg_df.mean()"
   ]
  },
  {
   "cell_type": "code",
   "execution_count": 47,
   "id": "e037af6a-9123-401e-b4e3-167f5c84cfcb",
   "metadata": {
    "execution": {
     "iopub.execute_input": "2024-10-02T09:28:20.021167Z",
     "iopub.status.busy": "2024-10-02T09:28:20.019956Z",
     "iopub.status.idle": "2024-10-02T09:28:20.049252Z",
     "shell.execute_reply": "2024-10-02T09:28:20.048620Z"
    }
   },
   "outputs": [
    {
     "data": {
      "text/plain": [
       "count    736845.000000\n",
       "mean          0.007412\n",
       "std           0.020659\n",
       "min           0.000042\n",
       "25%           0.001362\n",
       "50%           0.002416\n",
       "75%           0.005141\n",
       "max           0.584630\n",
       "dtype: float64"
      ]
     },
     "execution_count": 47,
     "metadata": {},
     "output_type": "execute_result"
    }
   ],
   "source": [
    "agg_mean.describe()"
   ]
  },
  {
   "cell_type": "code",
   "execution_count": 48,
   "id": "eb584fc9-eb70-4ffb-b0ef-36415f5b7108",
   "metadata": {
    "execution": {
     "iopub.execute_input": "2024-10-02T09:28:20.052889Z",
     "iopub.status.busy": "2024-10-02T09:28:20.051915Z",
     "iopub.status.idle": "2024-10-02T09:28:22.615174Z",
     "shell.execute_reply": "2024-10-02T09:28:22.614482Z"
    }
   },
   "outputs": [
    {
     "data": {
      "text/plain": [
       "<Axes: title={'center': 'Peak mean across donors distr.'}, ylabel='#'>"
      ]
     },
     "execution_count": 48,
     "metadata": {},
     "output_type": "execute_result"
    },
    {
     "data": {
      "image/png": "[encoded data removed]",
      "text/plain": [
       "<Figure size 640x480 with 1 Axes>"
      ]
     },
     "metadata": {},
     "output_type": "display_data"
    }
   ],
   "source": [
    "agg_mean.plot(kind='hist',\n",
    "              bins=300, title=\"Peak mean across donors distr.\",\n",
    "              xlabel=\"\",\n",
    "              ylabel=\"#\")"
   ]
  },
  {
   "cell_type": "code",
   "execution_count": 49,
   "id": "19a0ca73-437a-4d98-8f30-faf860e575bc",
   "metadata": {
    "execution": {
     "iopub.execute_input": "2024-10-02T09:28:22.619120Z",
     "iopub.status.busy": "2024-10-02T09:28:22.618137Z",
     "iopub.status.idle": "2024-10-02T09:28:22.920580Z",
     "shell.execute_reply": "2024-10-02T09:28:22.919922Z"
    }
   },
   "outputs": [
    {
     "data": {
      "text/plain": [
       "<Axes: title={'center': 'Peak mean across donors ZOOM distr.'}, ylabel='#'>"
      ]
     },
     "execution_count": 49,
     "metadata": {},
     "output_type": "execute_result"
    },
    {
     "data": {
      "image/png": "[encoded data removed]",
      "text/plain": [
       "<Figure size 640x480 with 1 Axes>"
      ]
     },
     "metadata": {},
     "output_type": "display_data"
    }
   ],
   "source": [
    "agg_mean.plot(kind='hist', \n",
    "              bins=np.linspace(0, 0.015, 31),\n",
    "              title=\"Peak mean across donors ZOOM distr.\",\n",
    "              xlabel=\"\",\n",
    "              ylabel=\"#\")"
   ]
  },
  {
   "cell_type": "code",
   "execution_count": 50,
   "id": "6e992d3a-cfbe-4747-a397-686104e52828",
   "metadata": {
    "execution": {
     "iopub.execute_input": "2024-10-02T09:28:22.924451Z",
     "iopub.status.busy": "2024-10-02T09:28:22.923468Z",
     "iopub.status.idle": "2024-10-02T09:28:34.646579Z",
     "shell.execute_reply": "2024-10-02T09:28:34.645996Z"
    }
   },
   "outputs": [
    {
     "data": {
      "text/plain": [
       "<Axes: title={'center': 'Peak mean across donors ZOOM distr.'}, ylabel='Density'>"
      ]
     },
     "execution_count": 50,
     "metadata": {},
     "output_type": "execute_result"
    },
    {
     "data": {
      "image/png": "[encoded data removed]",
      "text/plain": [
       "<Figure size 640x480 with 1 Axes>"
      ]
     },
     "metadata": {},
     "output_type": "display_data"
    }
   ],
   "source": [
    "agg_mean.plot(kind='density',\n",
    "              xlim=[0, 0.015],\n",
    "              title=\"Peak mean across donors ZOOM distr.\",\n",
    "              xlabel=\"\")"
   ]
  },
  {
   "cell_type": "code",
   "execution_count": 51,
   "id": "13943bb9-e543-4c1a-97f6-4cff9f6c3c21",
   "metadata": {
    "execution": {
     "iopub.execute_input": "2024-10-02T09:28:34.650459Z",
     "iopub.status.busy": "2024-10-02T09:28:34.649479Z",
     "iopub.status.idle": "2024-10-02T09:28:34.845520Z",
     "shell.execute_reply": "2024-10-02T09:28:34.844724Z"
    }
   },
   "outputs": [],
   "source": [
    "peaks_min_mean = set(agg_df.loc[:, agg_mean > min_mean_adonors].columns.tolist())"
   ]
  },
  {
   "cell_type": "markdown",
   "id": "196cb960-1bb1-4cad-97f9-137b522a1935",
   "metadata": {},
   "source": [
    "## Peaks filter: min donors with non-zero ca count"
   ]
  },
  {
   "cell_type": "code",
   "execution_count": 52,
   "id": "a73a533e-0a93-4181-b078-5ff4ac592254",
   "metadata": {
    "execution": {
     "iopub.execute_input": "2024-10-02T09:28:34.849931Z",
     "iopub.status.busy": "2024-10-02T09:28:34.848952Z",
     "iopub.status.idle": "2024-10-02T09:28:35.085611Z",
     "shell.execute_reply": "2024-10-02T09:28:35.084952Z"
    }
   },
   "outputs": [
    {
     "data": {
      "text/plain": [
       "count    736845.000000\n",
       "mean          0.901318\n",
       "std           0.093971\n",
       "min           0.157143\n",
       "25%           0.842857\n",
       "50%           0.928571\n",
       "75%           0.971429\n",
       "max           1.000000\n",
       "dtype: float64"
      ]
     },
     "execution_count": 52,
     "metadata": {},
     "output_type": "execute_result"
    }
   ],
   "source": [
    "non0s = (agg_df != 0).mean()\n",
    "\n",
    "non0s.describe()"
   ]
  },
  {
   "cell_type": "code",
   "execution_count": 53,
   "id": "58408e7e-7707-43ec-9ecc-f1a8184e2ee5",
   "metadata": {
    "execution": {
     "iopub.execute_input": "2024-10-02T09:28:35.089485Z",
     "iopub.status.busy": "2024-10-02T09:28:35.088503Z",
     "iopub.status.idle": "2024-10-02T09:28:35.458240Z",
     "shell.execute_reply": "2024-10-02T09:28:35.457568Z"
    }
   },
   "outputs": [
    {
     "data": {
      "text/plain": [
       "<Axes: title={'center': 'Non-zero donor count distr.'}, ylabel='#'>"
      ]
     },
     "execution_count": 53,
     "metadata": {},
     "output_type": "execute_result"
    },
    {
     "data": {
      "image/png": "[encoded data removed]",
      "text/plain": [
       "<Figure size 640x480 with 1 Axes>"
      ]
     },
     "metadata": {},
     "output_type": "display_data"
    }
   ],
   "source": [
    "non0s.plot(kind='hist',\n",
    "           bins=np.linspace(0, 1, 51),\n",
    "           title=\"Non-zero donor count distr.\",\n",
    "           ylabel=\"#\")"
   ]
  },
  {
   "cell_type": "code",
   "execution_count": 54,
   "id": "56b53b73-316d-4f87-878c-4d07d2803512",
   "metadata": {
    "execution": {
     "iopub.execute_input": "2024-10-02T09:28:35.462118Z",
     "iopub.status.busy": "2024-10-02T09:28:35.461140Z",
     "iopub.status.idle": "2024-10-02T09:28:35.744974Z",
     "shell.execute_reply": "2024-10-02T09:28:35.744173Z"
    }
   },
   "outputs": [],
   "source": [
    "peaks_min_donors = set(agg_df.loc[:, non0s > min_donors].columns.to_list())"
   ]
  },
  {
   "cell_type": "code",
   "execution_count": 55,
   "id": "4a05d05b-3abe-4695-b8fa-1e5f8c0ba1f8",
   "metadata": {
    "execution": {
     "iopub.execute_input": "2024-10-02T09:28:35.749190Z",
     "iopub.status.busy": "2024-10-02T09:28:35.748206Z",
     "iopub.status.idle": "2024-10-02T09:28:35.890450Z",
     "shell.execute_reply": "2024-10-02T09:28:35.889824Z"
    }
   },
   "outputs": [
    {
     "name": "stdout",
     "output_type": "stream",
     "text": [
      "General matrix density: 0.9\n"
     ]
    }
   ],
   "source": [
    "# Density of CA\n",
    "\n",
    "non0 = np.count_nonzero(caPeaks_1ct_agg.X)\n",
    "all_ = np.product(caPeaks_1ct_agg.X.shape)\n",
    "general_ca_density = round(non0 / all_, 2)\n",
    "print(f'General matrix density: {general_ca_density}')"
   ]
  },
  {
   "cell_type": "markdown",
   "id": "cd14d605-df96-4c09-9c3a-9e670ccac0ed",
   "metadata": {},
   "source": [
    "## Peaks filter: min peak score"
   ]
  },
  {
   "cell_type": "code",
   "execution_count": 56,
   "id": "a06e016d-92f5-48af-a0f0-a9530b7f33a5",
   "metadata": {
    "execution": {
     "iopub.execute_input": "2024-10-02T09:28:35.894428Z",
     "iopub.status.busy": "2024-10-02T09:28:35.893447Z",
     "iopub.status.idle": "2024-10-02T09:28:35.897911Z",
     "shell.execute_reply": "2024-10-02T09:28:35.897366Z"
    }
   },
   "outputs": [],
   "source": [
    "peak_scores = caPeaks_1ct_agg.var['score']"
   ]
  },
  {
   "cell_type": "code",
   "execution_count": 57,
   "id": "966fa41e-6de1-4d35-a43b-fe27203a7430",
   "metadata": {
    "execution": {
     "iopub.execute_input": "2024-10-02T09:28:35.902272Z",
     "iopub.status.busy": "2024-10-02T09:28:35.901161Z",
     "iopub.status.idle": "2024-10-02T09:28:35.942046Z",
     "shell.execute_reply": "2024-10-02T09:28:35.941359Z"
    }
   },
   "outputs": [
    {
     "data": {
      "text/plain": [
       "count    736845.000000\n",
       "mean         19.414349\n",
       "std          28.508345\n",
       "min           1.028790\n",
       "25%           5.897420\n",
       "50%          10.041400\n",
       "75%          21.127300\n",
       "max        1017.970000\n",
       "Name: score, dtype: float64"
      ]
     },
     "execution_count": 57,
     "metadata": {},
     "output_type": "execute_result"
    }
   ],
   "source": [
    "peak_scores.describe()"
   ]
  },
  {
   "cell_type": "code",
   "execution_count": 58,
   "id": "dd7cfaac-78a5-427b-b205-6e129f347f0b",
   "metadata": {
    "execution": {
     "iopub.execute_input": "2024-10-02T09:28:35.945760Z",
     "iopub.status.busy": "2024-10-02T09:28:35.944790Z",
     "iopub.status.idle": "2024-10-02T09:28:36.418965Z",
     "shell.execute_reply": "2024-10-02T09:28:36.418400Z"
    }
   },
   "outputs": [
    {
     "data": {
      "text/plain": [
       "<Axes: title={'center': 'Peak score distr.'}, ylabel='#'>"
      ]
     },
     "execution_count": 58,
     "metadata": {},
     "output_type": "execute_result"
    },
    {
     "data": {
      "image/png": "[encoded data removed]",
      "text/plain": [
       "<Figure size 1400x300 with 1 Axes>"
      ]
     },
     "metadata": {},
     "output_type": "display_data"
    }
   ],
   "source": [
    "peak_scores.plot(kind='hist',\n",
    "                 bins=np.linspace(0, 60, 61),\n",
    "                 figsize=(14,3),\n",
    "                 title=\"Peak score distr.\",\n",
    "                 ylabel=\"#\")"
   ]
  },
  {
   "cell_type": "code",
   "execution_count": 59,
   "id": "3641496a-ea43-41d9-a4cf-aaf191ad1310",
   "metadata": {
    "execution": {
     "iopub.execute_input": "2024-10-02T09:28:36.423343Z",
     "iopub.status.busy": "2024-10-02T09:28:36.422296Z",
     "iopub.status.idle": "2024-10-02T09:28:36.564295Z",
     "shell.execute_reply": "2024-10-02T09:28:36.563633Z"
    }
   },
   "outputs": [],
   "source": [
    "peaks_min_score = set(caPeaks_1ct_agg.var[(caPeaks_1ct_agg.var['score'] >= min_score).tolist()].index.tolist())"
   ]
  },
  {
   "cell_type": "code",
   "execution_count": 60,
   "id": "6fb46720-6ec3-4930-acf0-61a250f0a02a",
   "metadata": {
    "execution": {
     "iopub.execute_input": "2024-10-02T09:28:36.568557Z",
     "iopub.status.busy": "2024-10-02T09:28:36.567499Z",
     "iopub.status.idle": "2024-10-02T09:28:36.572024Z",
     "shell.execute_reply": "2024-10-02T09:28:36.571326Z"
    }
   },
   "outputs": [],
   "source": [
    "del agg_df"
   ]
  },
  {
   "cell_type": "markdown",
   "id": "9f7709b5-7293-4a1c-8c72-d64504d22071",
   "metadata": {},
   "source": [
    "## CA matrix: final peaks filtering step and export"
   ]
  },
  {
   "cell_type": "code",
   "execution_count": 61,
   "id": "d829e968-9e8a-4bd3-b486-4f6794c4eeb3",
   "metadata": {
    "execution": {
     "iopub.execute_input": "2024-10-02T09:28:36.576665Z",
     "iopub.status.busy": "2024-10-02T09:28:36.575507Z",
     "iopub.status.idle": "2024-10-02T09:28:36.714957Z",
     "shell.execute_reply": "2024-10-02T09:28:36.714179Z"
    }
   },
   "outputs": [
    {
     "name": "stdout",
     "output_type": "stream",
     "text": [
      "Len peaks_hvp = 10000\n",
      "peaks_hvp = ['chr1:174022196:174022696:501:*:44496', 'chr16:30814217:30814717:501:*:9625', 'chr17:42744817:42745317:501:*:12393', 'chr5:176619149:176619649:501:*:42180']\n",
      "Len peaks_markers = 0\n",
      "peaks_markers = []\n",
      "Len peaks_eqtl = 12\n",
      "peaks_eqtl = ['chr1:50418091:50418591:501:*:19698', 'chr22:35257728:35258228:501:*:6166', 'chr4:16675682:16676182:501:*:5583', 'chr4:79528192:79528692:501:*:17656']\n",
      "Len peaks_eGenes = 33062\n",
      "peaks_eGenes = ['chr1:98793088:98793588:501:*:32029', 'chr19:16893278:16893778:501:*:7479', 'chr3:27611393:27611893:501:*:7332', 'chr6:41507726:41508226:501:*:12798']\n",
      "Len peaks_min_mean = 429643\n",
      "peaks_min_mean = ['chr5:90941273:90941773:501:*:19402', 'chr9:34191527:34192027:501:*:7445', 'chr7:155401156:155401656:501:*:38189', 'chr2:12720249:12720749:501:*:4490']\n",
      "Len peaks_min_donors = 736842\n",
      "peaks_min_donors = ['chr19:11452579:11453079:501:*:5512', 'chr14:38125419:38125919:501:*:4281', 'chrX:70168537:70169037:501:*:9890', 'chr14:41634203:41634703:501:*:4837']\n",
      "Len peaks_min_score = 401476\n",
      "peaks_min_score = ['chr15:60591482:60591982:501:*:8848', 'chr9:34191527:34192027:501:*:7445', 'chr7:155401156:155401656:501:*:38189', 'chr7:158292028:158292528:501:*:39019']\n"
     ]
    }
   ],
   "source": [
    "print(f'Len peaks_hvp = {len(peaks_hvp)}\\n' \\\n",
    "      f'peaks_hvp = {list(peaks_hvp)[0:4]}')\n",
    "\n",
    "print(f'Len peaks_markers = {len(peaks_markers)}\\n' \\\n",
    "      f'peaks_markers = {list(peaks_markers)[0:4]}')\n",
    "\n",
    "print(f'Len peaks_eqtl = {len(peaks_eqtl)}\\n' \\\n",
    "      f'peaks_eqtl = {list(peaks_eqtl)[0:4]}')\n",
    "\n",
    "print(f'Len peaks_eGenes = {len(peaks_eGenes)}\\n' \\\n",
    "      f'peaks_eGenes = {list(peaks_eGenes)[0:4]}')\n",
    "\n",
    "print(f'Len peaks_min_mean = {len(peaks_min_mean)}\\n' \\\n",
    "      f'peaks_min_mean = {list(peaks_min_mean)[0:4]}')\n",
    "\n",
    "print(f'Len peaks_min_donors = {len(peaks_min_donors)}\\n' \\\n",
    "      f'peaks_min_donors = {list(peaks_min_donors)[0:4]}')\n",
    "\n",
    "print(f'Len peaks_min_score = {len(peaks_min_score)}\\n' \\\n",
    "      f'peaks_min_score = {list(peaks_min_score)[0:4]}')"
   ]
  },
  {
   "cell_type": "code",
   "execution_count": 62,
   "id": "94559bea-63c1-4910-be38-6612ffc8b69a",
   "metadata": {
    "execution": {
     "iopub.execute_input": "2024-10-02T09:28:36.718897Z",
     "iopub.status.busy": "2024-10-02T09:28:36.717922Z",
     "iopub.status.idle": "2024-10-02T09:28:37.095075Z",
     "shell.execute_reply": "2024-10-02T09:28:37.094379Z"
    }
   },
   "outputs": [
    {
     "data": {
      "text/plain": [
       "42816"
      ]
     },
     "execution_count": 62,
     "metadata": {},
     "output_type": "execute_result"
    }
   ],
   "source": [
    "# Filter final peaks\n",
    "final_peaks = list((peaks_hvp | peaks_markers | peaks_eqtl | peaks_eGenes) & (peaks_min_mean | peaks_min_donors | peaks_min_score)) # remove peaks_min_mean or peaks_min_donors\n",
    "\n",
    "caPeaks_1ct_agg = caPeaks_1ct_agg[:, final_peaks].copy()\n",
    "\n",
    "len(final_peaks)"
   ]
  },
  {
   "cell_type": "code",
   "execution_count": 63,
   "id": "c6c29493-a589-4fc3-baf1-8eb2f5c5f97d",
   "metadata": {
    "execution": {
     "iopub.execute_input": "2024-10-02T09:28:37.098981Z",
     "iopub.status.busy": "2024-10-02T09:28:37.097998Z",
     "iopub.status.idle": "2024-10-02T09:28:37.110948Z",
     "shell.execute_reply": "2024-10-02T09:28:37.110285Z"
    },
    "tags": []
   },
   "outputs": [],
   "source": [
    "# Create CA matrix\n",
    "ca_peaks_out = caPeaks_1ct_agg.to_df().T\n",
    "ca_peaks_out = ca_peaks_out.rename_axis('peak_id')"
   ]
  },
  {
   "cell_type": "code",
   "execution_count": 64,
   "id": "ad169ea7-c2d7-472b-98b6-2f6c9199e608",
   "metadata": {
    "execution": {
     "iopub.execute_input": "2024-10-02T09:28:37.115179Z",
     "iopub.status.busy": "2024-10-02T09:28:37.114108Z",
     "iopub.status.idle": "2024-10-02T09:28:37.120725Z",
     "shell.execute_reply": "2024-10-02T09:28:37.120015Z"
    }
   },
   "outputs": [
    {
     "data": {
      "text/plain": [
       "70"
      ]
     },
     "execution_count": 64,
     "metadata": {},
     "output_type": "execute_result"
    }
   ],
   "source": [
    "len(ca_peaks_out.columns.tolist())"
   ]
  },
  {
   "cell_type": "code",
   "execution_count": 65,
   "id": "db891f26-2589-4968-95e8-667e4984f4c5",
   "metadata": {
    "execution": {
     "iopub.execute_input": "2024-10-02T09:28:37.124704Z",
     "iopub.status.busy": "2024-10-02T09:28:37.123657Z",
     "iopub.status.idle": "2024-10-02T09:28:37.136243Z",
     "shell.execute_reply": "2024-10-02T09:28:37.135464Z"
    }
   },
   "outputs": [
    {
     "data": {
      "text/plain": [
       "70"
      ]
     },
     "execution_count": 65,
     "metadata": {},
     "output_type": "execute_result"
    }
   ],
   "source": [
    "ca_donors = list(set(ca_peaks_out.columns.tolist()) - artifact_donors) # Should be redundand\n",
    "len(ca_donors)"
   ]
  },
  {
   "cell_type": "code",
   "execution_count": 66,
   "id": "f46502f9-280e-4ef3-812d-35fdc34a2781",
   "metadata": {
    "execution": {
     "iopub.execute_input": "2024-10-02T09:28:37.140183Z",
     "iopub.status.busy": "2024-10-02T09:28:37.139186Z",
     "iopub.status.idle": "2024-10-02T09:28:37.199269Z",
     "shell.execute_reply": "2024-10-02T09:28:37.198550Z"
    }
   },
   "outputs": [
    {
     "name": "stdout",
     "output_type": "stream",
     "text": [
      "(42816, 70)\n"
     ]
    },
    {
     "data": {
      "text/html": [
       "<div>\n",
       "<style scoped>\n",
       "    .dataframe tbody tr th:only-of-type {\n",
       "        vertical-align: middle;\n",
       "    }\n",
       "\n",
       "    .dataframe tbody tr th {\n",
       "        vertical-align: top;\n",
       "    }\n",
       "\n",
       "    .dataframe thead th {\n",
       "        text-align: right;\n",
       "    }\n",
       "</style>\n",
       "<table border=\"1\" class=\"dataframe\">\n",
       "  <thead>\n",
       "    <tr style=\"text-align: right;\">\n",
       "      <th></th>\n",
       "      <th>SAMEA2678742</th>\n",
       "      <th>SAMEA2595426</th>\n",
       "      <th>SAMEA2707499</th>\n",
       "      <th>SAMEA4451109</th>\n",
       "      <th>SAMEA2711371</th>\n",
       "      <th>SAMEA3973854</th>\n",
       "      <th>SAMEA2547899</th>\n",
       "      <th>SAMEA2420640</th>\n",
       "      <th>SAMEA3485958</th>\n",
       "      <th>SAMEA2645805</th>\n",
       "      <th>...</th>\n",
       "      <th>SAMEA2536416</th>\n",
       "      <th>SAMEA3967410</th>\n",
       "      <th>SAMEA3853161</th>\n",
       "      <th>SAMEA2698309</th>\n",
       "      <th>SAMEA2609971</th>\n",
       "      <th>SAMEA2536413</th>\n",
       "      <th>SAMEA2625592</th>\n",
       "      <th>SAMEA3854308</th>\n",
       "      <th>SAMEA3963885</th>\n",
       "      <th>SAMEA3962524</th>\n",
       "    </tr>\n",
       "    <tr>\n",
       "      <th>peak_id</th>\n",
       "      <th></th>\n",
       "      <th></th>\n",
       "      <th></th>\n",
       "      <th></th>\n",
       "      <th></th>\n",
       "      <th></th>\n",
       "      <th></th>\n",
       "      <th></th>\n",
       "      <th></th>\n",
       "      <th></th>\n",
       "      <th></th>\n",
       "      <th></th>\n",
       "      <th></th>\n",
       "      <th></th>\n",
       "      <th></th>\n",
       "      <th></th>\n",
       "      <th></th>\n",
       "      <th></th>\n",
       "      <th></th>\n",
       "      <th></th>\n",
       "      <th></th>\n",
       "    </tr>\n",
       "  </thead>\n",
       "  <tbody>\n",
       "    <tr>\n",
       "      <th>chr5:176619149:176619649:501:*:42180</th>\n",
       "      <td>0.093007</td>\n",
       "      <td>0.030809</td>\n",
       "      <td>0.071164</td>\n",
       "      <td>0.104957</td>\n",
       "      <td>0.068255</td>\n",
       "      <td>0.054264</td>\n",
       "      <td>0.067831</td>\n",
       "      <td>0.031518</td>\n",
       "      <td>0.073793</td>\n",
       "      <td>0.095350</td>\n",
       "      <td>...</td>\n",
       "      <td>0.048473</td>\n",
       "      <td>0.073474</td>\n",
       "      <td>0.036954</td>\n",
       "      <td>0.094770</td>\n",
       "      <td>0.046573</td>\n",
       "      <td>0.058689</td>\n",
       "      <td>0.080835</td>\n",
       "      <td>0.096592</td>\n",
       "      <td>0.055805</td>\n",
       "      <td>0.044574</td>\n",
       "    </tr>\n",
       "    <tr>\n",
       "      <th>chr1:98793088:98793588:501:*:32029</th>\n",
       "      <td>0.000598</td>\n",
       "      <td>0.001438</td>\n",
       "      <td>0.002195</td>\n",
       "      <td>0.001400</td>\n",
       "      <td>0.000000</td>\n",
       "      <td>0.002870</td>\n",
       "      <td>0.000874</td>\n",
       "      <td>0.004510</td>\n",
       "      <td>0.002173</td>\n",
       "      <td>0.001422</td>\n",
       "      <td>...</td>\n",
       "      <td>0.004374</td>\n",
       "      <td>0.000535</td>\n",
       "      <td>0.002918</td>\n",
       "      <td>0.001674</td>\n",
       "      <td>0.003123</td>\n",
       "      <td>0.000000</td>\n",
       "      <td>0.000331</td>\n",
       "      <td>0.000288</td>\n",
       "      <td>0.002245</td>\n",
       "      <td>0.003101</td>\n",
       "    </tr>\n",
       "    <tr>\n",
       "      <th>chr19:16893278:16893778:501:*:7479</th>\n",
       "      <td>0.001251</td>\n",
       "      <td>0.002104</td>\n",
       "      <td>0.006475</td>\n",
       "      <td>0.005216</td>\n",
       "      <td>0.000000</td>\n",
       "      <td>0.000711</td>\n",
       "      <td>0.002967</td>\n",
       "      <td>0.001244</td>\n",
       "      <td>0.003496</td>\n",
       "      <td>0.000848</td>\n",
       "      <td>...</td>\n",
       "      <td>0.002506</td>\n",
       "      <td>0.001173</td>\n",
       "      <td>0.002484</td>\n",
       "      <td>0.004515</td>\n",
       "      <td>0.007604</td>\n",
       "      <td>0.000000</td>\n",
       "      <td>0.003002</td>\n",
       "      <td>0.002729</td>\n",
       "      <td>0.001233</td>\n",
       "      <td>0.001464</td>\n",
       "    </tr>\n",
       "    <tr>\n",
       "      <th>chr3:27611393:27611893:501:*:7332</th>\n",
       "      <td>0.000000</td>\n",
       "      <td>0.000494</td>\n",
       "      <td>0.000499</td>\n",
       "      <td>0.002177</td>\n",
       "      <td>0.000000</td>\n",
       "      <td>0.000329</td>\n",
       "      <td>0.001507</td>\n",
       "      <td>0.000504</td>\n",
       "      <td>0.000580</td>\n",
       "      <td>0.000244</td>\n",
       "      <td>...</td>\n",
       "      <td>0.000324</td>\n",
       "      <td>0.000000</td>\n",
       "      <td>0.000639</td>\n",
       "      <td>0.000258</td>\n",
       "      <td>0.000000</td>\n",
       "      <td>0.012599</td>\n",
       "      <td>0.003359</td>\n",
       "      <td>0.000325</td>\n",
       "      <td>0.000419</td>\n",
       "      <td>0.000000</td>\n",
       "    </tr>\n",
       "    <tr>\n",
       "      <th>chr12:78209819:78210319:501:*:19149</th>\n",
       "      <td>0.056465</td>\n",
       "      <td>0.073863</td>\n",
       "      <td>0.041257</td>\n",
       "      <td>0.027184</td>\n",
       "      <td>0.082833</td>\n",
       "      <td>0.055324</td>\n",
       "      <td>0.039926</td>\n",
       "      <td>0.043297</td>\n",
       "      <td>0.035004</td>\n",
       "      <td>0.030764</td>\n",
       "      <td>...</td>\n",
       "      <td>0.023460</td>\n",
       "      <td>0.076776</td>\n",
       "      <td>0.022253</td>\n",
       "      <td>0.042676</td>\n",
       "      <td>0.011942</td>\n",
       "      <td>0.068305</td>\n",
       "      <td>0.105362</td>\n",
       "      <td>0.137540</td>\n",
       "      <td>0.029231</td>\n",
       "      <td>0.014693</td>\n",
       "    </tr>\n",
       "    <tr>\n",
       "      <th>...</th>\n",
       "      <td>...</td>\n",
       "      <td>...</td>\n",
       "      <td>...</td>\n",
       "      <td>...</td>\n",
       "      <td>...</td>\n",
       "      <td>...</td>\n",
       "      <td>...</td>\n",
       "      <td>...</td>\n",
       "      <td>...</td>\n",
       "      <td>...</td>\n",
       "      <td>...</td>\n",
       "      <td>...</td>\n",
       "      <td>...</td>\n",
       "      <td>...</td>\n",
       "      <td>...</td>\n",
       "      <td>...</td>\n",
       "      <td>...</td>\n",
       "      <td>...</td>\n",
       "      <td>...</td>\n",
       "      <td>...</td>\n",
       "      <td>...</td>\n",
       "    </tr>\n",
       "    <tr>\n",
       "      <th>chr5:76499415:76499915:501:*:16095</th>\n",
       "      <td>0.001916</td>\n",
       "      <td>0.004816</td>\n",
       "      <td>0.000147</td>\n",
       "      <td>0.000000</td>\n",
       "      <td>0.000000</td>\n",
       "      <td>0.000374</td>\n",
       "      <td>0.000540</td>\n",
       "      <td>0.001197</td>\n",
       "      <td>0.001397</td>\n",
       "      <td>0.000230</td>\n",
       "      <td>...</td>\n",
       "      <td>0.000398</td>\n",
       "      <td>0.000715</td>\n",
       "      <td>0.001764</td>\n",
       "      <td>0.003694</td>\n",
       "      <td>0.004362</td>\n",
       "      <td>0.000833</td>\n",
       "      <td>0.000813</td>\n",
       "      <td>0.001499</td>\n",
       "      <td>0.000805</td>\n",
       "      <td>0.000541</td>\n",
       "    </tr>\n",
       "    <tr>\n",
       "      <th>chr3:143537173:143537673:501:*:36686</th>\n",
       "      <td>0.003046</td>\n",
       "      <td>0.008282</td>\n",
       "      <td>0.004667</td>\n",
       "      <td>0.001549</td>\n",
       "      <td>0.000000</td>\n",
       "      <td>0.001940</td>\n",
       "      <td>0.002890</td>\n",
       "      <td>0.005880</td>\n",
       "      <td>0.010492</td>\n",
       "      <td>0.002874</td>\n",
       "      <td>...</td>\n",
       "      <td>0.009667</td>\n",
       "      <td>0.008515</td>\n",
       "      <td>0.006343</td>\n",
       "      <td>0.004210</td>\n",
       "      <td>0.006067</td>\n",
       "      <td>0.006300</td>\n",
       "      <td>0.007927</td>\n",
       "      <td>0.003743</td>\n",
       "      <td>0.003954</td>\n",
       "      <td>0.005982</td>\n",
       "    </tr>\n",
       "    <tr>\n",
       "      <th>chr8:139154232:139154732:501:*:32713</th>\n",
       "      <td>0.000000</td>\n",
       "      <td>0.001592</td>\n",
       "      <td>0.000328</td>\n",
       "      <td>0.000000</td>\n",
       "      <td>0.000000</td>\n",
       "      <td>0.000689</td>\n",
       "      <td>0.000224</td>\n",
       "      <td>0.004107</td>\n",
       "      <td>0.000000</td>\n",
       "      <td>0.000000</td>\n",
       "      <td>...</td>\n",
       "      <td>0.008600</td>\n",
       "      <td>0.000000</td>\n",
       "      <td>0.000430</td>\n",
       "      <td>0.000362</td>\n",
       "      <td>0.000000</td>\n",
       "      <td>0.000000</td>\n",
       "      <td>0.000000</td>\n",
       "      <td>0.001048</td>\n",
       "      <td>0.000129</td>\n",
       "      <td>0.001139</td>\n",
       "    </tr>\n",
       "    <tr>\n",
       "      <th>chr4:139710156:139710656:501:*:29780</th>\n",
       "      <td>0.002711</td>\n",
       "      <td>0.000160</td>\n",
       "      <td>0.004207</td>\n",
       "      <td>0.000000</td>\n",
       "      <td>0.000000</td>\n",
       "      <td>0.003342</td>\n",
       "      <td>0.002716</td>\n",
       "      <td>0.001356</td>\n",
       "      <td>0.004150</td>\n",
       "      <td>0.002809</td>\n",
       "      <td>...</td>\n",
       "      <td>0.001912</td>\n",
       "      <td>0.003072</td>\n",
       "      <td>0.002820</td>\n",
       "      <td>0.002320</td>\n",
       "      <td>0.000380</td>\n",
       "      <td>0.000000</td>\n",
       "      <td>0.000805</td>\n",
       "      <td>0.000505</td>\n",
       "      <td>0.001797</td>\n",
       "      <td>0.002134</td>\n",
       "    </tr>\n",
       "    <tr>\n",
       "      <th>chr11:62880623:62881123:501:*:15150</th>\n",
       "      <td>0.079177</td>\n",
       "      <td>0.090081</td>\n",
       "      <td>0.063803</td>\n",
       "      <td>0.078414</td>\n",
       "      <td>0.110156</td>\n",
       "      <td>0.095739</td>\n",
       "      <td>0.107331</td>\n",
       "      <td>0.089811</td>\n",
       "      <td>0.076696</td>\n",
       "      <td>0.073927</td>\n",
       "      <td>...</td>\n",
       "      <td>0.086840</td>\n",
       "      <td>0.102204</td>\n",
       "      <td>0.079912</td>\n",
       "      <td>0.084278</td>\n",
       "      <td>0.064793</td>\n",
       "      <td>0.085005</td>\n",
       "      <td>0.129952</td>\n",
       "      <td>0.076570</td>\n",
       "      <td>0.078145</td>\n",
       "      <td>0.076286</td>\n",
       "    </tr>\n",
       "  </tbody>\n",
       "</table>\n",
       "<p>42816 rows × 70 columns</p>\n",
       "</div>"
      ],
      "text/plain": [
       "                                      SAMEA2678742  SAMEA2595426  \\\n",
       "peak_id                                                            \n",
       "chr5:176619149:176619649:501:*:42180      0.093007      0.030809   \n",
       "chr1:98793088:98793588:501:*:32029        0.000598      0.001438   \n",
       "chr19:16893278:16893778:501:*:7479        0.001251      0.002104   \n",
       "chr3:27611393:27611893:501:*:7332         0.000000      0.000494   \n",
       "chr12:78209819:78210319:501:*:19149       0.056465      0.073863   \n",
       "...                                            ...           ...   \n",
       "chr5:76499415:76499915:501:*:16095        0.001916      0.004816   \n",
       "chr3:143537173:143537673:501:*:36686      0.003046      0.008282   \n",
       "chr8:139154232:139154732:501:*:32713      0.000000      0.001592   \n",
       "chr4:139710156:139710656:501:*:29780      0.002711      0.000160   \n",
       "chr11:62880623:62881123:501:*:15150       0.079177      0.090081   \n",
       "\n",
       "                                      SAMEA2707499  SAMEA4451109  \\\n",
       "peak_id                                                            \n",
       "chr5:176619149:176619649:501:*:42180      0.071164      0.104957   \n",
       "chr1:98793088:98793588:501:*:32029        0.002195      0.001400   \n",
       "chr19:16893278:16893778:501:*:7479        0.006475      0.005216   \n",
       "chr3:27611393:27611893:501:*:7332         0.000499      0.002177   \n",
       "chr12:78209819:78210319:501:*:19149       0.041257      0.027184   \n",
       "...                                            ...           ...   \n",
       "chr5:76499415:76499915:501:*:16095        0.000147      0.000000   \n",
       "chr3:143537173:143537673:501:*:36686      0.004667      0.001549   \n",
       "chr8:139154232:139154732:501:*:32713      0.000328      0.000000   \n",
       "chr4:139710156:139710656:501:*:29780      0.004207      0.000000   \n",
       "chr11:62880623:62881123:501:*:15150       0.063803      0.078414   \n",
       "\n",
       "                                      SAMEA2711371  SAMEA3973854  \\\n",
       "peak_id                                                            \n",
       "chr5:176619149:176619649:501:*:42180      0.068255      0.054264   \n",
       "chr1:98793088:98793588:501:*:32029        0.000000      0.002870   \n",
       "chr19:16893278:16893778:501:*:7479        0.000000      0.000711   \n",
       "chr3:27611393:27611893:501:*:7332         0.000000      0.000329   \n",
       "chr12:78209819:78210319:501:*:19149       0.082833      0.055324   \n",
       "...                                            ...           ...   \n",
       "chr5:76499415:76499915:501:*:16095        0.000000      0.000374   \n",
       "chr3:143537173:143537673:501:*:36686      0.000000      0.001940   \n",
       "chr8:139154232:139154732:501:*:32713      0.000000      0.000689   \n",
       "chr4:139710156:139710656:501:*:29780      0.000000      0.003342   \n",
       "chr11:62880623:62881123:501:*:15150       0.110156      0.095739   \n",
       "\n",
       "                                      SAMEA2547899  SAMEA2420640  \\\n",
       "peak_id                                                            \n",
       "chr5:176619149:176619649:501:*:42180      0.067831      0.031518   \n",
       "chr1:98793088:98793588:501:*:32029        0.000874      0.004510   \n",
       "chr19:16893278:16893778:501:*:7479        0.002967      0.001244   \n",
       "chr3:27611393:27611893:501:*:7332         0.001507      0.000504   \n",
       "chr12:78209819:78210319:501:*:19149       0.039926      0.043297   \n",
       "...                                            ...           ...   \n",
       "chr5:76499415:76499915:501:*:16095        0.000540      0.001197   \n",
       "chr3:143537173:143537673:501:*:36686      0.002890      0.005880   \n",
       "chr8:139154232:139154732:501:*:32713      0.000224      0.004107   \n",
       "chr4:139710156:139710656:501:*:29780      0.002716      0.001356   \n",
       "chr11:62880623:62881123:501:*:15150       0.107331      0.089811   \n",
       "\n",
       "                                      SAMEA3485958  SAMEA2645805  ...  \\\n",
       "peak_id                                                           ...   \n",
       "chr5:176619149:176619649:501:*:42180      0.073793      0.095350  ...   \n",
       "chr1:98793088:98793588:501:*:32029        0.002173      0.001422  ...   \n",
       "chr19:16893278:16893778:501:*:7479        0.003496      0.000848  ...   \n",
       "chr3:27611393:27611893:501:*:7332         0.000580      0.000244  ...   \n",
       "chr12:78209819:78210319:501:*:19149       0.035004      0.030764  ...   \n",
       "...                                            ...           ...  ...   \n",
       "chr5:76499415:76499915:501:*:16095        0.001397      0.000230  ...   \n",
       "chr3:143537173:143537673:501:*:36686      0.010492      0.002874  ...   \n",
       "chr8:139154232:139154732:501:*:32713      0.000000      0.000000  ...   \n",
       "chr4:139710156:139710656:501:*:29780      0.004150      0.002809  ...   \n",
       "chr11:62880623:62881123:501:*:15150       0.076696      0.073927  ...   \n",
       "\n",
       "                                      SAMEA2536416  SAMEA3967410  \\\n",
       "peak_id                                                            \n",
       "chr5:176619149:176619649:501:*:42180      0.048473      0.073474   \n",
       "chr1:98793088:98793588:501:*:32029        0.004374      0.000535   \n",
       "chr19:16893278:16893778:501:*:7479        0.002506      0.001173   \n",
       "chr3:27611393:27611893:501:*:7332         0.000324      0.000000   \n",
       "chr12:78209819:78210319:501:*:19149       0.023460      0.076776   \n",
       "...                                            ...           ...   \n",
       "chr5:76499415:76499915:501:*:16095        0.000398      0.000715   \n",
       "chr3:143537173:143537673:501:*:36686      0.009667      0.008515   \n",
       "chr8:139154232:139154732:501:*:32713      0.008600      0.000000   \n",
       "chr4:139710156:139710656:501:*:29780      0.001912      0.003072   \n",
       "chr11:62880623:62881123:501:*:15150       0.086840      0.102204   \n",
       "\n",
       "                                      SAMEA3853161  SAMEA2698309  \\\n",
       "peak_id                                                            \n",
       "chr5:176619149:176619649:501:*:42180      0.036954      0.094770   \n",
       "chr1:98793088:98793588:501:*:32029        0.002918      0.001674   \n",
       "chr19:16893278:16893778:501:*:7479        0.002484      0.004515   \n",
       "chr3:27611393:27611893:501:*:7332         0.000639      0.000258   \n",
       "chr12:78209819:78210319:501:*:19149       0.022253      0.042676   \n",
       "...                                            ...           ...   \n",
       "chr5:76499415:76499915:501:*:16095        0.001764      0.003694   \n",
       "chr3:143537173:143537673:501:*:36686      0.006343      0.004210   \n",
       "chr8:139154232:139154732:501:*:32713      0.000430      0.000362   \n",
       "chr4:139710156:139710656:501:*:29780      0.002820      0.002320   \n",
       "chr11:62880623:62881123:501:*:15150       0.079912      0.084278   \n",
       "\n",
       "                                      SAMEA2609971  SAMEA2536413  \\\n",
       "peak_id                                                            \n",
       "chr5:176619149:176619649:501:*:42180      0.046573      0.058689   \n",
       "chr1:98793088:98793588:501:*:32029        0.003123      0.000000   \n",
       "chr19:16893278:16893778:501:*:7479        0.007604      0.000000   \n",
       "chr3:27611393:27611893:501:*:7332         0.000000      0.012599   \n",
       "chr12:78209819:78210319:501:*:19149       0.011942      0.068305   \n",
       "...                                            ...           ...   \n",
       "chr5:76499415:76499915:501:*:16095        0.004362      0.000833   \n",
       "chr3:143537173:143537673:501:*:36686      0.006067      0.006300   \n",
       "chr8:139154232:139154732:501:*:32713      0.000000      0.000000   \n",
       "chr4:139710156:139710656:501:*:29780      0.000380      0.000000   \n",
       "chr11:62880623:62881123:501:*:15150       0.064793      0.085005   \n",
       "\n",
       "                                      SAMEA2625592  SAMEA3854308  \\\n",
       "peak_id                                                            \n",
       "chr5:176619149:176619649:501:*:42180      0.080835      0.096592   \n",
       "chr1:98793088:98793588:501:*:32029        0.000331      0.000288   \n",
       "chr19:16893278:16893778:501:*:7479        0.003002      0.002729   \n",
       "chr3:27611393:27611893:501:*:7332         0.003359      0.000325   \n",
       "chr12:78209819:78210319:501:*:19149       0.105362      0.137540   \n",
       "...                                            ...           ...   \n",
       "chr5:76499415:76499915:501:*:16095        0.000813      0.001499   \n",
       "chr3:143537173:143537673:501:*:36686      0.007927      0.003743   \n",
       "chr8:139154232:139154732:501:*:32713      0.000000      0.001048   \n",
       "chr4:139710156:139710656:501:*:29780      0.000805      0.000505   \n",
       "chr11:62880623:62881123:501:*:15150       0.129952      0.076570   \n",
       "\n",
       "                                      SAMEA3963885  SAMEA3962524  \n",
       "peak_id                                                           \n",
       "chr5:176619149:176619649:501:*:42180      0.055805      0.044574  \n",
       "chr1:98793088:98793588:501:*:32029        0.002245      0.003101  \n",
       "chr19:16893278:16893778:501:*:7479        0.001233      0.001464  \n",
       "chr3:27611393:27611893:501:*:7332         0.000419      0.000000  \n",
       "chr12:78209819:78210319:501:*:19149       0.029231      0.014693  \n",
       "...                                            ...           ...  \n",
       "chr5:76499415:76499915:501:*:16095        0.000805      0.000541  \n",
       "chr3:143537173:143537673:501:*:36686      0.003954      0.005982  \n",
       "chr8:139154232:139154732:501:*:32713      0.000129      0.001139  \n",
       "chr4:139710156:139710656:501:*:29780      0.001797      0.002134  \n",
       "chr11:62880623:62881123:501:*:15150       0.078145      0.076286  \n",
       "\n",
       "[42816 rows x 70 columns]"
      ]
     },
     "execution_count": 66,
     "metadata": {},
     "output_type": "execute_result"
    }
   ],
   "source": [
    "ca_peaks_out = ca_peaks_out[ca_donors]\n",
    "\n",
    "print(ca_peaks_out.shape)\n",
    "ca_peaks_out"
   ]
  },
  {
   "cell_type": "code",
   "execution_count": 67,
   "id": "2424711c-4395-435a-93ad-8946ef094ec4",
   "metadata": {
    "execution": {
     "iopub.execute_input": "2024-10-02T09:28:37.203090Z",
     "iopub.status.busy": "2024-10-02T09:28:37.202121Z",
     "iopub.status.idle": "2024-10-02T09:28:39.430666Z",
     "shell.execute_reply": "2024-10-02T09:28:39.428962Z"
    }
   },
   "outputs": [],
   "source": [
    "# Export peak chromatin accessibility\n",
    "ca_peaks_out_path = f\"data/intermediate-data/datasets/{DATASET_ID}/matrix-eQTL_io/chromatin_accessibility/peak_ca/{ct_map_id}/{cell_type}.tsv\"\n",
    "\n",
    "create_folder(os.path.dirname(os.path.abspath(ca_peaks_out_path)))\n",
    "\n",
    "ca_peaks_out.round(6).to_csv(ca_peaks_out_path, sep='\\t')"
   ]
  },
  {
   "cell_type": "markdown",
   "id": "eb84b8fb-c69c-4784-ba71-744d90eb2b58",
   "metadata": {},
   "source": [
    "### CA matrix stats"
   ]
  },
  {
   "cell_type": "code",
   "execution_count": 68,
   "id": "11b43359-6153-4c33-99c5-ab7634e44db6",
   "metadata": {
    "execution": {
     "iopub.execute_input": "2024-10-02T09:28:39.440696Z",
     "iopub.status.busy": "2024-10-02T09:28:39.438291Z",
     "iopub.status.idle": "2024-10-02T09:28:39.480927Z",
     "shell.execute_reply": "2024-10-02T09:28:39.479844Z"
    }
   },
   "outputs": [],
   "source": [
    "_, mean_cells_donor, std_cells_donor, _, _, _, _, _ = caPeaks_1ct.obs.groupby('donor_id').size().describe()\n",
    "\n",
    "donor_batch = caPeaks_1ct.obs.groupby(['donor_id', 'batch']).size()\n",
    "donor_batch = donor_batch[donor_batch != 0]\n",
    "n_donor_batches, mean_cells_donor_batch, std_cells_donor_batch, _, _, _, _, _ = donor_batch.describe()\n",
    "n_donor_batches = int(n_donor_batches)"
   ]
  },
  {
   "cell_type": "code",
   "execution_count": 69,
   "id": "c3e24b70-a8e5-482b-a14d-29385e24f4cf",
   "metadata": {
    "execution": {
     "iopub.execute_input": "2024-10-02T09:28:39.487617Z",
     "iopub.status.busy": "2024-10-02T09:28:39.485850Z",
     "iopub.status.idle": "2024-10-02T09:28:39.514390Z",
     "shell.execute_reply": "2024-10-02T09:28:39.513439Z"
    }
   },
   "outputs": [
    {
     "name": "stdout",
     "output_type": "stream",
     "text": [
      "\n",
      "meqtl_oct1_bulk\tBulk\t0.9\t210857\t70\t3012.2428571428572\t2583.2698885283403\t381\t553.4304461942257\t639.1589403822734\t736845\t0\t736845\t10000\t0\t12\t33062\t429643\t736842\t401476\t42816\t70\n"
     ]
    }
   ],
   "source": [
    "# Stats\n",
    "\n",
    "stats_out_path = f\"results/datasets/{DATASET_ID}/matrix-eQTL/{ct_map_id}/io_stats.tsv\"\n",
    "\n",
    "create_folder(os.path.dirname(os.path.abspath(stats_out_path)))\n",
    "\n",
    "with open(stats_out_path, 'a') as f:\n",
    "        \n",
    "    msg = f'\\n{RUN_ID}\\t' \\\n",
    "            f'{cell_type}\\t' \\\n",
    "            f'{general_ca_density}\\t' \\\n",
    "            f'{n_cells}\\t' \\\n",
    "            f'{n_donors}\\t' \\\n",
    "            f'{mean_cells_donor}\\t' \\\n",
    "            f'{std_cells_donor}\\t' \\\n",
    "            f'{n_donor_batches}\\t' \\\n",
    "            f'{mean_cells_donor_batch}\\t' \\\n",
    "            f'{std_cells_donor_batch}\\t' \\\n",
    "            f'{n_peaks_og}\\t' \\\n",
    "            f'{n_peaks_min_cells}\\t' \\\n",
    "            f'{n_peaks_post_min_cells}\\t' \\\n",
    "            f'{len(peaks_hvp)}\\t' \\\n",
    "            f'{len(peaks_markers)}\\t' \\\n",
    "            f'{len(peaks_eqtl)}\\t' \\\n",
    "            f'{len(peaks_eGenes)}\\t' \\\n",
    "            f'{len(peaks_min_mean)}\\t' \\\n",
    "            f'{len(peaks_min_donors)}\\t' \\\n",
    "            f'{len(peaks_min_score)}\\t' \\\n",
    "            f'{ca_peaks_out.shape[0]}\\t' \\\n",
    "            f'{ca_peaks_out.shape[1]}'\n",
    "\n",
    "    f.write(msg)\n",
    "    print(msg)"
   ]
  },
  {
   "cell_type": "code",
   "execution_count": 70,
   "id": "322fe981-6a06-46d7-b8da-f1ba1f3f5430",
   "metadata": {
    "execution": {
     "iopub.execute_input": "2024-10-02T09:28:39.520937Z",
     "iopub.status.busy": "2024-10-02T09:28:39.519174Z",
     "iopub.status.idle": "2024-10-02T09:28:39.525959Z",
     "shell.execute_reply": "2024-10-02T09:28:39.524985Z"
    }
   },
   "outputs": [],
   "source": [
    "del ca_peaks_out\n",
    "del caPeaks_1ct"
   ]
  },
  {
   "cell_type": "markdown",
   "id": "6001e2e0-ae9c-4784-a2e6-a722a0df3745",
   "metadata": {},
   "source": [
    "# COV: peak locations"
   ]
  },
  {
   "cell_type": "code",
   "execution_count": 71,
   "id": "13af5254-e520-477c-a17f-6c8565db00ec",
   "metadata": {
    "execution": {
     "iopub.execute_input": "2024-10-02T09:28:39.533384Z",
     "iopub.status.busy": "2024-10-02T09:28:39.531425Z",
     "iopub.status.idle": "2024-10-02T09:28:39.563586Z",
     "shell.execute_reply": "2024-10-02T09:28:39.562770Z"
    }
   },
   "outputs": [
    {
     "data": {
      "text/html": [
       "<div>\n",
       "<style scoped>\n",
       "    .dataframe tbody tr th:only-of-type {\n",
       "        vertical-align: middle;\n",
       "    }\n",
       "\n",
       "    .dataframe tbody tr th {\n",
       "        vertical-align: top;\n",
       "    }\n",
       "\n",
       "    .dataframe thead th {\n",
       "        text-align: right;\n",
       "    }\n",
       "</style>\n",
       "<table border=\"1\" class=\"dataframe\">\n",
       "  <thead>\n",
       "    <tr style=\"text-align: right;\">\n",
       "      <th></th>\n",
       "      <th>peak_name</th>\n",
       "      <th>chr</th>\n",
       "      <th>start</th>\n",
       "      <th>end</th>\n",
       "    </tr>\n",
       "    <tr>\n",
       "      <th>peak_name</th>\n",
       "      <th></th>\n",
       "      <th></th>\n",
       "      <th></th>\n",
       "      <th></th>\n",
       "    </tr>\n",
       "  </thead>\n",
       "  <tbody>\n",
       "    <tr>\n",
       "      <th>chr5:176619149:176619649:501:*:42180</th>\n",
       "      <td>chr5:176619149:176619649:501:*:42180</td>\n",
       "      <td>chr5</td>\n",
       "      <td>176619148</td>\n",
       "      <td>176619649</td>\n",
       "    </tr>\n",
       "    <tr>\n",
       "      <th>chr1:98793088:98793588:501:*:32029</th>\n",
       "      <td>chr1:98793088:98793588:501:*:32029</td>\n",
       "      <td>chr1</td>\n",
       "      <td>98793087</td>\n",
       "      <td>98793588</td>\n",
       "    </tr>\n",
       "    <tr>\n",
       "      <th>chr19:16893278:16893778:501:*:7479</th>\n",
       "      <td>chr19:16893278:16893778:501:*:7479</td>\n",
       "      <td>chr19</td>\n",
       "      <td>16893277</td>\n",
       "      <td>16893778</td>\n",
       "    </tr>\n",
       "    <tr>\n",
       "      <th>chr3:27611393:27611893:501:*:7332</th>\n",
       "      <td>chr3:27611393:27611893:501:*:7332</td>\n",
       "      <td>chr3</td>\n",
       "      <td>27611392</td>\n",
       "      <td>27611893</td>\n",
       "    </tr>\n",
       "    <tr>\n",
       "      <th>chr12:78209819:78210319:501:*:19149</th>\n",
       "      <td>chr12:78209819:78210319:501:*:19149</td>\n",
       "      <td>chr12</td>\n",
       "      <td>78209818</td>\n",
       "      <td>78210319</td>\n",
       "    </tr>\n",
       "    <tr>\n",
       "      <th>...</th>\n",
       "      <td>...</td>\n",
       "      <td>...</td>\n",
       "      <td>...</td>\n",
       "      <td>...</td>\n",
       "    </tr>\n",
       "    <tr>\n",
       "      <th>chr5:76499415:76499915:501:*:16095</th>\n",
       "      <td>chr5:76499415:76499915:501:*:16095</td>\n",
       "      <td>chr5</td>\n",
       "      <td>76499414</td>\n",
       "      <td>76499915</td>\n",
       "    </tr>\n",
       "    <tr>\n",
       "      <th>chr3:143537173:143537673:501:*:36686</th>\n",
       "      <td>chr3:143537173:143537673:501:*:36686</td>\n",
       "      <td>chr3</td>\n",
       "      <td>143537172</td>\n",
       "      <td>143537673</td>\n",
       "    </tr>\n",
       "    <tr>\n",
       "      <th>chr8:139154232:139154732:501:*:32713</th>\n",
       "      <td>chr8:139154232:139154732:501:*:32713</td>\n",
       "      <td>chr8</td>\n",
       "      <td>139154231</td>\n",
       "      <td>139154732</td>\n",
       "    </tr>\n",
       "    <tr>\n",
       "      <th>chr4:139710156:139710656:501:*:29780</th>\n",
       "      <td>chr4:139710156:139710656:501:*:29780</td>\n",
       "      <td>chr4</td>\n",
       "      <td>139710155</td>\n",
       "      <td>139710656</td>\n",
       "    </tr>\n",
       "    <tr>\n",
       "      <th>chr11:62880623:62881123:501:*:15150</th>\n",
       "      <td>chr11:62880623:62881123:501:*:15150</td>\n",
       "      <td>chr11</td>\n",
       "      <td>62880622</td>\n",
       "      <td>62881123</td>\n",
       "    </tr>\n",
       "  </tbody>\n",
       "</table>\n",
       "<p>42816 rows × 4 columns</p>\n",
       "</div>"
      ],
      "text/plain": [
       "                                                                 peak_name  \\\n",
       "peak_name                                                                    \n",
       "chr5:176619149:176619649:501:*:42180  chr5:176619149:176619649:501:*:42180   \n",
       "chr1:98793088:98793588:501:*:32029      chr1:98793088:98793588:501:*:32029   \n",
       "chr19:16893278:16893778:501:*:7479      chr19:16893278:16893778:501:*:7479   \n",
       "chr3:27611393:27611893:501:*:7332        chr3:27611393:27611893:501:*:7332   \n",
       "chr12:78209819:78210319:501:*:19149    chr12:78209819:78210319:501:*:19149   \n",
       "...                                                                    ...   \n",
       "chr5:76499415:76499915:501:*:16095      chr5:76499415:76499915:501:*:16095   \n",
       "chr3:143537173:143537673:501:*:36686  chr3:143537173:143537673:501:*:36686   \n",
       "chr8:139154232:139154732:501:*:32713  chr8:139154232:139154732:501:*:32713   \n",
       "chr4:139710156:139710656:501:*:29780  chr4:139710156:139710656:501:*:29780   \n",
       "chr11:62880623:62881123:501:*:15150    chr11:62880623:62881123:501:*:15150   \n",
       "\n",
       "                                        chr      start        end  \n",
       "peak_name                                                          \n",
       "chr5:176619149:176619649:501:*:42180   chr5  176619148  176619649  \n",
       "chr1:98793088:98793588:501:*:32029     chr1   98793087   98793588  \n",
       "chr19:16893278:16893778:501:*:7479    chr19   16893277   16893778  \n",
       "chr3:27611393:27611893:501:*:7332      chr3   27611392   27611893  \n",
       "chr12:78209819:78210319:501:*:19149   chr12   78209818   78210319  \n",
       "...                                     ...        ...        ...  \n",
       "chr5:76499415:76499915:501:*:16095     chr5   76499414   76499915  \n",
       "chr3:143537173:143537673:501:*:36686   chr3  143537172  143537673  \n",
       "chr8:139154232:139154732:501:*:32713   chr8  139154231  139154732  \n",
       "chr4:139710156:139710656:501:*:29780   chr4  139710155  139710656  \n",
       "chr11:62880623:62881123:501:*:15150   chr11   62880622   62881123  \n",
       "\n",
       "[42816 rows x 4 columns]"
      ]
     },
     "execution_count": 71,
     "metadata": {},
     "output_type": "execute_result"
    }
   ],
   "source": [
    "peak_locs = caPeaks_1ct_agg.var[['peak_name', 'chr', 'start', 'end']].copy()\n",
    "peak_locs['start'] = peak_locs['start'] - 1\n",
    "\n",
    "peak_locs"
   ]
  },
  {
   "cell_type": "code",
   "execution_count": 72,
   "id": "3e798d00-dbb7-4617-873b-b6b9496a0389",
   "metadata": {
    "execution": {
     "iopub.execute_input": "2024-10-02T09:28:39.569329Z",
     "iopub.status.busy": "2024-10-02T09:28:39.567838Z",
     "iopub.status.idle": "2024-10-02T09:32:25.925081Z",
     "shell.execute_reply": "2024-10-02T09:32:25.923748Z"
    }
   },
   "outputs": [],
   "source": [
    "peak_locs_path = f\"data/intermediate-data/datasets/{DATASET_ID}/matrix-eQTL_io/chromatin_accessibility/peak_locations/{ct_map_id}/{cell_type}.tsv\"\n",
    "\n",
    "create_folder(os.path.dirname(os.path.abspath(peak_locs_path)))\n",
    "\n",
    "peak_locs.to_csv(peak_locs_path, sep='\\t', index=False)"
   ]
  },
  {
   "cell_type": "code",
   "execution_count": 73,
   "id": "70b0d4d2-8125-4117-8a49-5cb782174b94",
   "metadata": {
    "execution": {
     "iopub.execute_input": "2024-10-02T09:32:25.935423Z",
     "iopub.status.busy": "2024-10-02T09:32:25.933273Z",
     "iopub.status.idle": "2024-10-02T09:32:25.942003Z",
     "shell.execute_reply": "2024-10-02T09:32:25.940733Z"
    }
   },
   "outputs": [],
   "source": [
    "del peak_locs"
   ]
  },
  {
   "cell_type": "markdown",
   "id": "8c2efa77-1434-4db3-a7df-894441cb66c3",
   "metadata": {},
   "source": [
    "# COV: CA PCs"
   ]
  },
  {
   "cell_type": "code",
   "execution_count": 74,
   "id": "430de14f-87be-4ca6-b75e-2500a0b810e4",
   "metadata": {
    "execution": {
     "iopub.execute_input": "2024-10-02T09:32:25.950714Z",
     "iopub.status.busy": "2024-10-02T09:32:25.948455Z",
     "iopub.status.idle": "2024-10-02T09:32:32.461184Z",
     "shell.execute_reply": "2024-10-02T09:32:32.460178Z"
    }
   },
   "outputs": [],
   "source": [
    "sc.pp.pca(caPeaks_1ct_agg) # Filtered for final peak set"
   ]
  },
  {
   "cell_type": "code",
   "execution_count": 75,
   "id": "f67e9f62-a2ae-4a58-acda-527e1df05648",
   "metadata": {
    "execution": {
     "iopub.execute_input": "2024-10-02T09:32:32.467994Z",
     "iopub.status.busy": "2024-10-02T09:32:32.466413Z",
     "iopub.status.idle": "2024-10-02T09:32:32.476276Z",
     "shell.execute_reply": "2024-10-02T09:32:32.475159Z"
    }
   },
   "outputs": [],
   "source": [
    "ca_pcs = pd.DataFrame(caPeaks_1ct_agg.obsm['X_pca'][:, 0:n_ca_PCs]).set_index(caPeaks_1ct_agg.obs_names)\n",
    "ca_pcs.columns = [f'caPC_{str(i)}' for i in range(1, n_ca_PCs + 1)]\n",
    "ca_pcs = ca_pcs.T\n",
    "ca_pcs = ca_pcs.rename_axis('id')"
   ]
  },
  {
   "cell_type": "code",
   "execution_count": 76,
   "id": "139fd2d5-083b-46ad-9129-c48a2facd0b1",
   "metadata": {
    "execution": {
     "iopub.execute_input": "2024-10-02T09:32:32.483122Z",
     "iopub.status.busy": "2024-10-02T09:32:32.481268Z",
     "iopub.status.idle": "2024-10-02T09:32:32.531679Z",
     "shell.execute_reply": "2024-10-02T09:32:32.530730Z"
    }
   },
   "outputs": [
    {
     "name": "stdout",
     "output_type": "stream",
     "text": [
      "(5, 70)\n"
     ]
    },
    {
     "data": {
      "text/html": [
       "<div>\n",
       "<style scoped>\n",
       "    .dataframe tbody tr th:only-of-type {\n",
       "        vertical-align: middle;\n",
       "    }\n",
       "\n",
       "    .dataframe tbody tr th {\n",
       "        vertical-align: top;\n",
       "    }\n",
       "\n",
       "    .dataframe thead th {\n",
       "        text-align: right;\n",
       "    }\n",
       "</style>\n",
       "<table border=\"1\" class=\"dataframe\">\n",
       "  <thead>\n",
       "    <tr style=\"text-align: right;\">\n",
       "      <th></th>\n",
       "      <th>SAMEA2678742</th>\n",
       "      <th>SAMEA2595426</th>\n",
       "      <th>SAMEA2707499</th>\n",
       "      <th>SAMEA4451109</th>\n",
       "      <th>SAMEA2711371</th>\n",
       "      <th>SAMEA3973854</th>\n",
       "      <th>SAMEA2547899</th>\n",
       "      <th>SAMEA2420640</th>\n",
       "      <th>SAMEA3485958</th>\n",
       "      <th>SAMEA2645805</th>\n",
       "      <th>...</th>\n",
       "      <th>SAMEA2536416</th>\n",
       "      <th>SAMEA3967410</th>\n",
       "      <th>SAMEA3853161</th>\n",
       "      <th>SAMEA2698309</th>\n",
       "      <th>SAMEA2609971</th>\n",
       "      <th>SAMEA2536413</th>\n",
       "      <th>SAMEA2625592</th>\n",
       "      <th>SAMEA3854308</th>\n",
       "      <th>SAMEA3963885</th>\n",
       "      <th>SAMEA3962524</th>\n",
       "    </tr>\n",
       "    <tr>\n",
       "      <th>id</th>\n",
       "      <th></th>\n",
       "      <th></th>\n",
       "      <th></th>\n",
       "      <th></th>\n",
       "      <th></th>\n",
       "      <th></th>\n",
       "      <th></th>\n",
       "      <th></th>\n",
       "      <th></th>\n",
       "      <th></th>\n",
       "      <th></th>\n",
       "      <th></th>\n",
       "      <th></th>\n",
       "      <th></th>\n",
       "      <th></th>\n",
       "      <th></th>\n",
       "      <th></th>\n",
       "      <th></th>\n",
       "      <th></th>\n",
       "      <th></th>\n",
       "      <th></th>\n",
       "    </tr>\n",
       "  </thead>\n",
       "  <tbody>\n",
       "    <tr>\n",
       "      <th>caPC_1</th>\n",
       "      <td>0.348546</td>\n",
       "      <td>1.361199</td>\n",
       "      <td>-0.139383</td>\n",
       "      <td>0.685893</td>\n",
       "      <td>1.295069</td>\n",
       "      <td>0.108595</td>\n",
       "      <td>-0.525447</td>\n",
       "      <td>0.058303</td>\n",
       "      <td>-0.255168</td>\n",
       "      <td>-0.485635</td>\n",
       "      <td>...</td>\n",
       "      <td>-0.517757</td>\n",
       "      <td>1.081507</td>\n",
       "      <td>-0.799009</td>\n",
       "      <td>-0.003219</td>\n",
       "      <td>-1.181605</td>\n",
       "      <td>1.381924</td>\n",
       "      <td>1.460941</td>\n",
       "      <td>1.579016</td>\n",
       "      <td>-0.684777</td>\n",
       "      <td>-0.785479</td>\n",
       "    </tr>\n",
       "    <tr>\n",
       "      <th>caPC_2</th>\n",
       "      <td>-0.083167</td>\n",
       "      <td>-0.121511</td>\n",
       "      <td>-0.087175</td>\n",
       "      <td>1.018124</td>\n",
       "      <td>2.252304</td>\n",
       "      <td>-1.041368</td>\n",
       "      <td>-0.424844</td>\n",
       "      <td>-0.277669</td>\n",
       "      <td>-0.100596</td>\n",
       "      <td>-0.854988</td>\n",
       "      <td>...</td>\n",
       "      <td>-0.661999</td>\n",
       "      <td>0.433788</td>\n",
       "      <td>-0.774829</td>\n",
       "      <td>-0.838230</td>\n",
       "      <td>1.022353</td>\n",
       "      <td>-0.138999</td>\n",
       "      <td>-0.143831</td>\n",
       "      <td>-0.979940</td>\n",
       "      <td>0.601913</td>\n",
       "      <td>-0.362163</td>\n",
       "    </tr>\n",
       "    <tr>\n",
       "      <th>caPC_3</th>\n",
       "      <td>0.075319</td>\n",
       "      <td>-0.392559</td>\n",
       "      <td>-0.289926</td>\n",
       "      <td>0.131108</td>\n",
       "      <td>3.580719</td>\n",
       "      <td>0.476380</td>\n",
       "      <td>0.136986</td>\n",
       "      <td>-0.120735</td>\n",
       "      <td>-0.034258</td>\n",
       "      <td>0.275680</td>\n",
       "      <td>...</td>\n",
       "      <td>0.253267</td>\n",
       "      <td>-0.937823</td>\n",
       "      <td>0.206263</td>\n",
       "      <td>0.131030</td>\n",
       "      <td>-0.165235</td>\n",
       "      <td>-0.377844</td>\n",
       "      <td>-0.712095</td>\n",
       "      <td>0.243763</td>\n",
       "      <td>-0.293891</td>\n",
       "      <td>0.209106</td>\n",
       "    </tr>\n",
       "    <tr>\n",
       "      <th>caPC_4</th>\n",
       "      <td>-0.155512</td>\n",
       "      <td>-0.087332</td>\n",
       "      <td>0.400437</td>\n",
       "      <td>-0.265492</td>\n",
       "      <td>1.584183</td>\n",
       "      <td>-0.102408</td>\n",
       "      <td>0.231932</td>\n",
       "      <td>0.270361</td>\n",
       "      <td>0.207619</td>\n",
       "      <td>0.333942</td>\n",
       "      <td>...</td>\n",
       "      <td>0.044198</td>\n",
       "      <td>0.997354</td>\n",
       "      <td>0.166217</td>\n",
       "      <td>0.113149</td>\n",
       "      <td>-0.447800</td>\n",
       "      <td>0.504098</td>\n",
       "      <td>0.446115</td>\n",
       "      <td>-0.420302</td>\n",
       "      <td>-0.338710</td>\n",
       "      <td>-0.134739</td>\n",
       "    </tr>\n",
       "    <tr>\n",
       "      <th>caPC_5</th>\n",
       "      <td>0.326259</td>\n",
       "      <td>-0.315842</td>\n",
       "      <td>0.254779</td>\n",
       "      <td>0.621833</td>\n",
       "      <td>-0.282696</td>\n",
       "      <td>0.052962</td>\n",
       "      <td>0.026617</td>\n",
       "      <td>0.193478</td>\n",
       "      <td>0.254125</td>\n",
       "      <td>0.169305</td>\n",
       "      <td>...</td>\n",
       "      <td>-0.320228</td>\n",
       "      <td>0.111591</td>\n",
       "      <td>-0.397152</td>\n",
       "      <td>-0.150037</td>\n",
       "      <td>-0.193544</td>\n",
       "      <td>0.460130</td>\n",
       "      <td>-0.566647</td>\n",
       "      <td>-0.036001</td>\n",
       "      <td>-0.249354</td>\n",
       "      <td>-0.387105</td>\n",
       "    </tr>\n",
       "  </tbody>\n",
       "</table>\n",
       "<p>5 rows × 70 columns</p>\n",
       "</div>"
      ],
      "text/plain": [
       "        SAMEA2678742  SAMEA2595426  SAMEA2707499  SAMEA4451109  SAMEA2711371  \\\n",
       "id                                                                             \n",
       "caPC_1      0.348546      1.361199     -0.139383      0.685893      1.295069   \n",
       "caPC_2     -0.083167     -0.121511     -0.087175      1.018124      2.252304   \n",
       "caPC_3      0.075319     -0.392559     -0.289926      0.131108      3.580719   \n",
       "caPC_4     -0.155512     -0.087332      0.400437     -0.265492      1.584183   \n",
       "caPC_5      0.326259     -0.315842      0.254779      0.621833     -0.282696   \n",
       "\n",
       "        SAMEA3973854  SAMEA2547899  SAMEA2420640  SAMEA3485958  SAMEA2645805  \\\n",
       "id                                                                             \n",
       "caPC_1      0.108595     -0.525447      0.058303     -0.255168     -0.485635   \n",
       "caPC_2     -1.041368     -0.424844     -0.277669     -0.100596     -0.854988   \n",
       "caPC_3      0.476380      0.136986     -0.120735     -0.034258      0.275680   \n",
       "caPC_4     -0.102408      0.231932      0.270361      0.207619      0.333942   \n",
       "caPC_5      0.052962      0.026617      0.193478      0.254125      0.169305   \n",
       "\n",
       "        ...  SAMEA2536416  SAMEA3967410  SAMEA3853161  SAMEA2698309  \\\n",
       "id      ...                                                           \n",
       "caPC_1  ...     -0.517757      1.081507     -0.799009     -0.003219   \n",
       "caPC_2  ...     -0.661999      0.433788     -0.774829     -0.838230   \n",
       "caPC_3  ...      0.253267     -0.937823      0.206263      0.131030   \n",
       "caPC_4  ...      0.044198      0.997354      0.166217      0.113149   \n",
       "caPC_5  ...     -0.320228      0.111591     -0.397152     -0.150037   \n",
       "\n",
       "        SAMEA2609971  SAMEA2536413  SAMEA2625592  SAMEA3854308  SAMEA3963885  \\\n",
       "id                                                                             \n",
       "caPC_1     -1.181605      1.381924      1.460941      1.579016     -0.684777   \n",
       "caPC_2      1.022353     -0.138999     -0.143831     -0.979940      0.601913   \n",
       "caPC_3     -0.165235     -0.377844     -0.712095      0.243763     -0.293891   \n",
       "caPC_4     -0.447800      0.504098      0.446115     -0.420302     -0.338710   \n",
       "caPC_5     -0.193544      0.460130     -0.566647     -0.036001     -0.249354   \n",
       "\n",
       "        SAMEA3962524  \n",
       "id                    \n",
       "caPC_1     -0.785479  \n",
       "caPC_2     -0.362163  \n",
       "caPC_3      0.209106  \n",
       "caPC_4     -0.134739  \n",
       "caPC_5     -0.387105  \n",
       "\n",
       "[5 rows x 70 columns]"
      ]
     },
     "execution_count": 76,
     "metadata": {},
     "output_type": "execute_result"
    }
   ],
   "source": [
    "# ! Important that this doesn't change the sample nr! 2 cells above\n",
    "ca_pcs = ca_pcs[ca_donors]\n",
    "\n",
    "print(ca_pcs.shape)\n",
    "ca_pcs"
   ]
  },
  {
   "cell_type": "code",
   "execution_count": 77,
   "id": "4c0ba8f6-388e-487e-9c5e-4bf3e44e0f37",
   "metadata": {
    "execution": {
     "iopub.execute_input": "2024-10-02T09:32:32.538101Z",
     "iopub.status.busy": "2024-10-02T09:32:32.536477Z",
     "iopub.status.idle": "2024-10-02T09:32:32.713421Z",
     "shell.execute_reply": "2024-10-02T09:32:32.712418Z"
    }
   },
   "outputs": [],
   "source": [
    "ca_pcs_path = f\"data/intermediate-data/datasets/{DATASET_ID}/matrix-eQTL_io/chromatin_accessibility/ca_pcs/{ct_map_id}/{cell_type}.tsv\"\n",
    "\n",
    "create_folder(os.path.dirname(os.path.abspath(ca_pcs_path)))\n",
    "\n",
    "ca_pcs.to_csv(ca_pcs_path, sep='\\t')"
   ]
  },
  {
   "cell_type": "code",
   "execution_count": 78,
   "id": "ac869a75-faee-4f2d-b748-b5af0597bfa9",
   "metadata": {
    "execution": {
     "iopub.execute_input": "2024-10-02T09:32:32.720182Z",
     "iopub.status.busy": "2024-10-02T09:32:32.718583Z",
     "iopub.status.idle": "2024-10-02T09:32:32.725151Z",
     "shell.execute_reply": "2024-10-02T09:32:32.724144Z"
    }
   },
   "outputs": [],
   "source": [
    "del ca_pcs\n",
    "del caPeaks_1ct_agg"
   ]
  },
  {
   "cell_type": "markdown",
   "id": "15079d36-e040-4378-9ecc-f5e94a00330c",
   "metadata": {},
   "source": [
    "# COV: Population structure"
   ]
  },
  {
   "cell_type": "code",
   "execution_count": 79,
   "id": "f082d329-abc5-4bd4-bbea-8d7db0a7f1e9",
   "metadata": {
    "execution": {
     "iopub.execute_input": "2024-10-02T09:32:32.732200Z",
     "iopub.status.busy": "2024-10-02T09:32:32.730367Z",
     "iopub.status.idle": "2024-10-02T09:32:33.323125Z",
     "shell.execute_reply": "2024-10-02T09:32:33.322205Z"
    }
   },
   "outputs": [
    {
     "name": "stdout",
     "output_type": "stream",
     "text": [
      "(20, 70)\n"
     ]
    },
    {
     "data": {
      "text/html": [
       "<div>\n",
       "<style scoped>\n",
       "    .dataframe tbody tr th:only-of-type {\n",
       "        vertical-align: middle;\n",
       "    }\n",
       "\n",
       "    .dataframe tbody tr th {\n",
       "        vertical-align: top;\n",
       "    }\n",
       "\n",
       "    .dataframe thead th {\n",
       "        text-align: right;\n",
       "    }\n",
       "</style>\n",
       "<table border=\"1\" class=\"dataframe\">\n",
       "  <thead>\n",
       "    <tr style=\"text-align: right;\">\n",
       "      <th>iid</th>\n",
       "      <th>SAMEA2678742</th>\n",
       "      <th>SAMEA2595426</th>\n",
       "      <th>SAMEA2707499</th>\n",
       "      <th>SAMEA4451109</th>\n",
       "      <th>SAMEA2711371</th>\n",
       "      <th>SAMEA3973854</th>\n",
       "      <th>SAMEA2547899</th>\n",
       "      <th>SAMEA2420640</th>\n",
       "      <th>SAMEA3485958</th>\n",
       "      <th>SAMEA2645805</th>\n",
       "      <th>...</th>\n",
       "      <th>SAMEA2536416</th>\n",
       "      <th>SAMEA3967410</th>\n",
       "      <th>SAMEA3853161</th>\n",
       "      <th>SAMEA2698309</th>\n",
       "      <th>SAMEA2609971</th>\n",
       "      <th>SAMEA2536413</th>\n",
       "      <th>SAMEA2625592</th>\n",
       "      <th>SAMEA3854308</th>\n",
       "      <th>SAMEA3963885</th>\n",
       "      <th>SAMEA3962524</th>\n",
       "    </tr>\n",
       "    <tr>\n",
       "      <th>id</th>\n",
       "      <th></th>\n",
       "      <th></th>\n",
       "      <th></th>\n",
       "      <th></th>\n",
       "      <th></th>\n",
       "      <th></th>\n",
       "      <th></th>\n",
       "      <th></th>\n",
       "      <th></th>\n",
       "      <th></th>\n",
       "      <th></th>\n",
       "      <th></th>\n",
       "      <th></th>\n",
       "      <th></th>\n",
       "      <th></th>\n",
       "      <th></th>\n",
       "      <th></th>\n",
       "      <th></th>\n",
       "      <th></th>\n",
       "      <th></th>\n",
       "      <th></th>\n",
       "    </tr>\n",
       "  </thead>\n",
       "  <tbody>\n",
       "    <tr>\n",
       "      <th>PC1</th>\n",
       "      <td>534.269200</td>\n",
       "      <td>-22.360580</td>\n",
       "      <td>36.567543</td>\n",
       "      <td>8.252880</td>\n",
       "      <td>17.109028</td>\n",
       "      <td>-8.161153</td>\n",
       "      <td>4.767535</td>\n",
       "      <td>-61.166600</td>\n",
       "      <td>-10.119088</td>\n",
       "      <td>5.062119</td>\n",
       "      <td>...</td>\n",
       "      <td>-141.934390</td>\n",
       "      <td>2.542705</td>\n",
       "      <td>-26.086426</td>\n",
       "      <td>-587.087340</td>\n",
       "      <td>-11.026092</td>\n",
       "      <td>37.227420</td>\n",
       "      <td>-36.099750</td>\n",
       "      <td>15.455708</td>\n",
       "      <td>-45.389390</td>\n",
       "      <td>12.186271</td>\n",
       "    </tr>\n",
       "    <tr>\n",
       "      <th>PC2</th>\n",
       "      <td>-379.448880</td>\n",
       "      <td>16.850555</td>\n",
       "      <td>24.418850</td>\n",
       "      <td>11.945375</td>\n",
       "      <td>-2.294497</td>\n",
       "      <td>4.912662</td>\n",
       "      <td>42.741580</td>\n",
       "      <td>8.264520</td>\n",
       "      <td>-14.613321</td>\n",
       "      <td>17.896296</td>\n",
       "      <td>...</td>\n",
       "      <td>-963.927860</td>\n",
       "      <td>22.273016</td>\n",
       "      <td>12.337655</td>\n",
       "      <td>367.275100</td>\n",
       "      <td>-19.358488</td>\n",
       "      <td>29.959509</td>\n",
       "      <td>69.155190</td>\n",
       "      <td>43.419895</td>\n",
       "      <td>578.792850</td>\n",
       "      <td>42.351612</td>\n",
       "    </tr>\n",
       "    <tr>\n",
       "      <th>PC3</th>\n",
       "      <td>-755.075800</td>\n",
       "      <td>43.723200</td>\n",
       "      <td>56.386528</td>\n",
       "      <td>49.424560</td>\n",
       "      <td>12.770959</td>\n",
       "      <td>28.715384</td>\n",
       "      <td>25.009369</td>\n",
       "      <td>27.960432</td>\n",
       "      <td>35.091404</td>\n",
       "      <td>63.705715</td>\n",
       "      <td>...</td>\n",
       "      <td>-71.293526</td>\n",
       "      <td>0.096000</td>\n",
       "      <td>8.423677</td>\n",
       "      <td>587.046800</td>\n",
       "      <td>30.143745</td>\n",
       "      <td>7.322402</td>\n",
       "      <td>54.365560</td>\n",
       "      <td>29.958840</td>\n",
       "      <td>-521.950900</td>\n",
       "      <td>10.103840</td>\n",
       "    </tr>\n",
       "    <tr>\n",
       "      <th>PC4</th>\n",
       "      <td>562.314800</td>\n",
       "      <td>-1.413503</td>\n",
       "      <td>49.088190</td>\n",
       "      <td>46.583675</td>\n",
       "      <td>-54.440838</td>\n",
       "      <td>10.677946</td>\n",
       "      <td>-16.892120</td>\n",
       "      <td>66.276980</td>\n",
       "      <td>-3.814449</td>\n",
       "      <td>7.872817</td>\n",
       "      <td>...</td>\n",
       "      <td>18.946665</td>\n",
       "      <td>-23.513031</td>\n",
       "      <td>-15.730290</td>\n",
       "      <td>372.022800</td>\n",
       "      <td>61.010986</td>\n",
       "      <td>4.514056</td>\n",
       "      <td>8.240096</td>\n",
       "      <td>-21.306501</td>\n",
       "      <td>-901.205300</td>\n",
       "      <td>-94.013070</td>\n",
       "    </tr>\n",
       "    <tr>\n",
       "      <th>PC5</th>\n",
       "      <td>-588.629330</td>\n",
       "      <td>30.050665</td>\n",
       "      <td>-1.617828</td>\n",
       "      <td>-17.147549</td>\n",
       "      <td>-24.089895</td>\n",
       "      <td>-35.125046</td>\n",
       "      <td>-39.381832</td>\n",
       "      <td>0.795895</td>\n",
       "      <td>2.491865</td>\n",
       "      <td>-31.429237</td>\n",
       "      <td>...</td>\n",
       "      <td>-371.363400</td>\n",
       "      <td>44.935425</td>\n",
       "      <td>12.673084</td>\n",
       "      <td>49.229893</td>\n",
       "      <td>18.074700</td>\n",
       "      <td>20.821611</td>\n",
       "      <td>-5.430482</td>\n",
       "      <td>11.136854</td>\n",
       "      <td>563.941200</td>\n",
       "      <td>-3.526762</td>\n",
       "    </tr>\n",
       "    <tr>\n",
       "      <th>PC6</th>\n",
       "      <td>1117.132900</td>\n",
       "      <td>-39.224907</td>\n",
       "      <td>-71.204760</td>\n",
       "      <td>33.691920</td>\n",
       "      <td>-2.276715</td>\n",
       "      <td>16.425050</td>\n",
       "      <td>-43.932095</td>\n",
       "      <td>32.240032</td>\n",
       "      <td>4.828308</td>\n",
       "      <td>-26.485926</td>\n",
       "      <td>...</td>\n",
       "      <td>-577.124300</td>\n",
       "      <td>-61.912540</td>\n",
       "      <td>-49.799580</td>\n",
       "      <td>-182.055220</td>\n",
       "      <td>-9.483054</td>\n",
       "      <td>-4.850675</td>\n",
       "      <td>7.309116</td>\n",
       "      <td>-12.994849</td>\n",
       "      <td>270.644130</td>\n",
       "      <td>5.925176</td>\n",
       "    </tr>\n",
       "    <tr>\n",
       "      <th>PC7</th>\n",
       "      <td>116.265930</td>\n",
       "      <td>10.394878</td>\n",
       "      <td>4.270656</td>\n",
       "      <td>-7.336715</td>\n",
       "      <td>-7.592501</td>\n",
       "      <td>-5.632242</td>\n",
       "      <td>11.173185</td>\n",
       "      <td>24.833984</td>\n",
       "      <td>-21.255926</td>\n",
       "      <td>-70.128140</td>\n",
       "      <td>...</td>\n",
       "      <td>1123.644800</td>\n",
       "      <td>-53.017044</td>\n",
       "      <td>-11.844399</td>\n",
       "      <td>-386.220730</td>\n",
       "      <td>69.763690</td>\n",
       "      <td>-5.095608</td>\n",
       "      <td>-14.493244</td>\n",
       "      <td>-0.985342</td>\n",
       "      <td>269.105530</td>\n",
       "      <td>-43.594402</td>\n",
       "    </tr>\n",
       "    <tr>\n",
       "      <th>PC8</th>\n",
       "      <td>-23.191648</td>\n",
       "      <td>-32.527310</td>\n",
       "      <td>-3.997136</td>\n",
       "      <td>-11.409421</td>\n",
       "      <td>-6.455975</td>\n",
       "      <td>-17.070618</td>\n",
       "      <td>5.806158</td>\n",
       "      <td>36.857200</td>\n",
       "      <td>-12.550730</td>\n",
       "      <td>44.648506</td>\n",
       "      <td>...</td>\n",
       "      <td>-458.672880</td>\n",
       "      <td>20.081114</td>\n",
       "      <td>18.833464</td>\n",
       "      <td>-129.463040</td>\n",
       "      <td>-15.064022</td>\n",
       "      <td>-4.225716</td>\n",
       "      <td>-20.599740</td>\n",
       "      <td>-20.355007</td>\n",
       "      <td>-393.916500</td>\n",
       "      <td>-6.027317</td>\n",
       "    </tr>\n",
       "    <tr>\n",
       "      <th>PC9</th>\n",
       "      <td>237.899120</td>\n",
       "      <td>-11.905414</td>\n",
       "      <td>4.609481</td>\n",
       "      <td>-43.480988</td>\n",
       "      <td>2.462249</td>\n",
       "      <td>-4.429470</td>\n",
       "      <td>56.597780</td>\n",
       "      <td>-70.586040</td>\n",
       "      <td>-14.428098</td>\n",
       "      <td>24.249603</td>\n",
       "      <td>...</td>\n",
       "      <td>-610.459530</td>\n",
       "      <td>25.963253</td>\n",
       "      <td>23.225570</td>\n",
       "      <td>-532.290700</td>\n",
       "      <td>12.667098</td>\n",
       "      <td>-12.799575</td>\n",
       "      <td>6.205075</td>\n",
       "      <td>-37.755750</td>\n",
       "      <td>-186.866290</td>\n",
       "      <td>17.676556</td>\n",
       "    </tr>\n",
       "    <tr>\n",
       "      <th>PC10</th>\n",
       "      <td>422.791170</td>\n",
       "      <td>-29.126713</td>\n",
       "      <td>-26.576014</td>\n",
       "      <td>-10.384218</td>\n",
       "      <td>23.624441</td>\n",
       "      <td>-8.381093</td>\n",
       "      <td>49.369473</td>\n",
       "      <td>-31.915133</td>\n",
       "      <td>-17.510075</td>\n",
       "      <td>8.267583</td>\n",
       "      <td>...</td>\n",
       "      <td>108.150070</td>\n",
       "      <td>0.394199</td>\n",
       "      <td>30.223679</td>\n",
       "      <td>1099.444200</td>\n",
       "      <td>-44.826110</td>\n",
       "      <td>-13.276481</td>\n",
       "      <td>15.580579</td>\n",
       "      <td>3.913658</td>\n",
       "      <td>-156.445950</td>\n",
       "      <td>20.932838</td>\n",
       "    </tr>\n",
       "    <tr>\n",
       "      <th>PC11</th>\n",
       "      <td>266.147340</td>\n",
       "      <td>41.585423</td>\n",
       "      <td>-10.993852</td>\n",
       "      <td>6.509624</td>\n",
       "      <td>71.656170</td>\n",
       "      <td>12.516593</td>\n",
       "      <td>33.275760</td>\n",
       "      <td>7.882976</td>\n",
       "      <td>-5.167907</td>\n",
       "      <td>46.524130</td>\n",
       "      <td>...</td>\n",
       "      <td>31.804737</td>\n",
       "      <td>5.809955</td>\n",
       "      <td>-3.670348</td>\n",
       "      <td>209.611970</td>\n",
       "      <td>-29.091757</td>\n",
       "      <td>-3.719798</td>\n",
       "      <td>-13.382023</td>\n",
       "      <td>-28.110603</td>\n",
       "      <td>1092.867000</td>\n",
       "      <td>13.310209</td>\n",
       "    </tr>\n",
       "    <tr>\n",
       "      <th>PC12</th>\n",
       "      <td>-494.554630</td>\n",
       "      <td>-9.675142</td>\n",
       "      <td>-1.525258</td>\n",
       "      <td>4.020929</td>\n",
       "      <td>46.448456</td>\n",
       "      <td>-43.259445</td>\n",
       "      <td>68.296240</td>\n",
       "      <td>14.972281</td>\n",
       "      <td>-6.075427</td>\n",
       "      <td>-2.232178</td>\n",
       "      <td>...</td>\n",
       "      <td>252.255140</td>\n",
       "      <td>-29.359482</td>\n",
       "      <td>4.045453</td>\n",
       "      <td>-672.500100</td>\n",
       "      <td>48.531223</td>\n",
       "      <td>26.132353</td>\n",
       "      <td>10.483032</td>\n",
       "      <td>-7.283550</td>\n",
       "      <td>28.052065</td>\n",
       "      <td>38.829010</td>\n",
       "    </tr>\n",
       "    <tr>\n",
       "      <th>PC13</th>\n",
       "      <td>171.593780</td>\n",
       "      <td>-142.568190</td>\n",
       "      <td>-178.462480</td>\n",
       "      <td>-150.923080</td>\n",
       "      <td>-221.023390</td>\n",
       "      <td>-159.230000</td>\n",
       "      <td>-284.433300</td>\n",
       "      <td>-187.794850</td>\n",
       "      <td>-154.966540</td>\n",
       "      <td>-178.486400</td>\n",
       "      <td>...</td>\n",
       "      <td>359.951700</td>\n",
       "      <td>-242.551390</td>\n",
       "      <td>-149.118900</td>\n",
       "      <td>518.956500</td>\n",
       "      <td>-50.006428</td>\n",
       "      <td>-176.961030</td>\n",
       "      <td>-181.868420</td>\n",
       "      <td>-110.488100</td>\n",
       "      <td>405.183840</td>\n",
       "      <td>-190.555760</td>\n",
       "    </tr>\n",
       "    <tr>\n",
       "      <th>PC14</th>\n",
       "      <td>11.394871</td>\n",
       "      <td>576.905900</td>\n",
       "      <td>-64.608070</td>\n",
       "      <td>63.972775</td>\n",
       "      <td>279.088960</td>\n",
       "      <td>-89.331790</td>\n",
       "      <td>-132.802630</td>\n",
       "      <td>158.619750</td>\n",
       "      <td>407.347300</td>\n",
       "      <td>140.499660</td>\n",
       "      <td>...</td>\n",
       "      <td>4.403586</td>\n",
       "      <td>161.532930</td>\n",
       "      <td>117.983650</td>\n",
       "      <td>5.041889</td>\n",
       "      <td>221.817720</td>\n",
       "      <td>459.534400</td>\n",
       "      <td>-1.157586</td>\n",
       "      <td>335.140700</td>\n",
       "      <td>-11.047038</td>\n",
       "      <td>248.250270</td>\n",
       "    </tr>\n",
       "    <tr>\n",
       "      <th>PC15</th>\n",
       "      <td>9.338673</td>\n",
       "      <td>-315.436680</td>\n",
       "      <td>108.234470</td>\n",
       "      <td>99.964720</td>\n",
       "      <td>136.686070</td>\n",
       "      <td>101.540110</td>\n",
       "      <td>13.988464</td>\n",
       "      <td>-18.076292</td>\n",
       "      <td>-183.302580</td>\n",
       "      <td>128.270340</td>\n",
       "      <td>...</td>\n",
       "      <td>-20.005802</td>\n",
       "      <td>596.444300</td>\n",
       "      <td>366.941830</td>\n",
       "      <td>0.513277</td>\n",
       "      <td>143.680730</td>\n",
       "      <td>-218.913930</td>\n",
       "      <td>85.906240</td>\n",
       "      <td>399.658900</td>\n",
       "      <td>1.457876</td>\n",
       "      <td>-318.808500</td>\n",
       "    </tr>\n",
       "    <tr>\n",
       "      <th>PC16</th>\n",
       "      <td>6.864796</td>\n",
       "      <td>-44.787727</td>\n",
       "      <td>-125.601456</td>\n",
       "      <td>122.850710</td>\n",
       "      <td>212.195660</td>\n",
       "      <td>-99.399720</td>\n",
       "      <td>-273.889980</td>\n",
       "      <td>200.052110</td>\n",
       "      <td>-29.608200</td>\n",
       "      <td>36.493553</td>\n",
       "      <td>...</td>\n",
       "      <td>-12.511993</td>\n",
       "      <td>-12.366750</td>\n",
       "      <td>-164.642530</td>\n",
       "      <td>-6.123991</td>\n",
       "      <td>-148.828280</td>\n",
       "      <td>340.579220</td>\n",
       "      <td>-405.125270</td>\n",
       "      <td>-103.138590</td>\n",
       "      <td>-3.669498</td>\n",
       "      <td>428.408080</td>\n",
       "    </tr>\n",
       "    <tr>\n",
       "      <th>PC17</th>\n",
       "      <td>2.421431</td>\n",
       "      <td>335.201700</td>\n",
       "      <td>-72.855515</td>\n",
       "      <td>48.546234</td>\n",
       "      <td>-319.046140</td>\n",
       "      <td>89.274155</td>\n",
       "      <td>318.007080</td>\n",
       "      <td>-108.241250</td>\n",
       "      <td>-25.054993</td>\n",
       "      <td>-68.788470</td>\n",
       "      <td>...</td>\n",
       "      <td>13.917975</td>\n",
       "      <td>15.273235</td>\n",
       "      <td>-110.926030</td>\n",
       "      <td>1.619527</td>\n",
       "      <td>125.901460</td>\n",
       "      <td>58.875970</td>\n",
       "      <td>432.117220</td>\n",
       "      <td>36.376625</td>\n",
       "      <td>-20.445140</td>\n",
       "      <td>415.632970</td>\n",
       "    </tr>\n",
       "    <tr>\n",
       "      <th>PC18</th>\n",
       "      <td>9.157338</td>\n",
       "      <td>282.754270</td>\n",
       "      <td>-110.783806</td>\n",
       "      <td>-80.383995</td>\n",
       "      <td>194.218640</td>\n",
       "      <td>122.213720</td>\n",
       "      <td>208.535630</td>\n",
       "      <td>-90.662700</td>\n",
       "      <td>41.447247</td>\n",
       "      <td>-188.331910</td>\n",
       "      <td>...</td>\n",
       "      <td>-18.948662</td>\n",
       "      <td>-273.870480</td>\n",
       "      <td>-39.284340</td>\n",
       "      <td>12.827763</td>\n",
       "      <td>-167.480040</td>\n",
       "      <td>-77.060620</td>\n",
       "      <td>-163.732530</td>\n",
       "      <td>-174.220900</td>\n",
       "      <td>-11.515460</td>\n",
       "      <td>21.005550</td>\n",
       "    </tr>\n",
       "    <tr>\n",
       "      <th>PC19</th>\n",
       "      <td>-22.515950</td>\n",
       "      <td>-143.777100</td>\n",
       "      <td>-150.162280</td>\n",
       "      <td>364.398860</td>\n",
       "      <td>-71.568016</td>\n",
       "      <td>-520.538900</td>\n",
       "      <td>159.854720</td>\n",
       "      <td>-98.613960</td>\n",
       "      <td>-59.733490</td>\n",
       "      <td>96.984230</td>\n",
       "      <td>...</td>\n",
       "      <td>3.497539</td>\n",
       "      <td>25.707428</td>\n",
       "      <td>-388.938400</td>\n",
       "      <td>-10.482616</td>\n",
       "      <td>-113.098630</td>\n",
       "      <td>107.969894</td>\n",
       "      <td>-19.123411</td>\n",
       "      <td>12.432402</td>\n",
       "      <td>-9.094480</td>\n",
       "      <td>-39.450592</td>\n",
       "    </tr>\n",
       "    <tr>\n",
       "      <th>PC20</th>\n",
       "      <td>-10.507130</td>\n",
       "      <td>377.663300</td>\n",
       "      <td>-297.114700</td>\n",
       "      <td>-335.757450</td>\n",
       "      <td>346.178340</td>\n",
       "      <td>60.367810</td>\n",
       "      <td>251.099870</td>\n",
       "      <td>40.788803</td>\n",
       "      <td>-153.054530</td>\n",
       "      <td>104.699420</td>\n",
       "      <td>...</td>\n",
       "      <td>-17.242428</td>\n",
       "      <td>-268.271180</td>\n",
       "      <td>153.930700</td>\n",
       "      <td>-2.889362</td>\n",
       "      <td>223.734940</td>\n",
       "      <td>-134.122420</td>\n",
       "      <td>-361.408660</td>\n",
       "      <td>-11.217748</td>\n",
       "      <td>3.608833</td>\n",
       "      <td>-232.704160</td>\n",
       "    </tr>\n",
       "  </tbody>\n",
       "</table>\n",
       "<p>20 rows × 70 columns</p>\n",
       "</div>"
      ],
      "text/plain": [
       "iid   SAMEA2678742  SAMEA2595426  SAMEA2707499  SAMEA4451109  SAMEA2711371  \\\n",
       "id                                                                           \n",
       "PC1     534.269200    -22.360580     36.567543      8.252880     17.109028   \n",
       "PC2    -379.448880     16.850555     24.418850     11.945375     -2.294497   \n",
       "PC3    -755.075800     43.723200     56.386528     49.424560     12.770959   \n",
       "PC4     562.314800     -1.413503     49.088190     46.583675    -54.440838   \n",
       "PC5    -588.629330     30.050665     -1.617828    -17.147549    -24.089895   \n",
       "PC6    1117.132900    -39.224907    -71.204760     33.691920     -2.276715   \n",
       "PC7     116.265930     10.394878      4.270656     -7.336715     -7.592501   \n",
       "PC8     -23.191648    -32.527310     -3.997136    -11.409421     -6.455975   \n",
       "PC9     237.899120    -11.905414      4.609481    -43.480988      2.462249   \n",
       "PC10    422.791170    -29.126713    -26.576014    -10.384218     23.624441   \n",
       "PC11    266.147340     41.585423    -10.993852      6.509624     71.656170   \n",
       "PC12   -494.554630     -9.675142     -1.525258      4.020929     46.448456   \n",
       "PC13    171.593780   -142.568190   -178.462480   -150.923080   -221.023390   \n",
       "PC14     11.394871    576.905900    -64.608070     63.972775    279.088960   \n",
       "PC15      9.338673   -315.436680    108.234470     99.964720    136.686070   \n",
       "PC16      6.864796    -44.787727   -125.601456    122.850710    212.195660   \n",
       "PC17      2.421431    335.201700    -72.855515     48.546234   -319.046140   \n",
       "PC18      9.157338    282.754270   -110.783806    -80.383995    194.218640   \n",
       "PC19    -22.515950   -143.777100   -150.162280    364.398860    -71.568016   \n",
       "PC20    -10.507130    377.663300   -297.114700   -335.757450    346.178340   \n",
       "\n",
       "iid   SAMEA3973854  SAMEA2547899  SAMEA2420640  SAMEA3485958  SAMEA2645805  \\\n",
       "id                                                                           \n",
       "PC1      -8.161153      4.767535    -61.166600    -10.119088      5.062119   \n",
       "PC2       4.912662     42.741580      8.264520    -14.613321     17.896296   \n",
       "PC3      28.715384     25.009369     27.960432     35.091404     63.705715   \n",
       "PC4      10.677946    -16.892120     66.276980     -3.814449      7.872817   \n",
       "PC5     -35.125046    -39.381832      0.795895      2.491865    -31.429237   \n",
       "PC6      16.425050    -43.932095     32.240032      4.828308    -26.485926   \n",
       "PC7      -5.632242     11.173185     24.833984    -21.255926    -70.128140   \n",
       "PC8     -17.070618      5.806158     36.857200    -12.550730     44.648506   \n",
       "PC9      -4.429470     56.597780    -70.586040    -14.428098     24.249603   \n",
       "PC10     -8.381093     49.369473    -31.915133    -17.510075      8.267583   \n",
       "PC11     12.516593     33.275760      7.882976     -5.167907     46.524130   \n",
       "PC12    -43.259445     68.296240     14.972281     -6.075427     -2.232178   \n",
       "PC13   -159.230000   -284.433300   -187.794850   -154.966540   -178.486400   \n",
       "PC14    -89.331790   -132.802630    158.619750    407.347300    140.499660   \n",
       "PC15    101.540110     13.988464    -18.076292   -183.302580    128.270340   \n",
       "PC16    -99.399720   -273.889980    200.052110    -29.608200     36.493553   \n",
       "PC17     89.274155    318.007080   -108.241250    -25.054993    -68.788470   \n",
       "PC18    122.213720    208.535630    -90.662700     41.447247   -188.331910   \n",
       "PC19   -520.538900    159.854720    -98.613960    -59.733490     96.984230   \n",
       "PC20     60.367810    251.099870     40.788803   -153.054530    104.699420   \n",
       "\n",
       "iid   ...  SAMEA2536416  SAMEA3967410  SAMEA3853161  SAMEA2698309  \\\n",
       "id    ...                                                           \n",
       "PC1   ...   -141.934390      2.542705    -26.086426   -587.087340   \n",
       "PC2   ...   -963.927860     22.273016     12.337655    367.275100   \n",
       "PC3   ...    -71.293526      0.096000      8.423677    587.046800   \n",
       "PC4   ...     18.946665    -23.513031    -15.730290    372.022800   \n",
       "PC5   ...   -371.363400     44.935425     12.673084     49.229893   \n",
       "PC6   ...   -577.124300    -61.912540    -49.799580   -182.055220   \n",
       "PC7   ...   1123.644800    -53.017044    -11.844399   -386.220730   \n",
       "PC8   ...   -458.672880     20.081114     18.833464   -129.463040   \n",
       "PC9   ...   -610.459530     25.963253     23.225570   -532.290700   \n",
       "PC10  ...    108.150070      0.394199     30.223679   1099.444200   \n",
       "PC11  ...     31.804737      5.809955     -3.670348    209.611970   \n",
       "PC12  ...    252.255140    -29.359482      4.045453   -672.500100   \n",
       "PC13  ...    359.951700   -242.551390   -149.118900    518.956500   \n",
       "PC14  ...      4.403586    161.532930    117.983650      5.041889   \n",
       "PC15  ...    -20.005802    596.444300    366.941830      0.513277   \n",
       "PC16  ...    -12.511993    -12.366750   -164.642530     -6.123991   \n",
       "PC17  ...     13.917975     15.273235   -110.926030      1.619527   \n",
       "PC18  ...    -18.948662   -273.870480    -39.284340     12.827763   \n",
       "PC19  ...      3.497539     25.707428   -388.938400    -10.482616   \n",
       "PC20  ...    -17.242428   -268.271180    153.930700     -2.889362   \n",
       "\n",
       "iid   SAMEA2609971  SAMEA2536413  SAMEA2625592  SAMEA3854308  SAMEA3963885  \\\n",
       "id                                                                           \n",
       "PC1     -11.026092     37.227420    -36.099750     15.455708    -45.389390   \n",
       "PC2     -19.358488     29.959509     69.155190     43.419895    578.792850   \n",
       "PC3      30.143745      7.322402     54.365560     29.958840   -521.950900   \n",
       "PC4      61.010986      4.514056      8.240096    -21.306501   -901.205300   \n",
       "PC5      18.074700     20.821611     -5.430482     11.136854    563.941200   \n",
       "PC6      -9.483054     -4.850675      7.309116    -12.994849    270.644130   \n",
       "PC7      69.763690     -5.095608    -14.493244     -0.985342    269.105530   \n",
       "PC8     -15.064022     -4.225716    -20.599740    -20.355007   -393.916500   \n",
       "PC9      12.667098    -12.799575      6.205075    -37.755750   -186.866290   \n",
       "PC10    -44.826110    -13.276481     15.580579      3.913658   -156.445950   \n",
       "PC11    -29.091757     -3.719798    -13.382023    -28.110603   1092.867000   \n",
       "PC12     48.531223     26.132353     10.483032     -7.283550     28.052065   \n",
       "PC13    -50.006428   -176.961030   -181.868420   -110.488100    405.183840   \n",
       "PC14    221.817720    459.534400     -1.157586    335.140700    -11.047038   \n",
       "PC15    143.680730   -218.913930     85.906240    399.658900      1.457876   \n",
       "PC16   -148.828280    340.579220   -405.125270   -103.138590     -3.669498   \n",
       "PC17    125.901460     58.875970    432.117220     36.376625    -20.445140   \n",
       "PC18   -167.480040    -77.060620   -163.732530   -174.220900    -11.515460   \n",
       "PC19   -113.098630    107.969894    -19.123411     12.432402     -9.094480   \n",
       "PC20    223.734940   -134.122420   -361.408660    -11.217748      3.608833   \n",
       "\n",
       "iid   SAMEA3962524  \n",
       "id                  \n",
       "PC1      12.186271  \n",
       "PC2      42.351612  \n",
       "PC3      10.103840  \n",
       "PC4     -94.013070  \n",
       "PC5      -3.526762  \n",
       "PC6       5.925176  \n",
       "PC7     -43.594402  \n",
       "PC8      -6.027317  \n",
       "PC9      17.676556  \n",
       "PC10     20.932838  \n",
       "PC11     13.310209  \n",
       "PC12     38.829010  \n",
       "PC13   -190.555760  \n",
       "PC14    248.250270  \n",
       "PC15   -318.808500  \n",
       "PC16    428.408080  \n",
       "PC17    415.632970  \n",
       "PC18     21.005550  \n",
       "PC19    -39.450592  \n",
       "PC20   -232.704160  \n",
       "\n",
       "[20 rows x 70 columns]"
      ]
     },
     "execution_count": 79,
     "metadata": {},
     "output_type": "execute_result"
    }
   ],
   "source": [
    "gt_pcs = pd.read_csv(os.path.join(HCA_BORGS_PROJ, \"Genotypes/GT_PCs.tsv\"), sep=\"\\t\", index_col=0)\n",
    "gt_pcs_matrixQTL = gt_pcs.T\n",
    "gt_pcs_matrixQTL = gt_pcs_matrixQTL.rename_axis('id')\n",
    "gt_pcs_matrixQTL = gt_pcs_matrixQTL[ca_donors]\n",
    "\n",
    "print(gt_pcs_matrixQTL.shape)\n",
    "gt_pcs_matrixQTL"
   ]
  },
  {
   "cell_type": "code",
   "execution_count": 80,
   "id": "c27e249c-531d-46a4-b788-5cdf7e46d1d2",
   "metadata": {
    "execution": {
     "iopub.execute_input": "2024-10-02T09:32:33.329416Z",
     "iopub.status.busy": "2024-10-02T09:32:33.327800Z",
     "iopub.status.idle": "2024-10-02T09:32:33.403088Z",
     "shell.execute_reply": "2024-10-02T09:32:33.402068Z"
    }
   },
   "outputs": [],
   "source": [
    "parent_dir = \"data/datasets/hca_brain-organoids_processed/covariates/\"\n",
    "\n",
    "if not os.path.isdir(parent_dir):\n",
    "    os.makedirs(parent_dir)"
   ]
  },
  {
   "cell_type": "code",
   "execution_count": 81,
   "id": "6f14f260-e49f-4a8a-a226-6cf1bc5ede4e",
   "metadata": {
    "execution": {
     "iopub.execute_input": "2024-10-02T09:32:33.409862Z",
     "iopub.status.busy": "2024-10-02T09:32:33.408275Z",
     "iopub.status.idle": "2024-10-02T09:32:33.783150Z",
     "shell.execute_reply": "2024-10-02T09:32:33.782098Z"
    }
   },
   "outputs": [],
   "source": [
    "gt_pcs_matrixQTL_path = f\"data/intermediate-data/datasets/{DATASET_ID}/matrix-eQTL_io/genotype/genotype_pcs/{ct_map_id}/{cell_type}.tsv\"\n",
    "\n",
    "create_folder(os.path.dirname(os.path.abspath(gt_pcs_matrixQTL_path)))\n",
    "\n",
    "gt_pcs_matrixQTL.to_csv(gt_pcs_matrixQTL_path, sep='\\t')"
   ]
  },
  {
   "cell_type": "code",
   "execution_count": 82,
   "id": "1682c038-9d95-454a-ad2a-5557f61e7a51",
   "metadata": {
    "execution": {
     "iopub.execute_input": "2024-10-02T09:32:33.789915Z",
     "iopub.status.busy": "2024-10-02T09:32:33.788292Z",
     "iopub.status.idle": "2024-10-02T09:32:33.794806Z",
     "shell.execute_reply": "2024-10-02T09:32:33.793889Z"
    }
   },
   "outputs": [],
   "source": [
    "del gt_pcs\n",
    "del gt_pcs_matrixQTL"
   ]
  },
  {
   "cell_type": "markdown",
   "id": "5615e59d-3eaf-442b-af62-a4bc60a8f33f",
   "metadata": {},
   "source": [
    "# Genotype"
   ]
  },
  {
   "cell_type": "code",
   "execution_count": 83,
   "id": "c2b0f91b-00da-4abb-aa3c-bcc67d6e8a08",
   "metadata": {
    "execution": {
     "iopub.execute_input": "2024-10-02T09:32:33.801906Z",
     "iopub.status.busy": "2024-10-02T09:32:33.800064Z",
     "iopub.status.idle": "2024-10-02T09:33:35.568703Z",
     "shell.execute_reply": "2024-10-02T09:33:35.567248Z"
    },
    "tags": []
   },
   "outputs": [],
   "source": [
    "gt = pd.read_csv('data/datasets/hca_brain-organoids_processed/covariates/genotype.tsv', sep='\\t', header=0, index_col=0).rename_axis('snp_id')\n",
    "gt = gt.rename(index=lambda x: 'chr' + str(x))"
   ]
  },
  {
   "cell_type": "code",
   "execution_count": 84,
   "id": "755cbbd5-1d7b-473e-937c-6077b8cd6ad4",
   "metadata": {
    "execution": {
     "iopub.execute_input": "2024-10-02T09:33:35.576490Z",
     "iopub.status.busy": "2024-10-02T09:33:35.574668Z",
     "iopub.status.idle": "2024-10-02T09:33:37.525701Z",
     "shell.execute_reply": "2024-10-02T09:33:37.524448Z"
    }
   },
   "outputs": [],
   "source": [
    "snps_set = list(set(gt.index))"
   ]
  },
  {
   "cell_type": "code",
   "execution_count": 85,
   "id": "fa9ffc30-5796-41bd-a625-ca2ecb12998e",
   "metadata": {
    "execution": {
     "iopub.execute_input": "2024-10-02T09:33:37.533776Z",
     "iopub.status.busy": "2024-10-02T09:33:37.531901Z",
     "iopub.status.idle": "2024-10-02T09:33:41.059475Z",
     "shell.execute_reply": "2024-10-02T09:33:41.058427Z"
    },
    "tags": []
   },
   "outputs": [
    {
     "data": {
      "text/html": [
       "<div>\n",
       "<style scoped>\n",
       "    .dataframe tbody tr th:only-of-type {\n",
       "        vertical-align: middle;\n",
       "    }\n",
       "\n",
       "    .dataframe tbody tr th {\n",
       "        vertical-align: top;\n",
       "    }\n",
       "\n",
       "    .dataframe thead th {\n",
       "        text-align: right;\n",
       "    }\n",
       "</style>\n",
       "<table border=\"1\" class=\"dataframe\">\n",
       "  <thead>\n",
       "    <tr style=\"text-align: right;\">\n",
       "      <th></th>\n",
       "      <th>SAMEA2678742</th>\n",
       "      <th>SAMEA2595426</th>\n",
       "      <th>SAMEA2707499</th>\n",
       "      <th>SAMEA4451109</th>\n",
       "      <th>SAMEA2711371</th>\n",
       "      <th>SAMEA3973854</th>\n",
       "      <th>SAMEA2547899</th>\n",
       "      <th>SAMEA2420640</th>\n",
       "      <th>SAMEA3485958</th>\n",
       "      <th>SAMEA2645805</th>\n",
       "      <th>...</th>\n",
       "      <th>SAMEA2536416</th>\n",
       "      <th>SAMEA3967410</th>\n",
       "      <th>SAMEA3853161</th>\n",
       "      <th>SAMEA2698309</th>\n",
       "      <th>SAMEA2609971</th>\n",
       "      <th>SAMEA2536413</th>\n",
       "      <th>SAMEA2625592</th>\n",
       "      <th>SAMEA3854308</th>\n",
       "      <th>SAMEA3963885</th>\n",
       "      <th>SAMEA3962524</th>\n",
       "    </tr>\n",
       "    <tr>\n",
       "      <th>snp_id</th>\n",
       "      <th></th>\n",
       "      <th></th>\n",
       "      <th></th>\n",
       "      <th></th>\n",
       "      <th></th>\n",
       "      <th></th>\n",
       "      <th></th>\n",
       "      <th></th>\n",
       "      <th></th>\n",
       "      <th></th>\n",
       "      <th></th>\n",
       "      <th></th>\n",
       "      <th></th>\n",
       "      <th></th>\n",
       "      <th></th>\n",
       "      <th></th>\n",
       "      <th></th>\n",
       "      <th></th>\n",
       "      <th></th>\n",
       "      <th></th>\n",
       "      <th></th>\n",
       "    </tr>\n",
       "  </thead>\n",
       "  <tbody>\n",
       "    <tr>\n",
       "      <th>chr1_89599_A_T</th>\n",
       "      <td>2.0</td>\n",
       "      <td>1.0</td>\n",
       "      <td>0.0</td>\n",
       "      <td>2.0</td>\n",
       "      <td>2.0</td>\n",
       "      <td>2.0</td>\n",
       "      <td>2.0</td>\n",
       "      <td>2.0</td>\n",
       "      <td>2.0</td>\n",
       "      <td>2.0</td>\n",
       "      <td>...</td>\n",
       "      <td>1.0</td>\n",
       "      <td>2.0</td>\n",
       "      <td>NaN</td>\n",
       "      <td>2.0</td>\n",
       "      <td>2.0</td>\n",
       "      <td>2.0</td>\n",
       "      <td>2.0</td>\n",
       "      <td>2.0</td>\n",
       "      <td>NaN</td>\n",
       "      <td>0.0</td>\n",
       "    </tr>\n",
       "    <tr>\n",
       "      <th>chr1_94986_C_T</th>\n",
       "      <td>1.0</td>\n",
       "      <td>1.0</td>\n",
       "      <td>2.0</td>\n",
       "      <td>1.0</td>\n",
       "      <td>2.0</td>\n",
       "      <td>2.0</td>\n",
       "      <td>1.0</td>\n",
       "      <td>2.0</td>\n",
       "      <td>1.0</td>\n",
       "      <td>2.0</td>\n",
       "      <td>...</td>\n",
       "      <td>1.0</td>\n",
       "      <td>2.0</td>\n",
       "      <td>NaN</td>\n",
       "      <td>2.0</td>\n",
       "      <td>2.0</td>\n",
       "      <td>2.0</td>\n",
       "      <td>2.0</td>\n",
       "      <td>2.0</td>\n",
       "      <td>1.0</td>\n",
       "      <td>2.0</td>\n",
       "    </tr>\n",
       "    <tr>\n",
       "      <th>chr1_94996_A_AT</th>\n",
       "      <td>2.0</td>\n",
       "      <td>1.0</td>\n",
       "      <td>0.0</td>\n",
       "      <td>2.0</td>\n",
       "      <td>2.0</td>\n",
       "      <td>2.0</td>\n",
       "      <td>2.0</td>\n",
       "      <td>2.0</td>\n",
       "      <td>2.0</td>\n",
       "      <td>2.0</td>\n",
       "      <td>...</td>\n",
       "      <td>2.0</td>\n",
       "      <td>2.0</td>\n",
       "      <td>NaN</td>\n",
       "      <td>2.0</td>\n",
       "      <td>2.0</td>\n",
       "      <td>2.0</td>\n",
       "      <td>2.0</td>\n",
       "      <td>2.0</td>\n",
       "      <td>2.0</td>\n",
       "      <td>0.0</td>\n",
       "    </tr>\n",
       "    <tr>\n",
       "      <th>chr1_95068_G_A</th>\n",
       "      <td>1.0</td>\n",
       "      <td>1.0</td>\n",
       "      <td>2.0</td>\n",
       "      <td>1.0</td>\n",
       "      <td>2.0</td>\n",
       "      <td>2.0</td>\n",
       "      <td>1.0</td>\n",
       "      <td>2.0</td>\n",
       "      <td>1.0</td>\n",
       "      <td>2.0</td>\n",
       "      <td>...</td>\n",
       "      <td>1.0</td>\n",
       "      <td>2.0</td>\n",
       "      <td>2.0</td>\n",
       "      <td>2.0</td>\n",
       "      <td>2.0</td>\n",
       "      <td>2.0</td>\n",
       "      <td>2.0</td>\n",
       "      <td>2.0</td>\n",
       "      <td>0.0</td>\n",
       "      <td>2.0</td>\n",
       "    </tr>\n",
       "    <tr>\n",
       "      <th>chr1_96305_C_T</th>\n",
       "      <td>2.0</td>\n",
       "      <td>2.0</td>\n",
       "      <td>2.0</td>\n",
       "      <td>2.0</td>\n",
       "      <td>2.0</td>\n",
       "      <td>2.0</td>\n",
       "      <td>2.0</td>\n",
       "      <td>2.0</td>\n",
       "      <td>1.0</td>\n",
       "      <td>2.0</td>\n",
       "      <td>...</td>\n",
       "      <td>2.0</td>\n",
       "      <td>2.0</td>\n",
       "      <td>1.0</td>\n",
       "      <td>2.0</td>\n",
       "      <td>1.0</td>\n",
       "      <td>2.0</td>\n",
       "      <td>2.0</td>\n",
       "      <td>2.0</td>\n",
       "      <td>1.0</td>\n",
       "      <td>2.0</td>\n",
       "    </tr>\n",
       "    <tr>\n",
       "      <th>...</th>\n",
       "      <td>...</td>\n",
       "      <td>...</td>\n",
       "      <td>...</td>\n",
       "      <td>...</td>\n",
       "      <td>...</td>\n",
       "      <td>...</td>\n",
       "      <td>...</td>\n",
       "      <td>...</td>\n",
       "      <td>...</td>\n",
       "      <td>...</td>\n",
       "      <td>...</td>\n",
       "      <td>...</td>\n",
       "      <td>...</td>\n",
       "      <td>...</td>\n",
       "      <td>...</td>\n",
       "      <td>...</td>\n",
       "      <td>...</td>\n",
       "      <td>...</td>\n",
       "      <td>...</td>\n",
       "      <td>...</td>\n",
       "      <td>...</td>\n",
       "    </tr>\n",
       "    <tr>\n",
       "      <th>chr22_50780959_T_C</th>\n",
       "      <td>2.0</td>\n",
       "      <td>2.0</td>\n",
       "      <td>2.0</td>\n",
       "      <td>2.0</td>\n",
       "      <td>1.0</td>\n",
       "      <td>2.0</td>\n",
       "      <td>2.0</td>\n",
       "      <td>2.0</td>\n",
       "      <td>2.0</td>\n",
       "      <td>1.0</td>\n",
       "      <td>...</td>\n",
       "      <td>2.0</td>\n",
       "      <td>2.0</td>\n",
       "      <td>2.0</td>\n",
       "      <td>2.0</td>\n",
       "      <td>2.0</td>\n",
       "      <td>1.0</td>\n",
       "      <td>2.0</td>\n",
       "      <td>2.0</td>\n",
       "      <td>2.0</td>\n",
       "      <td>2.0</td>\n",
       "    </tr>\n",
       "    <tr>\n",
       "      <th>chr22_50781276_G_A</th>\n",
       "      <td>2.0</td>\n",
       "      <td>2.0</td>\n",
       "      <td>2.0</td>\n",
       "      <td>2.0</td>\n",
       "      <td>2.0</td>\n",
       "      <td>2.0</td>\n",
       "      <td>2.0</td>\n",
       "      <td>2.0</td>\n",
       "      <td>2.0</td>\n",
       "      <td>1.0</td>\n",
       "      <td>...</td>\n",
       "      <td>2.0</td>\n",
       "      <td>2.0</td>\n",
       "      <td>2.0</td>\n",
       "      <td>2.0</td>\n",
       "      <td>2.0</td>\n",
       "      <td>1.0</td>\n",
       "      <td>2.0</td>\n",
       "      <td>2.0</td>\n",
       "      <td>2.0</td>\n",
       "      <td>2.0</td>\n",
       "    </tr>\n",
       "    <tr>\n",
       "      <th>chr22_50783303_T_C</th>\n",
       "      <td>2.0</td>\n",
       "      <td>2.0</td>\n",
       "      <td>2.0</td>\n",
       "      <td>2.0</td>\n",
       "      <td>1.0</td>\n",
       "      <td>2.0</td>\n",
       "      <td>2.0</td>\n",
       "      <td>2.0</td>\n",
       "      <td>2.0</td>\n",
       "      <td>1.0</td>\n",
       "      <td>...</td>\n",
       "      <td>2.0</td>\n",
       "      <td>2.0</td>\n",
       "      <td>2.0</td>\n",
       "      <td>2.0</td>\n",
       "      <td>2.0</td>\n",
       "      <td>1.0</td>\n",
       "      <td>2.0</td>\n",
       "      <td>2.0</td>\n",
       "      <td>2.0</td>\n",
       "      <td>2.0</td>\n",
       "    </tr>\n",
       "    <tr>\n",
       "      <th>chr22_50783547_G_A</th>\n",
       "      <td>2.0</td>\n",
       "      <td>2.0</td>\n",
       "      <td>2.0</td>\n",
       "      <td>2.0</td>\n",
       "      <td>1.0</td>\n",
       "      <td>2.0</td>\n",
       "      <td>2.0</td>\n",
       "      <td>2.0</td>\n",
       "      <td>2.0</td>\n",
       "      <td>1.0</td>\n",
       "      <td>...</td>\n",
       "      <td>2.0</td>\n",
       "      <td>2.0</td>\n",
       "      <td>2.0</td>\n",
       "      <td>2.0</td>\n",
       "      <td>2.0</td>\n",
       "      <td>1.0</td>\n",
       "      <td>2.0</td>\n",
       "      <td>2.0</td>\n",
       "      <td>2.0</td>\n",
       "      <td>2.0</td>\n",
       "    </tr>\n",
       "    <tr>\n",
       "      <th>chr22_50783624_G_A</th>\n",
       "      <td>1.0</td>\n",
       "      <td>1.0</td>\n",
       "      <td>2.0</td>\n",
       "      <td>0.0</td>\n",
       "      <td>2.0</td>\n",
       "      <td>0.0</td>\n",
       "      <td>2.0</td>\n",
       "      <td>1.0</td>\n",
       "      <td>1.0</td>\n",
       "      <td>1.0</td>\n",
       "      <td>...</td>\n",
       "      <td>2.0</td>\n",
       "      <td>2.0</td>\n",
       "      <td>2.0</td>\n",
       "      <td>0.0</td>\n",
       "      <td>1.0</td>\n",
       "      <td>1.0</td>\n",
       "      <td>1.0</td>\n",
       "      <td>1.0</td>\n",
       "      <td>1.0</td>\n",
       "      <td>1.0</td>\n",
       "    </tr>\n",
       "  </tbody>\n",
       "</table>\n",
       "<p>3582770 rows × 70 columns</p>\n",
       "</div>"
      ],
      "text/plain": [
       "                    SAMEA2678742  SAMEA2595426  SAMEA2707499  SAMEA4451109  \\\n",
       "snp_id                                                                       \n",
       "chr1_89599_A_T               2.0           1.0           0.0           2.0   \n",
       "chr1_94986_C_T               1.0           1.0           2.0           1.0   \n",
       "chr1_94996_A_AT              2.0           1.0           0.0           2.0   \n",
       "chr1_95068_G_A               1.0           1.0           2.0           1.0   \n",
       "chr1_96305_C_T               2.0           2.0           2.0           2.0   \n",
       "...                          ...           ...           ...           ...   \n",
       "chr22_50780959_T_C           2.0           2.0           2.0           2.0   \n",
       "chr22_50781276_G_A           2.0           2.0           2.0           2.0   \n",
       "chr22_50783303_T_C           2.0           2.0           2.0           2.0   \n",
       "chr22_50783547_G_A           2.0           2.0           2.0           2.0   \n",
       "chr22_50783624_G_A           1.0           1.0           2.0           0.0   \n",
       "\n",
       "                    SAMEA2711371  SAMEA3973854  SAMEA2547899  SAMEA2420640  \\\n",
       "snp_id                                                                       \n",
       "chr1_89599_A_T               2.0           2.0           2.0           2.0   \n",
       "chr1_94986_C_T               2.0           2.0           1.0           2.0   \n",
       "chr1_94996_A_AT              2.0           2.0           2.0           2.0   \n",
       "chr1_95068_G_A               2.0           2.0           1.0           2.0   \n",
       "chr1_96305_C_T               2.0           2.0           2.0           2.0   \n",
       "...                          ...           ...           ...           ...   \n",
       "chr22_50780959_T_C           1.0           2.0           2.0           2.0   \n",
       "chr22_50781276_G_A           2.0           2.0           2.0           2.0   \n",
       "chr22_50783303_T_C           1.0           2.0           2.0           2.0   \n",
       "chr22_50783547_G_A           1.0           2.0           2.0           2.0   \n",
       "chr22_50783624_G_A           2.0           0.0           2.0           1.0   \n",
       "\n",
       "                    SAMEA3485958  SAMEA2645805  ...  SAMEA2536416  \\\n",
       "snp_id                                          ...                 \n",
       "chr1_89599_A_T               2.0           2.0  ...           1.0   \n",
       "chr1_94986_C_T               1.0           2.0  ...           1.0   \n",
       "chr1_94996_A_AT              2.0           2.0  ...           2.0   \n",
       "chr1_95068_G_A               1.0           2.0  ...           1.0   \n",
       "chr1_96305_C_T               1.0           2.0  ...           2.0   \n",
       "...                          ...           ...  ...           ...   \n",
       "chr22_50780959_T_C           2.0           1.0  ...           2.0   \n",
       "chr22_50781276_G_A           2.0           1.0  ...           2.0   \n",
       "chr22_50783303_T_C           2.0           1.0  ...           2.0   \n",
       "chr22_50783547_G_A           2.0           1.0  ...           2.0   \n",
       "chr22_50783624_G_A           1.0           1.0  ...           2.0   \n",
       "\n",
       "                    SAMEA3967410  SAMEA3853161  SAMEA2698309  SAMEA2609971  \\\n",
       "snp_id                                                                       \n",
       "chr1_89599_A_T               2.0           NaN           2.0           2.0   \n",
       "chr1_94986_C_T               2.0           NaN           2.0           2.0   \n",
       "chr1_94996_A_AT              2.0           NaN           2.0           2.0   \n",
       "chr1_95068_G_A               2.0           2.0           2.0           2.0   \n",
       "chr1_96305_C_T               2.0           1.0           2.0           1.0   \n",
       "...                          ...           ...           ...           ...   \n",
       "chr22_50780959_T_C           2.0           2.0           2.0           2.0   \n",
       "chr22_50781276_G_A           2.0           2.0           2.0           2.0   \n",
       "chr22_50783303_T_C           2.0           2.0           2.0           2.0   \n",
       "chr22_50783547_G_A           2.0           2.0           2.0           2.0   \n",
       "chr22_50783624_G_A           2.0           2.0           0.0           1.0   \n",
       "\n",
       "                    SAMEA2536413  SAMEA2625592  SAMEA3854308  SAMEA3963885  \\\n",
       "snp_id                                                                       \n",
       "chr1_89599_A_T               2.0           2.0           2.0           NaN   \n",
       "chr1_94986_C_T               2.0           2.0           2.0           1.0   \n",
       "chr1_94996_A_AT              2.0           2.0           2.0           2.0   \n",
       "chr1_95068_G_A               2.0           2.0           2.0           0.0   \n",
       "chr1_96305_C_T               2.0           2.0           2.0           1.0   \n",
       "...                          ...           ...           ...           ...   \n",
       "chr22_50780959_T_C           1.0           2.0           2.0           2.0   \n",
       "chr22_50781276_G_A           1.0           2.0           2.0           2.0   \n",
       "chr22_50783303_T_C           1.0           2.0           2.0           2.0   \n",
       "chr22_50783547_G_A           1.0           2.0           2.0           2.0   \n",
       "chr22_50783624_G_A           1.0           1.0           1.0           1.0   \n",
       "\n",
       "                    SAMEA3962524  \n",
       "snp_id                            \n",
       "chr1_89599_A_T               0.0  \n",
       "chr1_94986_C_T               2.0  \n",
       "chr1_94996_A_AT              0.0  \n",
       "chr1_95068_G_A               2.0  \n",
       "chr1_96305_C_T               2.0  \n",
       "...                          ...  \n",
       "chr22_50780959_T_C           2.0  \n",
       "chr22_50781276_G_A           2.0  \n",
       "chr22_50783303_T_C           2.0  \n",
       "chr22_50783547_G_A           2.0  \n",
       "chr22_50783624_G_A           1.0  \n",
       "\n",
       "[3582770 rows x 70 columns]"
      ]
     },
     "execution_count": 85,
     "metadata": {},
     "output_type": "execute_result"
    }
   ],
   "source": [
    "gt = gt[ca_donors]\n",
    "gt"
   ]
  },
  {
   "cell_type": "code",
   "execution_count": 86,
   "id": "e2744ef1-c3a5-4d7c-95e3-74c914439bf3",
   "metadata": {
    "execution": {
     "iopub.execute_input": "2024-10-02T09:33:41.066491Z",
     "iopub.status.busy": "2024-10-02T09:33:41.064693Z",
     "iopub.status.idle": "2024-10-02T09:39:01.616806Z",
     "shell.execute_reply": "2024-10-02T09:39:01.614560Z"
    },
    "tags": []
   },
   "outputs": [],
   "source": [
    "gt_path = f'data/intermediate-data/datasets/{DATASET_ID}/matrix-eQTL_io/genotype/{ct_map_id}/genotype_NA_{cell_type}.tsv'\n",
    "\n",
    "create_folder(os.path.dirname(os.path.abspath(gt_path)))\n",
    "\n",
    "gt.to_csv(gt_path, sep='\\t', na_rep='NaN')"
   ]
  },
  {
   "cell_type": "code",
   "execution_count": 87,
   "id": "0997dff9-b885-4bdc-9a9e-787b03a51a4a",
   "metadata": {
    "execution": {
     "iopub.execute_input": "2024-10-02T09:39:01.628392Z",
     "iopub.status.busy": "2024-10-02T09:39:01.626180Z",
     "iopub.status.idle": "2024-10-02T09:39:01.636442Z",
     "shell.execute_reply": "2024-10-02T09:39:01.635372Z"
    }
   },
   "outputs": [],
   "source": [
    "del gt"
   ]
  },
  {
   "cell_type": "markdown",
   "id": "930b2d55-5238-4a8e-94a5-41d3d51eccde",
   "metadata": {
    "tags": []
   },
   "source": [
    "# SNP locations"
   ]
  },
  {
   "cell_type": "code",
   "execution_count": 88,
   "id": "e3a959e9-3b3c-4542-b6b5-3d24e1e126ac",
   "metadata": {
    "execution": {
     "iopub.execute_input": "2024-10-02T09:39:01.644969Z",
     "iopub.status.busy": "2024-10-02T09:39:01.642891Z",
     "iopub.status.idle": "2024-10-02T09:52:53.576497Z",
     "shell.execute_reply": "2024-10-02T09:52:53.575492Z"
    }
   },
   "outputs": [],
   "source": [
    "snps = pd.read_csv(\"data/datasets/hca_brain-organoids_processed/covariates/genotype.vcf\",\n",
    "                   sep=\"\\t\",\n",
    "                   comment=\"#\",\n",
    "                   header=None,\n",
    "                   names=[\"CHROM\", \"POS\", \"ID\", \"REF\", \"ALT\", \"QUAL\", \"FILTER\", \"INFO\", \"FORMAT\", \"SAMEA2536416\", \"SAMEA3854313\", \"SAMEA3853161\", \"SAMEA3966392\", \"SAMEA2625592\", \"SAMEA2698309\", \"SAMEA3962624\", \"SAMEA3965165\", \"SAMEA2595426\", \"SAMEA3962389\", \"SAMEA3973854\", \"SAMEA3847031\", \"SAMEA2547622\", \"SAMEA3854308\", \"SAMEA3964906\", \"SAMEA2536410\", \"SAMEA3735541\", \"SAMEA2590621\", \"SAMEA2698315\", \"SAMEA2445784\", \"SAMEA3973848\", \"SAMEA3962524\", \"SAMEA3485962\", \"SAMEA2609965\", \"SAMEA3851971\", \"SAMEA4089454\", \"SAMEA2613912\", \"SAMEA3963885\", \"SAMEA3963884\", \"SAMEA2613897\", \"SAMEA4089453\", \"SAMEA3851966\", \"SAMEA3974241\", \"SAMEA4343052\", \"SAMEA3962619\", \"SAMEA3853122\", \"SAMEA3974015\", \"SAMEA2518325\", \"SAMEA2433566\", \"SAMEA2459959\", \"SAMEA2675459\", \"SAMEA2682671\", \"SAMEA2645805\", \"SAMEA2711371\", \"SAMEA2593858\", \"SAMEA2445790\", \"SAMEA2518322\", \"SAMEA2547619\", \"SAMEA2627577\", \"SAMEA2547637\", \"SAMEA3977051\", \"SAMEA2445779\", \"SAMEA2609971\", \"SAMEA3974247\", \"SAMEA2658107\", \"SAMEA3754205\", \"SAMEA2547644\", \"SAMEA2678742\", \"SAMEA2474454\", \"SAMEA2627566\", \"SAMEA2518334\", \"SAMEA3967410\", \"SAMEA2536404\", \"SAMEA2627578\", \"SAMEA2518324\", \"SAMEA3968753\", \"SAMEA2547899\", \"SAMEA3754201\", \"SAMEA2570435\", \"SAMEA2658084\", \"SAMEA4451098\", \"SAMEA2678738\", \"SAMEA2547633\", \"SAMEA2609972\", \"SAMEA2707499\", \"SAMEA2555017\", \"SAMEA2420640\", \"SAMEA4451109\", \"SAMEA3448738\", \"SAMEA2627141\", \"SAMEA3485958\", \"SAMEA2536413\", \"SAMEA2464819\", \"SAMEA2627567\", \"SAMEA2645814\"],\n",
    "                   index_col=False\n",
    "                  )\n",
    "\n",
    "snps = snps[['ID', 'CHROM', 'POS']].rename(columns={'ID': 'snp_id', 'CHROM': 'chr', 'POS': 'pos'})\n",
    "snps = snps.set_index('snp_id')"
   ]
  },
  {
   "cell_type": "code",
   "execution_count": 89,
   "id": "069daa5f-5490-432e-a902-bb268c8ff4ba",
   "metadata": {
    "execution": {
     "iopub.execute_input": "2024-10-02T09:52:53.582444Z",
     "iopub.status.busy": "2024-10-02T09:52:53.581425Z",
     "iopub.status.idle": "2024-10-02T09:53:33.263000Z",
     "shell.execute_reply": "2024-10-02T09:53:33.262097Z"
    }
   },
   "outputs": [
    {
     "data": {
      "text/html": [
       "<div>\n",
       "<style scoped>\n",
       "    .dataframe tbody tr th:only-of-type {\n",
       "        vertical-align: middle;\n",
       "    }\n",
       "\n",
       "    .dataframe tbody tr th {\n",
       "        vertical-align: top;\n",
       "    }\n",
       "\n",
       "    .dataframe thead th {\n",
       "        text-align: right;\n",
       "    }\n",
       "</style>\n",
       "<table border=\"1\" class=\"dataframe\">\n",
       "  <thead>\n",
       "    <tr style=\"text-align: right;\">\n",
       "      <th></th>\n",
       "      <th>chr</th>\n",
       "      <th>pos</th>\n",
       "    </tr>\n",
       "    <tr>\n",
       "      <th>snp_id</th>\n",
       "      <th></th>\n",
       "      <th></th>\n",
       "    </tr>\n",
       "  </thead>\n",
       "  <tbody>\n",
       "    <tr>\n",
       "      <th>chr10_100000235_C_T</th>\n",
       "      <td>chr10</td>\n",
       "      <td>100000235</td>\n",
       "    </tr>\n",
       "    <tr>\n",
       "      <th>chr10_100000943_G_A</th>\n",
       "      <td>chr10</td>\n",
       "      <td>100000943</td>\n",
       "    </tr>\n",
       "    <tr>\n",
       "      <th>chr10_100000979_T_C</th>\n",
       "      <td>chr10</td>\n",
       "      <td>100000979</td>\n",
       "    </tr>\n",
       "    <tr>\n",
       "      <th>chr10_100002330_AAAAG_A</th>\n",
       "      <td>chr10</td>\n",
       "      <td>100002330</td>\n",
       "    </tr>\n",
       "    <tr>\n",
       "      <th>chr10_100002628_A_C</th>\n",
       "      <td>chr10</td>\n",
       "      <td>100002628</td>\n",
       "    </tr>\n",
       "    <tr>\n",
       "      <th>...</th>\n",
       "      <td>...</td>\n",
       "      <td>...</td>\n",
       "    </tr>\n",
       "    <tr>\n",
       "      <th>chr9_99997250_C_T</th>\n",
       "      <td>chr9</td>\n",
       "      <td>99997250</td>\n",
       "    </tr>\n",
       "    <tr>\n",
       "      <th>chr9_99997408_T_TTTTC</th>\n",
       "      <td>chr9</td>\n",
       "      <td>99997408</td>\n",
       "    </tr>\n",
       "    <tr>\n",
       "      <th>chr9_99998141_T_C</th>\n",
       "      <td>chr9</td>\n",
       "      <td>99998141</td>\n",
       "    </tr>\n",
       "    <tr>\n",
       "      <th>chr9_99998283_G_C</th>\n",
       "      <td>chr9</td>\n",
       "      <td>99998283</td>\n",
       "    </tr>\n",
       "    <tr>\n",
       "      <th>chr9_99999321_G_C</th>\n",
       "      <td>chr9</td>\n",
       "      <td>99999321</td>\n",
       "    </tr>\n",
       "  </tbody>\n",
       "</table>\n",
       "<p>3582764 rows × 2 columns</p>\n",
       "</div>"
      ],
      "text/plain": [
       "                           chr        pos\n",
       "snp_id                                   \n",
       "chr10_100000235_C_T      chr10  100000235\n",
       "chr10_100000943_G_A      chr10  100000943\n",
       "chr10_100000979_T_C      chr10  100000979\n",
       "chr10_100002330_AAAAG_A  chr10  100002330\n",
       "chr10_100002628_A_C      chr10  100002628\n",
       "...                        ...        ...\n",
       "chr9_99997250_C_T         chr9   99997250\n",
       "chr9_99997408_T_TTTTC     chr9   99997408\n",
       "chr9_99998141_T_C         chr9   99998141\n",
       "chr9_99998283_G_C         chr9   99998283\n",
       "chr9_99999321_G_C         chr9   99999321\n",
       "\n",
       "[3582764 rows x 2 columns]"
      ]
     },
     "execution_count": 89,
     "metadata": {},
     "output_type": "execute_result"
    }
   ],
   "source": [
    "snps = snps.loc[snps_set, :].groupby(level=0).first() # There are repeated indexes in snps. Take the first one\n",
    "snps"
   ]
  },
  {
   "cell_type": "code",
   "execution_count": 90,
   "id": "95971472-11d0-470f-a78f-ca0c8b86580e",
   "metadata": {
    "execution": {
     "iopub.execute_input": "2024-10-02T09:53:33.267331Z",
     "iopub.status.busy": "2024-10-02T09:53:33.266338Z",
     "iopub.status.idle": "2024-10-02T09:53:38.920068Z",
     "shell.execute_reply": "2024-10-02T09:53:38.918199Z"
    }
   },
   "outputs": [],
   "source": [
    "snps_path = f\"data/intermediate-data/datasets/{DATASET_ID}/matrix-eQTL_io/genotype/snp_locations/{ct_map_id}/{cell_type}.tsv\"\n",
    "\n",
    "create_folder(os.path.dirname(os.path.abspath(snps_path)))\n",
    "\n",
    "snps.to_csv(snps_path, sep='\\t')"
   ]
  },
  {
   "cell_type": "code",
   "execution_count": 91,
   "id": "56362994-2441-424c-ac44-ffa232bec4c3",
   "metadata": {
    "execution": {
     "iopub.execute_input": "2024-10-02T09:53:38.929434Z",
     "iopub.status.busy": "2024-10-02T09:53:38.927217Z",
     "iopub.status.idle": "2024-10-02T09:53:38.936206Z",
     "shell.execute_reply": "2024-10-02T09:53:38.934945Z"
    }
   },
   "outputs": [],
   "source": [
    "del snps"
   ]
  }
 ],
 "metadata": {
  "kernelspec": {
   "display_name": "ian",
   "language": "python",
   "name": "ian"
  },
  "language_info": {
   "codemirror_mode": {
    "name": "ipython",
    "version": 3
   },
   "file_extension": ".py",
   "mimetype": "text/x-python",
   "name": "python",
   "nbconvert_exporter": "python",
   "pygments_lexer": "ipython3",
   "version": "3.9.19"
  }
 },
 "nbformat": 4,
 "nbformat_minor": 5
}
