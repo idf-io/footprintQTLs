{
 "cells": [
  {
   "cell_type": "code",
   "execution_count": 2,
   "id": "bcdb1ca6",
   "metadata": {},
   "outputs": [],
   "source": [
    "# Ensure cwd is project root and that /code is in path\n",
    "\n",
    "import os\n",
    "import sys\n",
    "\n",
    "cwd = os.path.basename(os.getcwd())\n",
    "\n",
    "if cwd == 'footprintQTL':\n",
    "    \n",
    "    PROJECT_DIR = '.'\n",
    "\n",
    "\n",
    "elif cwd == 'code':\n",
    "    \n",
    "    PROJECT_DIR = '..'\n",
    "\n",
    "\n",
    "elif cwd == 'fichtner':\n",
    "\n",
    "    PROJECT_DIR = 'projects/footprintQTL'\n",
    "\n",
    "else:\n",
    "\n",
    "    PROJECT_DIR = 'manual'\n",
    "\n",
    "\n",
    "os.chdir(PROJECT_DIR)\n",
    "sys.path.append(os.getcwd() + '/code')"
   ]
  },
  {
   "cell_type": "markdown",
   "id": "bad34c52-ffb5-435d-a4cc-cc3cf3e2cd7f",
   "metadata": {
    "tags": []
   },
   "source": [
    "# Pandas"
   ]
  },
  {
   "cell_type": "markdown",
   "id": "b4e723be-149b-44d0-871d-695a8a0fdfe7",
   "metadata": {
    "tags": []
   },
   "source": [
    "### Small"
   ]
  },
  {
   "cell_type": "code",
   "execution_count": 5,
   "id": "9dbe9a42",
   "metadata": {},
   "outputs": [
    {
     "data": {
      "text/html": [
       "<div>\n",
       "<style scoped>\n",
       "    .dataframe tbody tr th:only-of-type {\n",
       "        vertical-align: middle;\n",
       "    }\n",
       "\n",
       "    .dataframe tbody tr th {\n",
       "        vertical-align: top;\n",
       "    }\n",
       "\n",
       "    .dataframe thead th {\n",
       "        text-align: right;\n",
       "    }\n",
       "</style>\n",
       "<table border=\"1\" class=\"dataframe\">\n",
       "  <thead>\n",
       "    <tr style=\"text-align: right;\">\n",
       "      <th></th>\n",
       "      <th>sample_1</th>\n",
       "      <th>sample_2</th>\n",
       "      <th>sample_3</th>\n",
       "      <th>sample_4</th>\n",
       "    </tr>\n",
       "  </thead>\n",
       "  <tbody>\n",
       "    <tr>\n",
       "      <th>gene_1</th>\n",
       "      <td>0</td>\n",
       "      <td>0</td>\n",
       "      <td>0</td>\n",
       "      <td>0</td>\n",
       "    </tr>\n",
       "    <tr>\n",
       "      <th>gene_2</th>\n",
       "      <td>0</td>\n",
       "      <td>2</td>\n",
       "      <td>3</td>\n",
       "      <td>2</td>\n",
       "    </tr>\n",
       "    <tr>\n",
       "      <th>gene_3</th>\n",
       "      <td>2</td>\n",
       "      <td>10</td>\n",
       "      <td>5</td>\n",
       "      <td>3</td>\n",
       "    </tr>\n",
       "    <tr>\n",
       "      <th>gene_4</th>\n",
       "      <td>5</td>\n",
       "      <td>5</td>\n",
       "      <td>5</td>\n",
       "      <td>5</td>\n",
       "    </tr>\n",
       "  </tbody>\n",
       "</table>\n",
       "</div>"
      ],
      "text/plain": [
       "        sample_1  sample_2  sample_3  sample_4\n",
       "gene_1         0         0         0         0\n",
       "gene_2         0         2         3         2\n",
       "gene_3         2        10         5         3\n",
       "gene_4         5         5         5         5"
      ]
     },
     "execution_count": 5,
     "metadata": {},
     "output_type": "execute_result"
    }
   ],
   "source": [
    "X = pd.DataFrame({\n",
    "    'sample_1': [0,0,2,5], \n",
    "    'sample_2': [0,2,10,5],\n",
    "    'sample_3': [0,3,5,5],\n",
    "    'sample_4': [0,2,3,5],\n",
    "    }, index=[f'gene_{i}' for i in range(1,5)])\n",
    "\n",
    "X"
   ]
  },
  {
   "cell_type": "code",
   "execution_count": 12,
   "id": "d32e9492",
   "metadata": {},
   "outputs": [
    {
     "data": {
      "text/html": [
       "<div>\n",
       "<style scoped>\n",
       "    .dataframe tbody tr th:only-of-type {\n",
       "        vertical-align: middle;\n",
       "    }\n",
       "\n",
       "    .dataframe tbody tr th {\n",
       "        vertical-align: top;\n",
       "    }\n",
       "\n",
       "    .dataframe thead th {\n",
       "        text-align: right;\n",
       "    }\n",
       "</style>\n",
       "<table border=\"1\" class=\"dataframe\">\n",
       "  <thead>\n",
       "    <tr style=\"text-align: right;\">\n",
       "      <th></th>\n",
       "      <th>sample_1</th>\n",
       "      <th>sample_2</th>\n",
       "      <th>sample_3</th>\n",
       "      <th>sample_4</th>\n",
       "    </tr>\n",
       "  </thead>\n",
       "  <tbody>\n",
       "    <tr>\n",
       "      <th>gene_1</th>\n",
       "      <td>0</td>\n",
       "      <td>0</td>\n",
       "      <td>0</td>\n",
       "      <td>0</td>\n",
       "    </tr>\n",
       "    <tr>\n",
       "      <th>gene_2</th>\n",
       "      <td>0</td>\n",
       "      <td>2</td>\n",
       "      <td>3</td>\n",
       "      <td>2</td>\n",
       "    </tr>\n",
       "    <tr>\n",
       "      <th>gene_3</th>\n",
       "      <td>2</td>\n",
       "      <td>10</td>\n",
       "      <td>5</td>\n",
       "      <td>3</td>\n",
       "    </tr>\n",
       "    <tr>\n",
       "      <th>gene_4</th>\n",
       "      <td>5</td>\n",
       "      <td>5</td>\n",
       "      <td>5</td>\n",
       "      <td>5</td>\n",
       "    </tr>\n",
       "    <tr>\n",
       "      <th>gene_5</th>\n",
       "      <td>1</td>\n",
       "      <td>1</td>\n",
       "      <td>1</td>\n",
       "      <td>2</td>\n",
       "    </tr>\n",
       "  </tbody>\n",
       "</table>\n",
       "</div>"
      ],
      "text/plain": [
       "        sample_1  sample_2  sample_3  sample_4\n",
       "gene_1         0         0         0         0\n",
       "gene_2         0         2         3         2\n",
       "gene_3         2        10         5         3\n",
       "gene_4         5         5         5         5\n",
       "gene_5         1         1         1         2"
      ]
     },
     "execution_count": 12,
     "metadata": {},
     "output_type": "execute_result"
    }
   ],
   "source": [
    "X.loc['gene_5'] = pd.Series({'sample_1': 1, 'sample_2': 1, 'sample_3': 1, 'sample_4': 2})\n",
    "X"
   ]
  },
  {
   "cell_type": "code",
   "execution_count": 3,
   "id": "f28f63ef-cf9c-4e51-9a1b-3422ac7fc913",
   "metadata": {},
   "outputs": [
    {
     "data": {
      "text/html": [
       "<div>\n",
       "<style scoped>\n",
       "    .dataframe tbody tr th:only-of-type {\n",
       "        vertical-align: middle;\n",
       "    }\n",
       "\n",
       "    .dataframe tbody tr th {\n",
       "        vertical-align: top;\n",
       "    }\n",
       "\n",
       "    .dataframe thead th {\n",
       "        text-align: right;\n",
       "    }\n",
       "</style>\n",
       "<table border=\"1\" class=\"dataframe\">\n",
       "  <thead>\n",
       "    <tr style=\"text-align: right;\">\n",
       "      <th></th>\n",
       "      <th>A</th>\n",
       "      <th>B</th>\n",
       "      <th>C</th>\n",
       "      <th>D</th>\n",
       "    </tr>\n",
       "  </thead>\n",
       "  <tbody>\n",
       "    <tr>\n",
       "      <th>ID_0</th>\n",
       "      <td>1</td>\n",
       "      <td>0</td>\n",
       "      <td>a</td>\n",
       "      <td>a</td>\n",
       "    </tr>\n",
       "    <tr>\n",
       "      <th>ID_1</th>\n",
       "      <td>2</td>\n",
       "      <td>0</td>\n",
       "      <td>b</td>\n",
       "      <td>a</td>\n",
       "    </tr>\n",
       "    <tr>\n",
       "      <th>ID_2</th>\n",
       "      <td>3</td>\n",
       "      <td>0</td>\n",
       "      <td>c</td>\n",
       "      <td>a</td>\n",
       "    </tr>\n",
       "  </tbody>\n",
       "</table>\n",
       "</div>"
      ],
      "text/plain": [
       "      A  B  C  D\n",
       "ID_0  1  0  a  a\n",
       "ID_1  2  0  b  a\n",
       "ID_2  3  0  c  a"
      ]
     },
     "execution_count": 3,
     "metadata": {},
     "output_type": "execute_result"
    }
   ],
   "source": [
    "import pandas as pd\n",
    "\n",
    "small = pd.DataFrame(\n",
    "    {\n",
    "        'A': [1,2,3],\n",
    "        'B': [0,0,0],\n",
    "        'C': pd.Categorical(['a','b','c'], categories = ['a', 'b', 'c', 'd']),\n",
    "        'D': pd.Categorical(['a','a','a'], categories = ['a'])\n",
    "    },\n",
    "    index=[f'ID_{i}' for i in range(3)],\n",
    ")\n",
    "\n",
    "small"
   ]
  },
  {
   "cell_type": "code",
   "execution_count": 10,
   "id": "c938dffb",
   "metadata": {},
   "outputs": [
    {
     "data": {
      "text/plain": [
       "ID_0    0\n",
       "ID_1    0\n",
       "ID_2    0\n",
       "Name: B, dtype: int64"
      ]
     },
     "execution_count": 10,
     "metadata": {},
     "output_type": "execute_result"
    }
   ],
   "source": [
    "small.iloc[:, 1]"
   ]
  },
  {
   "cell_type": "code",
   "execution_count": 7,
   "id": "35fe27f6",
   "metadata": {},
   "outputs": [
    {
     "data": {
      "text/plain": [
       "ID_0    False\n",
       "ID_1     True\n",
       "ID_2    False\n",
       "dtype: bool"
      ]
     },
     "execution_count": 7,
     "metadata": {},
     "output_type": "execute_result"
    }
   ],
   "source": [
    "small.index.to_series().apply(lambda x: '1' in x)"
   ]
  },
  {
   "cell_type": "markdown",
   "id": "2a56d073",
   "metadata": {},
   "source": [
    "### Genotype"
   ]
  },
  {
   "cell_type": "code",
   "execution_count": 12,
   "id": "f937c6ae",
   "metadata": {},
   "outputs": [
    {
     "data": {
      "text/html": [
       "<div>\n",
       "<style scoped>\n",
       "    .dataframe tbody tr th:only-of-type {\n",
       "        vertical-align: middle;\n",
       "    }\n",
       "\n",
       "    .dataframe tbody tr th {\n",
       "        vertical-align: top;\n",
       "    }\n",
       "\n",
       "    .dataframe thead th {\n",
       "        text-align: right;\n",
       "    }\n",
       "</style>\n",
       "<table border=\"1\" class=\"dataframe\">\n",
       "  <thead>\n",
       "    <tr style=\"text-align: right;\">\n",
       "      <th></th>\n",
       "      <th>sample_A</th>\n",
       "      <th>sample_B</th>\n",
       "      <th>sample_C</th>\n",
       "    </tr>\n",
       "  </thead>\n",
       "  <tbody>\n",
       "    <tr>\n",
       "      <th>snp_0</th>\n",
       "      <td>1.0</td>\n",
       "      <td>2.0</td>\n",
       "      <td>1.0</td>\n",
       "    </tr>\n",
       "    <tr>\n",
       "      <th>snp_1</th>\n",
       "      <td>2.0</td>\n",
       "      <td>2.0</td>\n",
       "      <td>2.0</td>\n",
       "    </tr>\n",
       "    <tr>\n",
       "      <th>snp_2</th>\n",
       "      <td>0.0</td>\n",
       "      <td>1.0</td>\n",
       "      <td>NaN</td>\n",
       "    </tr>\n",
       "    <tr>\n",
       "      <th>snp_3</th>\n",
       "      <td>NaN</td>\n",
       "      <td>NaN</td>\n",
       "      <td>NaN</td>\n",
       "    </tr>\n",
       "  </tbody>\n",
       "</table>\n",
       "</div>"
      ],
      "text/plain": [
       "       sample_A  sample_B  sample_C\n",
       "snp_0       1.0       2.0       1.0\n",
       "snp_1       2.0       2.0       2.0\n",
       "snp_2       0.0       1.0       NaN\n",
       "snp_3       NaN       NaN       NaN"
      ]
     },
     "execution_count": 12,
     "metadata": {},
     "output_type": "execute_result"
    }
   ],
   "source": [
    "import numpy as np\n",
    "\n",
    "df = pd.DataFrame({\n",
    "        'sample_A': [1.0, 2.0, 0.0, np.nan],\n",
    "        'sample_B': [2.0, 2.0, 1.0, np.nan],\n",
    "        'sample_C': [1.0, 2.0, np.nan, np.nan],\n",
    "},\n",
    "    index=[f'snp_{i}' for i in range(4)],\n",
    ")\n",
    "\n",
    "df"
   ]
  },
  {
   "cell_type": "code",
   "execution_count": 24,
   "id": "0dd136aa",
   "metadata": {},
   "outputs": [
    {
     "data": {
      "text/html": [
       "<div>\n",
       "<style scoped>\n",
       "    .dataframe tbody tr th:only-of-type {\n",
       "        vertical-align: middle;\n",
       "    }\n",
       "\n",
       "    .dataframe tbody tr th {\n",
       "        vertical-align: top;\n",
       "    }\n",
       "\n",
       "    .dataframe thead th {\n",
       "        text-align: right;\n",
       "    }\n",
       "</style>\n",
       "<table border=\"1\" class=\"dataframe\">\n",
       "  <thead>\n",
       "    <tr style=\"text-align: right;\">\n",
       "      <th></th>\n",
       "      <th>0.0</th>\n",
       "      <th>1.0</th>\n",
       "      <th>2.0</th>\n",
       "    </tr>\n",
       "  </thead>\n",
       "  <tbody>\n",
       "    <tr>\n",
       "      <th>count</th>\n",
       "      <td>1.0</td>\n",
       "      <td>2.000000</td>\n",
       "      <td>2.000000</td>\n",
       "    </tr>\n",
       "    <tr>\n",
       "      <th>mean</th>\n",
       "      <td>0.5</td>\n",
       "      <td>0.583333</td>\n",
       "      <td>0.666667</td>\n",
       "    </tr>\n",
       "    <tr>\n",
       "      <th>std</th>\n",
       "      <td>NaN</td>\n",
       "      <td>0.117851</td>\n",
       "      <td>0.471405</td>\n",
       "    </tr>\n",
       "    <tr>\n",
       "      <th>min</th>\n",
       "      <td>0.5</td>\n",
       "      <td>0.500000</td>\n",
       "      <td>0.333333</td>\n",
       "    </tr>\n",
       "    <tr>\n",
       "      <th>25%</th>\n",
       "      <td>0.5</td>\n",
       "      <td>0.541667</td>\n",
       "      <td>0.500000</td>\n",
       "    </tr>\n",
       "    <tr>\n",
       "      <th>50%</th>\n",
       "      <td>0.5</td>\n",
       "      <td>0.583333</td>\n",
       "      <td>0.666667</td>\n",
       "    </tr>\n",
       "    <tr>\n",
       "      <th>75%</th>\n",
       "      <td>0.5</td>\n",
       "      <td>0.625000</td>\n",
       "      <td>0.833333</td>\n",
       "    </tr>\n",
       "    <tr>\n",
       "      <th>max</th>\n",
       "      <td>0.5</td>\n",
       "      <td>0.666667</td>\n",
       "      <td>1.000000</td>\n",
       "    </tr>\n",
       "  </tbody>\n",
       "</table>\n",
       "</div>"
      ],
      "text/plain": [
       "       0.0       1.0       2.0\n",
       "count  1.0  2.000000  2.000000\n",
       "mean   0.5  0.583333  0.666667\n",
       "std    NaN  0.117851  0.471405\n",
       "min    0.5  0.500000  0.333333\n",
       "25%    0.5  0.541667  0.500000\n",
       "50%    0.5  0.583333  0.666667\n",
       "75%    0.5  0.625000  0.833333\n",
       "max    0.5  0.666667  1.000000"
      ]
     },
     "execution_count": 24,
     "metadata": {},
     "output_type": "execute_result"
    }
   ],
   "source": [
    "df.T.apply(pd.value_counts, normalize=True).T.describe()"
   ]
  },
  {
   "cell_type": "markdown",
   "id": "0ef5930a-5614-4ddf-8821-9e3fba195083",
   "metadata": {},
   "source": [
    "### Custom import"
   ]
  },
  {
   "cell_type": "code",
   "execution_count": null,
   "id": "3162e797-0972-4b69-a2e6-bf23c02d820b",
   "metadata": {},
   "outputs": [],
   "source": [
    "df = pd.read_csv(\"\")"
   ]
  },
  {
   "cell_type": "markdown",
   "id": "925b57c5-86f0-41d5-a9a7-410aafd051a1",
   "metadata": {},
   "source": [
    "## pd.Series"
   ]
  },
  {
   "cell_type": "code",
   "execution_count": null,
   "id": "b071afa8-ae6b-41fa-9899-95cea2e105f7",
   "metadata": {},
   "outputs": [],
   "source": [
    "import pandas as pd\n",
    "colours = pd.Series(['red', 'blue', 'black', 'white', 'brown'])\n",
    "colours"
   ]
  },
  {
   "cell_type": "markdown",
   "id": "8a3638e0-aa3c-4cdb-aaa0-d19d88cadabb",
   "metadata": {},
   "source": [
    "### Sparse"
   ]
  },
  {
   "cell_type": "code",
   "execution_count": null,
   "id": "44d0704a-f1d2-4192-985d-7f49c842f365",
   "metadata": {},
   "outputs": [],
   "source": [
    "import pandas as pd\n",
    "import numpy as np\n",
    "\n",
    "np.random.seed(42)\n",
    "\n",
    "# Define the dimensions and sparsity\n",
    "rows = 15\n",
    "columns = 5\n",
    "sparsity_percentage = 0.3  # 30%\n",
    "\n",
    "# Generate random data\n",
    "data = np.random.rand(rows, columns)\n",
    "\n",
    "# Introduce sparsity\n",
    "sparse_indices = np.random.choice([True, False], size=data.shape, p=[sparsity_percentage, 1 - sparsity_percentage])\n",
    "data[sparse_indices] = 0#np.nan\n",
    "\n",
    "# Create a DataFrame\n",
    "df = pd.DataFrame(data, columns=[f\"Column_{i+1}\" for i in range(columns)])\n",
    "df"
   ]
  },
  {
   "cell_type": "markdown",
   "id": "8bbde0f9-5dfa-48be-a38c-3ff8a2e4a5ef",
   "metadata": {},
   "source": [
    "### Numbers"
   ]
  },
  {
   "cell_type": "code",
   "execution_count": null,
   "id": "c41e84bc-c7b2-43b5-99fe-f104f42c8b2b",
   "metadata": {},
   "outputs": [],
   "source": [
    "df = pd.DataFrame({\n",
    "    'feature_1': np.random.rand(10).tolist() + [0,1],\n",
    "    'feature_2': [0,0] + np.random.rand(10).tolist(),\n",
    "    'feature_3': [0] + np.random.rand(10).tolist() + [0],\n",
    "    'feature_4': [0,2] + np.random.rand(10).tolist()\n",
    "})\n",
    "df"
   ]
  },
  {
   "cell_type": "markdown",
   "id": "0da84add-1552-4347-9bc1-fdb442ad8a61",
   "metadata": {},
   "source": [
    "### Employees"
   ]
  },
  {
   "cell_type": "code",
   "execution_count": null,
   "id": "0fe5db7e-dcf8-4bc9-8ca2-63bc49795656",
   "metadata": {},
   "outputs": [],
   "source": [
    "import pandas as pd\n",
    "\n",
    "employees = pd.read_csv(\"/home/fichtner/data/file_types/tsv_employees_commented_no-header.tsv\",\n",
    "                        sep='\\t',\n",
    "                        comment='#',\n",
    "                        header=None,\n",
    "                       names=['ID', 'Name', 'Salary', 'Date', '?', 'Job', 'Code'],\n",
    "                       dtype={'ID': str, 'Name': str, 'Salary': float, 'Date': str, '?': bool, 'Job': str, 'Code':str}\n",
    "                       )\n",
    "\n",
    "employees = employees.set_index('id_' + employees['ID'].astype(str))\n",
    "del employees['ID']\n",
    "\n",
    "employees"
   ]
  },
  {
   "cell_type": "code",
   "execution_count": null,
   "id": "1aa1c662-9875-46f2-9b33-a357a0be7459",
   "metadata": {},
   "outputs": [],
   "source": [
    "x = employees.groupby(['Job', '?']).size() > 3\n",
    "x"
   ]
  },
  {
   "cell_type": "code",
   "execution_count": null,
   "id": "90cb249c-84b0-45ff-a6cc-b7628368fa4a",
   "metadata": {},
   "outputs": [],
   "source": [
    "x = employees.groupby(['Job', '?']).transform('size') > 3\n",
    "employees[x]"
   ]
  },
  {
   "cell_type": "code",
   "execution_count": null,
   "id": "89a44ea0-e67e-4460-a880-4d4c7e123407",
   "metadata": {},
   "outputs": [],
   "source": [
    "x[x > 3].index"
   ]
  },
  {
   "cell_type": "code",
   "execution_count": null,
   "id": "050500b0-dba7-4c0e-afc0-dc88e8177f8f",
   "metadata": {},
   "outputs": [],
   "source": [
    "data = {\n",
    "    'Name': ['Alice', 'Bob', 'Charlie', 'David', 'Ian', 'Alex'],\n",
    "    'Age': [24, 30, 22, 35, 26, 24],\n",
    "    'City': ['New York', 'Los Angeles', 'Chicago', 'Houston', 'Los Angeles', 'New York'],\n",
    "    'Salary': [70000, 80000, 50000, 90000, 100000, 100000],\n",
    "    'Counts': [2,3,1,1,1,1]\n",
    "}\n",
    "df = pd.DataFrame(data)\n",
    "df = df.set_index('Name')\n",
    "df"
   ]
  },
  {
   "cell_type": "code",
   "execution_count": null,
   "id": "e9e50b9d-bdff-476f-941c-04ff45fcbf4c",
   "metadata": {},
   "outputs": [],
   "source": [
    "df.loc[['Alice', 'Bob'], 'Age']"
   ]
  },
  {
   "cell_type": "markdown",
   "id": "320311f2-0f79-4a19-b9d5-4838814f3533",
   "metadata": {},
   "source": [
    "### Counts matrix"
   ]
  },
  {
   "cell_type": "code",
   "execution_count": null,
   "id": "651edc1e-55b0-4320-9e8d-b55a3c5f76f3",
   "metadata": {},
   "outputs": [],
   "source": [
    "counts_matrix = pd.DataFrame({\n",
    "    'Sample1': [10, 20, 30],\n",
    "    'Sample2': [40, 50, 60],\n",
    "    'Sample3': [70, 80, 90],\n",
    "    'Sample4': [100, 110, 120]\n",
    "}, index=['Feature1', 'Feature2', 'Feature3']).T\n",
    "counts_matrix"
   ]
  },
  {
   "cell_type": "code",
   "execution_count": null,
   "id": "c3bfa1ad-2142-4442-8b12-1a1d7669fe07",
   "metadata": {},
   "outputs": [],
   "source": [
    "metadata = pd.DataFrame({\n",
    "    'Sample': ['Sample1', 'Sample2', 'Sample3', 'Sample4', 'Sample5'],\n",
    "    'Category1': ['A', 'B', 'B', 'B', 'B'],\n",
    "    'Category2': ['1', '1', '1', '2', '1']\n",
    "    \n",
    "})\n",
    "metadata.set_index('Sample', inplace=True)\n",
    "metadata"
   ]
  },
  {
   "cell_type": "code",
   "execution_count": null,
   "id": "7daa1ee7-f945-42ea-a552-d2a5240297c7",
   "metadata": {},
   "outputs": [],
   "source": [
    "merged = counts_matrix.join(metadata, how='inner')\n",
    "\n",
    "aggregated_counts = merged.groupby(['Category1', 'Category2']).sum()\n",
    "aggregated_counts"
   ]
  },
  {
   "cell_type": "markdown",
   "id": "ee6d74a5-877f-46f5-8db5-e184cb47a8a4",
   "metadata": {},
   "source": [
    "# Numpy"
   ]
  },
  {
   "cell_type": "code",
   "execution_count": null,
   "id": "a2192cc1-783f-45af-be56-6cc8b5753e31",
   "metadata": {},
   "outputs": [],
   "source": [
    "import numpy as np\n",
    "x = np.array([[1,2,3], [2,3,4], [2,3,4], [5,6,7]])\n",
    "x"
   ]
  },
  {
   "cell_type": "code",
   "execution_count": null,
   "id": "b2f1815b-135a-45d2-90ff-1d52d8e7c5ed",
   "metadata": {},
   "outputs": [],
   "source": [
    "import scipy as sp\n",
    "import pandas\n",
    "\n"
   ]
  },
  {
   "cell_type": "code",
   "execution_count": null,
   "id": "313a7d13-548f-4014-9ef9-8911d73c29b4",
   "metadata": {},
   "outputs": [],
   "source": [
    "import scipy as sp\n",
    "import pandas as pd\n",
    "\n",
    "describe_result = sp.stats.describe(x, axis=0)\n",
    "\n",
    "stats = {\n",
    "    'nobs': [describe_result.nobs] * len(describe_result.mean),\n",
    "    'min': describe_result.minmax[0],\n",
    "    'max': describe_result.minmax[1],\n",
    "    'mean': describe_result.mean,\n",
    "    'variance': describe_result.variance,\n",
    "    'skewness': describe_result.skewness,\n",
    "    'kurtosis': describe_result.kurtosis\n",
    "}\n",
    "\n",
    "# Create a DataFrame with the statistics\n",
    "df = pd.DataFrame(stats)\n",
    "\n",
    "# Add the 'statistic' column with the corresponding names\n",
    "df = df.transpose().reset_index().rename(columns={'index': 'statistic'}).set_index('statistic')\n",
    "\n",
    "# Display the DataFrame\n",
    "print(df)\n"
   ]
  },
  {
   "cell_type": "markdown",
   "id": "45d0fa47-8925-4fea-a614-8a23a0c58f6d",
   "metadata": {},
   "source": [
    "# Regex"
   ]
  },
  {
   "cell_type": "code",
   "execution_count": null,
   "id": "a9003c2e-81f2-435c-8efb-260f84d56f0f",
   "metadata": {},
   "outputs": [],
   "source": [
    "import re"
   ]
  },
  {
   "cell_type": "code",
   "execution_count": null,
   "id": "161793e4-2a68-4fa8-9b6c-f49b6b47cc5d",
   "metadata": {},
   "outputs": [],
   "source": [
    "samples = ['sSL0146_BrainO_R4_F_10xM_Multiome', 'sSL0136D_BrainO_R3_B_10xM_Multiome', 'sSL0170b_BrainO_R4_F_10xM_Multiome']"
   ]
  },
  {
   "cell_type": "code",
   "execution_count": null,
   "id": "b5b67561-f715-4e6a-b18c-b3d7f9959bc4",
   "metadata": {},
   "outputs": [],
   "source": [
    "for s in samples:\n",
    "    match = re.search(r'sSL\\d*[A-Za-z]*', s)\n",
    "    print(match.group())"
   ]
  },
  {
   "cell_type": "markdown",
   "id": "d09b2a67",
   "metadata": {},
   "source": [
    "# Scipy sparse matrices"
   ]
  },
  {
   "cell_type": "code",
   "execution_count": null,
   "id": "c3613f0e",
   "metadata": {},
   "outputs": [],
   "source": [
    "from scipy.sparse import csr_matrix, coo_matrix"
   ]
  },
  {
   "cell_type": "code",
   "execution_count": null,
   "id": "2fb449f4",
   "metadata": {},
   "outputs": [],
   "source": [
    "csr = csr_matrix(([1,2,3,4,5], ([0, 4, 1, 4, 2], [0, 1, 4, 4, 1])))\n",
    "csr.toarray()"
   ]
  },
  {
   "cell_type": "code",
   "execution_count": null,
   "id": "d43c7737",
   "metadata": {},
   "outputs": [],
   "source": [
    "csr[2:4,3:5].toarray()"
   ]
  },
  {
   "cell_type": "markdown",
   "id": "a8a75fd8-6868-47dd-8a38-17d18394b876",
   "metadata": {},
   "source": [
    "# pybedtools"
   ]
  },
  {
   "cell_type": "code",
   "execution_count": null,
   "id": "f959df50-2b59-490e-8c7c-c0e843ed0af5",
   "metadata": {},
   "outputs": [],
   "source": [
    "import pybedtools"
   ]
  },
  {
   "cell_type": "code",
   "execution_count": null,
   "id": "855f913a-9303-4a09-8519-fc40e71a492c",
   "metadata": {},
   "outputs": [],
   "source": [
    "entries_a = [\n",
    "    ('chr1', 0, 500, 'a'),\n",
    "    ('chr1', 500, 1000, 'b'),\n",
    "    ('chr1', 1500, 2000, 'c'),\n",
    "    ('chr1', 3000, 3500, 'd'),\n",
    "    ('chr1', 4000, 4500, 'e')\n",
    "]\n",
    "\n",
    "a = pybedtools.BedTool(entries_a)\n",
    "a.head()"
   ]
  },
  {
   "cell_type": "code",
   "execution_count": null,
   "id": "35bea47e-3735-4a9a-a73d-6c9afaf632df",
   "metadata": {},
   "outputs": [],
   "source": [
    "entries_b = [\n",
    "    ('chr1', 0, 100, 'z'),\n",
    "    ('chr1', 0, 200, 'y'),\n",
    "    ('chr1', 600, 700, 'x'),\n",
    "    ('chr1', 1400, 2100, 'w'),\n",
    "    ('chr1', 3900, 4100, 'v'),\n",
    "    ('chr1', 4400, 4600, 'u'),\n",
    "    ('chr1', 10000, 10100, 't')\n",
    "]\n",
    "\n",
    "b = pybedtools.BedTool(entries_b)\n",
    "b.head()"
   ]
  },
  {
   "cell_type": "code",
   "execution_count": null,
   "id": "2270a7ff-45c6-4113-bbb9-fc9f5abc0d99",
   "metadata": {},
   "outputs": [],
   "source": [
    "import sys"
   ]
  },
  {
   "cell_type": "code",
   "execution_count": null,
   "id": "59db2896-7168-45e7-8b4b-74933f8fd46f",
   "metadata": {},
   "outputs": [],
   "source": [
    "sys.path.append('/home/fichtner/.conda/envs/ian/bin')\n",
    "sys.path"
   ]
  },
  {
   "cell_type": "markdown",
   "id": "e18bd05f-18ce-4926-a9ec-98e0dd10f8bb",
   "metadata": {},
   "source": [
    "# Subprocess (AKA bash)"
   ]
  },
  {
   "cell_type": "code",
   "execution_count": null,
   "id": "725ae42a-f47d-49ac-9a30-db4a3aba5894",
   "metadata": {},
   "outputs": [],
   "source": [
    "import subprocess\n",
    "import os"
   ]
  },
  {
   "cell_type": "code",
   "execution_count": null,
   "id": "1f17a58a-8d3f-4334-a2fb-b58b9b0b9f91",
   "metadata": {},
   "outputs": [],
   "source": [
    "os.chdir('/home/fichtner/data/file_types')\n",
    "os.getcwd()"
   ]
  },
  {
   "cell_type": "code",
   "execution_count": null,
   "id": "23aa5e98-27f6-4aca-804b-65a5fb83c7c6",
   "metadata": {},
   "outputs": [],
   "source": [
    "o = subprocess.run(['/home/fichtner/.conda/envs/ian/bin/bedtools', 'intersect', '-a', 'bed_overlapping.bed', '-b', 'bed_overlapping-2.bed'], text=True, capture_output=True)\n",
    "o.stdout.split('\\n')"
   ]
  },
  {
   "cell_type": "code",
   "execution_count": null,
   "id": "a08a7076-fb2f-44d4-9d00-ea913a6a499d",
   "metadata": {},
   "outputs": [],
   "source": [
    "[n.split('\\t')[3] for n in o.stdout.split('\\n')[:-1]]"
   ]
  },
  {
   "cell_type": "markdown",
   "id": "d55e1553-63f8-406e-aec7-8e379a1e1b54",
   "metadata": {},
   "source": [
    "# JSON"
   ]
  },
  {
   "cell_type": "code",
   "execution_count": null,
   "id": "b1ac78bc-3405-4a3b-9898-bfa693b66251",
   "metadata": {},
   "outputs": [],
   "source": [
    "import sys\n",
    "sys.path.append(os.path.join(PROJ_ROOT, \"code\"))\n",
    "from helpers.helpers import ct_format, ct_format_alt"
   ]
  },
  {
   "cell_type": "code",
   "execution_count": null,
   "id": "73d97a2e-ac9c-4f21-a4db-7991b53d096d",
   "metadata": {},
   "outputs": [],
   "source": [
    "import json"
   ]
  },
  {
   "cell_type": "code",
   "execution_count": null,
   "id": "f9a75764-df1e-46cc-ae6d-a275909eacec",
   "metadata": {},
   "outputs": [],
   "source": [
    "with open(\"config/cell-type_groupings/hca_brain-organoids/approach_2024-09-12.json\", 'r') as f:\n",
    "    ct_map = json.load(f)"
   ]
  },
  {
   "cell_type": "code",
   "execution_count": null,
   "id": "58df4e24-302f-45d4-afbc-f7bb833263d9",
   "metadata": {},
   "outputs": [],
   "source": [
    "ct_map"
   ]
  },
  {
   "cell_type": "code",
   "execution_count": null,
   "id": "2e1d2eeb-0423-44e7-81bc-2dc2f8bd74a9",
   "metadata": {},
   "outputs": [],
   "source": [
    "ct_map = {ct_format(key): [ct_format(e) for e in listt] for key, listt in ct_map.items()}\n",
    "ct_map"
   ]
  },
  {
   "cell_type": "code",
   "execution_count": null,
   "id": "9e31ad89-914b-4ebb-a4c7-3227db089fd3",
   "metadata": {},
   "outputs": [],
   "source": [
    "ct_map_i = {old_ct: new_ct for new_ct, old_cts in ct_map.items() for old_ct in old_cts}\n",
    "ct_map_i"
   ]
  },
  {
   "cell_type": "markdown",
   "id": "9cf332ca",
   "metadata": {},
   "source": [
    "# Anndata"
   ]
  },
  {
   "cell_type": "code",
   "execution_count": 45,
   "id": "619c1f00",
   "metadata": {},
   "outputs": [],
   "source": [
    "import anndata as ad\n",
    "\n",
    "# adata bookmarks\n",
    "cell_type = 'DL-EN' #'Neural-progenitors'\n",
    "adata_fp_preann_path = f'results/datasets/hca_brain-organoids/atac-seq/footprints/js_divergence/approach_2024-09-12/footprints_{cell_type}_pre-annotated.h5ad'\n",
    "adata_fp_processed_path = f'results/datasets/hca_brain-organoids/atac-seq/footprints/js_divergence/approach_2024-09-12/footprints_{cell_type}_processed.h5ad'\n",
    "from glob_vars import ATAC_PEAKS_H5AD_OLD, ATAC_PEAKS_H5AD_NEW, ATAC_PEAKS_PROCESSED_H5AD, ATAC_CHROM_ACCESS_DIR\n",
    "adata_ctd = f'{ATAC_CHROM_ACCESS_DIR}/adata/peak_matrix_cell-type-donors-pseudobulk.h5ad'\n",
    "adata_ct_cells = f'{ATAC_CHROM_ACCESS_DIR}/adata/approach_2024-09-12/DL-EN/peak_matrix_cells_DL-EN.h5ad'\n",
    "adata_ct_donors = f'{ATAC_CHROM_ACCESS_DIR}/adata/approach_2024-09-12/DL-EN/peak_matrix_donors-pseudobulk_DL-EN.h5ad'"
   ]
  },
  {
   "cell_type": "markdown",
   "id": "3f20f106",
   "metadata": {},
   "source": [
    "### Do below to check if processed adata_ct_donors correctly annotated"
   ]
  },
  {
   "cell_type": "code",
   "execution_count": null,
   "id": "d8983b32",
   "metadata": {},
   "outputs": [
    {
     "data": {
      "text/plain": [
       "AnnData object with n_obs × n_vars = 23 × 52184 backed at 'results/datasets/hca_brain-organoids/atac-seq/footprints/js_divergence/approach_2024-09-12/footprints_DL-EN_processed.h5ad'\n",
       "    obs: 'cell_type', 'donor', 'donor_id', 'n_fragments', 'n_insertions', 'n_cells', 'mean_BlacklistRatio', 'mean_nDiFrags', 'mean_nFrags', 'mean_nMonoFrags', 'mean_nMultiFrags', 'mean_NucleosomeRatio', 'mean_PassQC', 'mean_PromoterRatio', 'mean_ReadsInBlacklist', 'mean_ReadsInPromoter', 'mean_ReadsInTSS', 'mean_TSSEnrichment', 'mean_n_genes_by_counts', 'mean_total_counts', 'mean_total_counts_mt', 'mean_ReadsInPeaks', 'mean_FRIP', 'leiden'\n",
       "    var: 'peak_name', 'chr', 'start', 'end', 'length', 'strand', 'score', 'GC', 'nearest_gene', 'peak_type', 'mean', 'std', 'var', 'min', 'max', '25%', '50%', '75%', 'highly_variable_std', 'std_rank'\n",
       "    uns: 'leiden', 'neighbors', 'pca', 'umap'\n",
       "    obsm: 'X_pca', 'X_umap'\n",
       "    varm: 'PCs'\n",
       "    obsp: 'connectivities', 'distances'"
      ]
     },
     "execution_count": 46,
     "metadata": {},
     "output_type": "execute_result"
    }
   ],
   "source": [
    "    adata = ad.read_h5ad(adata_ct_donors, backed='r')\n",
    "adata"
   ]
  },
  {
   "cell_type": "code",
   "execution_count": 47,
   "id": "cdc14986",
   "metadata": {},
   "outputs": [
    {
     "data": {
      "text/plain": [
       "{'bezi': 'SAMEA2518325',\n",
       " 'bubh': 'SAMEA2698309',\n",
       " 'fawm': 'SAMEA3735541',\n",
       " 'fikt': 'SAMEA2547619',\n",
       " 'hayt': 'SAMEA2445784',\n",
       " 'heja': 'SAMEA2627577',\n",
       " 'hiaf': 'SAMEA2609971',\n",
       " 'ieki': 'SAMEA2445779',\n",
       " 'iisa': 'SAMEA2536410',\n",
       " 'joxm': 'SAMEA2547637',\n",
       " 'kajh': 'SAMEA3853122',\n",
       " 'kute': 'SAMEA3974247',\n",
       " 'kuxp': 'SAMEA2547622',\n",
       " 'laey': 'SAMEA3853161',\n",
       " 'lexy': 'SAMEA2536416',\n",
       " 'nosn': 'SAMEA3964906',\n",
       " 'qaqx': 'SAMEA2658084',\n",
       " 'qorq': 'SAMEA2609965',\n",
       " 'sebn': 'SAMEA3962524',\n",
       " 'ualf': 'SAMEA3973854',\n",
       " 'vass': 'SAMEA2627141',\n",
       " 'vuna': 'SAMEA3448738',\n",
       " 'yemz': 'SAMEA2613912'}"
      ]
     },
     "execution_count": 47,
     "metadata": {},
     "output_type": "execute_result"
    }
   ],
   "source": [
    "d = adata.obs[['donor', 'donor_id']].set_index('donor')['donor_id'].to_dict()\n",
    "d"
   ]
  },
  {
   "cell_type": "code",
   "execution_count": 48,
   "id": "98176fec",
   "metadata": {},
   "outputs": [
    {
     "data": {
      "text/plain": [
       "AnnData object with n_obs × n_vars = 195931 × 736845 backed at 'data/intermediate-data/datasets/hca_brain-organoids/atac-seq/chromatin-accessibility/adata/peak_matrix.h5ad'\n",
       "    obs: 'BlacklistRatio', 'nDiFrags', 'nFrags', 'nMonoFrags', 'nMultiFrags', 'NucleosomeRatio', 'PassQC', 'PromoterRatio', 'ReadsInBlacklist', 'ReadsInPromoter', 'ReadsInTSS', 'Sample', 'TSSEnrichment', 'n_genes_by_counts', 'total_counts', 'total_counts_mt', 'donor_id', 'clone', 'organoid', 'donor', 'leiden', 'stressed_vs_unstressed_celltypes', 'ReadsInPeaks', 'FRIP', 'barcode', 'batch', 'sample', 'barcode_batch', 'cell_type'\n",
       "    var: 'chr', 'start', 'end', 'strand', 'peak_name', 'score', 'GC', 'nearest_gene', 'peak_type'"
      ]
     },
     "execution_count": 48,
     "metadata": {},
     "output_type": "execute_result"
    }
   ],
   "source": [
    "adata_ref = ad.read_h5ad(ATAC_PEAKS_PROCESSED_H5AD, backed='r')\n",
    "adata_ref"
   ]
  },
  {
   "cell_type": "code",
   "execution_count": 49,
   "id": "75ab9bd9",
   "metadata": {},
   "outputs": [
    {
     "data": {
      "text/plain": [
       "{'meue': 'SAMEA3973848',\n",
       " 'eiwy': 'SAMEA2645805',\n",
       " 'bubh': 'SAMEA2698309',\n",
       " 'lexy': 'SAMEA2536416',\n",
       " 'wibj': 'SAMEA2627566',\n",
       " 'kute': 'SAMEA3974247',\n",
       " 'kehc': 'SAMEA2658107',\n",
       " 'iudw': 'SAMEA3851971',\n",
       " 'lise': 'SAMEA2625592',\n",
       " 'vuna': 'SAMEA3448738',\n",
       " 'sebn': 'SAMEA3962524',\n",
       " 'ualf': 'SAMEA3973854',\n",
       " 'yemz': 'SAMEA2613912',\n",
       " 'hayt': 'SAMEA2445784',\n",
       " 'nosn': 'SAMEA3964906',\n",
       " 'kegd': 'SAMEA3977051',\n",
       " 'uevq': 'SAMEA4451109',\n",
       " 'qorq': 'SAMEA2609965',\n",
       " 'liqa': 'SAMEA3968753',\n",
       " 'lepk': 'SAMEA3962624',\n",
       " 'heja': 'SAMEA2627577',\n",
       " 'hiaf': 'SAMEA2609971',\n",
       " 'fawm': 'SAMEA3735541',\n",
       " 'pelm': 'SAMEA2678742',\n",
       " 'vass': 'SAMEA2627141',\n",
       " 'qaqx': 'SAMEA2658084',\n",
       " 'eika': 'SAMEA2590621',\n",
       " 'bezi': 'SAMEA2518325',\n",
       " 'ieki': 'SAMEA2445779',\n",
       " 'oilg': 'SAMEA3485962',\n",
       " 'oupf': 'SAMEA4451098',\n",
       " 'kuxp': 'SAMEA2547622',\n",
       " 'oaqd': 'SAMEA3854308',\n",
       " 'laey': 'SAMEA3853161',\n",
       " 'fikt': 'SAMEA2547619',\n",
       " 'iisa': 'SAMEA2536410',\n",
       " 'qayj': 'SAMEA3963885',\n",
       " 'wuye': 'SAMEA2518334',\n",
       " 'uofv': 'SAMEA2464819',\n",
       " 'melw': 'SAMEA3754205',\n",
       " 'suop': 'SAMEA4343052',\n",
       " 'diku': 'SAMEA2593858',\n",
       " 'miaj': 'SAMEA3854313',\n",
       " 'zerv': 'SAMEA4089453',\n",
       " 'oapg': 'SAMEA2547899',\n",
       " 'tolg': 'SAMEA3974241',\n",
       " 'naah': 'SAMEA3962619',\n",
       " 'nufh': 'SAMEA3974015',\n",
       " 'kajh': 'SAMEA3853122',\n",
       " 'bima': 'SAMEA2433566',\n",
       " 'qonc': 'SAMEA2707499',\n",
       " 'uilk': 'SAMEA3485958',\n",
       " 'hoik': 'SAMEA2698315',\n",
       " 'seru': 'SAMEA3965165',\n",
       " 'kolf': 'SAMEA2547644',\n",
       " 'kucg': 'SAMEA2645814',\n",
       " 'sebz': 'SAMEA2420640',\n",
       " 'pahc': 'SAMEA2547633',\n",
       " 'oevr': 'SAMEA2570435',\n",
       " 'yoch': 'SAMEA3847031',\n",
       " 'joxm': 'SAMEA2547637',\n",
       " 'quls': 'SAMEA3966392',\n",
       " 'zoxy': 'SAMEA2536413',\n",
       " 'vabj': 'SAMEA2595426',\n",
       " 'tixi': 'SAMEA3962389',\n",
       " 'letw': 'SAMEA3967410',\n",
       " 'cuhk': 'SAMEA2682671',\n",
       " 'hehd': 'SAMEA2518322',\n",
       " 'babk': 'SAMEA2459959',\n",
       " 'fafq': 'SAMEA2711371'}"
      ]
     },
     "execution_count": 49,
     "metadata": {},
     "output_type": "execute_result"
    }
   ],
   "source": [
    "d_ref = adata_ref.obs[['donor', 'donor_id']].set_index('donor')['donor_id'].to_dict()\n",
    "d_ref"
   ]
  },
  {
   "cell_type": "code",
   "execution_count": 50,
   "id": "9b8c1ab1",
   "metadata": {},
   "outputs": [
    {
     "name": "stdout",
     "output_type": "stream",
     "text": [
      "bezi\tSAMEA2518325\tSAMEA2518325\tTrue\n",
      "bubh\tSAMEA2698309\tSAMEA2698309\tTrue\n",
      "fawm\tSAMEA3735541\tSAMEA3735541\tTrue\n",
      "fikt\tSAMEA2547619\tSAMEA2547619\tTrue\n",
      "hayt\tSAMEA2445784\tSAMEA2445784\tTrue\n",
      "heja\tSAMEA2627577\tSAMEA2627577\tTrue\n",
      "hiaf\tSAMEA2609971\tSAMEA2609971\tTrue\n",
      "ieki\tSAMEA2445779\tSAMEA2445779\tTrue\n",
      "iisa\tSAMEA2536410\tSAMEA2536410\tTrue\n",
      "joxm\tSAMEA2547637\tSAMEA2547637\tTrue\n",
      "kajh\tSAMEA3853122\tSAMEA3853122\tTrue\n",
      "kute\tSAMEA3974247\tSAMEA3974247\tTrue\n",
      "kuxp\tSAMEA2547622\tSAMEA2547622\tTrue\n",
      "laey\tSAMEA3853161\tSAMEA3853161\tTrue\n",
      "lexy\tSAMEA2536416\tSAMEA2536416\tTrue\n",
      "nosn\tSAMEA3964906\tSAMEA3964906\tTrue\n",
      "qaqx\tSAMEA2658084\tSAMEA2658084\tTrue\n",
      "qorq\tSAMEA2609965\tSAMEA2609965\tTrue\n",
      "sebn\tSAMEA3962524\tSAMEA3962524\tTrue\n",
      "ualf\tSAMEA3973854\tSAMEA3973854\tTrue\n",
      "vass\tSAMEA2627141\tSAMEA2627141\tTrue\n",
      "vuna\tSAMEA3448738\tSAMEA3448738\tTrue\n",
      "yemz\tSAMEA2613912\tSAMEA2613912\tTrue\n"
     ]
    }
   ],
   "source": [
    "for d, did in d.items():\n",
    "\n",
    "    print(f'{d}\\t{did}\\t{d_ref[d]}\\t{did == d_ref[d]}')"
   ]
  },
  {
   "cell_type": "code",
   "execution_count": null,
   "id": "e2ccac48",
   "metadata": {},
   "outputs": [],
   "source": []
  },
  {
   "cell_type": "code",
   "execution_count": null,
   "id": "b8b51de1",
   "metadata": {},
   "outputs": [],
   "source": []
  },
  {
   "cell_type": "code",
   "execution_count": null,
   "id": "fbea449f",
   "metadata": {},
   "outputs": [],
   "source": []
  },
  {
   "cell_type": "code",
   "execution_count": null,
   "id": "aea527fe",
   "metadata": {},
   "outputs": [],
   "source": []
  },
  {
   "cell_type": "code",
   "execution_count": null,
   "id": "1115fa83",
   "metadata": {},
   "outputs": [
    {
     "data": {
      "text/plain": [
       "AnnData object with n_obs × n_vars = 265053 × 736845 backed at 'data/datasets/hca_brain-organoids/atac-seq/chromatin_accessibility/peak-matrix_rna-qc-cells_norm-reads-in-tss.h5ad'\n",
       "    obs: 'BlacklistRatio', 'nDiFrags', 'nFrags', 'nMonoFrags', 'nMultiFrags', 'NucleosomeRatio', 'PassQC', 'PromoterRatio', 'ReadsInBlacklist', 'ReadsInPromoter', 'ReadsInTSS', 'Sample', 'TSSEnrichment', 'n_genes_by_counts', 'total_counts', 'total_counts_mt', 'donor_id', 'clone', 'organoid', 'donor', 'leiden', 'stressed_vs_unstressed_celltypes', 'ReadsInPeaks', 'FRIP', 'barcode', 'batch', 'sample', 'barcode_batch', 'cell_type', 'cell_type_custom'\n",
       "    var: 'chr', 'start', 'end', 'strand', 'peak_name', 'score', 'GC', 'nearest_gene', 'peak_type'"
      ]
     },
     "execution_count": 4,
     "metadata": {},
     "output_type": "execute_result"
    }
   ],
   "source": [
    "adata = ad.read_h5ad(adata_atac_path, backed='r')\n",
    "adata"
   ]
  },
  {
   "cell_type": "code",
   "execution_count": 7,
   "id": "73b8e7b1",
   "metadata": {},
   "outputs": [
    {
     "name": "stdout",
     "output_type": "stream",
     "text": [
      "Discard\n",
      "56\n",
      "{'babk': 680, 'bezi': 259, 'bima': 581, 'bubh': 1307, 'cuhk': 1506, 'eika': 738, 'eiwy': 307, 'fafq': 902, 'fawm': 242, 'fikt': 215, 'hayt': 782, 'hehd': 562, 'heja': 421, 'hoik': 2002, 'iisa': 204, 'iudw': 418, 'joxm': 302, 'kehc': 254, 'kucg': 1150, 'kuxp': 721, 'lepk': 451, 'letw': 1895, 'lexy': 327, 'liqa': 661, 'lise': 1967, 'melw': 3041, 'miaj': 802, 'naah': 2240, 'nufh': 1501, 'oapg': 258, 'oaqd': 1435, 'oevr': 1440, 'oilg': 1464, 'oupf': 250, 'pahc': 1132, 'pamv': 479, 'pelm': 1237, 'qayj': 1826, 'qonc': 1229, 'qorq': 1100, 'quls': 2795, 'sebn': 249, 'sebz': 535, 'seru': 996, 'tixi': 827, 'tolg': 1641, 'ualf': 1824, 'uevq': 1292, 'uilk': 844, 'uofv': 2127, 'vabj': 2942, 'wibj': 593, 'wuye': 696, 'yoch': 2256, 'zerv': 3651, 'zoxy': 1818}\n",
      "\n",
      "UL-EN\n",
      "38\n",
      "{'bezi': 436, 'diku': 462, 'eika': 204, 'eiwy': 311, 'fawm': 2540, 'fikt': 586, 'hayt': 1876, 'heja': 1733, 'hiaf': 1066, 'iisa': 2046, 'iudw': 2857, 'joxm': 346, 'kajh': 827, 'kegd': 653, 'kehc': 418, 'kolf': 670, 'kute': 370, 'kuxp': 1553, 'laey': 1887, 'lepk': 1001, 'lexy': 1488, 'meue': 638, 'nosn': 1455, 'oapg': 379, 'oupf': 599, 'pelm': 444, 'qaqx': 610, 'qayj': 1659, 'qonc': 220, 'qorq': 2651, 'rozh': 867, 'sebn': 2378, 'suop': 727, 'ualf': 924, 'uilk': 317, 'vass': 1204, 'wibj': 539, 'yemz': 2180}\n",
      "\n",
      "Glia\n",
      "55\n",
      "{'bezi': 771, 'bubh': 2204, 'diku': 621, 'eika': 201, 'eiwy': 1217, 'fawm': 433, 'fikt': 297, 'hayt': 2217, 'heja': 482, 'ieki': 660, 'iisa': 1955, 'iudw': 2249, 'joxm': 537, 'kajh': 363, 'kegd': 360, 'kehc': 2168, 'kolf': 238, 'kucg': 697, 'kute': 504, 'kuxp': 940, 'laey': 2266, 'lepk': 1311, 'lexy': 2041, 'liqa': 721, 'meue': 2029, 'miaj': 262, 'nosn': 2111, 'oapg': 596, 'oaqd': 543, 'oilg': 374, 'oupf': 380, 'pahc': 330, 'pamv': 257, 'pelm': 834, 'qaqx': 1105, 'qayj': 791, 'qonc': 515, 'qorq': 1153, 'quls': 529, 'rozh': 504, 'sebn': 1950, 'sebz': 359, 'seru': 502, 'suop': 1423, 'tolg': 251, 'ualf': 2615, 'uevq': 217, 'uilk': 338, 'vabj': 318, 'vass': 275, 'vuna': 399, 'wibj': 619, 'yemz': 2546, 'yoch': 720, 'zerv': 915}\n",
      "\n",
      "Neural-progenitors\n",
      "45\n",
      "{'bezi': 335, 'bubh': 1271, 'diku': 939, 'eika': 427, 'eiwy': 895, 'fawm': 1614, 'fikt': 586, 'hayt': 2273, 'heja': 786, 'hiaf': 274, 'ieki': 1082, 'iisa': 2038, 'iudw': 4166, 'joxm': 541, 'kajh': 584, 'kegd': 931, 'kehc': 2507, 'kolf': 912, 'kute': 652, 'kuxp': 1506, 'laey': 2819, 'lepk': 1181, 'lexy': 2734, 'liqa': 349, 'meue': 2476, 'nosn': 2617, 'oapg': 624, 'oupf': 419, 'pahc': 289, 'pamv': 220, 'pelm': 461, 'qaqx': 858, 'qayj': 1033, 'qonc': 639, 'qorq': 1088, 'rozh': 758, 'sebn': 2159, 'sebz': 288, 'suop': 1086, 'ualf': 892, 'uilk': 419, 'vass': 846, 'vuna': 868, 'wibj': 584, 'yemz': 3325}\n",
      "\n",
      "DL-EN\n",
      "35\n",
      "{'bezi': 320, 'bubh': 809, 'eika': 343, 'eiwy': 358, 'fawm': 1740, 'fikt': 412, 'hayt': 556, 'heja': 1146, 'hiaf': 757, 'ieki': 535, 'iisa': 632, 'iudw': 2254, 'joxm': 382, 'kajh': 537, 'kegd': 691, 'kehc': 827, 'kute': 366, 'kuxp': 723, 'laey': 808, 'lexy': 263, 'liqa': 395, 'meue': 2694, 'nosn': 227, 'oupf': 253, 'qaqx': 549, 'qayj': 1760, 'qorq': 1194, 'rozh': 600, 'sebn': 524, 'suop': 1284, 'ualf': 396, 'vass': 557, 'vuna': 1162, 'wibj': 510, 'yemz': 3129}\n",
      "\n",
      "Midbrain-EN\n",
      "32\n",
      "{'bima': 354, 'bubh': 655, 'cuhk': 419, 'eika': 329, 'hayt': 265, 'hoik': 1187, 'kucg': 398, 'kuxp': 243, 'letw': 587, 'lise': 313, 'melw': 896, 'miaj': 1446, 'naah': 1292, 'nufh': 327, 'oaqd': 311, 'oevr': 502, 'oilg': 929, 'pelm': 825, 'qayj': 363, 'qonc': 574, 'qorq': 390, 'quls': 317, 'sebz': 261, 'tolg': 1051, 'uevq': 381, 'uofv': 247, 'vabj': 685, 'wibj': 219, 'wuye': 425, 'yoch': 555, 'zerv': 733, 'zoxy': 275}\n",
      "\n"
     ]
    }
   ],
   "source": [
    "l = {}\n",
    "\n",
    "for ct in adata.obs['cell_type_custom'].unique():\n",
    "\n",
    "    df = adata.obs[adata.obs['cell_type_custom'] == ct]\n",
    "    assert df['cell_type_custom'].nunique() == 1\n",
    "\n",
    "    s = df.groupby('donor').size()\n",
    "    s = s[s > 200]\n",
    "\n",
    "    l[ct] = s\n",
    "\n",
    "    print(ct)\n",
    "    print(len(s))\n",
    "    print(s.to_dict())\n",
    "    print('')"
   ]
  },
  {
   "cell_type": "code",
   "execution_count": 18,
   "id": "61c81d6b",
   "metadata": {},
   "outputs": [
    {
     "data": {
      "text/plain": [
       "AnnData object with n_obs × n_vars = 36 × 50789 backed at 'results/datasets/hca_brain-organoids/atac-seq/footprints/js_divergence/approach_2024-09-12/footprints_Neural-progenitors_processed.h5ad'\n",
       "    obs: 'cell_type', 'donor', 'donor_id', 'n_frags', 'n_insertions', 'n_cells', 'mean_BlacklistRatio', 'mean_nDiFrags', 'mean_nFrags', 'mean_nMonoFrags', 'mean_nMultiFrags', 'mean_NucleosomeRatio', 'mean_PassQC', 'mean_PromoterRatio', 'mean_ReadsInBlacklist', 'mean_ReadsInPromoter', 'mean_ReadsInTSS', 'mean_TSSEnrichment', 'mean_n_genes_by_counts', 'mean_total_counts', 'mean_total_counts_mt', 'mean_ReadsInPeaks', 'mean_FRIP', 'leiden'\n",
       "    var: 'peak_name', 'chr', 'start', 'end', 'length', 'strand', 'score', 'GC', 'nearest_gene', 'peak_type', 'mean', 'std', 'var', 'min', 'max', '25%', '50%', '75%', 'highly_variable_std', 'highly_variable_std_rank'\n",
       "    uns: 'leiden', 'neighbors', 'pca', 'umap'\n",
       "    obsm: 'X_pca', 'X_umap'\n",
       "    varm: 'PCs'\n",
       "    obsp: 'connectivities', 'distances'"
      ]
     },
     "execution_count": 18,
     "metadata": {},
     "output_type": "execute_result"
    }
   ],
   "source": [
    "adata_proc = ad.read_h5ad(adata_fp_processed_path, backed='r')\n",
    "adata_proc"
   ]
  },
  {
   "cell_type": "code",
   "execution_count": 34,
   "id": "cb1cc5ef",
   "metadata": {},
   "outputs": [
    {
     "name": "stdout",
     "output_type": "stream",
     "text": [
      "Neural-progenitors\n",
      "\n",
      "bezi     335\n",
      "bubh    1271\n",
      "diku     939\n",
      "eika     427\n",
      "eiwy     895\n",
      "fawm    1614\n",
      "fikt     586\n",
      "hayt    2273\n",
      "heja     786\n",
      "hiaf     274\n",
      "iisa    2038\n",
      "joxm     541\n",
      "kajh     584\n",
      "kegd     931\n",
      "kehc    2507\n",
      "kute     652\n",
      "kuxp    1506\n",
      "laey    2819\n",
      "lepk    1181\n",
      "lexy    2734\n",
      "liqa     349\n",
      "meue    2476\n",
      "oapg     624\n",
      "oupf     419\n",
      "pamv     220\n",
      "qaqx     858\n",
      "qayj    1033\n",
      "qorq    1088\n",
      "sebn    2159\n",
      "sebz     288\n",
      "suop    1086\n",
      "ualf     892\n",
      "uilk     419\n",
      "vass     846\n",
      "vuna     868\n",
      "yemz    3325\n",
      "Name: n_cells, dtype: int64\n",
      "36\n"
     ]
    }
   ],
   "source": [
    "l_proc = {}\n",
    "\n",
    "for ct in adata_proc.obs['cell_type'].unique():\n",
    "\n",
    "    print(ct+'\\n')\n",
    "\n",
    "    df = adata_proc.obs[adata_proc.obs['cell_type'] == ct]\n",
    "\n",
    "    assert df['cell_type'].nunique() == 1\n",
    "\n",
    "    s = df['n_cells']\n",
    "\n",
    "    s = s[s > 200]\n",
    "    print(s)\n",
    "    print(len(s))\n",
    "\n",
    "    l_proc[ct] = s"
   ]
  },
  {
   "cell_type": "markdown",
   "id": "ea73856f",
   "metadata": {},
   "source": [
    "## TODO: solve missing donors"
   ]
  },
  {
   "cell_type": "code",
   "execution_count": 28,
   "id": "6d2581e5",
   "metadata": {},
   "outputs": [
    {
     "data": {
      "text/plain": [
       "View of AnnData object with n_obs × n_vars = 30942 × 736845 backed at 'data/datasets/hca_brain-organoids/atac-seq/chromatin_accessibility/peak-matrix_rna-qc-cells_norm-reads-in-tss.h5ad'\n",
       "    obs: 'BlacklistRatio', 'nDiFrags', 'nFrags', 'nMonoFrags', 'nMultiFrags', 'NucleosomeRatio', 'PassQC', 'PromoterRatio', 'ReadsInBlacklist', 'ReadsInPromoter', 'ReadsInTSS', 'Sample', 'TSSEnrichment', 'n_genes_by_counts', 'total_counts', 'total_counts_mt', 'donor_id', 'clone', 'organoid', 'donor', 'leiden', 'stressed_vs_unstressed_celltypes', 'ReadsInPeaks', 'FRIP', 'barcode', 'batch', 'sample', 'barcode_batch', 'cell_type', 'cell_type_custom'\n",
       "    var: 'chr', 'start', 'end', 'strand', 'peak_name', 'score', 'GC', 'nearest_gene', 'peak_type'"
      ]
     },
     "execution_count": 28,
     "metadata": {},
     "output_type": "execute_result"
    }
   ],
   "source": [
    "adata_ref = ad.read_h5ad('data/datasets/hca_brain-organoids/atac-seq/chromatin_accessibility/peak-matrix_rna-qc-cells_norm-reads-in-tss.h5ad', backed='r')\n",
    "adata_ref = adata_ref[adata_ref.obs['cell_type_custom'] == cell_type]\n",
    "adata_ref"
   ]
  },
  {
   "cell_type": "code",
   "execution_count": 29,
   "id": "314ca290",
   "metadata": {},
   "outputs": [
    {
     "data": {
      "text/plain": [
       "donor\n",
       "babk       2\n",
       "bezi     320\n",
       "bima       1\n",
       "bubh     809\n",
       "cuhk       1\n",
       "        ... \n",
       "vuna    1162\n",
       "wibj     510\n",
       "wuye       3\n",
       "yemz    3129\n",
       "zerv       1\n",
       "Length: 68, dtype: int64"
      ]
     },
     "execution_count": 29,
     "metadata": {},
     "output_type": "execute_result"
    }
   ],
   "source": [
    "ref_ncells = adata_ref.obs.groupby('donor').size()\n",
    "ref_ncells"
   ]
  },
  {
   "cell_type": "code",
   "execution_count": 30,
   "id": "8b66b1a8",
   "metadata": {},
   "outputs": [],
   "source": [
    "r = set(ref_ncells.index)"
   ]
  },
  {
   "cell_type": "code",
   "execution_count": 31,
   "id": "7682b9f9",
   "metadata": {},
   "outputs": [
    {
     "data": {
      "text/plain": [
       "View of AnnData object with n_obs × n_vars = 54 × 52184 backed at 'results/datasets/hca_brain-organoids/atac-seq/footprints/js_divergence/approach_2024-09-12/footprints_DL-EN_pre-annotated.h5ad'\n",
       "    obs: 'cell_type', 'donor', 'donor_id', 'n_frags', 'n_insertions', 'n_cells', 'mean_BlacklistRatio', 'mean_nDiFrags', 'mean_nFrags', 'mean_nMonoFrags', 'mean_nMultiFrags', 'mean_NucleosomeRatio', 'mean_PassQC', 'mean_PromoterRatio', 'mean_ReadsInBlacklist', 'mean_ReadsInPromoter', 'mean_ReadsInTSS', 'mean_TSSEnrichment', 'mean_n_genes_by_counts', 'mean_total_counts', 'mean_total_counts_mt', 'mean_ReadsInPeaks', 'mean_FRIP'\n",
       "    var: 'peak_name', 'chr', 'start', 'end', 'length', 'strand', 'score', 'GC', 'nearest_gene', 'peak_type'"
      ]
     },
     "execution_count": 31,
     "metadata": {},
     "output_type": "execute_result"
    }
   ],
   "source": [
    "adata = ad.read_h5ad(adata_fp_preann_path, backed='r')\n",
    "adata = adata[adata.obs['cell_type'] == cell_type]\n",
    "adata"
   ]
  },
  {
   "cell_type": "code",
   "execution_count": 32,
   "id": "06a09ede",
   "metadata": {},
   "outputs": [],
   "source": [
    "q = set(adata.obs['n_cells'].index)"
   ]
  },
  {
   "cell_type": "code",
   "execution_count": 33,
   "id": "f2a30943",
   "metadata": {},
   "outputs": [
    {
     "data": {
      "text/plain": [
       "'DL-EN'"
      ]
     },
     "execution_count": 33,
     "metadata": {},
     "output_type": "execute_result"
    }
   ],
   "source": [
    "cell_type"
   ]
  },
  {
   "cell_type": "code",
   "execution_count": 34,
   "id": "251dacf5",
   "metadata": {},
   "outputs": [
    {
     "data": {
      "text/plain": [
       "{'eika',\n",
       " 'eiwy',\n",
       " 'iudw',\n",
       " 'kegd',\n",
       " 'kehc',\n",
       " 'liqa',\n",
       " 'meue',\n",
       " 'naah',\n",
       " 'nufh',\n",
       " 'oapg',\n",
       " 'oilg',\n",
       " 'oupf',\n",
       " 'qayj',\n",
       " 'sebz',\n",
       " 'suop',\n",
       " 'uilk',\n",
       " 'wibj'}"
      ]
     },
     "execution_count": 34,
     "metadata": {},
     "output_type": "execute_result"
    }
   ],
   "source": [
    "r - q"
   ]
  },
  {
   "cell_type": "code",
   "execution_count": 35,
   "id": "11755e60",
   "metadata": {},
   "outputs": [
    {
     "data": {
      "text/plain": [
       "donor\n",
       "eiwy     358\n",
       "naah      10\n",
       "oilg       4\n",
       "uilk      89\n",
       "oapg     159\n",
       "suop    1284\n",
       "wibj     510\n",
       "meue    2694\n",
       "kegd     691\n",
       "iudw    2254\n",
       "nufh       8\n",
       "oupf     253\n",
       "sebz      70\n",
       "liqa     395\n",
       "qayj    1760\n",
       "kehc     827\n",
       "eika     343\n",
       "dtype: int64"
      ]
     },
     "execution_count": 35,
     "metadata": {},
     "output_type": "execute_result"
    }
   ],
   "source": [
    "ref_ncells.loc[list(r-q)]"
   ]
  },
  {
   "cell_type": "markdown",
   "id": "403a81c3-5df2-4821-8fe9-9833d375f872",
   "metadata": {
    "tags": []
   },
   "source": [
    "# Anndata and scanpy"
   ]
  },
  {
   "cell_type": "code",
   "execution_count": null,
   "id": "be4ecbca-c881-46ae-931c-02ea06071b0e",
   "metadata": {},
   "outputs": [],
   "source": [
    "import numpy as np\n",
    "import anndata as ad\n",
    "import pandas as pd\n",
    "import scanpy as sc"
   ]
  },
  {
   "cell_type": "markdown",
   "id": "80c24e7b-6bfe-46e6-9940-2561a1584222",
   "metadata": {},
   "source": [
    "## Basic"
   ]
  },
  {
   "cell_type": "code",
   "execution_count": null,
   "id": "14df4a41-613e-4e7b-b1bb-e40b075bddd4",
   "metadata": {},
   "outputs": [],
   "source": [
    "n_cells = 8\n",
    "n_genes =4\n",
    "\n",
    "data = np.random.poisson(5, (n_cells, n_genes))  # Poisson distribution for RNA counts\n",
    "\n",
    "cell_ids = [f\"cell_{i+1}\" for i in range(n_cells)]\n",
    "gene_ids = [f\"gene_{i+1}\" for i in range(n_genes)]\n",
    "\n",
    "adata = ad.AnnData(X=data, \n",
    "                   obs=pd.DataFrame({'cell_type': ['T-cell'] * (n_cells // 2) + ['B-cell'] * (n_cells // 4) + ['Dendritic'] * (n_cells //4)}, index=cell_ids),\n",
    "                   var=pd.DataFrame({'gene_symbol': [f\"ENS000{i+1}\" for i in range(n_genes)]}, index=gene_ids))\n",
    "\n",
    "adata.layers['log1p'] = np.log1p(adata.X)\n",
    "\n",
    "adata"
   ]
  },
  {
   "cell_type": "markdown",
   "id": "8669d4df-6126-4f4d-b7ec-53e87d333ef0",
   "metadata": {},
   "source": [
    "## Scanpy tutorial"
   ]
  },
  {
   "cell_type": "code",
   "execution_count": null,
   "id": "28d20a2b-93fa-4195-8bac-e4cc77d3146e",
   "metadata": {},
   "outputs": [],
   "source": [
    "import os\n",
    "os.environ['HTTP_PROXY']=\"www-int2.dkfz-heidelberg.de:3128\"\n",
    "os.environ['HTTPS_PROXY']=\"www-int2.dkfz-heidelberg.de:3128\""
   ]
  },
  {
   "cell_type": "code",
   "execution_count": null,
   "id": "74ec6247-3f08-4b41-bcbc-8540062d2d30",
   "metadata": {},
   "outputs": [],
   "source": [
    "import pooch\n",
    "import scanpy as sc\n",
    "import anndata as ad\n",
    "\n",
    "EXAMPLE_DATA = pooch.create(\n",
    "    path=pooch.os_cache(\"scverse_tutorials\"),\n",
    "    base_url=\"doi:10.6084/m9.figshare.22716739.v1/\",\n",
    ")\n",
    "EXAMPLE_DATA.load_registry_from_doi()\n",
    "\n",
    "samples = {\n",
    "    \"s1d1\": \"s1d1_filtered_feature_bc_matrix.h5\",\n",
    "    \"s1d3\": \"s1d3_filtered_feature_bc_matrix.h5\",\n",
    "}\n",
    "adatas = {}\n",
    "\n",
    "for sample_id, filename in samples.items():\n",
    "    path = EXAMPLE_DATA.fetch(filename)\n",
    "    sample_adata = sc.read_10x_h5(path)\n",
    "    sample_adata.var_names_make_unique()\n",
    "    adatas[sample_id] = sample_adata\n",
    "\n",
    "adata = ad.concat(adatas, label=\"sample\")\n",
    "adata.obs_names_make_unique()\n",
    "print(adata.obs[\"sample\"].value_counts())\n",
    "adata"
   ]
  },
  {
   "cell_type": "code",
   "execution_count": null,
   "id": "2c6f6b06-fe1f-491c-a7ce-6213d550aad3",
   "metadata": {},
   "outputs": [],
   "source": [
    "# mitochondrial genes, \"MT-\" for human, \"Mt-\" for mouse\n",
    "adata.var[\"mt\"] = adata.var_names.str.startswith(\"MT-\")\n",
    "# ribosomal genes\n",
    "adata.var[\"ribo\"] = adata.var_names.str.startswith((\"RPS\", \"RPL\"))\n",
    "# hemoglobin genes\n",
    "adata.var[\"hb\"] = adata.var_names.str.contains(\"^HB[^(P)]\")\n",
    "\n",
    "sc.pp.calculate_qc_metrics(\n",
    "    adata, qc_vars=[\"mt\", \"ribo\", \"hb\"], inplace=True, log1p=True\n",
    ")\n",
    "\n",
    "sc.pp.filter_cells(adata, min_genes=100)\n",
    "sc.pp.filter_genes(adata, min_cells=3)\n",
    "\n",
    "sc.pp.scrublet(adata, batch_key=\"sample\")"
   ]
  },
  {
   "cell_type": "code",
   "execution_count": null,
   "id": "87e90442-d55d-4fbf-8f47-5c33fd1c0f70",
   "metadata": {},
   "outputs": [],
   "source": [
    "# Saving count data\n",
    "adata.layers[\"counts\"] = adata.X.copy()\n",
    "\n",
    "# Normalizing to median total counts\n",
    "sc.pp.normalize_total(adata)\n",
    "# Logarithmize the data\n",
    "sc.pp.log1p(adata)"
   ]
  },
  {
   "cell_type": "code",
   "execution_count": null,
   "id": "b6f8bd71-5f22-41f1-99ed-3f44073c1cad",
   "metadata": {},
   "outputs": [],
   "source": [
    "adata.shape"
   ]
  },
  {
   "cell_type": "code",
   "execution_count": null,
   "id": "a73c0f81-8dd5-4304-bb4b-9bd02ddf0704",
   "metadata": {},
   "outputs": [],
   "source": [
    "adata.obs['cell_type'] = ['ct_a'] * (len(adata.obs) // 2) + ['ct_b'] * (len(adata.obs) - (len(adata.obs) // 2))\n",
    "adata.obs['cell_type'] = pd.Categorical(adata.obs['cell_type'], categories=['ct_a', 'ct_b', 'ct_c'])\n",
    "adata.obs['cell_type'] "
   ]
  },
  {
   "cell_type": "code",
   "execution_count": null,
   "id": "2605ca1d-222d-4ede-b5d4-a63f8d6cc805",
   "metadata": {},
   "outputs": [],
   "source": [
    "# sc.pp.highly_variable_genes(adata, n_top_genes=adata.n_vars, batch_key=\"sample\")\n",
    "sc.pp.highly_variable_genes(adata, flavor='seurat', n_top_genes=adata.n_vars+100, batch_key=\"sample\")\n",
    "\n",
    "# sc.pl.highly_variable_genes(adata)"
   ]
  },
  {
   "cell_type": "code",
   "execution_count": null,
   "id": "8f01eff8-27d0-4b42-b346-e6a2c19d85a9",
   "metadata": {},
   "outputs": [],
   "source": [
    "df = pd.merge(adata.var['means'].to_frame(),\n",
    "              adata.var['highly_variable_nbatches'].to_frame(),\n",
    "              left_index=True,\n",
    "              right_index=True,\n",
    "              how='inner')\n",
    "df = pd.merge(df,\n",
    "              adata.var['dispersions_norm'].abs().to_frame(),\n",
    "              left_index=True,\n",
    "              right_index=True,\n",
    "              how='inner')\n",
    "df = df[(df['means'] > 0.0125) & (df['means'] < 3)]\n",
    "\n",
    "merge = df.sort_values(by=['highly_variable_nbatches', 'dispersions_norm'], ascending=[False, False])\n",
    "set(merge[0:2000].index)"
   ]
  },
  {
   "cell_type": "markdown",
   "id": "0a558d48-34ad-498d-9f5b-2b4ee5aca463",
   "metadata": {},
   "source": [
    "## DEGS"
   ]
  },
  {
   "cell_type": "code",
   "execution_count": null,
   "id": "7153b6b8-7312-4460-bdee-94c12f7a9544",
   "metadata": {},
   "outputs": [],
   "source": [
    "import numpy as np\n",
    "import anndata as ad\n",
    "import pandas as pd\n",
    "import scanpy as sc\n",
    "\n",
    "num_obs = 20\n",
    "num_genes = 5\n",
    "num_cell_types = 2 \n",
    "differentially_expressed_genes = 2\n",
    "\n",
    "cell_types = np.random.choice([f\"Type_{i+1}\" for i in range(num_cell_types)], size=num_obs)\n",
    "\n",
    "# Initialize gene expression matrix with random values\n",
    "X = np.random.normal(loc=1, scale=0.5, size=(num_obs, num_genes))\n",
    "\n",
    "# Introduce differential expression by modifying the mean expression of certain genes\n",
    "for i in range(num_cell_types):\n",
    "    type_indices = np.where(cell_types == f\"Type_{i+1}\")[0]\n",
    "    \n",
    "    # Select genes that will be differentially expressed for this cell type\n",
    "    diff_genes_indices = np.random.choice(range(num_genes), differentially_expressed_genes, replace=False)\n",
    "    \n",
    "    # Increase the mean expression for selected genes in this cell type\n",
    "    X[type_indices[:, None], diff_genes_indices] += np.random.normal(loc=5, scale=1, size=(len(type_indices), differentially_expressed_genes))\n",
    "\n",
    "\n",
    "obs = pd.DataFrame({\"cell_type\": cell_types})\n",
    "var = pd.DataFrame(index=[f\"Gene_{i+1}\" for i in range(num_genes)])\n",
    "adata = ad.AnnData(X=X, obs=obs, var=var)\n",
    "\n",
    "adata"
   ]
  },
  {
   "cell_type": "code",
   "execution_count": null,
   "id": "6a471efb-9d99-41ae-93c8-098a6f8b435d",
   "metadata": {},
   "outputs": [],
   "source": [
    "sc.pp.highly_variable_genes(adata, flavor='seurat', min_mean=0.0005, max_mean=3, min_disp=0.75)"
   ]
  },
  {
   "cell_type": "code",
   "execution_count": null,
   "id": "495f1356-1b49-4f70-840b-9739ae50dd1f",
   "metadata": {},
   "outputs": [],
   "source": [
    "adata"
   ]
  },
  {
   "cell_type": "code",
   "execution_count": null,
   "id": "4a849d59-35af-4261-9e7c-c7d4a4105b1d",
   "metadata": {},
   "outputs": [],
   "source": [
    "adata.var['highly_variable']"
   ]
  },
  {
   "cell_type": "code",
   "execution_count": null,
   "id": "03cba792-02a8-4ae6-b425-a0f91db1f89b",
   "metadata": {},
   "outputs": [],
   "source": [
    "sc.tl.pca(adata)\n",
    "sc.pp.neighbors(adata)"
   ]
  },
  {
   "cell_type": "code",
   "execution_count": null,
   "id": "5db2ed6b-8289-41c3-837f-6695314b7a30",
   "metadata": {},
   "outputs": [],
   "source": [
    "sc.tl.umap(adata)\n",
    "sc.pl.umap(\n",
    "    adata,\n",
    "    color=\"cell_type\",\n",
    "    # Setting a smaller point size to get prevent overlap\n",
    "    size=2,\n",
    ")"
   ]
  },
  {
   "cell_type": "code",
   "execution_count": null,
   "id": "3e4b7ce7-ee64-4782-98e2-ca66fb7bda67",
   "metadata": {},
   "outputs": [],
   "source": [
    "sc.tl.rank_genes_groups(adata, groupby='cell_type', method='t-test', rankby_abs=True)\n",
    "sc.pl.rank_genes_groups(adata, sharey=False)"
   ]
  },
  {
   "cell_type": "code",
   "execution_count": null,
   "id": "60fae8d8-0a62-4974-8101-5fb503886d07",
   "metadata": {},
   "outputs": [],
   "source": [
    "sc.get.rank_genes_groups_df(adata, group=\"Type_1\")"
   ]
  },
  {
   "cell_type": "code",
   "execution_count": null,
   "id": "5dcabf75-7dde-4b11-b2b1-da6d0bdd18cd",
   "metadata": {},
   "outputs": [],
   "source": [
    "sc.pl.rank_genes_groups_dotplot(\n",
    "    adata, groupby=\"cell_type\", standard_scale=\"var\", n_genes=5\n",
    ")"
   ]
  },
  {
   "cell_type": "code",
   "execution_count": null,
   "id": "7cb39f25-315f-4314-b534-44e4b408d16d",
   "metadata": {},
   "outputs": [],
   "source": [
    "# dc_cluster_genes = sc.get.rank_genes_groups_df(adata, group=\"Type_1\")[\"names\"]\n",
    "# sc.pl.umap(\n",
    "#     adata,\n",
    "#     color=[*dc_cluster_genes, \"cell_type\"],\n",
    "#     legend_loc=\"on data\",\n",
    "#     frameon=False,\n",
    "#     ncols=3,\n",
    "# )"
   ]
  },
  {
   "cell_type": "markdown",
   "id": "e0d97dd2-67d3-4545-a02a-9e69ee31e361",
   "metadata": {},
   "source": [
    "# HCA brain organoids"
   ]
  },
  {
   "cell_type": "code",
   "execution_count": 1,
   "id": "b2f1bb52-4b92-4796-bfe0-2bb8072cd5d9",
   "metadata": {},
   "outputs": [],
   "source": [
    "import os\n",
    "import anndata as ad\n",
    "from scipy.sparse import csr_matrix, issparse"
   ]
  },
  {
   "cell_type": "code",
   "execution_count": 5,
   "id": "39f81861-50d5-4e72-9c2f-7f3aa2931267",
   "metadata": {},
   "outputs": [],
   "source": [
    "PROJ_ROOT = \"/home/fichtner/projects/footprintQTL\"\n",
    "ATAC_PEAKS_PATH = os.path.join(PROJ_ROOT, \"data/datasets/hca_brain-organoids/atac-seq/chromatin_accessibility/peak-matrix_rna-qc-cells_norm-reads-in-tss.h5ad\")\n",
    "# ATAC_TILES_PATH = os.path.join(PROJ_ROOT, \"data/datasets/hca_brain-organoids_processed/chromatin_accessibility/tile-matrix_rna-qc-cells_norm-reads-in-tss.h5ad\")\n",
    "# ATAC_GEN_PATH = \"/omics/groups/OE0540/internal/projects/HCA_organoid_2/cemm_sabrina-20Jul2022/atac_tf_idf_normalised.h5ad\"\n",
    "# RNA_AD_PATH = os.path.join(PROJ_ROOT, \"data/datasets/hca_brain-organoids/outputs_allsamples/sabrina_allsamples_rna_final_after_atac.h5ad\")"
   ]
  },
  {
   "cell_type": "code",
   "execution_count": null,
   "id": "a631f2d7-1c08-439b-a914-2ab4eb108f7d",
   "metadata": {
    "tags": []
   },
   "outputs": [],
   "source": [
    "borgs_rna_ad = ad.read_h5ad(RNA_AD_PATH, backed='r')\n",
    "\n",
    "borgs_rna_ad"
   ]
  },
  {
   "cell_type": "code",
   "execution_count": 6,
   "id": "4526969f-366e-4834-95ac-ed5cfe05eb0d",
   "metadata": {},
   "outputs": [
    {
     "data": {
      "text/plain": [
       "AnnData object with n_obs × n_vars = 265053 × 736845 backed at '/home/fichtner/projects/footprintQTL/data/datasets/hca_brain-organoids/atac-seq/chromatin_accessibility/peak-matrix_rna-qc-cells_norm-reads-in-tss.h5ad'\n",
       "    obs: 'BlacklistRatio', 'nDiFrags', 'nFrags', 'nMonoFrags', 'nMultiFrags', 'NucleosomeRatio', 'PassQC', 'PromoterRatio', 'ReadsInBlacklist', 'ReadsInPromoter', 'ReadsInTSS', 'Sample', 'TSSEnrichment', 'n_genes_by_counts', 'total_counts', 'total_counts_mt', 'donor_id', 'clone', 'organoid', 'donor', 'leiden', 'stressed_vs_unstressed_celltypes', 'ReadsInPeaks', 'FRIP', 'barcode', 'batch', 'barcode_batch', 'cell_type'\n",
       "    var: 'chr', 'start', 'end', 'strand', 'peak_name', 'score', 'GC', 'nearest_gene', 'peak_type'"
      ]
     },
     "execution_count": 6,
     "metadata": {},
     "output_type": "execute_result"
    }
   ],
   "source": [
    "borgs_atac_peaks = ad.read_h5ad(ATAC_PEAKS_PATH, backed='r')\n",
    "borgs_atac_peaks.var_names = borgs_atac_peaks.var['peak_name']\n",
    "borgs_atac_peaks"
   ]
  },
  {
   "cell_type": "markdown",
   "id": "5927d2f4-b89e-490e-b438-5b09293a06a9",
   "metadata": {},
   "source": [
    "# YAML config import"
   ]
  },
  {
   "cell_type": "code",
   "execution_count": null,
   "id": "b50029fe-a868-48a4-8fe1-7d221cd01b7a",
   "metadata": {},
   "outputs": [],
   "source": [
    "import yaml"
   ]
  },
  {
   "cell_type": "code",
   "execution_count": null,
   "id": "acfafce9-f9ea-4e12-9ca0-d6c986749de4",
   "metadata": {},
   "outputs": [],
   "source": [
    "def read_yaml (file_path):\n",
    "    \n",
    "    try:\n",
    "        with open(file_path, 'r') as f:\n",
    "            config = yaml.safe_load(f)\n",
    "            return config\n",
    "    \n",
    "    except yaml.YAMLError as e:\n",
    "        print(f'Error in reading YAML file `{file_path}`:\\n{e}')\n",
    "        return None"
   ]
  },
  {
   "cell_type": "code",
   "execution_count": null,
   "id": "d24e4bfa-0efe-4947-a849-fbae91f2a49e",
   "metadata": {},
   "outputs": [],
   "source": [
    "config = read_yaml('../../config/config.yaml')"
   ]
  },
  {
   "cell_type": "code",
   "execution_count": null,
   "id": "8330a734-7d6f-46cc-badf-6fd6fdb1182d",
   "metadata": {},
   "outputs": [],
   "source": [
    "config"
   ]
  },
  {
   "cell_type": "markdown",
   "id": "67eada84-7456-449b-8a9c-596287bc37b5",
   "metadata": {},
   "source": [
    "# HCA brain organoids: cell-type annotation diff b rna_ad and atac_peaks!!!\n",
    "Delete after oct 16th"
   ]
  },
  {
   "cell_type": "code",
   "execution_count": null,
   "id": "395fad92-c235-441c-bec8-af94d4e8026d",
   "metadata": {},
   "outputs": [],
   "source": [
    "import os\n",
    "import anndata as ad\n",
    "from scipy.sparse import csr_matrix, issparse"
   ]
  },
  {
   "cell_type": "code",
   "execution_count": null,
   "id": "057bf894-a2f6-48f8-a921-a1189c9085b1",
   "metadata": {},
   "outputs": [],
   "source": [
    "PROJ_ROOT = \"/home/fichtner/projects/footprintQTL\"\n",
    "ATAC_PEAKS_PATH = os.path.join(PROJ_ROOT, \"data/datasets/hca_brain-organoids_processed/chromatin_accessibility/peak-matrix_rna-qc-cells_norm-reads-in-tss.h5ad\")\n",
    "ATAC_TILES_PATH = os.path.join(PROJ_ROOT, \"data/datasets/hca_brain-organoids_processed/chromatin_accessibility/tile-matrix_rna-qc-cells_norm-reads-in-tss.h5ad\")\n",
    "RNA_AD_PATH = os.path.join(PROJ_ROOT, \"data/datasets/hca_brain-organoids/outputs_allsamples/sabrina_allsamples_rna_final_after_atac.h5ad\")"
   ]
  },
  {
   "cell_type": "code",
   "execution_count": null,
   "id": "c4243e23-f3bc-45e2-b9ff-0246778053e6",
   "metadata": {
    "tags": []
   },
   "outputs": [],
   "source": [
    "borgs_rna_ad = ad.read_h5ad(RNA_AD_PATH, backed='r')\n",
    "\n",
    "borgs_rna_ad"
   ]
  },
  {
   "cell_type": "code",
   "execution_count": null,
   "id": "e5a2e341-6bcb-47f6-b7ee-7644b38e275f",
   "metadata": {},
   "outputs": [],
   "source": [
    "len(set(borgs_rna_ad.obs.index.tolist()))"
   ]
  },
  {
   "cell_type": "code",
   "execution_count": null,
   "id": "e09bc0a5-d3b3-4fe1-bdd2-5ec511c47cf9",
   "metadata": {},
   "outputs": [],
   "source": [
    "len(set(borgs_rna_ad.obs['celltype_predicted_vertesy']))"
   ]
  },
  {
   "cell_type": "code",
   "execution_count": null,
   "id": "4a999172-a0e5-4000-9226-cd425f921af5",
   "metadata": {},
   "outputs": [],
   "source": [
    "borgs_atac_peaks = ad.read_h5ad(os.path.join(PROJ_ROOT, ATAC_PEAKS_PATH), backed='r')\n",
    "borgs_atac_peaks"
   ]
  },
  {
   "cell_type": "code",
   "execution_count": null,
   "id": "317b95c7-8e26-48f4-83a3-0cb3225a9efa",
   "metadata": {},
   "outputs": [],
   "source": [
    "len(set(borgs_atac_peaks.obs.index.tolist()))"
   ]
  },
  {
   "cell_type": "code",
   "execution_count": null,
   "id": "c912348e-e6c5-4e0a-b288-79767a8e0545",
   "metadata": {},
   "outputs": [],
   "source": [
    "len(set(borgs_atac_peaks.obs['celltype']))"
   ]
  },
  {
   "cell_type": "code",
   "execution_count": null,
   "id": "5b32f401-40af-4943-abf8-b05ef84f3d86",
   "metadata": {},
   "outputs": [],
   "source": [
    "common_cells = set(borgs_atac_peaks.obs.index.tolist()).intersection(set(borgs_rna_ad.obs.index.tolist()))\n",
    "len(common_cells)"
   ]
  },
  {
   "cell_type": "code",
   "execution_count": null,
   "id": "f98a56f8-6921-4353-9bd8-c91974d9c87c",
   "metadata": {},
   "outputs": [],
   "source": [
    "subset_of_atac = set(borgs_rna_ad.obs.index.tolist()) == common_cells\n",
    "subset_of_atac"
   ]
  },
  {
   "cell_type": "code",
   "execution_count": null,
   "id": "089d2d36-8796-459c-8aad-e93bef5dbfef",
   "metadata": {},
   "outputs": [],
   "source": [
    "k1 = borgs_atac_peaks.obs.loc[list(common_cells)][['celltype']]\n",
    "k2 = borgs_rna_ad.obs.loc[list(common_cells)][['celltype_predicted_vertesy']]"
   ]
  },
  {
   "cell_type": "code",
   "execution_count": null,
   "id": "e3e67e62-4de4-4579-97bb-0ec3bdbad2ed",
   "metadata": {},
   "outputs": [],
   "source": [
    "k1.loc[k2[k2.celltype_predicted_vertesy == 'Interneurons Prog.'].index]"
   ]
  },
  {
   "cell_type": "code",
   "execution_count": null,
   "id": "5936cade-4288-486e-ad17-58e51d5708d9",
   "metadata": {},
   "outputs": [],
   "source": []
  },
  {
   "cell_type": "code",
   "execution_count": null,
   "id": "6efc4941-b3e2-4417-bcea-25d5c04930f5",
   "metadata": {},
   "outputs": [],
   "source": []
  },
  {
   "cell_type": "code",
   "execution_count": null,
   "id": "c9a59dc5-6c24-422f-8363-b18d63637a59",
   "metadata": {},
   "outputs": [],
   "source": []
  },
  {
   "cell_type": "code",
   "execution_count": null,
   "id": "d0d42fbb-1237-437c-b326-715a64124a9a",
   "metadata": {},
   "outputs": [],
   "source": []
  },
  {
   "cell_type": "code",
   "execution_count": null,
   "id": "8c91e7de-cc7c-4f29-8155-d9615df88031",
   "metadata": {},
   "outputs": [],
   "source": [
    "# Correct now?"
   ]
  },
  {
   "cell_type": "code",
   "execution_count": null,
   "id": "36eb14a8-8efb-4f04-9a99-708bc7cb7ed0",
   "metadata": {},
   "outputs": [],
   "source": [
    "import os\n",
    "import anndata as ad\n",
    "from scipy.sparse import csr_matrix, issparse"
   ]
  },
  {
   "cell_type": "code",
   "execution_count": null,
   "id": "8cd0daca-0f23-43ea-a94a-7ed3e26f08a2",
   "metadata": {},
   "outputs": [],
   "source": [
    "PROJ_ROOT = \"/home/fichtner/projects/footprintQTL\"\n",
    "ATAC_PEAKS_PATH = os.path.join(PROJ_ROOT, \"data/datasets/hca_brain-organoids_processed/chromatin_accessibility/peak-matrix_rna-qc-cells_norm-reads-in-tss.h5ad\")\n",
    "ATAC_TILES_PATH = os.path.join(PROJ_ROOT, \"data/datasets/hca_brain-organoids_processed/chromatin_accessibility/tile-matrix_rna-qc-cells_norm-reads-in-tss.h5ad\")\n",
    "RNA_AD_PATH = os.path.join(PROJ_ROOT, \"data/datasets/hca_brain-organoids/outputs_allsamples/sabrina_allsamples_rna_final_after_atac.h5ad\")"
   ]
  },
  {
   "cell_type": "code",
   "execution_count": null,
   "id": "9c4cecbe-30f9-431b-b329-91b0482b5d64",
   "metadata": {
    "tags": []
   },
   "outputs": [],
   "source": [
    "borgs_rna_ad = ad.read_h5ad(RNA_AD_PATH, backed='r')\n",
    "borgs_rna_ad"
   ]
  },
  {
   "cell_type": "code",
   "execution_count": null,
   "id": "c1738ad4-c55e-4288-aa14-a5745a7ce82d",
   "metadata": {},
   "outputs": [],
   "source": [
    "len(set(borgs_rna_ad.obs.index.tolist()))"
   ]
  },
  {
   "cell_type": "code",
   "execution_count": null,
   "id": "d4079a38-f858-4523-9a55-e9af43b4fb6e",
   "metadata": {},
   "outputs": [],
   "source": [
    "len(set(borgs_rna_ad.obs['celltype_predicted_vertesy']))"
   ]
  },
  {
   "cell_type": "code",
   "execution_count": null,
   "id": "e799a4f2-1c7b-4b46-ab23-d05bb118914b",
   "metadata": {},
   "outputs": [],
   "source": [
    "borgs_atac_peaks = ad.read_h5ad(os.path.join(PROJ_ROOT, ATAC_PEAKS_PATH), backed='r')\n",
    "borgs_atac_peaks"
   ]
  },
  {
   "cell_type": "code",
   "execution_count": null,
   "id": "7f4d529c-3ff0-4b5e-b49b-82308595fd2a",
   "metadata": {},
   "outputs": [],
   "source": [
    "len(set(borgs_atac_peaks.obs.index.tolist()))"
   ]
  },
  {
   "cell_type": "code",
   "execution_count": null,
   "id": "3b352d34-ce02-41ec-87b6-cf9ef721337d",
   "metadata": {},
   "outputs": [],
   "source": [
    "len(set(borgs_atac_peaks.obs['cell_type']))"
   ]
  },
  {
   "cell_type": "code",
   "execution_count": null,
   "id": "aa396170-b8d7-4538-91a8-1a5338bba436",
   "metadata": {},
   "outputs": [],
   "source": [
    "common_cells = set(borgs_atac_peaks.obs.index.tolist()).intersection(set(borgs_rna_ad.obs.index.tolist()))\n",
    "len(common_cells)"
   ]
  },
  {
   "cell_type": "code",
   "execution_count": null,
   "id": "802906e9-9eb8-44f4-ae63-f7331f19b50b",
   "metadata": {},
   "outputs": [],
   "source": [
    "same = set(borgs_rna_ad.obs.index.tolist()) == set(borgs_atac_peaks.obs.index.tolist())\n",
    "same"
   ]
  },
  {
   "cell_type": "code",
   "execution_count": null,
   "id": "774949a3-067f-4d17-8299-182c2aa340b6",
   "metadata": {},
   "outputs": [],
   "source": [
    "k1 = borgs_atac_peaks.obs.loc[list(common_cells)][['cell_type']]\n",
    "k2 = borgs_rna_ad.obs.loc[list(common_cells)][['celltype_predicted_vertesy']]"
   ]
  },
  {
   "cell_type": "code",
   "execution_count": null,
   "id": "4b355b4f-918c-41b9-8186-575bb228cd88",
   "metadata": {},
   "outputs": [],
   "source": [
    "k1.loc[k2[k2.celltype_predicted_vertesy == 'Interneurons Prog.'].index]cell_type"
   ]
  },
  {
   "cell_type": "code",
   "execution_count": null,
   "id": "e55cf7dc-5168-42de-95fe-1b8ebaaf2784",
   "metadata": {},
   "outputs": [],
   "source": [
    "###############################################################"
   ]
  },
  {
   "cell_type": "markdown",
   "id": "1ae4d3c9-8997-441c-ae7a-7874eefbdd9d",
   "metadata": {
    "tags": []
   },
   "source": [
    "## Peaks filter: intersecting w eQTLs"
   ]
  },
  {
   "cell_type": "markdown",
   "id": "72de9424-1cae-488f-b41b-d7e29db5be76",
   "metadata": {},
   "source": [
    "### Make eQTLs bed file"
   ]
  },
  {
   "cell_type": "code",
   "execution_count": null,
   "id": "c5b639e8-3460-4e3d-9fd4-331177b5ab04",
   "metadata": {},
   "outputs": [],
   "source": [
    "import pandas as pd\n",
    "import os\n",
    "import anndata as ad"
   ]
  },
  {
   "cell_type": "code",
   "execution_count": null,
   "id": "518be92d-ade2-4529-b4b1-00c38dc84382",
   "metadata": {},
   "outputs": [],
   "source": [
    "PROJ_ROOT = \"/home/fichtner/projects/footprintQTL\"\n",
    "os.chdir(PROJ_ROOT)\n",
    "HCA_BORGS_PROJ = \"data/datasets/hca_brain-organoids/\"\n",
    "ATAC_PEAKS_PATH = os.path.join(PROJ_ROOT, \"data/datasets/hca_brain-organoids_processed/chromatin_accessibility/peak-matrix_rna-qc-cells_norm-reads-in-tss.h5ad\")\n",
    "RNA_AD_PATH = os.path.join(PROJ_ROOT, \"data/datasets/hca_brain-organoids/outputs_allsamples/sabrina_allsamples_rna_final_after_atac.h5ad\")"
   ]
  },
  {
   "cell_type": "code",
   "execution_count": null,
   "id": "00c64eb1-a468-43af-b984-41f705462a59",
   "metadata": {
    "tags": []
   },
   "outputs": [],
   "source": [
    "eqtls = pd.read_csv(os.path.join(HCA_BORGS_PROJ, \"eQTL_mapping/eSNPs_significant_all_celltypes_HVGs.tsv\"),\n",
    "                   sep='\\t',\n",
    "                   header=0,\n",
    "                   index_col=21)\n",
    "eqtls.columns"
   ]
  },
  {
   "cell_type": "code",
   "execution_count": null,
   "id": "6e7d5564-b094-44cb-b998-6f2fc73f5481",
   "metadata": {},
   "outputs": [],
   "source": [
    "cell_type_alt"
   ]
  },
  {
   "cell_type": "code",
   "execution_count": null,
   "id": "5720314d-c2da-4d80-95b1-4598c74eced8",
   "metadata": {},
   "outputs": [],
   "source": [
    "eGenes = set(eqtls.loc[~eqtls['gene_name'].isna(), 'gene_name'].unique())"
   ]
  },
  {
   "cell_type": "code",
   "execution_count": null,
   "id": "f3024463-0749-4c42-a665-dc0774f9fd6d",
   "metadata": {},
   "outputs": [],
   "source": [
    "len(eGenes)"
   ]
  },
  {
   "cell_type": "code",
   "execution_count": null,
   "id": "ca46fecd-7599-4238-b3ea-c2141be96e6f",
   "metadata": {},
   "outputs": [],
   "source": [
    "borgs_atac_peaks = ad.read_h5ad(os.path.join(PROJ_ROOT, ATAC_PEAKS_PATH), backed='r')\n"
   ]
  },
  {
   "cell_type": "code",
   "execution_count": null,
   "id": "647965f8-bc3c-43f4-b9ee-7d99f7938352",
   "metadata": {},
   "outputs": [],
   "source": [
    "# Nr of peaks near an eGene\n",
    "peaks_eGenes = set(borgs_atac_peaks.var[borgs_atac_peaks.var['nearest_gene'].isin(eGenes)].index)\n",
    "len(peaks_eGenes)"
   ]
  },
  {
   "cell_type": "code",
   "execution_count": null,
   "id": "51bf28b6-c079-4d3e-9743-62b0b17275fc",
   "metadata": {},
   "outputs": [],
   "source": [
    "len(eGenes_all)"
   ]
  },
  {
   "cell_type": "code",
   "execution_count": null,
   "id": "6edbd9d8-1996-4c1c-a150-86a9d2d7700c",
   "metadata": {},
   "outputs": [],
   "source": [
    "from functools import reduce\n",
    "\n",
    "u_eqtls = []\n",
    "\n",
    "for ct in eqtls['celltype'].unique():\n",
    "    \n",
    "    ue = set(eqtls.loc[(eqtls['celltype'] == ct) & ~(eqtls['gene_name'].isna()), 'gene_name'].unique())\n",
    "    u_eqtls.append(ue)\n",
    "    \n",
    "    # Nr. of peaks close to eGene for query ct\n",
    "    print(f'{len(ue)}\\t{ct}')\n",
    "\n",
    "# Peaks common between all cts\n",
    "reduce(set.intersection, u_eqtls)"
   ]
  },
  {
   "cell_type": "code",
   "execution_count": null,
   "id": "2364d2ea-2126-449e-a554-00b6c7569e96",
   "metadata": {},
   "outputs": [],
   "source": []
  },
  {
   "cell_type": "code",
   "execution_count": null,
   "id": "34a2f134-84d6-4594-ac4e-bebfd117bd83",
   "metadata": {},
   "outputs": [],
   "source": [
    "import json\n",
    "import sys\n",
    "sys.path.append(os.path.join(PROJ_ROOT, \"code\"))\n",
    "from helpers.helpers import ct_format, ct_format_alt\n",
    "\n",
    "CT_MAP_JSON_PATH = \"config/cell-type_groupings/hca_brain-organoids/original_clean.json\"\n",
    "with open(CT_MAP_JSON_PATH, 'r') as f:\n",
    "    ct_map = json.load(f)\n",
    "\n",
    "# Format\n",
    "ct_map_alt = {ct_format_alt(key): [ct_format_alt(e) for e in listt] for key, listt in ct_map.items()}\n",
    "ct_map_i_alt = {ct_format_alt(old_ct): ct_format_alt(new_ct) for new_ct, old_cts in ct_map.items() for old_ct in old_cts}\n",
    "\n",
    "ct_map = {ct_format(key): [ct_format(e) for e in listt] for key, listt in ct_map.items()}\n",
    "ct_map_i = {old_ct: new_ct for new_ct, old_cts in ct_map.items() for old_ct in old_cts}"
   ]
  },
  {
   "cell_type": "code",
   "execution_count": null,
   "id": "fffe01d0-e61f-4dc2-8aea-9578e966812c",
   "metadata": {},
   "outputs": [],
   "source": [
    "ct_map_i"
   ]
  },
  {
   "cell_type": "code",
   "execution_count": null,
   "id": "38de39ba-958d-40db-ac93-43c73282ea8d",
   "metadata": {},
   "outputs": [],
   "source": []
  },
  {
   "cell_type": "code",
   "execution_count": null,
   "id": "6ad4d90e-d9c3-4b4d-8372-cd6aaede4584",
   "metadata": {},
   "outputs": [],
   "source": []
  },
  {
   "cell_type": "code",
   "execution_count": null,
   "id": "3aeeaefe-f108-40bb-999f-b78b07e9f974",
   "metadata": {},
   "outputs": [],
   "source": []
  },
  {
   "cell_type": "code",
   "execution_count": null,
   "id": "d2252114-a696-4f7e-8eda-81f79c79b562",
   "metadata": {},
   "outputs": [],
   "source": []
  },
  {
   "cell_type": "code",
   "execution_count": null,
   "id": "eba93b76-2c79-40e1-978a-ef69a4be3e21",
   "metadata": {},
   "outputs": [],
   "source": []
  },
  {
   "cell_type": "code",
   "execution_count": null,
   "id": "a8cb0014-b3a3-4b87-a4a1-23249abf89ed",
   "metadata": {},
   "outputs": [],
   "source": []
  },
  {
   "cell_type": "code",
   "execution_count": null,
   "id": "7197e6f3-e84f-44e8-943b-962274794d3f",
   "metadata": {},
   "outputs": [],
   "source": []
  },
  {
   "cell_type": "code",
   "execution_count": null,
   "id": "dc729ca0-3981-4c52-b9f4-63a9503cc719",
   "metadata": {},
   "outputs": [],
   "source": [
    "import pandas as pd\n",
    "import os\n",
    "import sys\n",
    "import anndata as ad\n",
    "import scanpy as sc\n",
    "import subprocess"
   ]
  },
  {
   "cell_type": "code",
   "execution_count": null,
   "id": "12b7f067-bc27-47ec-b63f-e50989804585",
   "metadata": {},
   "outputs": [],
   "source": [
    "\n",
    "PROJ_ROOT = \"/home/fichtner/projects/footprintQTL\"\n",
    "HCA_BORGS_PROJ = \"data/datasets/hca_brain-organoids/\"\n",
    "ATAC_PEAKS_PATH = \"data/datasets/hca_brain-organoids_processed/chromatin_accessibility/peak-matrix_rna-qc-cells_norm-reads-in-tss.h5ad\"\n",
    "RNA_AD_PATH = os.path.join(HCA_BORGS_PROJ, \"outputs_allsamples/sabrina_allsamples_rna_final_after_atac.h5ad\")"
   ]
  },
  {
   "cell_type": "code",
   "execution_count": null,
   "id": "665e6d90-0502-49d9-973f-007900fac957",
   "metadata": {},
   "outputs": [],
   "source": [
    "bedtools_bin = '/home/fichtner/.conda/envs/ian/bin/bedtools'"
   ]
  },
  {
   "cell_type": "code",
   "execution_count": null,
   "id": "046d8aec-6968-4ff9-937d-993f2f13d6fd",
   "metadata": {},
   "outputs": [],
   "source": [
    "min_donors= 0.2 # Minimum percentage of donors (cell aggregates) a peak needs to be found in AKA Peak sparsity filter\n",
    "min_cells = 10 # Minimum amount of cells a peak needs to for the peak to be retained (required for functions to work)\n",
    "cell_type = str(\"Midbrain EN\") # Query cell-type\n",
    "min_pval = 0.01 # Min p-value for marker peaks to be considered in the first place in differential peak accessibility\n",
    "top_n_markers = 2000 # Top n ranking markers peaks to consider\n",
    "min_peak_mean_adonors = 0.002 # Minimum threshold of peak mean across donors# Convert sparse matrix to dense format if necessary\n",
    "min_score = 9 # Minimum score (resulting -log10(q-val) of peak calling w MACS2"
   ]
  },
  {
   "cell_type": "markdown",
   "id": "61d9cbc0-0941-412a-b5c9-6d03381dd138",
   "metadata": {},
   "source": [
    "### Variables"
   ]
  },
  {
   "cell_type": "code",
   "execution_count": null,
   "id": "c5697752-b769-44a7-83c3-6d4ec935a4c9",
   "metadata": {},
   "outputs": [],
   "source": [
    "os.chdir(PROJ_ROOT)\n",
    "\n",
    "sys.path.append(os.path.join(PROJ_ROOT, \"code\"))\n",
    "from helpers.helpers import ct_format, ct_format_alt"
   ]
  },
  {
   "cell_type": "code",
   "execution_count": null,
   "id": "255a00c4-ab38-49f3-a4d7-e62c8d1eae59",
   "metadata": {
    "tags": []
   },
   "outputs": [],
   "source": [
    "cell_type_alt = ct_format_alt(cell_type)\n",
    "cell_type = ct_format(cell_type)"
   ]
  },
  {
   "cell_type": "code",
   "execution_count": null,
   "id": "2e7d6cb8-cbe5-4109-b42c-9e58dacf9bc3",
   "metadata": {},
   "outputs": [],
   "source": []
  },
  {
   "cell_type": "code",
   "execution_count": null,
   "id": "b33eb9dc-e4bb-4e2b-b977-a4e72bc5f5be",
   "metadata": {},
   "outputs": [],
   "source": [
    "# Exclude for some weird reason, samples in QC but not in other files\n",
    "artifact_donors = {'SAMEA2474458', 'SAMEA2555012'}"
   ]
  },
  {
   "cell_type": "code",
   "execution_count": null,
   "id": "97d69d32-380a-4c65-9b63-ca6337b4ee42",
   "metadata": {
    "tags": []
   },
   "outputs": [],
   "source": [
    "borgs_tile_mat = ad.read_h5ad(ATAC_PEAKS_PATH)"
   ]
  },
  {
   "cell_type": "code",
   "execution_count": null,
   "id": "2835cb87-8c37-42ac-a200-f0cc08b3f205",
   "metadata": {
    "tags": []
   },
   "outputs": [],
   "source": [
    "# Format\n",
    "borgs_tile_mat.var_names = borgs_tile_mat.var['peak_name']\n",
    "borgs_tile_mat.obs['cell_type'] = borgs_tile_mat.obs['cell_type'].apply(ct_format).astype('category')"
   ]
  },
  {
   "cell_type": "code",
   "execution_count": null,
   "id": "f7939836-aba0-4d08-ad1f-3d52bf6bbc34",
   "metadata": {
    "tags": []
   },
   "outputs": [],
   "source": [
    "caPeaks_1ct = borgs_tile_mat[borgs_tile_mat.obs['cell_type'] == cell_type, :].copy()\n",
    "caPeaks_1ct"
   ]
  },
  {
   "cell_type": "code",
   "execution_count": null,
   "id": "96b6acb0-19e2-42df-a5a1-1f5a7456129b",
   "metadata": {
    "tags": []
   },
   "outputs": [],
   "source": [
    "# Required for HVPeaks or DAPeaks algorithms\n",
    "sc.pp.filter_genes(caPeaks_1ct, min_cells=min_cells)\n",
    "n_cells, n_peaks_post_min_cells = caPeaks_1ct.shape\n",
    "caPeaks_1ct.shape"
   ]
  },
  {
   "cell_type": "code",
   "execution_count": null,
   "id": "8fb8c79d-187d-416e-b340-80ea373e5cc9",
   "metadata": {},
   "outputs": [],
   "source": [
    "# Remove hard-filtered peaks from cell-level anndata = borgs_tile_mat[].\n",
    "# borgs_tile_mat = borgs_tile_mat[].\n",
    "borgs_tile_mat = borgs_tile_mat[:, caPeaks_1ct.var_names].copy()"
   ]
  },
  {
   "cell_type": "code",
   "execution_count": null,
   "id": "cb110836-db95-4ce1-bba5-313b657d59c2",
   "metadata": {},
   "outputs": [],
   "source": [
    "del caPeaks_1ct"
   ]
  },
  {
   "cell_type": "code",
   "execution_count": null,
   "id": "7ba09bed-22e6-4a4f-9956-7868a953f209",
   "metadata": {},
   "outputs": [],
   "source": []
  },
  {
   "cell_type": "code",
   "execution_count": null,
   "id": "f2918951",
   "metadata": {
    "tags": []
   },
   "outputs": [],
   "source": [
    "eqtls = pd.read_csv(os.path.join(HCA_BORGS_PROJ, \"eQTL_mapping/eSNPs_significant_all_celltypes_HVGs.tsv\"),\n",
    "                   sep='\\t',\n",
    "                   header=0,\n",
    "                   index_col=21)\n",
    "eqtls.columns"
   ]
  },
  {
   "cell_type": "code",
   "execution_count": null,
   "id": "af8f44db-00ff-4d66-a105-9bdf5f90a737",
   "metadata": {},
   "outputs": [],
   "source": [
    "eqtls"
   ]
  },
  {
   "cell_type": "code",
   "execution_count": null,
   "id": "fef763c5-470e-4cae-a8d0-11cb73276000",
   "metadata": {},
   "outputs": [],
   "source": [
    "eqtls['celltype'].unique()"
   ]
  },
  {
   "cell_type": "code",
   "execution_count": null,
   "id": "7443d24a",
   "metadata": {},
   "outputs": [],
   "source": [
    "cell_type_alt"
   ]
  },
  {
   "cell_type": "code",
   "execution_count": null,
   "id": "9ee526b2-1138-4ae5-b9ae-d12fc263ccf6",
   "metadata": {},
   "outputs": [],
   "source": [
    "# Make eQTL bed file\n",
    "\n",
    "eqtls_bed = eqtls[['snp_chromosome', 'snp_position', 'beta']].copy()\n",
    "# eqtls_bed = eqtls.loc[eqtls['celltype'] == cell_type_alt, ['snp_chromosome', 'snp_position', 'beta']]\n",
    "\n",
    "eqtls_bed['start'] = eqtls_bed['snp_position'] - 1 # Make index 0-based open\n",
    "eqtls_bed['strand'] = '+'\n",
    "eqtls_bed.reset_index(inplace=True)\n",
    "eqtls_bed['chr'] = 'chr' + eqtls_bed['snp_chromosome'].astype(str)\n",
    "eqtls_bed = eqtls_bed.rename(columns={'snp_position': 'end', 'QTL': 'id', 'beta': 'score'})\n",
    "\n",
    "eqtls_bed = eqtls_bed[['chr', 'start', 'end', 'id', 'score', 'strand']].sort_values(by=['chr', 'start'], ascending=[True, True])\n",
    "        \n",
    "eqtls_bed_path = f'eQTLs_{cell_type}.tsv'\n",
    "eqtls_bed.to_csv(eqtls_bed_path, sep='\\t', header=False, index=False)\n",
    "\n",
    "print(len(eqtls_bed))\n",
    "eqtls_bed"
   ]
  },
  {
   "cell_type": "markdown",
   "id": "2c7066c4-667f-4a51-8aa9-3362d04db2aa",
   "metadata": {},
   "source": [
    "### Make peaks bed file"
   ]
  },
  {
   "cell_type": "code",
   "execution_count": null,
   "id": "5d67e6c5-2747-4551-9c6e-e968025927f0",
   "metadata": {},
   "outputs": [],
   "source": [
    "peaks_bed = borgs_tile_mat.var[['chr', 'start', 'end', 'peak_name', 'score']].copy()\n",
    "peaks_bed['start'] = peaks_bed['start'] - 1\n",
    "peaks_bed['strand'] = '+'\n",
    "\n",
    "peaks_bed_path = f'peaks_{cell_type}.bed'\n",
    "peaks_bed.to_csv(peaks_bed_path, sep='\\t', header=False, index=False)\n",
    "\n",
    "print(len(peaks_bed))\n",
    "peaks_bed"
   ]
  },
  {
   "cell_type": "markdown",
   "id": "42a77de6-5e0f-4ebd-901a-c2a344bc8b1d",
   "metadata": {
    "tags": []
   },
   "source": [
    "### Peaks intersecting w eQTLs"
   ]
  },
  {
   "cell_type": "code",
   "execution_count": null,
   "id": "b244b51d-5b7c-4671-aceb-fa19b8e6be37",
   "metadata": {},
   "outputs": [],
   "source": [
    "try:\n",
    "    result = subprocess.run([bedtools_bin, 'intersect' , '-a', peaks_bed_path, '-b', eqtls_bed_path, '-u'], text=True, capture_output=True)\n",
    "\n",
    "    # with open(f'data/datasets/hca_brain-organoids_processed/chromatin_accessibility/peaks_{cell_type}_filt-eqtls.bed', 'w') as f:\n",
    "    #     f.write(result.stdout)\n",
    "\n",
    "    peaks_eqtl = set([i.split('\\t')[3] for i in result.stdout.split('\\n')[:-1]])\n",
    "    \n",
    "except subprocess.CalledProcessError as e:\n",
    "    \n",
    "    print(f\"Command failed with error: {e.stderr}\")"
   ]
  },
  {
   "cell_type": "code",
   "execution_count": null,
   "id": "28efbc2f-1217-4d65-8a3f-746132366b2a",
   "metadata": {},
   "outputs": [],
   "source": [
    "len(peaks_eqtl)"
   ]
  },
  {
   "cell_type": "code",
   "execution_count": null,
   "id": "b023fe72-6e6f-4cc0-9720-f07912586ed1",
   "metadata": {},
   "outputs": [],
   "source": []
  },
  {
   "cell_type": "code",
   "execution_count": null,
   "id": "f77ac45d-541b-4556-b337-184110eb7bc2",
   "metadata": {},
   "outputs": [],
   "source": []
  },
  {
   "cell_type": "code",
   "execution_count": null,
   "id": "11fb76c8-aa50-49f5-ae96-5f415b4ec358",
   "metadata": {},
   "outputs": [],
   "source": []
  },
  {
   "cell_type": "code",
   "execution_count": null,
   "id": "fdf920b3-f69b-4bec-8002-62ba887e7d7a",
   "metadata": {},
   "outputs": [],
   "source": []
  },
  {
   "cell_type": "code",
   "execution_count": null,
   "id": "04aba679-f467-4ece-9e35-30629184896c",
   "metadata": {
    "tags": []
   },
   "outputs": [],
   "source": [
    "import os\n",
    "import sys\n",
    "import subprocess\n",
    "import math\n",
    "import json\n",
    "\n",
    "import numpy as np\n",
    "import pandas as pd\n",
    "from matplotlib import pyplot as pl\n",
    "import seaborn as sns\n",
    "import scipy as sp\n",
    "\n",
    "import anndata as ad\n",
    "import scanpy as sc"
   ]
  },
  {
   "cell_type": "markdown",
   "id": "8286a955-a3ce-437b-9b65-52c39fcdbc37",
   "metadata": {},
   "source": [
    "### User variables"
   ]
  },
  {
   "cell_type": "code",
   "execution_count": null,
   "id": "c4ff8c96-8deb-4a8a-98fc-5331b80910c5",
   "metadata": {},
   "outputs": [],
   "source": [
    "RUN_ID = \"run_now\""
   ]
  },
  {
   "cell_type": "code",
   "execution_count": null,
   "id": "62dfe0fe-bda1-4c7a-88fa-1fd225cd6725",
   "metadata": {},
   "outputs": [],
   "source": [
    "cell_type = str(\"Midbrain EN\") # Query cell-type\n",
    "CT_MAP_JSON_PATH = \"config/cell-type_groupings/hca_brain-organoids/original_clean.json\""
   ]
  },
  {
   "cell_type": "code",
   "execution_count": null,
   "id": "9a47a2e2-3000-4c9d-85bf-cdc2884b0877",
   "metadata": {},
   "outputs": [],
   "source": [
    "PROJ_ROOT = \"/home/fichtner/projects/footprintQTL\"\n",
    "HCA_BORGS_PROJ = \"data/datasets/hca_brain-organoids/\"\n",
    "ATAC_PEAKS_PATH = os.path.join(PROJ_ROOT, \"data/datasets/hca_brain-organoids_processed/chromatin_accessibility/peak-matrix_rna-qc-cells_norm-reads-in-tss.h5ad\")\n",
    "RNA_AD_PATH = os.path.join(PROJ_ROOT, \"data/datasets/hca_brain-organoids/outputs_allsamples/sabrina_allsamples_rna_final_after_atac.h5ad\")"
   ]
  },
  {
   "cell_type": "code",
   "execution_count": null,
   "id": "383da359-d783-4c22-95c5-6248dcbaa481",
   "metadata": {},
   "outputs": [],
   "source": [
    "bedtools_bin = '/home/fichtner/.conda/envs/ian/bin/bedtools'"
   ]
  },
  {
   "cell_type": "code",
   "execution_count": null,
   "id": "61ab926a-271a-49ed-8ba8-7b187d714dfa",
   "metadata": {},
   "outputs": [],
   "source": [
    "min_cells = 10 # All cts: cell-level | Minimum amount of cells a peak needs to for the peak to be retained (required for functions to work)\n",
    "\n",
    "n_top_hvps = 10000 # 1 ct: cell-level | Top n ranked peaks to consider in highly-variable-peaks\n",
    "min_mean_acells = 0.0125 # 1 ct: cell-level | Minimum mean value across all cells and donors within ct\n",
    "max_mean_acells = 3 # 1 ct: cell-level | Maximum mean value across all cells and donors within ct\n",
    "\n",
    "min_pval = 0.01 # Min p-value for marker peaks to be considered in the first place in differential peak accessibility\n",
    "n_top_markers = 10000 # All cts: donor-level (cell agg.) | Top n ranking markers peaks to consider\n",
    "\n",
    "min_mean_adonors = 0.002 # 1 ct: donor-level (cell agg.) | Minimum threshold of peak mean across donors\n",
    "min_donors= 0.26 # 1 ct: donor-level (cell agg.) | Minimum percentage of donors a peak needs to be found in AKA Peak sparsity filter\n",
    "min_score = 9 #  1 ct: donor-level (cell agg.) | 30449843Minimum score (resulting -log10(q-val) of peak calling w MACS2"
   ]
  },
  {
   "cell_type": "markdown",
   "id": "5f3eebb9-bce5-4166-8429-86d814c8788b",
   "metadata": {},
   "source": [
    "### Variables"
   ]
  },
  {
   "cell_type": "code",
   "execution_count": null,
   "id": "12d7554a-190c-4aa1-992b-e6454f983ca2",
   "metadata": {},
   "outputs": [],
   "source": [
    "os.chdir(PROJ_ROOT)\n",
    "\n",
    "sys.path.append(os.path.join(PROJ_ROOT, \"code\"))\n",
    "from helpers.helpers import ct_format, ct_format_alt"
   ]
  },
  {
   "cell_type": "code",
   "execution_count": null,
   "id": "9e08a53a-d50e-496c-a929-00b7af48a81f",
   "metadata": {
    "tags": []
   },
   "outputs": [],
   "source": [
    "cell_type_alt = ct_format_alt(cell_type)\n",
    "cell_type = ct_format(cell_type)"
   ]
  },
  {
   "cell_type": "code",
   "execution_count": null,
   "id": "6878fc14-29ca-43b6-9b7e-75a9c6227d7c",
   "metadata": {},
   "outputs": [],
   "source": [
    "# Get ct-ann --> grouped-ct mappings\n",
    "with open(CT_MAP_JSON_PATH, 'r') as f:\n",
    "    ct_map = json.load(f)\n",
    "\n",
    "# Format\n",
    "ct_map_alt = {ct_format_alt(key): [ct_format_alt(e) for e in listt] for key, listt in ct_map.items()}\n",
    "ct_map_i_alt = {ct_format_alt(old_ct): ct_format_alt(new_ct) for new_ct, old_cts in ct_map.items() for old_ct in old_cts}\n",
    "\n",
    "ct_map = {ct_format(key): [ct_format(e) for e in listt] for key, listt in ct_map.items()}\n",
    "ct_map_i = {old_ct: new_ct for new_ct, old_cts in ct_map.items() for old_ct in old_cts}"
   ]
  },
  {
   "cell_type": "markdown",
   "id": "1adb3704-24a0-4ad7-be11-2d3d7da19481",
   "metadata": {},
   "source": [
    "### Artifact donors"
   ]
  },
  {
   "cell_type": "code",
   "execution_count": null,
   "id": "ff4be59d-bb74-4341-858d-9574f49c26d9",
   "metadata": {},
   "outputs": [],
   "source": [
    "# # TMP\n",
    "# PROJECT_PATH = '/home/fichtner/projects/footprintQTL'\n",
    "# DATA_PATH = '/omics/groups/OE0540/internal/projects/HCA_organoid_2/cemm_sabrina-20Jul2022/'\n",
    "# RNA_AD = 'outputs_allsamples/sabrina_allsamples_rna_final_after_atac.h5ad'\n",
    "\n",
    "# import sys\n",
    "# sys.path.append(PROJECT_PATH + \"/code\")\n",
    "# from helpers.helpers import ct_format, get_anndata_coldata\n",
    "\n",
    "# cells_coldata = get_anndata_coldata(os.path.join(DATA_PATH, RNA_AD))[0]\n",
    "# del cells_coldata"
   ]
  },
  {
   "cell_type": "code",
   "execution_count": null,
   "id": "78db8b8a-f6d4-4a99-b66f-fc548b263a0a",
   "metadata": {},
   "outputs": [],
   "source": [
    "# Exclude for some weird reason, samples in QC but not in other files\n",
    "artifact_donors = {'SAMEA2474458', 'SAMEA2555012'}"
   ]
  },
  {
   "cell_type": "markdown",
   "id": "da6b284f-98ae-49b3-895e-cac88fca3c4f",
   "metadata": {},
   "source": [
    "# Get data"
   ]
  },
  {
   "cell_type": "markdown",
   "id": "41ada427-56c4-4781-bf54-5cd1ad921949",
   "metadata": {},
   "source": [
    "## Chromatin accessibility cell-level anndata"
   ]
  },
  {
   "cell_type": "code",
   "execution_count": null,
   "id": "a0d675af-fc51-40ef-9f3d-8894aea465fc",
   "metadata": {
    "tags": []
   },
   "outputs": [],
   "source": [
    "borgs_tile_mat = ad.read_h5ad(ATAC_PEAKS_PATH)\n",
    "\n",
    "# Format\n",
    "borgs_tile_mat.var_names = borgs_tile_mat.var['peak_name']\n",
    "borgs_tile_mat.obs['cell_type'] = borgs_tile_mat.obs['cell_type'].apply(ct_format)\n",
    "borgs_tile_mat.obs['cell_type'] = borgs_tile_mat.obs['cell_type'].map(ct_map_i).astype('category')\n",
    "\n",
    "# Filter cell-types marked 'Discard'\n",
    "if 'Discard' in borgs_tile_mat.obs['cell_type'].cat.categories:\n",
    "    borgs_tile_mat = borgs_tile_mat[~(borgs_tile_mat.obs['cell_type'] == 'Discard'), :].copy()\n",
    "    \n",
    "    if 'Discard' in borgs_tile_mat.obs['cell_type'].cat.categories:\n",
    "        borgs_tile_mat.obs['cell_type'] = borgs_tile_mat.obs['cell_type'].cat.remove_categories('Discard')\n",
    "\n",
    "print(borgs_tile_mat.obs['cell_type'].cat.categories)\n",
    "borgs_tile_mat"
   ]
  },
  {
   "cell_type": "code",
   "execution_count": null,
   "id": "9ceaac7c-b1d8-40aa-9024-1f86604b790c",
   "metadata": {},
   "outputs": [],
   "source": [
    "borgs_tile_mat"
   ]
  },
  {
   "cell_type": "code",
   "execution_count": null,
   "id": "d150b7d5-e3c0-45c0-9de3-6cb94af9ce72",
   "metadata": {},
   "outputs": [],
   "source": [
    "borgs_tile_mat.obs['cell_type']"
   ]
  },
  {
   "cell_type": "code",
   "execution_count": null,
   "id": "c29caf44-7806-4d89-8c73-c456eca33bb1",
   "metadata": {},
   "outputs": [],
   "source": [
    "borgs_tile_mat.obs#.transform(func='size')"
   ]
  },
  {
   "cell_type": "code",
   "execution_count": null,
   "id": "11f8f2fa-b66f-4d23-a9ca-f297603a3f81",
   "metadata": {},
   "outputs": [],
   "source": [
    "import scipy.sparse as ss"
   ]
  },
  {
   "cell_type": "code",
   "execution_count": null,
   "id": "e71b6237-0f8b-4dab-a1cb-37690c2bcc34",
   "metadata": {},
   "outputs": [],
   "source": [
    "borgs_tile_mat.shape"
   ]
  },
  {
   "cell_type": "code",
   "execution_count": null,
   "id": "11a6652c-5c5c-4368-9e9d-9f1ecab66b5d",
   "metadata": {},
   "outputs": [],
   "source": [
    "borgs_tile_mat.X.shape"
   ]
  },
  {
   "cell_type": "code",
   "execution_count": null,
   "id": "4823c74d-76c0-43ea-820d-c1d99f4a312b",
   "metadata": {},
   "outputs": [],
   "source": [
    "len(ss.csr_matrix.sum(borgs_tile_mat.X, axis=-1))"
   ]
  },
  {
   "cell_type": "code",
   "execution_count": null,
   "id": "cdbdf8c3-f335-4a61-ab72-53f753cff8ca",
   "metadata": {},
   "outputs": [],
   "source": []
  },
  {
   "cell_type": "code",
   "execution_count": null,
   "id": "a80d8019-952f-44b3-ab61-ba509f72368d",
   "metadata": {},
   "outputs": [],
   "source": []
  },
  {
   "cell_type": "code",
   "execution_count": null,
   "id": "0c62e06d-f004-4fa1-810e-ccbdbcbe9e00",
   "metadata": {},
   "outputs": [],
   "source": [
    "import os\n",
    "import sys\n",
    "PROJ_ROOT = \"/home/fichtner/projects/footprintQTL\"\n",
    "HCA_BORGS_PROJ = \"data/datasets/hca_brain-organoids/\"\n",
    "ATAC_PEAKS_PATH = os.path.join(PROJ_ROOT, \"data/datasets/hca_brain-organoids_processed/chromatin_accessibility/peak-matrix_rna-qc-cells_norm-reads-in-tss.h5ad\")\n",
    "RNA_AD_PATH = os.path.join(PROJ_ROOT, \"data/datasets/hca_brain-organoids/outputs_allsamples/sabrina_allsamples_rna_final_after_atac.h5ad\")"
   ]
  },
  {
   "cell_type": "markdown",
   "id": "b6860a5d-f0e7-427a-86fd-698a5ccd1bfb",
   "metadata": {},
   "source": [
    "### Variables"
   ]
  },
  {
   "cell_type": "code",
   "execution_count": null,
   "id": "6f8105e2-514c-42e6-a0c5-12b9401742ba",
   "metadata": {},
   "outputs": [],
   "source": [
    "os.chdir(PROJ_ROOT)\n",
    "\n",
    "sys.path.append(os.path.join(PROJ_ROOT, \"code\"))\n",
    "from helpers.helpers import ct_format, ct_format_alt, create_folder"
   ]
  },
  {
   "cell_type": "code",
   "execution_count": null,
   "id": "7b9f1aa9-d0e9-4981-85fb-c230232d118b",
   "metadata": {},
   "outputs": [],
   "source": [
    "create_folder('A/B/')"
   ]
  },
  {
   "cell_type": "code",
   "execution_count": null,
   "id": "41a7ba32-c8ca-4ea5-828a-a2fe5564225e",
   "metadata": {},
   "outputs": [],
   "source": [
    "os.path.dirname(os.path.abspath('/A/B/C/tttt.txt'))"
   ]
  }
 ],
 "metadata": {
  "kernelspec": {
   "display_name": "main05",
   "language": "python",
   "name": "main05"
  },
  "language_info": {
   "codemirror_mode": {
    "name": "ipython",
    "version": 3
   },
   "file_extension": ".py",
   "mimetype": "text/x-python",
   "name": "python",
   "nbconvert_exporter": "python",
   "pygments_lexer": "ipython3",
   "version": "3.9.19"
  }
 },
 "nbformat": 4,
 "nbformat_minor": 5
}
